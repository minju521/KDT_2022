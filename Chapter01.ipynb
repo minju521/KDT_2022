{
 "cells": [
  {
   "cell_type": "markdown",
   "metadata": {},
   "source": [
    "## 1.8 파이썬 인터프리터를 사용해 보기"
   ]
  },
  {
   "cell_type": "code",
   "execution_count": 1,
   "metadata": {},
   "outputs": [
    {
     "name": "stdout",
     "output_type": "stream",
     "text": [
      "Hello Python!\n"
     ]
    }
   ],
   "source": [
    "print(\"Hello Python!\")"
   ]
  },
  {
   "cell_type": "code",
   "execution_count": 2,
   "metadata": {},
   "outputs": [
    {
     "data": {
      "text/plain": [
       "11"
      ]
     },
     "execution_count": 2,
     "metadata": {},
     "output_type": "execute_result"
    }
   ],
   "source": [
    "5+6"
   ]
  },
  {
   "cell_type": "code",
   "execution_count": 3,
   "metadata": {},
   "outputs": [
    {
     "name": "stdout",
     "output_type": "stream",
     "text": [
      "50.24\n"
     ]
    }
   ],
   "source": [
    "반지름 = 4\n",
    "면적 = 3.14 * 반지름 * 반지름\n",
    "print(면적)"
   ]
  },
  {
   "cell_type": "markdown",
   "metadata": {},
   "source": [
    "## 1.10 주석으로 이해하기 쉬운 코드를 만들기"
   ]
  },
  {
   "cell_type": "code",
   "execution_count": null,
   "metadata": {},
   "outputs": [],
   "source": [
    "# 다음 코드는 반지름을 이용하여 원의 면적을 출력하는 코드이다\n",
    "반지름 = 4 # 반지름의 값을 저장한다. 이때 공백이 들어가면 안된다\n",
    "면적 = 3.14 * 반지름 * 반지름 # 반지름의 값을 이용하여 원의 면적을 구한다\n",
    "print(면적) # 면적을 화면에 출력한다"
   ]
  },
  {
   "cell_type": "code",
   "execution_count": null,
   "metadata": {},
   "outputs": [],
   "source": [
    "'''\n",
    "작은따옴표를 이용하여 여러 줄 주석을 만드는 방법이다\n",
    "이 방식으로 주석을 만들면\n",
    "여러 줄에 걸친 주석을 남길 수 있다\n",
    "'''"
   ]
  },
  {
   "cell_type": "code",
   "execution_count": null,
   "metadata": {},
   "outputs": [],
   "source": [
    "\"\"\"\n",
    "혹은 이와 같이 큰따옴표를 이용할 수도 있다\n",
    "큰따옴표를 사용해도 작은따옴표를 사용하는 것과 동일하다\n",
    "\"\"\""
   ]
  },
  {
   "cell_type": "markdown",
   "metadata": {},
   "source": [
    "## 1.11 무작정 계산부터 해보자"
   ]
  },
  {
   "cell_type": "code",
   "execution_count": 4,
   "metadata": {},
   "outputs": [
    {
     "data": {
      "text/plain": [
       "5"
      ]
     },
     "execution_count": 4,
     "metadata": {},
     "output_type": "execute_result"
    }
   ],
   "source": [
    "2 + 3"
   ]
  },
  {
   "cell_type": "code",
   "execution_count": 5,
   "metadata": {},
   "outputs": [
    {
     "name": "stdout",
     "output_type": "stream",
     "text": [
      "5\n"
     ]
    }
   ],
   "source": [
    "print(2 + 3)"
   ]
  },
  {
   "cell_type": "code",
   "execution_count": 6,
   "metadata": {},
   "outputs": [
    {
     "name": "stdout",
     "output_type": "stream",
     "text": [
      "-1\n"
     ]
    }
   ],
   "source": [
    "print(2 - 3)"
   ]
  },
  {
   "cell_type": "code",
   "execution_count": 7,
   "metadata": {},
   "outputs": [
    {
     "name": "stdout",
     "output_type": "stream",
     "text": [
      "6\n"
     ]
    }
   ],
   "source": [
    "print(2 * 3)"
   ]
  },
  {
   "cell_type": "code",
   "execution_count": 8,
   "metadata": {},
   "outputs": [
    {
     "name": "stdout",
     "output_type": "stream",
     "text": [
      "0.6666666666666666\n"
     ]
    }
   ],
   "source": [
    "print(2 / 3)"
   ]
  },
  {
   "cell_type": "code",
   "execution_count": 9,
   "metadata": {},
   "outputs": [
    {
     "name": "stdout",
     "output_type": "stream",
     "text": [
      "23153542\n"
     ]
    }
   ],
   "source": [
    "print(2345 * 9876 - 5678)"
   ]
  },
  {
   "cell_type": "code",
   "execution_count": 10,
   "metadata": {},
   "outputs": [
    {
     "name": "stdout",
     "output_type": "stream",
     "text": [
      "15241578780673678515622620750190521\n"
     ]
    }
   ],
   "source": [
    "print(123456789123456789 * 123456789123456789)"
   ]
  },
  {
   "cell_type": "markdown",
   "metadata": {},
   "source": [
    "### 도전문제 1.1"
   ]
  },
  {
   "cell_type": "code",
   "execution_count": 12,
   "metadata": {},
   "outputs": [
    {
     "name": "stdout",
     "output_type": "stream",
     "text": [
      "24\n"
     ]
    }
   ],
   "source": [
    "# 1\n",
    "print(4 * 3 * 2 * 1)"
   ]
  },
  {
   "cell_type": "code",
   "execution_count": 13,
   "metadata": {},
   "outputs": [
    {
     "name": "stdout",
     "output_type": "stream",
     "text": [
      "0.5\n"
     ]
    }
   ],
   "source": [
    "# 2\n",
    "print(1 / 2)"
   ]
  },
  {
   "cell_type": "code",
   "execution_count": 14,
   "metadata": {},
   "outputs": [
    {
     "name": "stdout",
     "output_type": "stream",
     "text": [
      "200\n"
     ]
    }
   ],
   "source": [
    "# 3\n",
    "print(300 - 100)"
   ]
  },
  {
   "cell_type": "code",
   "execution_count": 15,
   "metadata": {},
   "outputs": [
    {
     "name": "stdout",
     "output_type": "stream",
     "text": [
      "1657\n"
     ]
    }
   ],
   "source": [
    "# 4\n",
    "print(423 + 1234)"
   ]
  },
  {
   "cell_type": "code",
   "execution_count": 16,
   "metadata": {},
   "outputs": [
    {
     "name": "stdout",
     "output_type": "stream",
     "text": [
      "12.34\n"
     ]
    }
   ],
   "source": [
    "# 5\n",
    "print((1/100) * 1234)"
   ]
  },
  {
   "cell_type": "code",
   "execution_count": 17,
   "metadata": {},
   "outputs": [
    {
     "name": "stdout",
     "output_type": "stream",
     "text": [
      "452.38924800000007\n"
     ]
    }
   ],
   "source": [
    "# 6\n",
    "print(3.141592 * 12.0 * 12.0)"
   ]
  },
  {
   "cell_type": "markdown",
   "metadata": {},
   "source": [
    "## 1.12 print() 함수로 원하는 메시지 출력해 보기"
   ]
  },
  {
   "cell_type": "code",
   "execution_count": 18,
   "metadata": {},
   "outputs": [
    {
     "data": {
      "text/plain": [
       "'Hello'"
      ]
     },
     "execution_count": 18,
     "metadata": {},
     "output_type": "execute_result"
    }
   ],
   "source": [
    "'Hello' # 문자열 'Hello'"
   ]
  },
  {
   "cell_type": "code",
   "execution_count": 19,
   "metadata": {},
   "outputs": [
    {
     "data": {
      "text/plain": [
       "'Hello'"
      ]
     },
     "execution_count": 19,
     "metadata": {},
     "output_type": "execute_result"
    }
   ],
   "source": [
    "\"Hello\" # 문자열 \"Hello\"는 'Hello'와 동일하다"
   ]
  },
  {
   "cell_type": "code",
   "execution_count": 20,
   "metadata": {},
   "outputs": [
    {
     "name": "stdout",
     "output_type": "stream",
     "text": [
      "Hello\n"
     ]
    }
   ],
   "source": [
    "print('Hello') # print() 함수안에 문자열이 있을 경우 따옴표는 나타나지 않음"
   ]
  },
  {
   "cell_type": "code",
   "execution_count": 21,
   "metadata": {},
   "outputs": [
    {
     "name": "stdout",
     "output_type": "stream",
     "text": [
      "즐거운 파이썬 익히기\n"
     ]
    }
   ],
   "source": [
    "print(\"즐거운 \" + \"파이썬 익히기\") # 두 텍스트 데이터를 연결하여 출력함"
   ]
  },
  {
   "cell_type": "code",
   "execution_count": 22,
   "metadata": {},
   "outputs": [
    {
     "name": "stdout",
     "output_type": "stream",
     "text": [
      "반가워요 반가워요 반가워요 반가워요 반가워요 반가워요 반가워요 반가워요 반가워요 반가워요 반가워요 반가워요 반가워요 반가워요 반가워요 반가워요 반가워요 반가워요 반가워요 반가워요 \n"
     ]
    }
   ],
   "source": [
    "print('반가워요 ' * 20) # '반가워요'를 20회 반복 출력함"
   ]
  },
  {
   "cell_type": "code",
   "execution_count": 23,
   "metadata": {},
   "outputs": [
    {
     "name": "stdout",
     "output_type": "stream",
     "text": [
      "100200\n"
     ]
    }
   ],
   "source": [
    "print(\"100\" + \"200\") # 문자열'100', '200'을 연결한다"
   ]
  },
  {
   "cell_type": "code",
   "execution_count": 24,
   "metadata": {},
   "outputs": [
    {
     "name": "stdout",
     "output_type": "stream",
     "text": [
      "300\n"
     ]
    }
   ],
   "source": [
    "print(100 + 200) # 숫자 두 개의 합을 구한다"
   ]
  },
  {
   "cell_type": "markdown",
   "metadata": {},
   "source": [
    "## 1.14 터틀 그래픽으로 눈에 보이는 결과를 만들어 보자"
   ]
  },
  {
   "cell_type": "code",
   "execution_count": 25,
   "metadata": {},
   "outputs": [],
   "source": [
    "import turtle # turtle 모듈을 사용하기 위해 준비한다\n",
    "t = turtle.Turtle() # turtle 모듈에 있는 Turtle 클래스 객체를 t로 생성한다\n",
    "t.shape('turtle') # Turtle 클래스 객체인 t의 모양을 거북이 모양으로 설정한다"
   ]
  },
  {
   "cell_type": "code",
   "execution_count": 26,
   "metadata": {},
   "outputs": [],
   "source": [
    "t.forward(100) # 거북이를 전진시키는 명령어로 100픽셀 만큼 이동"
   ]
  },
  {
   "cell_type": "code",
   "execution_count": 27,
   "metadata": {},
   "outputs": [],
   "source": [
    "t.left(90) # 거북이를 왼쪽으로 90도 회전시키는 명령어\n",
    "t.forward(50)"
   ]
  },
  {
   "cell_type": "markdown",
   "metadata": {},
   "source": [
    "### 도전문제 1.2"
   ]
  },
  {
   "cell_type": "code",
   "execution_count": 28,
   "metadata": {},
   "outputs": [],
   "source": [
    "#1 정삼각형\n",
    "import turtle\n",
    "t = turtle.Turtle()\n",
    "t.shape('turtle')\n",
    "\n",
    "t.forward(100)\n",
    "t.left(120)\n",
    "t.forward(100)\n",
    "t.left(120)\n",
    "t.forward(100)"
   ]
  },
  {
   "cell_type": "code",
   "execution_count": 29,
   "metadata": {},
   "outputs": [],
   "source": [
    "# 2 정사각형\n",
    "import turtle\n",
    "t = turtle.Turtle()\n",
    "t.shape('turtle')\n",
    "\n",
    "t.forward(100)\n",
    "t.left(90)\n",
    "t.forward(100)\n",
    "t.left(90)\n",
    "t.forward(100)\n",
    "t.left(90)\n",
    "t.forward(100)"
   ]
  },
  {
   "cell_type": "code",
   "execution_count": 31,
   "metadata": {},
   "outputs": [],
   "source": [
    "# 3 정육각형\n",
    "import turtle\n",
    "t = turtle.Turtle()\n",
    "t.shape('turtle')\n",
    "\n",
    "t.forward(50)\n",
    "t.left(360/6)\n",
    "t.forward(50)\n",
    "t.left(360/6)\n",
    "t.forward(50)\n",
    "t.left(360/6)\n",
    "t.forward(50)\n",
    "t.left(360/6)\n",
    "t.forward(50)\n",
    "t.left(360/6)\n",
    "t.forward(50)"
   ]
  },
  {
   "cell_type": "code",
   "execution_count": 32,
   "metadata": {},
   "outputs": [],
   "source": [
    "# 4\n",
    "import turtle\n",
    "t = turtle.Turtle()\n",
    "t.shape('turtle')\n",
    "\n",
    "t.forward(50)\n",
    "t.left(360/10)\n",
    "t.forward(50)\n",
    "t.left(360/10)\n",
    "t.forward(50)\n",
    "t.left(360/10)\n",
    "t.forward(50)\n",
    "t.left(360/10)\n",
    "t.forward(50)\n",
    "t.left(360/10)\n",
    "t.forward(50)\n",
    "t.left(360/10)\n",
    "t.forward(50)\n",
    "t.left(360/10)\n",
    "t.forward(50)\n",
    "t.left(360/10)\n",
    "t.forward(50)\n",
    "t.left(360/10)\n",
    "t.forward(50)"
   ]
  },
  {
   "cell_type": "markdown",
   "metadata": {},
   "source": [
    "## 1.15 오류가 발생 할 수 있다"
   ]
  },
  {
   "cell_type": "code",
   "execution_count": 33,
   "metadata": {},
   "outputs": [
    {
     "ename": "NameError",
     "evalue": "name 'PRINT' is not defined",
     "output_type": "error",
     "traceback": [
      "\u001b[1;31m---------------------------------------------------------------------------\u001b[0m",
      "\u001b[1;31mNameError\u001b[0m                                 Traceback (most recent call last)",
      "\u001b[1;32m<ipython-input-33-ab351b16d57b>\u001b[0m in \u001b[0;36m<module>\u001b[1;34m\u001b[0m\n\u001b[1;32m----> 1\u001b[1;33m \u001b[0mPRINT\u001b[0m\u001b[1;33m(\u001b[0m\u001b[1;34m\"Hello World\"\u001b[0m\u001b[1;33m)\u001b[0m\u001b[1;33m\u001b[0m\u001b[1;33m\u001b[0m\u001b[0m\n\u001b[0m",
      "\u001b[1;31mNameError\u001b[0m: name 'PRINT' is not defined"
     ]
    }
   ],
   "source": [
    "PRINT(\"Hello World\")"
   ]
  },
  {
   "cell_type": "code",
   "execution_count": 34,
   "metadata": {},
   "outputs": [
    {
     "ename": "SyntaxError",
     "evalue": "invalid syntax (<ipython-input-34-f2b969b82a14>, line 1)",
     "output_type": "error",
     "traceback": [
      "\u001b[1;36m  File \u001b[1;32m\"<ipython-input-34-f2b969b82a14>\"\u001b[1;36m, line \u001b[1;32m1\u001b[0m\n\u001b[1;33m    PRINT(Good Bye)\u001b[0m\n\u001b[1;37m                 ^\u001b[0m\n\u001b[1;31mSyntaxError\u001b[0m\u001b[1;31m:\u001b[0m invalid syntax\n"
     ]
    }
   ],
   "source": [
    "PRINT(Good Bye)"
   ]
  },
  {
   "cell_type": "markdown",
   "metadata": {},
   "source": [
    "### LAB 1-1 자주 사용하게 될 print() 함수를 연습해 보자"
   ]
  },
  {
   "cell_type": "code",
   "execution_count": 35,
   "metadata": {},
   "outputs": [
    {
     "name": "stdout",
     "output_type": "stream",
     "text": [
      "안녕하세요? 여러분\n",
      "저는 파이썬을 무척 좋아합니다.\n",
      "9*8은 72 입니다.\n",
      "안녕히 계세요.\n"
     ]
    }
   ],
   "source": [
    "print(\"안녕하세요? 여러분\")\n",
    "print(\"저는 파이썬을 무척 좋아합니다.\")\n",
    "print(\"9*8은\", 9*8, \"입니다.\")\n",
    "print(\"안녕히 계세요.\")"
   ]
  },
  {
   "cell_type": "markdown",
   "metadata": {},
   "source": [
    "### 도전문제 1.3"
   ]
  },
  {
   "cell_type": "code",
   "execution_count": 37,
   "metadata": {},
   "outputs": [
    {
     "name": "stdout",
     "output_type": "stream",
     "text": [
      "50 + 30 = 80\n",
      "50 - 30 = 20\n",
      "50 * 30 = 1500\n",
      "50 / 30 = 1.6666666666666667\n"
     ]
    }
   ],
   "source": [
    "print(\"50 + 30 =\", 50+30)\n",
    "print(\"50 - 30 =\", 50-30)\n",
    "print(\"50 * 30 =\", 50*30)\n",
    "print(\"50 / 30 =\", 50/30)"
   ]
  },
  {
   "cell_type": "markdown",
   "metadata": {},
   "source": [
    "### LAB 1-2 터틀 그래픽으로 삼각형을 그려 보자"
   ]
  },
  {
   "cell_type": "code",
   "execution_count": 38,
   "metadata": {},
   "outputs": [],
   "source": [
    "import turtle\n",
    "t = turtle.Turtle()\n",
    "t.shape('turtle')\n",
    "\n",
    "t.forward(100)\n",
    "t.left(120)\n",
    "t.forward(100)\n",
    "t.left(120)\n",
    "t.forward(100)"
   ]
  },
  {
   "cell_type": "markdown",
   "metadata": {},
   "source": [
    "## 심화문제 풀이"
   ]
  },
  {
   "cell_type": "code",
   "execution_count": 22,
   "metadata": {},
   "outputs": [
    {
     "name": "stdout",
     "output_type": "stream",
     "text": [
      "(1) 100\n",
      "(2) 300\n",
      "(3) 100+200\n",
      "(4) 100 200\n",
      "(5) 100 200\n",
      "(6) 100200\n",
      "(7) Hello Python!\n",
      "(8) Hello Python !\n",
      "(9) HelloPython!\n",
      "(10) HelloPython!\n",
      "(11) ********************\n",
      "(12) ********************\n"
     ]
    }
   ],
   "source": [
    "# 1.3\n",
    "print('(1)', 100)\n",
    "print('(2)', 100+200)\n",
    "print('(3)', '100+200')\n",
    "print('(4)', 100, 200)\n",
    "print('(5)', '100', '200')\n",
    "print('(6)', '100''200')\n",
    "print('(7)', 'Hello Python!')\n",
    "print('(8)', 'Hello', 'Python', '!')\n",
    "print('(9)', 'Hello'+'Python'+'!')\n",
    "print('(10)', 'Hello''Python''!')\n",
    "print('(11)', '********************')\n",
    "print('(12)', '*' * 20)"
   ]
  },
  {
   "cell_type": "code",
   "execution_count": 23,
   "metadata": {},
   "outputs": [
    {
     "name": "stdout",
     "output_type": "stream",
     "text": [
      "(1) Hello Python!\n",
      "(2) ********************\n",
      "(3) Life is short learn Python!\n",
      "(4) 300\n"
     ]
    }
   ],
   "source": [
    "# 1.4\n",
    "print('(1)', 'Hello Python!') # 따옴표를 동일하게 수정\n",
    "print('(2)', '*'*20) # 곱하기 연산자 추가\n",
    "print('(3)', 'Life is short learn Python!') # 따옴표 추가\n",
    "print('(4)', 100 + 200) # 숫자/문자 형태를 동일하게 수정"
   ]
  },
  {
   "cell_type": "code",
   "execution_count": 1,
   "metadata": {},
   "outputs": [
    {
     "name": "stdout",
     "output_type": "stream",
     "text": [
      "I love Python!!\n",
      "I love Python!!\n",
      "I love Python!!\n",
      "I love Python!!\n",
      "I love Python!!\n",
      "\n"
     ]
    }
   ],
   "source": [
    "# 1.5\n",
    "print('I love Python!!\\n' * 5)"
   ]
  },
  {
   "cell_type": "code",
   "execution_count": 11,
   "metadata": {},
   "outputs": [
    {
     "name": "stdout",
     "output_type": "stream",
     "text": [
      "*\n",
      "**\n",
      "***\n",
      "****\n",
      "*****\n",
      "******\n"
     ]
    }
   ],
   "source": [
    "# 1.6\n",
    "for i in range(1,7):\n",
    "    print('*'*i)"
   ]
  },
  {
   "cell_type": "code",
   "execution_count": 12,
   "metadata": {},
   "outputs": [],
   "source": [
    "# 1.7 - (1)\n",
    "import turtle\n",
    "t = turtle.Turtle()\n",
    "t.shape('turtle')\n",
    "\n",
    "t.forward(100)\n",
    "t.left(135)\n",
    "t.forward(141)\n",
    "t.left(135)\n",
    "t.forward(100)"
   ]
  },
  {
   "cell_type": "code",
   "execution_count": 14,
   "metadata": {},
   "outputs": [],
   "source": [
    "# 1.7 - (2)\n",
    "import turtle\n",
    "t = turtle.Turtle()\n",
    "t.shape('turtle')\n",
    "\n",
    "t.forward(100)\n",
    "t.left(120)\n",
    "t.forward(100)\n",
    "t.left(120)\n",
    "t.forward(100)\n",
    "t.right(120)\n",
    "t.forward(100)\n",
    "t.right(120)\n",
    "t.forward(100)"
   ]
  },
  {
   "cell_type": "code",
   "execution_count": 21,
   "metadata": {},
   "outputs": [
    {
     "name": "stdout",
     "output_type": "stream",
     "text": [
      "(1) 300\n",
      "(2) 81700\n",
      "(3) 2.0\n",
      "(4) 729\n",
      "(5) 3.0\n",
      "(6) 3\n"
     ]
    }
   ],
   "source": [
    "# 1.8\n",
    "print('(1)', 400 - 200 + 100)\n",
    "print('(2)', 409 * 200 - 100)\n",
    "print('(3)', 6 * 3 / 9)\n",
    "print('(4)', 9 ** 3)\n",
    "print('(5)', 9 / 3)\n",
    "print('(6)', 9 // 3)"
   ]
  },
  {
   "cell_type": "code",
   "execution_count": 20,
   "metadata": {},
   "outputs": [
    {
     "name": "stdout",
     "output_type": "stream",
     "text": [
      "(1) 55\n",
      "(2) 78.5\n",
      "(3) 80\n",
      "(4) 400\n",
      "(5) 150.0\n",
      "(6) 300\n"
     ]
    }
   ],
   "source": [
    "# 1.9\n",
    "print('(1)', 1+2+3+4+5+6+7+8+9+10)\n",
    "print('(2)', 5 * 5 * 3.14)\n",
    "print('(3)', 20 * 4)\n",
    "print('(4)', 20 * 20)\n",
    "print('(5)', 30 * 10 * 0.5)\n",
    "print('(6)', 10 * 30)"
   ]
  },
  {
   "cell_type": "code",
   "execution_count": 24,
   "metadata": {},
   "outputs": [
    {
     "name": "stdout",
     "output_type": "stream",
     "text": [
      "(1) 24\n",
      "(2) 120\n",
      "(3) 720\n"
     ]
    }
   ],
   "source": [
    "# 1.10\n",
    "print('(1)', 1*2*3*4) #4!\n",
    "print('(2)', 1*2*3*4*5) #5!\n",
    "print('(3)', 1*2*3*4*5*6) #6!"
   ]
  }
 ],
 "metadata": {
  "kernelspec": {
   "display_name": "Python 3",
   "language": "python",
   "name": "python3"
  },
  "language_info": {
   "codemirror_mode": {
    "name": "ipython",
    "version": 3
   },
   "file_extension": ".py",
   "mimetype": "text/x-python",
   "name": "python",
   "nbconvert_exporter": "python",
   "pygments_lexer": "ipython3",
   "version": "3.7.3"
  }
 },
 "nbformat": 4,
 "nbformat_minor": 2
}
