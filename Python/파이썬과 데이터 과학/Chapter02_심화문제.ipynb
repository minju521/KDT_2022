{
 "cells": [
  {
   "cell_type": "markdown",
   "metadata": {},
   "source": [
    "# Chapter02_심화문제"
   ]
  },
  {
   "cell_type": "markdown",
   "metadata": {},
   "source": [
    "## 2.1"
   ]
  },
  {
   "cell_type": "code",
   "execution_count": 1,
   "metadata": {},
   "outputs": [
    {
     "name": "stdout",
     "output_type": "stream",
     "text": [
      "100 + 200 = 300\n",
      "200 + 300 + 400 = 900\n"
     ]
    }
   ],
   "source": [
    "print(100, '+', 200, '=', 100+200)\n",
    "print(200, '+', 300, '+', 400, '=', 200+300+400)"
   ]
  },
  {
   "cell_type": "markdown",
   "metadata": {},
   "source": [
    "## 2.2"
   ]
  },
  {
   "cell_type": "code",
   "execution_count": 2,
   "metadata": {},
   "outputs": [
    {
     "name": "stdout",
     "output_type": "stream",
     "text": [
      "30\n",
      "60\n"
     ]
    }
   ],
   "source": [
    "width = 30\n",
    "height = 60\n",
    "print(width)\n",
    "print(height)"
   ]
  },
  {
   "cell_type": "markdown",
   "metadata": {},
   "source": [
    "## 2.3"
   ]
  },
  {
   "cell_type": "code",
   "execution_count": 3,
   "metadata": {},
   "outputs": [
    {
     "name": "stdout",
     "output_type": "stream",
     "text": [
      "30\n",
      "60\n"
     ]
    }
   ],
   "source": [
    "width, height = 30, 60\n",
    "print(width)\n",
    "print(height)"
   ]
  },
  {
   "cell_type": "markdown",
   "metadata": {},
   "source": [
    "## 2.4"
   ]
  },
  {
   "cell_type": "code",
   "execution_count": 4,
   "metadata": {},
   "outputs": [
    {
     "name": "stdout",
     "output_type": "stream",
     "text": [
      "삼각형의 면적 : 400.0\n"
     ]
    }
   ],
   "source": [
    "width, height = 40, 20\n",
    "print(\"삼각형의 면적 :\", width*height*0.5)"
   ]
  },
  {
   "cell_type": "markdown",
   "metadata": {},
   "source": [
    "## 2.5"
   ]
  },
  {
   "cell_type": "code",
   "execution_count": 5,
   "metadata": {},
   "outputs": [
    {
     "name": "stdout",
     "output_type": "stream",
     "text": [
      "정사각형의 밑변을 입력하시오 : 40\n",
      "정사각형의 면적 : 1600\n"
     ]
    }
   ],
   "source": [
    "a = int(input(\"정사각형의 밑변을 입력하시오 : \"))\n",
    "print(\"정사각형의 면적 :\", a*a)"
   ]
  },
  {
   "cell_type": "markdown",
   "metadata": {},
   "source": [
    "## 2.6"
   ]
  },
  {
   "cell_type": "code",
   "execution_count": 6,
   "metadata": {},
   "outputs": [
    {
     "name": "stdout",
     "output_type": "stream",
     "text": [
      "1에서 10까지의 합 : 55\n"
     ]
    }
   ],
   "source": [
    "print(\"1에서 10까지의 합 :\", 1+2+3+4+5+6+7+8+9+10)"
   ]
  },
  {
   "cell_type": "markdown",
   "metadata": {},
   "source": [
    "## 2.7"
   ]
  },
  {
   "cell_type": "code",
   "execution_count": 7,
   "metadata": {},
   "outputs": [
    {
     "name": "stdout",
     "output_type": "stream",
     "text": [
      "10! = 3628800\n"
     ]
    }
   ],
   "source": [
    "print(\"10! =\", 1*2*3*4*5*6*7*8*9*10)"
   ]
  },
  {
   "cell_type": "markdown",
   "metadata": {},
   "source": [
    "## 2.8"
   ]
  },
  {
   "cell_type": "code",
   "execution_count": 8,
   "metadata": {},
   "outputs": [
    {
     "name": "stdout",
     "output_type": "stream",
     "text": [
      "섭씨 화씨\n",
      "0 32.0\n",
      "10 50.0\n",
      "20 68.0\n",
      "30 86.0\n",
      "40 104.0\n",
      "50 122.0\n"
     ]
    }
   ],
   "source": [
    "celsius = [0, 10, 20, 30, 40, 50]\n",
    "print(\"섭씨\", \"화씨\")\n",
    "for i in celsius:\n",
    "    fahrenheit = (9/5) * i + 32\n",
    "    print(i, fahrenheit)"
   ]
  },
  {
   "cell_type": "markdown",
   "metadata": {},
   "source": [
    "## 2.9"
   ]
  },
  {
   "cell_type": "code",
   "execution_count": 9,
   "metadata": {},
   "outputs": [
    {
     "name": "stdout",
     "output_type": "stream",
     "text": [
      "섭씨온도를 입력하세요 : 30\n",
      "섭씨 30 도는 화씨 86.0 도 입니다.\n"
     ]
    }
   ],
   "source": [
    "a = int(input(\"섭씨온도를 입력하세요 : \"))\n",
    "fahrenheit = (9/5) * a + 32\n",
    "print(\"섭씨\", a, \"도는 화씨\", fahrenheit, \"도 입니다.\")"
   ]
  },
  {
   "cell_type": "markdown",
   "metadata": {},
   "source": [
    "## 2.10"
   ]
  },
  {
   "cell_type": "code",
   "execution_count": 10,
   "metadata": {},
   "outputs": [
    {
     "name": "stdout",
     "output_type": "stream",
     "text": [
      "원의 반지름을 입력하세요 : 11\n",
      "원의 둘레 = 69.115024 , 원의 면적 = 380.13263200000006\n"
     ]
    }
   ],
   "source": [
    "a = int(input(\"원의 반지름을 입력하세요 : \"))\n",
    "pi = 3.141592\n",
    "print(\"원의 둘레 =\", 2*pi*a, \", 원의 면적 =\", pi*a*a)"
   ]
  },
  {
   "cell_type": "markdown",
   "metadata": {},
   "source": [
    "## 2.11"
   ]
  },
  {
   "cell_type": "code",
   "execution_count": 11,
   "metadata": {},
   "outputs": [
    {
     "name": "stdout",
     "output_type": "stream",
     "text": [
      "It's really hot!\n",
      "I said \"Hello!\" to him.\n",
      "He said \"Whats there?\"\n",
      "Newline character if \\n, Tab character if \\t\n",
      "Working directory is C:\\workspace\\mywork.\n"
     ]
    }
   ],
   "source": [
    "print(\"It's really hot!\")\n",
    "print('I said \"Hello!\" to him.')\n",
    "print('He said \"What''s there?\"')\n",
    "print(\"Newline character if \\\\n, Tab character if \\\\t\")\n",
    "print(\"Working directory is C:\\\\workspace\\\\mywork.\")"
   ]
  }
 ],
 "metadata": {
  "kernelspec": {
   "display_name": "Python 3",
   "language": "python",
   "name": "python3"
  },
  "language_info": {
   "codemirror_mode": {
    "name": "ipython",
    "version": 3
   },
   "file_extension": ".py",
   "mimetype": "text/x-python",
   "name": "python",
   "nbconvert_exporter": "python",
   "pygments_lexer": "ipython3",
   "version": "3.7.3"
  }
 },
 "nbformat": 4,
 "nbformat_minor": 2
}
