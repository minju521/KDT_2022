{
 "cells": [
  {
   "cell_type": "markdown",
   "metadata": {},
   "source": [
    "# Chapter07_심화문제"
   ]
  },
  {
   "cell_type": "markdown",
   "metadata": {},
   "source": [
    "## 7.1"
   ]
  },
  {
   "cell_type": "code",
   "execution_count": 3,
   "metadata": {},
   "outputs": [],
   "source": [
    "num_list = [100, 200, 300, 400, 500, 600, 700, 800]\n",
    "high = 6\n",
    "low = 3"
   ]
  },
  {
   "cell_type": "code",
   "execution_count": 4,
   "metadata": {},
   "outputs": [
    {
     "name": "stdout",
     "output_type": "stream",
     "text": [
      "(1) 700\n",
      "(2) 500\n",
      "(3) 400\n",
      "(4) 600\n",
      "(5) 800\n",
      "(6) 600\n",
      "(7) 700\n",
      "(8) 900\n",
      "(9) 200\n",
      "(10) 8\n",
      "(11) 100\n",
      "(12) 800\n",
      "(13) [100, 200, 300]\n",
      "(14) [200, 300, 400, 500]\n",
      "(15) [800, 700, 600, 500]\n",
      "(16) [400, 500, 600, 700]\n"
     ]
    }
   ],
   "source": [
    "print(\"(1)\", num_list[high])\n",
    "print(\"(2)\", num_list[high - 2])\n",
    "print(\"(3)\", num_list[high - low])\n",
    "print(\"(4)\", num_list[low - high])\n",
    "print(\"(5)\", num_list[-1])\n",
    "print(\"(6)\", num_list[-low])\n",
    "print(\"(7)\", num_list[2 * 3])\n",
    "print(\"(8)\", num_list[2] * 3)\n",
    "print(\"(9)\", num_list[5 % 4])\n",
    "print(\"(10)\", len(num_list))\n",
    "print(\"(11)\", min(num_list))\n",
    "print(\"(12)\", max(num_list))\n",
    "print(\"(13)\", num_list[:3])\n",
    "print(\"(14)\", num_list[1:5])\n",
    "print(\"(15)\", num_list[-1:-5:-1])\n",
    "print(\"(16)\", num_list[-5:-1:1])"
   ]
  },
  {
   "cell_type": "markdown",
   "metadata": {},
   "source": [
    "## 7.2"
   ]
  },
  {
   "cell_type": "code",
   "execution_count": 7,
   "metadata": {},
   "outputs": [
    {
     "name": "stdout",
     "output_type": "stream",
     "text": [
      "3 * 2 = 6\n",
      "3 * 3 = 9\n",
      "3 * 4 = 12\n",
      "3 * 5 = 15\n",
      "3 * 6 = 18\n",
      "5 * 2 = 10\n",
      "5 * 3 = 15\n",
      "5 * 4 = 20\n",
      "5 * 5 = 25\n",
      "5 * 6 = 30\n",
      "7 * 2 = 14\n",
      "7 * 3 = 21\n",
      "7 * 4 = 28\n",
      "7 * 5 = 35\n",
      "7 * 6 = 42\n"
     ]
    }
   ],
   "source": [
    "list1 = [3, 5, 7]\n",
    "list2 = [2, 3, 4, 5, 6]\n",
    "for i in list1:\n",
    "    for j in list2:\n",
    "        print(i, '*', j, '=', i*j)"
   ]
  },
  {
   "cell_type": "markdown",
   "metadata": {},
   "source": [
    "## 7.3"
   ]
  },
  {
   "cell_type": "code",
   "execution_count": 9,
   "metadata": {},
   "outputs": [
    {
     "name": "stdout",
     "output_type": "stream",
     "text": [
      "I like pancakes.\n",
      "I like kiwi juice.\n",
      "I like espresso.\n",
      "I love pancakes.\n",
      "I love kiwi juice.\n",
      "I love espresso.\n"
     ]
    }
   ],
   "source": [
    "list1 = ['I like', 'I love']\n",
    "list2 = ['pancakes.', 'kiwi juice.', 'espresso.']\n",
    "\n",
    "for i in list1:\n",
    "    for j in list2:\n",
    "        print(i, j)"
   ]
  },
  {
   "cell_type": "markdown",
   "metadata": {},
   "source": [
    "## 7.4"
   ]
  },
  {
   "cell_type": "markdown",
   "metadata": {},
   "source": [
    "(1) : 튜플에서는 추가할 수 없다"
   ]
  },
  {
   "cell_type": "code",
   "execution_count": 10,
   "metadata": {},
   "outputs": [
    {
     "ename": "AttributeError",
     "evalue": "'tuple' object has no attribute 'append'",
     "output_type": "error",
     "traceback": [
      "\u001b[1;31m---------------------------------------------------------------------------\u001b[0m",
      "\u001b[1;31mAttributeError\u001b[0m                            Traceback (most recent call last)",
      "\u001b[1;32m<ipython-input-10-d093effde712>\u001b[0m in \u001b[0;36m<module>\u001b[1;34m\u001b[0m\n\u001b[0;32m      1\u001b[0m \u001b[0mt\u001b[0m \u001b[1;33m=\u001b[0m \u001b[1;33m(\u001b[0m\u001b[1;36m10\u001b[0m\u001b[1;33m,\u001b[0m \u001b[1;36m20\u001b[0m\u001b[1;33m,\u001b[0m \u001b[1;36m30\u001b[0m\u001b[1;33m,\u001b[0m \u001b[1;36m40\u001b[0m\u001b[1;33m)\u001b[0m\u001b[1;33m\u001b[0m\u001b[1;33m\u001b[0m\u001b[0m\n\u001b[1;32m----> 2\u001b[1;33m \u001b[0mt\u001b[0m\u001b[1;33m.\u001b[0m\u001b[0mappend\u001b[0m\u001b[1;33m(\u001b[0m\u001b[1;36m50\u001b[0m\u001b[1;33m)\u001b[0m\u001b[1;33m\u001b[0m\u001b[1;33m\u001b[0m\u001b[0m\n\u001b[0m",
      "\u001b[1;31mAttributeError\u001b[0m: 'tuple' object has no attribute 'append'"
     ]
    }
   ],
   "source": [
    "t = (10, 20, 30, 40)\n",
    "t.append(50)"
   ]
  },
  {
   "cell_type": "markdown",
   "metadata": {},
   "source": [
    "(2) : 튜플에서는 일부를 제거할 수 없다"
   ]
  },
  {
   "cell_type": "code",
   "execution_count": 11,
   "metadata": {},
   "outputs": [
    {
     "ename": "AttributeError",
     "evalue": "'tuple' object has no attribute 'remove'",
     "output_type": "error",
     "traceback": [
      "\u001b[1;31m---------------------------------------------------------------------------\u001b[0m",
      "\u001b[1;31mAttributeError\u001b[0m                            Traceback (most recent call last)",
      "\u001b[1;32m<ipython-input-11-8aa0677608f6>\u001b[0m in \u001b[0;36m<module>\u001b[1;34m\u001b[0m\n\u001b[0;32m      1\u001b[0m \u001b[0mt\u001b[0m \u001b[1;33m=\u001b[0m \u001b[1;33m(\u001b[0m\u001b[1;36m10\u001b[0m\u001b[1;33m,\u001b[0m \u001b[1;36m20\u001b[0m\u001b[1;33m,\u001b[0m \u001b[1;36m30\u001b[0m\u001b[1;33m,\u001b[0m \u001b[1;36m40\u001b[0m\u001b[1;33m)\u001b[0m\u001b[1;33m\u001b[0m\u001b[1;33m\u001b[0m\u001b[0m\n\u001b[1;32m----> 2\u001b[1;33m \u001b[0mt\u001b[0m\u001b[1;33m.\u001b[0m\u001b[0mremove\u001b[0m\u001b[1;33m(\u001b[0m\u001b[1;36m40\u001b[0m\u001b[1;33m)\u001b[0m\u001b[1;33m\u001b[0m\u001b[1;33m\u001b[0m\u001b[0m\n\u001b[0m",
      "\u001b[1;31mAttributeError\u001b[0m: 'tuple' object has no attribute 'remove'"
     ]
    }
   ],
   "source": [
    "t = (10, 20, 30, 40)\n",
    "t.remove(40)"
   ]
  },
  {
   "cell_type": "markdown",
   "metadata": {},
   "source": [
    "(3) : 튜플에서는 인덱스를 사용할 수 없다"
   ]
  },
  {
   "cell_type": "code",
   "execution_count": 12,
   "metadata": {},
   "outputs": [
    {
     "ename": "TypeError",
     "evalue": "'tuple' object does not support item assignment",
     "output_type": "error",
     "traceback": [
      "\u001b[1;31m---------------------------------------------------------------------------\u001b[0m",
      "\u001b[1;31mTypeError\u001b[0m                                 Traceback (most recent call last)",
      "\u001b[1;32m<ipython-input-12-8e6554f5185e>\u001b[0m in \u001b[0;36m<module>\u001b[1;34m\u001b[0m\n\u001b[0;32m      1\u001b[0m \u001b[0mt\u001b[0m \u001b[1;33m=\u001b[0m \u001b[1;33m(\u001b[0m\u001b[1;36m10\u001b[0m\u001b[1;33m,\u001b[0m \u001b[1;36m20\u001b[0m\u001b[1;33m,\u001b[0m \u001b[1;36m30\u001b[0m\u001b[1;33m,\u001b[0m \u001b[1;36m40\u001b[0m\u001b[1;33m)\u001b[0m\u001b[1;33m\u001b[0m\u001b[1;33m\u001b[0m\u001b[0m\n\u001b[1;32m----> 2\u001b[1;33m \u001b[0mt\u001b[0m\u001b[1;33m[\u001b[0m\u001b[1;36m0\u001b[0m\u001b[1;33m]\u001b[0m \u001b[1;33m=\u001b[0m \u001b[1;36m0\u001b[0m\u001b[1;33m\u001b[0m\u001b[1;33m\u001b[0m\u001b[0m\n\u001b[0m",
      "\u001b[1;31mTypeError\u001b[0m: 'tuple' object does not support item assignment"
     ]
    }
   ],
   "source": [
    "t = (10, 20, 30, 40)\n",
    "t[0] = 0"
   ]
  },
  {
   "cell_type": "markdown",
   "metadata": {},
   "source": [
    "## 7.5"
   ]
  },
  {
   "cell_type": "code",
   "execution_count": 13,
   "metadata": {},
   "outputs": [
    {
     "name": "stdout",
     "output_type": "stream",
     "text": [
      "['A1', 'A2', 'B1', 'B2', 'C1', 'C2']\n"
     ]
    }
   ],
   "source": [
    "# 문자형\n",
    "a = ('A', 'B', 'C')\n",
    "b = ('1', '2')\n",
    "s = []\n",
    "\n",
    "for i in a:\n",
    "    for j in b:\n",
    "        s.append(i+j)\n",
    "print(s)"
   ]
  },
  {
   "cell_type": "code",
   "execution_count": 14,
   "metadata": {},
   "outputs": [
    {
     "name": "stdout",
     "output_type": "stream",
     "text": [
      "['A1', 'A2', 'B1', 'B2', 'C1', 'C2']\n"
     ]
    }
   ],
   "source": [
    "# 정수형\n",
    "a = ('A', 'B', 'C')\n",
    "c = (1, 2)\n",
    "s = []\n",
    "\n",
    "for i in a:\n",
    "    for j in c:\n",
    "        s.append(i+str(j)) # 정수형과 문자형을 더하는 것은 안되므로 하나의 형태로 수정\n",
    "print(s)"
   ]
  },
  {
   "cell_type": "markdown",
   "metadata": {},
   "source": [
    "## 7.6"
   ]
  },
  {
   "cell_type": "code",
   "execution_count": 15,
   "metadata": {},
   "outputs": [
    {
     "name": "stdout",
     "output_type": "stream",
     "text": [
      "문자열을 입력하세요 : python\n",
      "p\n",
      "py\n",
      "pyt\n",
      "pyth\n",
      "pytho\n",
      "python\n",
      "python\n",
      "pytho\n",
      "pyth\n",
      "pyt\n",
      "py\n",
      "p\n",
      "\n"
     ]
    }
   ],
   "source": [
    "a = input(\"문자열을 입력하세요 : \")\n",
    "\n",
    "for i in range(len(a)):\n",
    "    i = i + 1\n",
    "    print(a[:i])\n",
    "for j in range(len(a), -1, -1):\n",
    "    i = i - 1\n",
    "    print(a[:j])"
   ]
  },
  {
   "cell_type": "code",
   "execution_count": 16,
   "metadata": {},
   "outputs": [
    {
     "name": "stdout",
     "output_type": "stream",
     "text": [
      "문자열을 입력하세요 : python\n",
      "p\n",
      "py\n",
      "pyt\n",
      "pyth\n",
      "pytho\n",
      "python\n",
      "pyth\n",
      "pyt\n",
      "py\n",
      "p\n",
      "\n"
     ]
    }
   ],
   "source": [
    "num = input(\"문자열을 입력하세요 : \")\n",
    "\n",
    "for i in range(len(num)):\n",
    "    for j in range(i+1):\n",
    "        print(num[j], end='')\n",
    "    print()\n",
    "\n",
    "for i in range(len(num)-2, -1,-1):\n",
    "    for j in range(i):\n",
    "        print(num[j], end='')\n",
    "    print()"
   ]
  },
  {
   "cell_type": "markdown",
   "metadata": {},
   "source": [
    "## 7.7"
   ]
  },
  {
   "cell_type": "markdown",
   "metadata": {},
   "source": [
    "(1)"
   ]
  },
  {
   "cell_type": "code",
   "execution_count": 17,
   "metadata": {},
   "outputs": [
    {
     "name": "stdout",
     "output_type": "stream",
     "text": [
      "가장 길이가 긴 문자열 : ['banana', 'orange']\n",
      "fruit_list = ['kiwi', 'apple', 'melon']\n"
     ]
    }
   ],
   "source": [
    "fruit_list = ['banana', 'orange', 'kiwi', 'apple', 'melon']\n",
    "\n",
    "max_len = 0\n",
    "max_list = []\n",
    "\n",
    "for i in fruit_list:\n",
    "    if max_len <= len(i):\n",
    "        max_len = len(i)\n",
    "        max_list.append(i)\n",
    "        \n",
    "for i in max_list:\n",
    "    fruit_list.remove(i)\n",
    "\n",
    "print(\"가장 길이가 긴 문자열 :\", max_list)\n",
    "print(\"fruit_list =\", fruit_list)"
   ]
  },
  {
   "cell_type": "markdown",
   "metadata": {},
   "source": [
    "(2)"
   ]
  },
  {
   "cell_type": "code",
   "execution_count": 18,
   "metadata": {},
   "outputs": [
    {
     "name": "stdout",
     "output_type": "stream",
     "text": [
      "banana : 문자열의 길이 6\n",
      "orange : 문자열의 길이 6\n",
      "kiwi : 문자열의 길이 4\n",
      "apple : 문자열의 길이 5\n",
      "melon : 문자열의 길이 5\n"
     ]
    }
   ],
   "source": [
    "fruit_list = ['banana', 'orange', 'kiwi', 'apple', 'melon']\n",
    "\n",
    "for i in range(len(fruit_list)):\n",
    "        print(fruit_list[i], \": 문자열의 길이\", len(fruit_list[i]))"
   ]
  },
  {
   "cell_type": "code",
   "execution_count": 19,
   "metadata": {},
   "outputs": [
    {
     "name": "stdout",
     "output_type": "stream",
     "text": [
      "banana : 문자열의 길이 6\n",
      "orange : 문자열의 길이 6\n",
      "kiwi : 문자열의 길이 4\n",
      "apple : 문자열의 길이 5\n",
      "melon : 문자열의 길이 5\n"
     ]
    }
   ],
   "source": [
    "fruit_list = ['banana', 'orange', 'kiwi', 'apple', 'melon']\n",
    "\n",
    "for i in fruit_list:\n",
    "    print(i, \": 문자열의 길이\", len(i))"
   ]
  },
  {
   "cell_type": "markdown",
   "metadata": {},
   "source": [
    "## 7.8"
   ]
  },
  {
   "cell_type": "code",
   "execution_count": 20,
   "metadata": {},
   "outputs": [
    {
     "name": "stdout",
     "output_type": "stream",
     "text": [
      "숫자를 입력하세요5\n",
      "[1, 2, 3, 4, 5]\n",
      "[10, 9, 8, 7, 6]\n",
      "[11, 12, 13, 14, 15]\n",
      "[20, 19, 18, 17, 16]\n",
      "[21, 22, 23, 24, 25]\n"
     ]
    }
   ],
   "source": [
    "num = int(input(\"숫자를 입력하세요\"))\n",
    "numlist = list(range(1, num**2+1))\n",
    "a = []\n",
    "count=0\n",
    "\n",
    "for n in numlist:\n",
    "    a.append(n)\n",
    "    if len(a)==num:\n",
    "        count+=1\n",
    "        if count%2==0:\n",
    "            a.reverse()\n",
    "        print(a)\n",
    "        a=[]"
   ]
  },
  {
   "cell_type": "code",
   "execution_count": 21,
   "metadata": {},
   "outputs": [
    {
     "name": "stdout",
     "output_type": "stream",
     "text": [
      "n을 입력하시오: 5\n",
      "[1, 2, 3, 4, 5] \n",
      "[10, 9, 8, 7, 6] \n",
      "[11, 12, 13, 14, 15] \n",
      "[20, 19, 18, 17, 16] \n",
      "[21, 22, 23, 24, 25] \n"
     ]
    }
   ],
   "source": [
    "n = int(input(\"n을 입력하시오: \"))\n",
    "num = 0\n",
    "arr = [[col+row*n for col in range(1, (n+1))] for row in range(n)]\n",
    "\n",
    "\n",
    "for i in range(0, n):\n",
    "    if i % 2 == 1:\n",
    "        print(arr[i][::-1], end=\" \")\n",
    "    else:\n",
    "        print(arr[i][::1], end=\" \")\n",
    "    print()"
   ]
  },
  {
   "cell_type": "code",
   "execution_count": 22,
   "metadata": {},
   "outputs": [
    {
     "name": "stdout",
     "output_type": "stream",
     "text": [
      "n을 입력하시오 : 5\n",
      "\n",
      "  1  2  3  4  5\n",
      " 10  9  8  7  6\n",
      " 11 12 13 14 15\n",
      " 20 19 18 17 16\n",
      " 21 22 23 24 25"
     ]
    }
   ],
   "source": [
    "A = int(input(\"n을 입력하시오 : \"))\n",
    "D = [x for x in range(1, A * A + 1)] #입력받은 정수의 제곱만큼 수를 생성\n",
    "S = \"\"\n",
    " \n",
    "for i in range(0, A) : #행의 개수만큼 반\n",
    "    print(\"\")\n",
    " \n",
    "    #짝수행(0부터)에서 순방향\n",
    "    if i % 2 == 0 :\n",
    "        S = D[ (i * A) : (i * A) + A ]\n",
    "        for t in range (0, len(S)) :\n",
    "            print('{0:3d}'.format(S[t]), end = \"\")\n",
    " \n",
    "    #홀수행(1부터)에서 역방향\n",
    "    else :\n",
    "        S = D[ (i * A) + (A-1) : (i * A) - 1 : -1 ]\n",
    "        for t in range (0, len(S)) :\n",
    "            print('{0:3d}'.format(S[t]), end = \"\")"
   ]
  },
  {
   "cell_type": "markdown",
   "metadata": {},
   "source": [
    "## 7.9"
   ]
  },
  {
   "cell_type": "code",
   "execution_count": 23,
   "metadata": {},
   "outputs": [
    {
     "name": "stdout",
     "output_type": "stream",
     "text": [
      "첫번째 문자열을 입력하세요commu\n",
      "두번째 문자열을 입력하세요mummy\n"
     ]
    },
    {
     "data": {
      "text/plain": [
       "'commummy'"
      ]
     },
     "execution_count": 23,
     "metadata": {},
     "output_type": "execute_result"
    }
   ],
   "source": [
    "def overlab (a,b):\n",
    "    for i in range(len(b)):\n",
    "        for j in range(len(a)):\n",
    "            if b[i] == a[j]:\n",
    "                aa = a[j:]\n",
    "                bb = b[:len(aa)]\n",
    "                if aa == bb:\n",
    "                    #return (aa, bb)\n",
    "                    return (a+b[len(bb):])\n",
    "                else:\n",
    "                    aa = aa[1:]\n",
    "                    overlab (aa, bb)\n",
    "    return (a+b)\n",
    "s1 = input('첫번째 문자열을 입력하세요')\n",
    "s2 = input('두번째 문자열을 입력하세요')\n",
    "overlab(s1, s2)"
   ]
  }
 ],
 "metadata": {
  "kernelspec": {
   "display_name": "Python 3",
   "language": "python",
   "name": "python3"
  },
  "language_info": {
   "codemirror_mode": {
    "name": "ipython",
    "version": 3
   },
   "file_extension": ".py",
   "mimetype": "text/x-python",
   "name": "python",
   "nbconvert_exporter": "python",
   "pygments_lexer": "ipython3",
   "version": "3.7.3"
  }
 },
 "nbformat": 4,
 "nbformat_minor": 2
}
