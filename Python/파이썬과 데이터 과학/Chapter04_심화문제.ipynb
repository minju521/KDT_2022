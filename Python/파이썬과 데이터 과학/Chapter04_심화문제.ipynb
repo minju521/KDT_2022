{
 "cells": [
  {
   "cell_type": "markdown",
   "metadata": {},
   "source": [
    "# Chapter04_심화문제"
   ]
  },
  {
   "cell_type": "markdown",
   "metadata": {},
   "source": [
    "## 4.1"
   ]
  },
  {
   "cell_type": "code",
   "execution_count": 1,
   "metadata": {},
   "outputs": [
    {
     "name": "stdout",
     "output_type": "stream",
     "text": [
      "알파벳을 입력하시오 : i\n",
      "i (은)는 모음입니다.\n"
     ]
    }
   ],
   "source": [
    "a = input(\"알파벳을 입력하시오 : \")\n",
    "if a == \"a\" or a == \"e\" or a == \"i\" or a == \"o\" or a == \"u\":\n",
    "    print(a, \"(은)는 모음입니다.\")\n",
    "else:\n",
    "    print(a, \"(은)는 자음입니다.\")"
   ]
  },
  {
   "cell_type": "code",
   "execution_count": 2,
   "metadata": {},
   "outputs": [
    {
     "name": "stdout",
     "output_type": "stream",
     "text": [
      "알파벳을 입력하시오 :e\n",
      "e 는 모음입니다.\n"
     ]
    }
   ],
   "source": [
    "alphabet = input(\"알파벳을 입력하시오 :\")\n",
    "alphabet_i = [\"a\", \"e\", \"i\", \"o\", \"u\"]\n",
    "if alphabet in alphabet_i:\n",
    "    print(alphabet, \"는 모음입니다.\")\n",
    "else:\n",
    "    print(alphabet, \"는 자음입니다.\")"
   ]
  },
  {
   "cell_type": "markdown",
   "metadata": {},
   "source": [
    "## 4.2"
   ]
  },
  {
   "cell_type": "code",
   "execution_count": 3,
   "metadata": {},
   "outputs": [
    {
     "name": "stdout",
     "output_type": "stream",
     "text": [
      "세 정수를 입력하시오 : 9 122 4\n",
      "122 9 4\n"
     ]
    }
   ],
   "source": [
    "a = input(\"세 정수를 입력하시오 : \").split()\n",
    "\n",
    "if (int(a[0]) > int(a[1])) and (int(a[0])> int(a[2])):\n",
    "    if int(a[1]) > int(a[2]):\n",
    "        print(a[0], a[1], a[2])\n",
    "    else:\n",
    "        print(a[0], a[2], a[1])\n",
    "elif (int(a[1]) > int(a[0])) and(int(a[1]) > int(a[2])):\n",
    "    if int(a[0]) > int(a[2]):\n",
    "        print(a[1], a[0], a[2])\n",
    "    else:\n",
    "        print(a[1], a[2], a[0])\n",
    "elif (int(a[2]) > int(a[0])) and (int(a[2]) > int(a[1])):\n",
    "    if int(a[0]) > int(a[1]):\n",
    "        print(a[2], a[0], a[1])\n",
    "    else:\n",
    "        print(a[2], a[1], a[0])"
   ]
  },
  {
   "cell_type": "code",
   "execution_count": 5,
   "metadata": {},
   "outputs": [
    {
     "name": "stdout",
     "output_type": "stream",
     "text": [
      "세 정수를 입력하시오 : 9 4 122\n",
      "122 9 4\n"
     ]
    }
   ],
   "source": [
    "a = input(\"세 정수를 입력하시오 : \").split()\n",
    "\n",
    "if int(a[0])>int(a[1])>int(a[2]):\n",
    "    print(a[0], a[1], a[2])\n",
    "elif int(a[0])>int(a[2])>int(a[1]):\n",
    "    print(a[0], a[2], a[1])\n",
    "elif int(a[1])>int(a[0])>int(a[2]):\n",
    "    print(a[1], a[0], a[2])\n",
    "elif int(a[1])>int(a[2])>int(a[0]):\n",
    "    print(a[1], a[2], a[0])\n",
    "elif int(a[2])>int(a[0])>int(a[1]):\n",
    "    print(a[2], a[0], a[1])\n",
    "elif int(a[2])>int(a[1])>int(a[0]):\n",
    "    print(a[2], a[1], a[0])"
   ]
  },
  {
   "cell_type": "code",
   "execution_count": 6,
   "metadata": {},
   "outputs": [
    {
     "name": "stdout",
     "output_type": "stream",
     "text": [
      "세 정수를 입력하시오 : 9 4 122\n",
      "[122, 9, 4]\n"
     ]
    }
   ],
   "source": [
    "a, b, c = input(\"세 정수를 입력하시오 : \").split()\n",
    "\n",
    "d = []\n",
    "d.append(int(a))\n",
    "d.append(int(b))\n",
    "d.append(int(c))\n",
    "d.sort(reverse=True)\n",
    "\n",
    "print(d)"
   ]
  },
  {
   "cell_type": "markdown",
   "metadata": {},
   "source": [
    "## 4.3"
   ]
  },
  {
   "cell_type": "code",
   "execution_count": 7,
   "metadata": {},
   "outputs": [
    {
     "name": "stdout",
     "output_type": "stream",
     "text": [
      "나이를 입력하시오 : 3\n",
      "Kid\n"
     ]
    }
   ],
   "source": [
    "a = int(input(\"나이를 입력하시오 : \"))\n",
    "if a >= 20:\n",
    "    print(\"Adult\")\n",
    "elif a >= 10:\n",
    "    print(\"Youth\")\n",
    "else:\n",
    "    print(\"Kid\")"
   ]
  },
  {
   "cell_type": "markdown",
   "metadata": {},
   "source": [
    "## 4.4"
   ]
  },
  {
   "cell_type": "code",
   "execution_count": 8,
   "metadata": {},
   "outputs": [
    {
     "name": "stdout",
     "output_type": "stream",
     "text": [
      "정수를 입력하시오 : 15\n",
      "15 는(은) 2(으)로 나누어지지 않습니다.\n",
      "15 는(은) 3(으)로 나누어집니다.\n",
      "15 는(은) 2와(과) 3 모두로 나누어지지 않습니다.\n"
     ]
    }
   ],
   "source": [
    "a = int(input(\"정수를 입력하시오 : \"))\n",
    "\n",
    "if a % 2 == 0:\n",
    "    print(a, \"는(은) 2(으)로 나누어집니다.\")\n",
    "else:\n",
    "    print(a, \"는(은) 2(으)로 나누어지지 않습니다.\")\n",
    "    \n",
    "if a % 3 == 0:\n",
    "    print(a, \"는(은) 3(으)로 나누어집니다.\")\n",
    "else:\n",
    "    print(a, \"는(은) 3(으)로 나누어지지 않습니다.\")\n",
    "\n",
    "if a % 2 == 0 and a % 3 == 0:\n",
    "    print(a, \"는(은) 2와(과) 3 모두로 나누어집니다.\")\n",
    "else:\n",
    "    print(a, \"는(은) 2와(과) 3 모두로 나누어지지 않습니다.\")"
   ]
  },
  {
   "cell_type": "markdown",
   "metadata": {},
   "source": [
    "## 4.5"
   ]
  },
  {
   "cell_type": "code",
   "execution_count": 9,
   "metadata": {},
   "outputs": [
    {
     "name": "stdout",
     "output_type": "stream",
     "text": [
      "2 5 6\n",
      "세 복권번호를 입력하시오 : 4 3 5\n",
      "상금 1만원\n"
     ]
    }
   ],
   "source": [
    "import random\n",
    "a = random.randint(0, 9)\n",
    "b = random.randint(0, 9)\n",
    "c = random.randint(0, 9)\n",
    "print(a, b, c)\n",
    "\n",
    "k = 0\n",
    "s = input(\"세 복권번호를 입력하시오 : \").split()\n",
    "for i in range(3):\n",
    "    if int(s[i]) == a:\n",
    "        k = k + 1\n",
    "    elif int(s[i]) == b:\n",
    "        k = k + 1\n",
    "    elif int(s[i]) == c:\n",
    "        k = k + 1\n",
    "#print(k)\n",
    "\n",
    "if k == 3:\n",
    "    print(\"상금 1억원\")\n",
    "elif k == 2:\n",
    "    print(\"상금 1천만원\")\n",
    "elif k == 1:\n",
    "    print(\"상금 1만원\")\n",
    "else:\n",
    "    print(\"다음 기회에...\")"
   ]
  },
  {
   "cell_type": "markdown",
   "metadata": {},
   "source": [
    "## 4.6"
   ]
  },
  {
   "cell_type": "code",
   "execution_count": 10,
   "metadata": {},
   "outputs": [
    {
     "name": "stdout",
     "output_type": "stream",
     "text": [
      "우리 식당에 오신것을 환영합니다. 메뉴는 다음과 같습니다.\n",
      " - 햄버거(입력 b)\n",
      " - 치킨(입력 c)\n",
      " - 피자(입력 p)\n",
      "메뉴를 선택하세요(알파벳 b, c, p 입력) : c\n",
      "치킨을 선택하였습니다.\n"
     ]
    }
   ],
   "source": [
    "print(\"우리 식당에 오신것을 환영합니다. 메뉴는 다음과 같습니다.\\n\", \n",
    "      \"- 햄버거(입력 b)\\n\",\n",
    "      \"- 치킨(입력 c)\\n\",\n",
    "      \"- 피자(입력 p)\")\n",
    "\n",
    "a = input(\"메뉴를 선택하세요(알파벳 b, c, p 입력) : \")\n",
    "if a == \"b\":\n",
    "    print(\"햄버거를 선택하였습니다.\")\n",
    "elif a == \"c\":\n",
    "    print(\"치킨을 선택하였습니다.\")\n",
    "elif a == \"p\":\n",
    "    print(\"피자를 선택하였습니다.\")\n",
    "else:\n",
    "    print(\"선택한 메뉴가 없습니다.\")"
   ]
  },
  {
   "cell_type": "markdown",
   "metadata": {},
   "source": [
    "## 4.7"
   ]
  },
  {
   "cell_type": "code",
   "execution_count": 11,
   "metadata": {},
   "outputs": [
    {
     "name": "stdout",
     "output_type": "stream",
     "text": [
      "16 + 87 = 103\n",
      "잘했어요!!\n"
     ]
    }
   ],
   "source": [
    "import random\n",
    "a = random.randint(1, 100)\n",
    "b = random.randint(1, 100)\n",
    "c = str(a) + ' + ' + str(b) + ' = '\n",
    "d = input(c)\n",
    "\n",
    "if int(d) == a+b:\n",
    "    print(\"잘했어요!!\")\n",
    "else:\n",
    "    print(\"정답은\", a+b, \"입니다.\")"
   ]
  },
  {
   "cell_type": "markdown",
   "metadata": {},
   "source": [
    "## 4.8"
   ]
  },
  {
   "cell_type": "code",
   "execution_count": 12,
   "metadata": {},
   "outputs": [
    {
     "name": "stdout",
     "output_type": "stream",
     "text": [
      "1)덧셈 2)뺄셈 3)곱셈 4)나눗셈\n",
      "어떤 연산을 원하는지 번호를 입력하세요 : 4\n",
      "연산을 원하는 숫자 두개를 입력하세요\n",
      "3 4\n",
      "3 / 4 = 0.75\n"
     ]
    }
   ],
   "source": [
    "a = int(input(\"1)덧셈 2)뺄셈 3)곱셈 4)나눗셈\\n어떤 연산을 원하는지 번호를 입력하세요 : \"))\n",
    "\n",
    "if a == 1 or a == 2 or a == 3 or a == 4:\n",
    "    b = input(\"연산을 원하는 숫자 두개를 입력하세요\\n\").split()\n",
    "    if a == 1:\n",
    "        print(b[0], \"+\", b[1], \"=\", int(b[0])+int(b[1]))\n",
    "    elif a == 2:\n",
    "        print(b[0], \"-\", b[1], \"=\", int(b[0])-int(b[1]))\n",
    "    elif a == 3:\n",
    "        print(b[0], \"*\", b[1], \"=\", int(b[0])*int(b[1]))\n",
    "    elif a == 4:\n",
    "        print(b[0], \"/\", b[1], \"=\", int(b[0])/int(b[1]))\n",
    "    else:\n",
    "        print(\"잘못 입력하였습니다.\")\n",
    "else:\n",
    "    print(\"잘못 입력하였습니다.\")"
   ]
  }
 ],
 "metadata": {
  "kernelspec": {
   "display_name": "Python 3",
   "language": "python",
   "name": "python3"
  },
  "language_info": {
   "codemirror_mode": {
    "name": "ipython",
    "version": 3
   },
   "file_extension": ".py",
   "mimetype": "text/x-python",
   "name": "python",
   "nbconvert_exporter": "python",
   "pygments_lexer": "ipython3",
   "version": "3.7.3"
  }
 },
 "nbformat": 4,
 "nbformat_minor": 2
}
