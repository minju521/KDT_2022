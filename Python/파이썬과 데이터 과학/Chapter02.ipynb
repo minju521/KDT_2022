{
 "cells": [
  {
   "cell_type": "markdown",
   "metadata": {},
   "source": [
    "# Chapter02 값을 담아 다루어 보자"
   ]
  },
  {
   "cell_type": "markdown",
   "metadata": {},
   "source": [
    "## 2.1 데이터를 저장하는 공간 : 변수"
   ]
  },
  {
   "cell_type": "markdown",
   "metadata": {},
   "source": [
    "파이썬에서는 변수에 데이터를 저장한다. 변수는 컴퓨터의 메모리 공간에 이름을 붙이는 것으로 우리는 여기에 정수, 실수, 문자열 등의 자료값을 저장할 수 있다. 저장된 것을 꺼내려면 변수의 이름을 적어주면 된다."
   ]
  },
  {
   "cell_type": "code",
   "execution_count": 1,
   "metadata": {},
   "outputs": [],
   "source": [
    "weight = 78.2"
   ]
  },
  {
   "cell_type": "markdown",
   "metadata": {},
   "source": [
    "'=' 기호는 '같다'는 등호의 의미가 아니라 '오른쪽의 값을 왼쪽의 변수에 저장한다'라는 의미이다. 이 연산자 = 를 할당연산자 혹은 대입연산자라고 한다.\n",
    "\n",
    "변수에 값을 저장하면 필요할 때마다 불러내어 사용할 수 있다."
   ]
  },
  {
   "cell_type": "code",
   "execution_count": 2,
   "metadata": {},
   "outputs": [
    {
     "data": {
      "text/plain": [
       "78.2"
      ]
     },
     "execution_count": 2,
     "metadata": {},
     "output_type": "execute_result"
    }
   ],
   "source": [
    "weight"
   ]
  },
  {
   "cell_type": "markdown",
   "metadata": {},
   "source": [
    "변수의 이름만 써주어도 변수의 값이 출력되지만 스크립트 파일에서는 반드시 print() 함수를 사용하여야 변수의 값을 출력할 수 있다."
   ]
  },
  {
   "cell_type": "code",
   "execution_count": 3,
   "metadata": {},
   "outputs": [
    {
     "name": "stdout",
     "output_type": "stream",
     "text": [
      "78.2\n"
     ]
    }
   ],
   "source": [
    "weight = 78.2\n",
    "print(weight)"
   ]
  },
  {
   "cell_type": "markdown",
   "metadata": {},
   "source": [
    "## 2.2 변수의 내용은 언제든 바꿀 수 있다"
   ]
  },
  {
   "cell_type": "markdown",
   "metadata": {},
   "source": [
    "변수에 들어 있는 값은 언제든지 다른 값으로 바꿀 수 있다."
   ]
  },
  {
   "cell_type": "code",
   "execution_count": 4,
   "metadata": {},
   "outputs": [
    {
     "data": {
      "text/plain": [
       "76.9"
      ]
     },
     "execution_count": 4,
     "metadata": {},
     "output_type": "execute_result"
    }
   ],
   "source": [
    "weight = 78.2 # weight 변수의 최초 값\n",
    "weight = 76.9 # 변수가 가지고 있는 값은 변경할 수 있다\n",
    "weight"
   ]
  },
  {
   "cell_type": "markdown",
   "metadata": {},
   "source": [
    "또한 변수는 필요에 따라서 얼마든지 많이 만들 수 있다."
   ]
  },
  {
   "cell_type": "code",
   "execution_count": 5,
   "metadata": {},
   "outputs": [
    {
     "data": {
      "text/plain": [
       "(100, 200)"
      ]
     },
     "execution_count": 5,
     "metadata": {},
     "output_type": "execute_result"
    }
   ],
   "source": [
    "x = 100\n",
    "y = 200\n",
    "x, y"
   ]
  },
  {
   "cell_type": "markdown",
   "metadata": {},
   "source": [
    "한 줄에 여러 개의 변수를 선언하고 이 변수에 값을 동시에 할당할 수도 있는데, 이를 동시 할당문이라 한다. 그런 다음 이 변수에 대해서 덧셈이나 뺄셈 연산을 할 수 있다."
   ]
  },
  {
   "cell_type": "code",
   "execution_count": 6,
   "metadata": {},
   "outputs": [
    {
     "data": {
      "text/plain": [
       "300"
      ]
     },
     "execution_count": 6,
     "metadata": {},
     "output_type": "execute_result"
    }
   ],
   "source": [
    "x, y = 100, 200\n",
    "result = x + y\n",
    "result"
   ]
  },
  {
   "cell_type": "markdown",
   "metadata": {},
   "source": [
    "## 2.3 변수의 이름은 어떻게 짓나"
   ]
  },
  {
   "cell_type": "markdown",
   "metadata": {},
   "source": [
    "변수의 이름은 식별자의 일종이다. 식별자는 변수와 변수들을 구별하는 역할을 한다.\n",
    "\n",
    "식별자는 규칙에 따라 만들어야 한다.\n",
    "- 문자와 숫자, 밑줄 문자(_)로 이루어지며 이외의 특수 문자를 사용할 수 없다.\n",
    "- 첫 글자는 숫자로 시작할 수 없다. 또한 중간에 공백을 가질 수 없다.\n",
    "- 대문자와 소문자는 구별된다.\n",
    "- 파이썬의 예약어는 식별자로 사용할 수 없다.\n",
    "\n",
    "변수의 이름을 마음대로 지을 수 있지만 파이썬이 내부적으로 사용하는 예약어는 변수의 이름으로 사용할 수 없다. 예약어를 사용하여 변수를 생성하면 오류가 발생한다.\n",
    "\n",
    "\n",
    "변수의 이름을 지을 때는 변수의 역할을 가장 잘 설명하는 이름으로 지어야 한다. 좋은 변수 이름은 전체 프로그램을 읽기 쉽게 만든다."
   ]
  },
  {
   "cell_type": "markdown",
   "metadata": {},
   "source": [
    "## 2.4 변수에는 문자열도 저장할 수 있다"
   ]
  },
  {
   "cell_type": "markdown",
   "metadata": {},
   "source": [
    "문자열도 변수에 저장할 수 있다. 문자열은 큰따옴표(\"\")나 작은따옴표('')를 이용하여 만들 수 있다."
   ]
  },
  {
   "cell_type": "code",
   "execution_count": 7,
   "metadata": {},
   "outputs": [
    {
     "data": {
      "text/plain": [
       "'Hello World!'"
      ]
     },
     "execution_count": 7,
     "metadata": {},
     "output_type": "execute_result"
    }
   ],
   "source": [
    "s1 = 'Hello World!'\n",
    "s1"
   ]
  },
  {
   "cell_type": "markdown",
   "metadata": {},
   "source": [
    "파이썬에서는 문자열 데이터를 '객체'라고 부른다.\n",
    "\n",
    "파이썬은 개발자들이 편리하게 호출하여 사용할 수 있는 미리 정의된 기능을 함수라는 형태로 제공하고 있다."
   ]
  },
  {
   "cell_type": "code",
   "execution_count": 8,
   "metadata": {
    "scrolled": true
   },
   "outputs": [
    {
     "data": {
      "text/plain": [
       "12"
      ]
     },
     "execution_count": 8,
     "metadata": {},
     "output_type": "execute_result"
    }
   ],
   "source": [
    "len(s1) # s1 문자열의 길이를 알려준다"
   ]
  },
  {
   "cell_type": "markdown",
   "metadata": {},
   "source": [
    "문자열에서도 덧셈 연산자를 사용할 수 있다. 2개의 문자열을 서로 합하려면 + 연산자를 사용한다."
   ]
  },
  {
   "cell_type": "code",
   "execution_count": 9,
   "metadata": {},
   "outputs": [
    {
     "data": {
      "text/plain": [
       "'HelloHello'"
      ]
     },
     "execution_count": 9,
     "metadata": {},
     "output_type": "execute_result"
    }
   ],
   "source": [
    "s1 = \"Hello\"\n",
    "s2 = \"World!\"\n",
    "s1 + s1 # s1 문자열과 s2 문자열을 결합한 결과를 반환"
   ]
  },
  {
   "cell_type": "code",
   "execution_count": 10,
   "metadata": {},
   "outputs": [
    {
     "data": {
      "text/plain": [
       "'100200'"
      ]
     },
     "execution_count": 10,
     "metadata": {},
     "output_type": "execute_result"
    }
   ],
   "source": [
    "n1 = '100'\n",
    "n2 = '200'\n",
    "n1 + n2 # 문자열에 대한 덧셈 연산자는 문자열 이어 붙이기만 수행"
   ]
  },
  {
   "cell_type": "markdown",
   "metadata": {},
   "source": [
    "## LAB 2-1 신체 질량 지수를 파이썬으로 계산하기"
   ]
  },
  {
   "cell_type": "code",
   "execution_count": 11,
   "metadata": {},
   "outputs": [
    {
     "data": {
      "text/plain": [
       "24.1358024691358"
      ]
     },
     "execution_count": 11,
     "metadata": {},
     "output_type": "execute_result"
    }
   ],
   "source": [
    "height = 1.8\n",
    "weight = 78.2\n",
    "bmi = weight / height**2\n",
    "bmi"
   ]
  },
  {
   "cell_type": "markdown",
   "metadata": {},
   "source": [
    "## 2.5 변수를 사용해서 좋은 점이 뭘까"
   ]
  },
  {
   "cell_type": "markdown",
   "metadata": {},
   "source": [
    "변수를 사용하지 않고 값을 바로 써서 프로그램을 작성하면 여러 가지 문제가 생길 수 있다. 값이 바뀌면 일일이 찾아서 고쳐야 하며, 고쳐야 할 곳을 잘 찾지 못 할 수도 있다."
   ]
  },
  {
   "cell_type": "code",
   "execution_count": 12,
   "metadata": {},
   "outputs": [
    {
     "data": {
      "text/plain": [
       "21.891884325746762"
      ]
     },
     "execution_count": 12,
     "metadata": {},
     "output_type": "execute_result"
    }
   ],
   "source": [
    "height = 1.89\n",
    "weight = 78.2\n",
    "bmi = weight / height**2\n",
    "bmi"
   ]
  },
  {
   "cell_type": "code",
   "execution_count": 13,
   "metadata": {
    "scrolled": true
   },
   "outputs": [
    {
     "data": {
      "text/plain": [
       "22.469135802469133"
      ]
     },
     "execution_count": 13,
     "metadata": {},
     "output_type": "execute_result"
    }
   ],
   "source": [
    "height = 1.80\n",
    "weight = 72.8\n",
    "bmi = weight / height**2\n",
    "bmi"
   ]
  },
  {
   "cell_type": "code",
   "execution_count": 14,
   "metadata": {},
   "outputs": [
    {
     "name": "stdout",
     "output_type": "stream",
     "text": [
      "6283.184\n"
     ]
    }
   ],
   "source": [
    "print(3.141592 * 10**2 * 20)"
   ]
  },
  {
   "cell_type": "markdown",
   "metadata": {},
   "source": [
    "변수를 사용할 경우에 얻는 좋은 점은 프로그램 코드의 가독성이 높아진다는 것이다. "
   ]
  },
  {
   "cell_type": "code",
   "execution_count": 15,
   "metadata": {},
   "outputs": [
    {
     "name": "stdout",
     "output_type": "stream",
     "text": [
      "6283.184\n"
     ]
    }
   ],
   "source": [
    "pi = 3.141592\n",
    "radius = 10\n",
    "height = 20\n",
    "volume_of_cylinder = pi * radius**2 * height\n",
    "print(volume_of_cylinder)"
   ]
  },
  {
   "cell_type": "markdown",
   "metadata": {},
   "source": [
    "### 도전문제 2.1"
   ]
  },
  {
   "cell_type": "code",
   "execution_count": 16,
   "metadata": {},
   "outputs": [
    {
     "data": {
      "text/plain": [
       "26.636019469983776"
      ]
     },
     "execution_count": 16,
     "metadata": {},
     "output_type": "execute_result"
    }
   ],
   "source": [
    "height = 1.72\n",
    "weight = 78.8\n",
    "bmi = weight / height**2\n",
    "bmi"
   ]
  },
  {
   "cell_type": "markdown",
   "metadata": {},
   "source": [
    "## LAB 2-2 피자의 면적을 계산해보자"
   ]
  },
  {
   "cell_type": "code",
   "execution_count": 17,
   "metadata": {},
   "outputs": [
    {
     "name": "stdout",
     "output_type": "stream",
     "text": [
      "피자 면적은 314.0\n"
     ]
    }
   ],
   "source": [
    "radius = 10\n",
    "area = 3.14 * radius**2\n",
    "print('피자 면적은', area)"
   ]
  },
  {
   "cell_type": "code",
   "execution_count": 18,
   "metadata": {},
   "outputs": [
    {
     "name": "stdout",
     "output_type": "stream",
     "text": [
      "피자 면적은 1256.0\n"
     ]
    }
   ],
   "source": [
    "radius = 20\n",
    "area = 3.14 * radius**2\n",
    "print('피자 면적은', area)"
   ]
  },
  {
   "cell_type": "markdown",
   "metadata": {},
   "source": [
    "### 도전문제 2.2"
   ]
  },
  {
   "cell_type": "code",
   "execution_count": 19,
   "metadata": {},
   "outputs": [
    {
     "name": "stdout",
     "output_type": "stream",
     "text": [
      "피자 면적은 1256.0\n",
      "파자 둘레는 125.60000000000001\n"
     ]
    }
   ],
   "source": [
    "radius = 20\n",
    "area = 3.14 * radius**2\n",
    "print('피자 면적은', area)\n",
    "print('파자 둘레는', 2*3.14*radius)"
   ]
  },
  {
   "cell_type": "code",
   "execution_count": 20,
   "metadata": {},
   "outputs": [
    {
     "name": "stdout",
     "output_type": "stream",
     "text": [
      "피자 면적은 2826.0\n",
      "파자 둘레는 188.4\n"
     ]
    }
   ],
   "source": [
    "radius = 30\n",
    "area = 3.14 * radius**2\n",
    "print('피자 면적은', area)\n",
    "print('파자 둘레는', 2*3.14*radius)"
   ]
  },
  {
   "cell_type": "markdown",
   "metadata": {},
   "source": [
    "## LAB 2-3 터틀 그래픽으로 피자그리기"
   ]
  },
  {
   "cell_type": "code",
   "execution_count": 21,
   "metadata": {},
   "outputs": [],
   "source": [
    "import turtle\n",
    "t = turtle.Turtle()\n",
    "t.shape('turtle')\n",
    "\n",
    "radius = 100\n",
    "t.circle(radius)\n",
    "\n",
    "radius = 200\n",
    "t.circle(radius)"
   ]
  },
  {
   "cell_type": "markdown",
   "metadata": {},
   "source": [
    "### 도전문제 2.3"
   ]
  },
  {
   "cell_type": "code",
   "execution_count": 22,
   "metadata": {},
   "outputs": [],
   "source": [
    "import turtle\n",
    "t = turtle.Turtle()\n",
    "t.shape('turtle')\n",
    "\n",
    "radius = 50\n",
    "t.circle(radius)\n",
    "radius = 100\n",
    "t.circle(radius)\n",
    "radius = 200\n",
    "t.circle(radius)\n",
    "\n",
    "t.left(90)\n",
    "radius = 50\n",
    "t.circle(radius)\n",
    "radius = 100\n",
    "t.circle(radius)\n",
    "radius = 200\n",
    "t.circle(radius)"
   ]
  },
  {
   "cell_type": "markdown",
   "metadata": {},
   "source": [
    "## LAB 2-4 복리 이자 계산하기"
   ]
  },
  {
   "cell_type": "code",
   "execution_count": 23,
   "metadata": {},
   "outputs": [
    {
     "name": "stdout",
     "output_type": "stream",
     "text": [
      "원금:  10000000\n",
      "이율:  0.03\n",
      "기간:  5\n",
      "수령금액:  11592740.743\n"
     ]
    }
   ],
   "source": [
    "principal = 10000000\n",
    "years = 5\n",
    "interest_rate = 0.03\n",
    "money = principal * (1.0 + interest_rate)**years\n",
    "\n",
    "print('원금: ', principal)\n",
    "print('이율: ', interest_rate)\n",
    "print('기간: ', years)\n",
    "print('수령금액: ', money)"
   ]
  },
  {
   "cell_type": "markdown",
   "metadata": {},
   "source": [
    "### 도전문제 2.4"
   ]
  },
  {
   "cell_type": "code",
   "execution_count": 24,
   "metadata": {},
   "outputs": [
    {
     "name": "stdout",
     "output_type": "stream",
     "text": [
      "원금:  100000000\n",
      "이율:  0.03\n",
      "기간:  5\n",
      "수령금액:  115927407.43\n"
     ]
    }
   ],
   "source": [
    "principal = 100000000\n",
    "years = 5\n",
    "interest_rate = 0.03\n",
    "money = principal * (1.0 + interest_rate)**years\n",
    "\n",
    "print('원금: ', principal)\n",
    "print('이율: ', interest_rate)\n",
    "print('기간: ', years)\n",
    "print('수령금액: ', money)"
   ]
  },
  {
   "cell_type": "markdown",
   "metadata": {},
   "source": [
    "## 2.6 자료형을 알아야 연산을 할 수 있다"
   ]
  },
  {
   "cell_type": "markdown",
   "metadata": {},
   "source": [
    "프로그램에서 사용할 수 있는 데이터의 종류를 자료형이라고 한다. 기본 자료형은 4가지 종류가 있다.\n",
    "\n",
    "- 정수(int) : 1, 2, 3, ...\n",
    "- 실수(float) : 3.14, 4.25, ...\n",
    "- 문자열(str) : 'Hello World', ...\n",
    "- 부울형(bool) : True, False\n",
    "\n",
    "파이썬에서는 변수에 어떤 종류의 데이터도 저장할 수 있다."
   ]
  },
  {
   "cell_type": "code",
   "execution_count": 25,
   "metadata": {},
   "outputs": [
    {
     "data": {
      "text/plain": [
       "10"
      ]
     },
     "execution_count": 25,
     "metadata": {},
     "output_type": "execute_result"
    }
   ],
   "source": [
    "x = 10 # 정수 10을 변수 x가 저장하게 됨\n",
    "x"
   ]
  },
  {
   "cell_type": "code",
   "execution_count": 26,
   "metadata": {},
   "outputs": [
    {
     "data": {
      "text/plain": [
       "3.14"
      ]
     },
     "execution_count": 26,
     "metadata": {},
     "output_type": "execute_result"
    }
   ],
   "source": [
    "x = 3.14 # 변수 x가 저장하는 값이 3.14로 바뀐다\n",
    "x"
   ]
  },
  {
   "cell_type": "markdown",
   "metadata": {},
   "source": [
    "## 2.7 변수의 자료형을 알려면 : type() 함수"
   ]
  },
  {
   "cell_type": "markdown",
   "metadata": {},
   "source": [
    "파이썬에서 변수의 자료형을 알려면 변수의 이름에 type() 함수를 적용하면 된다."
   ]
  },
  {
   "cell_type": "code",
   "execution_count": 27,
   "metadata": {},
   "outputs": [
    {
     "data": {
      "text/plain": [
       "float"
      ]
     },
     "execution_count": 27,
     "metadata": {},
     "output_type": "execute_result"
    }
   ],
   "source": [
    "weight = 78.2\n",
    "type(weight)"
   ]
  },
  {
   "cell_type": "code",
   "execution_count": 28,
   "metadata": {},
   "outputs": [
    {
     "data": {
      "text/plain": [
       "int"
      ]
     },
     "execution_count": 28,
     "metadata": {},
     "output_type": "execute_result"
    }
   ],
   "source": [
    "salary = 250\n",
    "type(salary)"
   ]
  },
  {
   "cell_type": "code",
   "execution_count": 31,
   "metadata": {},
   "outputs": [
    {
     "data": {
      "text/plain": [
       "str"
      ]
     },
     "execution_count": 31,
     "metadata": {},
     "output_type": "execute_result"
    }
   ],
   "source": [
    "name = '홍길동'\n",
    "address = '부산시 광안해변로 1'\n",
    "type(name)"
   ]
  },
  {
   "cell_type": "code",
   "execution_count": 32,
   "metadata": {},
   "outputs": [
    {
     "data": {
      "text/plain": [
       "str"
      ]
     },
     "execution_count": 32,
     "metadata": {},
     "output_type": "execute_result"
    }
   ],
   "source": [
    "type(address)"
   ]
  },
  {
   "cell_type": "markdown",
   "metadata": {},
   "source": [
    "컴퓨터 프로그래민에서 매우 중요한 부울형이 있다. 부울형은 참이나 거짓을 나타낸다."
   ]
  },
  {
   "cell_type": "code",
   "execution_count": 33,
   "metadata": {},
   "outputs": [
    {
     "data": {
      "text/plain": [
       "bool"
      ]
     },
     "execution_count": 33,
     "metadata": {},
     "output_type": "execute_result"
    }
   ],
   "source": [
    "b = True\n",
    "type(b)"
   ]
  },
  {
   "cell_type": "markdown",
   "metadata": {},
   "source": [
    "부울형은 조건문이나 반복문에서 어떤 조건을 검사할 때 유용하다. 조건에 따라 프로그램의 흐름을 제어하고, 비슷한 일을 반복한다."
   ]
  },
  {
   "cell_type": "markdown",
   "metadata": {},
   "source": [
    "## 2.8 왜 자료형에 신경써야 할까 : 자료형과 연산"
   ]
  },
  {
   "cell_type": "markdown",
   "metadata": {},
   "source": [
    "파이썬에서 자료형에 따라서 각종 연산의 의미가 달라지기 때문에 신경써야 한다. 즉 변수에 정수가 저장되어 있는 경우와 변수에 문자열이 저장된 경우에 덧셈의 연산의 의미가 달라진다."
   ]
  },
  {
   "cell_type": "code",
   "execution_count": 1,
   "metadata": {},
   "outputs": [
    {
     "data": {
      "text/plain": [
       "20"
      ]
     },
     "execution_count": 1,
     "metadata": {},
     "output_type": "execute_result"
    }
   ],
   "source": [
    "x = 10\n",
    "y = 10\n",
    "x + y"
   ]
  },
  {
   "cell_type": "code",
   "execution_count": 2,
   "metadata": {},
   "outputs": [
    {
     "data": {
      "text/plain": [
       "'goodmorning'"
      ]
     },
     "execution_count": 2,
     "metadata": {},
     "output_type": "execute_result"
    }
   ],
   "source": [
    "x = 'good'\n",
    "y = 'morning'\n",
    "x + y"
   ]
  },
  {
   "cell_type": "markdown",
   "metadata": {},
   "source": [
    "파이썬에서 따옴표가 있으면 문자열이고 따옴표가 없으면 숫자이다."
   ]
  },
  {
   "cell_type": "code",
   "execution_count": 3,
   "metadata": {},
   "outputs": [
    {
     "data": {
      "text/plain": [
       "'2356'"
      ]
     },
     "execution_count": 3,
     "metadata": {},
     "output_type": "execute_result"
    }
   ],
   "source": [
    "'23' + '56'"
   ]
  },
  {
   "cell_type": "code",
   "execution_count": 4,
   "metadata": {},
   "outputs": [
    {
     "data": {
      "text/plain": [
       "79"
      ]
     },
     "execution_count": 4,
     "metadata": {},
     "output_type": "execute_result"
    }
   ],
   "source": [
    "23 + 56"
   ]
  },
  {
   "cell_type": "markdown",
   "metadata": {},
   "source": [
    "### 도전문제 2.5"
   ]
  },
  {
   "cell_type": "code",
   "execution_count": 5,
   "metadata": {},
   "outputs": [
    {
     "data": {
      "text/plain": [
       "13"
      ]
     },
     "execution_count": 5,
     "metadata": {},
     "output_type": "execute_result"
    }
   ],
   "source": [
    "# 1\n",
    "x = 7\n",
    "y = 6\n",
    "x + y"
   ]
  },
  {
   "cell_type": "code",
   "execution_count": 6,
   "metadata": {},
   "outputs": [
    {
     "data": {
      "text/plain": [
       "'767'"
      ]
     },
     "execution_count": 6,
     "metadata": {},
     "output_type": "execute_result"
    }
   ],
   "source": [
    "# 2\n",
    "x = '7'\n",
    "y = '6'\n",
    "x + y + x"
   ]
  },
  {
   "cell_type": "code",
   "execution_count": 7,
   "metadata": {},
   "outputs": [
    {
     "data": {
      "text/plain": [
       "'76'"
      ]
     },
     "execution_count": 7,
     "metadata": {},
     "output_type": "execute_result"
    }
   ],
   "source": [
    "# 3\n",
    "x = '7'\n",
    "y = '6'\n",
    "x + y"
   ]
  },
  {
   "cell_type": "code",
   "execution_count": 8,
   "metadata": {},
   "outputs": [
    {
     "data": {
      "text/plain": [
       "26"
      ]
     },
     "execution_count": 8,
     "metadata": {},
     "output_type": "execute_result"
    }
   ],
   "source": [
    "# 4\n",
    "x = 7\n",
    "y = 6\n",
    "x + y + x + y"
   ]
  },
  {
   "cell_type": "markdown",
   "metadata": {},
   "source": [
    "## 2.9 컴퓨터 수치 표현의 한계, 그리고 컴퓨터의 한계"
   ]
  },
  {
   "cell_type": "markdown",
   "metadata": {},
   "source": [
    "컴퓨터의 저장공간은 유한하므로 컴퓨터는 무한을 표현할 수 없다. 무한히 반복되는 무한 소스를 실제 답에 가깝긴 하지만 오차를 가지는 근사치로 표현한다. 따라서 컴퓨터에서 수치오류는 불가피한 것이다."
   ]
  },
  {
   "cell_type": "code",
   "execution_count": 9,
   "metadata": {},
   "outputs": [
    {
     "data": {
      "text/plain": [
       "True"
      ]
     },
     "execution_count": 9,
     "metadata": {},
     "output_type": "execute_result"
    }
   ],
   "source": [
    "0.1 + 0.1 == 0.2"
   ]
  },
  {
   "cell_type": "code",
   "execution_count": 10,
   "metadata": {},
   "outputs": [
    {
     "data": {
      "text/plain": [
       "False"
      ]
     },
     "execution_count": 10,
     "metadata": {},
     "output_type": "execute_result"
    }
   ],
   "source": [
    "0.1 + 0.1 + 0.1 == 0.3 # 수치오류로 인해 True가 나오지 않음"
   ]
  },
  {
   "cell_type": "code",
   "execution_count": 11,
   "metadata": {},
   "outputs": [
    {
     "data": {
      "text/plain": [
       "0.30000000000000004"
      ]
     },
     "execution_count": 11,
     "metadata": {},
     "output_type": "execute_result"
    }
   ],
   "source": [
    "0.1 + 0.1 + 0.1 # 0.3이 아닌 미세한 수치오류를 가진 근사값"
   ]
  },
  {
   "cell_type": "markdown",
   "metadata": {},
   "source": [
    "시스템의 메모리가 허용하는 한도 내에서 매우 큰 수를 표현할 수 있다는 점이 파이썬의 큰 장점이다."
   ]
  },
  {
   "cell_type": "code",
   "execution_count": 12,
   "metadata": {},
   "outputs": [
    {
     "data": {
      "text/plain": [
       "10000000000000000000000000000000000000000000000000000000000000000000000000000000000000000000000000000"
      ]
     },
     "execution_count": 12,
     "metadata": {},
     "output_type": "execute_result"
    }
   ],
   "source": [
    "10 ** 100"
   ]
  },
  {
   "cell_type": "markdown",
   "metadata": {},
   "source": [
    "## 2.10 문자들의 연속된 모음을 문자열이라고 한다"
   ]
  },
  {
   "cell_type": "markdown",
   "metadata": {},
   "source": [
    "컴퓨터에게는 숫자가 중요하지만 인간은 주로 텍스트를 사용하여 정보를 표현하고 저장하므로 프로그래밍에서 텍스트의 처리도 무척 중요하다.\n",
    "\n",
    "파이썬은 텍스트를 다루기 위한 자료형으로 문자열을 사용한다. 문자열은 문자들의 나열이다. 문자열은 우리가 흔히 텍스트라고 부르는 것이다.\n",
    "\n",
    "주의해야할 점은 따옴표 내의 공백 문자 역시 문자열의 일부로 간주된다는 점이다. 그리고 화면에 표시되지 않은 탭 문자, 줄바꿈 문자 등도 문자열의 일부이다."
   ]
  },
  {
   "cell_type": "markdown",
   "metadata": {},
   "source": [
    "## 2.11 문자열을 만드는 방법"
   ]
  },
  {
   "cell_type": "markdown",
   "metadata": {},
   "source": [
    "파이썬에서는 텍스트를 큰따옴표(\"\")나 작은따옴표('')로 감싸면 문자열이 된다. 그리고 큰따옴표로 감싼 문자는 특별한 이유가 없을 경우 작은따옴표로 표기된다."
   ]
  },
  {
   "cell_type": "code",
   "execution_count": 13,
   "metadata": {},
   "outputs": [
    {
     "data": {
      "text/plain": [
       "'Hello Python'"
      ]
     },
     "execution_count": 13,
     "metadata": {},
     "output_type": "execute_result"
    }
   ],
   "source": [
    "\"Hello Python\""
   ]
  },
  {
   "cell_type": "markdown",
   "metadata": {},
   "source": [
    "문자열은 변수에 저장될 수 있다. 그리고 변수에 저장된 문자열을 print() 함수를 이용하여 출력할 수 있다. 아니면 그냥 변수 이름만 입력하고 엔터키를 눌러도 된다."
   ]
  },
  {
   "cell_type": "code",
   "execution_count": 14,
   "metadata": {},
   "outputs": [
    {
     "data": {
      "text/plain": [
       "'Hello'"
      ]
     },
     "execution_count": 14,
     "metadata": {},
     "output_type": "execute_result"
    }
   ],
   "source": [
    "msg = \"Hello\" # 변수를 이용해서 문자열을 저장\n",
    "msg # 문자열을 출력하면 기본적으로 작은 따옴표에 문자가 나타남"
   ]
  },
  {
   "cell_type": "code",
   "execution_count": 15,
   "metadata": {},
   "outputs": [
    {
     "name": "stdout",
     "output_type": "stream",
     "text": [
      "Hello\n"
     ]
    }
   ],
   "source": [
    "print(msg) # pirnt()로 문자열을 출력하면 따옴표는 나타나지 않음"
   ]
  },
  {
   "cell_type": "markdown",
   "metadata": {},
   "source": [
    "문자열을 만들때는 작은따옴표를 사용해도 된다."
   ]
  },
  {
   "cell_type": "code",
   "execution_count": 4,
   "metadata": {},
   "outputs": [],
   "source": [
    "msg = 'Hello'"
   ]
  },
  {
   "cell_type": "markdown",
   "metadata": {},
   "source": [
    "하지만 큰따옴표로 시작했다가 작은따옴표로 끝내면 문법적인 오류이다."
   ]
  },
  {
   "cell_type": "code",
   "execution_count": 3,
   "metadata": {},
   "outputs": [
    {
     "ename": "SyntaxError",
     "evalue": "EOL while scanning string literal (<ipython-input-3-0b4ced172a88>, line 1)",
     "output_type": "error",
     "traceback": [
      "\u001b[1;36m  File \u001b[1;32m\"<ipython-input-3-0b4ced172a88>\"\u001b[1;36m, line \u001b[1;32m1\u001b[0m\n\u001b[1;33m    msg = \"Hello'\u001b[0m\n\u001b[1;37m                 ^\u001b[0m\n\u001b[1;31mSyntaxError\u001b[0m\u001b[1;31m:\u001b[0m EOL while scanning string literal\n"
     ]
    }
   ],
   "source": [
    "msg = \"Hello'"
   ]
  },
  {
   "cell_type": "markdown",
   "metadata": {},
   "source": [
    "또 따옴표로 시작했는데 단어의 끝에 따옴표가 없어도 문법적인 오류가 된다."
   ]
  },
  {
   "cell_type": "code",
   "execution_count": 17,
   "metadata": {},
   "outputs": [
    {
     "ename": "SyntaxError",
     "evalue": "EOL while scanning string literal (<ipython-input-17-f35b3e510a22>, line 1)",
     "output_type": "error",
     "traceback": [
      "\u001b[1;36m  File \u001b[1;32m\"<ipython-input-17-f35b3e510a22>\"\u001b[1;36m, line \u001b[1;32m1\u001b[0m\n\u001b[1;33m    msg = \"Hello\u001b[0m\n\u001b[1;37m                ^\u001b[0m\n\u001b[1;31mSyntaxError\u001b[0m\u001b[1;31m:\u001b[0m EOL while scanning string literal\n"
     ]
    }
   ],
   "source": [
    "msg = \"Hello"
   ]
  },
  {
   "cell_type": "markdown",
   "metadata": {},
   "source": [
    "## 2.12 왜 큰따옴표와 작은따옴표를 동시에 사용할까"
   ]
  },
  {
   "cell_type": "markdown",
   "metadata": {},
   "source": [
    "텍스트 데이터를 처리하기 위해 따옴표를 사용하는데 따옴표가 없으면 문법 오류가 발생한다. 파이썬은 따옴표가 없이 주어진 단어는 변수로 취급하는데 변수를 생성한 적이 없으니 오류를 발생시키는 것이다."
   ]
  },
  {
   "cell_type": "code",
   "execution_count": 18,
   "metadata": {},
   "outputs": [
    {
     "ename": "NameError",
     "evalue": "name 'Hello' is not defined",
     "output_type": "error",
     "traceback": [
      "\u001b[1;31m---------------------------------------------------------------------------\u001b[0m",
      "\u001b[1;31mNameError\u001b[0m                                 Traceback (most recent call last)",
      "\u001b[1;32m<ipython-input-18-0b5eb4e550c7>\u001b[0m in \u001b[0;36m<module>\u001b[1;34m\u001b[0m\n\u001b[1;32m----> 1\u001b[1;33m \u001b[0mmsg\u001b[0m \u001b[1;33m=\u001b[0m \u001b[0mHello\u001b[0m\u001b[1;33m\u001b[0m\u001b[1;33m\u001b[0m\u001b[0m\n\u001b[0m",
      "\u001b[1;31mNameError\u001b[0m: name 'Hello' is not defined"
     ]
    }
   ],
   "source": [
    "msg = Hello"
   ]
  },
  {
   "cell_type": "markdown",
   "metadata": {},
   "source": [
    "큰따옴표와 작은따옴표를 동시에 사용하는 이유는 문자열 안에 따옴표가 들어가는 경우를 처리하기 위해서이다."
   ]
  },
  {
   "cell_type": "code",
   "execution_count": 19,
   "metadata": {},
   "outputs": [
    {
     "ename": "SyntaxError",
     "evalue": "invalid syntax (<ipython-input-19-0e9bdc16fed4>, line 1)",
     "output_type": "error",
     "traceback": [
      "\u001b[1;36m  File \u001b[1;32m\"<ipython-input-19-0e9bdc16fed4>\"\u001b[1;36m, line \u001b[1;32m1\u001b[0m\n\u001b[1;33m    message = \"철수가 \"안녕\"이라고 말했습니다.\"\u001b[0m\n\u001b[1;37m                     ^\u001b[0m\n\u001b[1;31mSyntaxError\u001b[0m\u001b[1;31m:\u001b[0m invalid syntax\n"
     ]
    }
   ],
   "source": [
    "message = \"철수가 \"안녕\"이라고 말했습니다.\""
   ]
  },
  {
   "cell_type": "markdown",
   "metadata": {},
   "source": [
    "파이썬은 따옴표가 시작된 뒤에 따옴표를 다시 만나면 문자열이 끝난 것으로 파악한다."
   ]
  },
  {
   "cell_type": "code",
   "execution_count": 20,
   "metadata": {},
   "outputs": [
    {
     "data": {
      "text/plain": [
       "'철수가 \"안녕\"이라고 말했습니다.'"
      ]
     },
     "execution_count": 20,
     "metadata": {},
     "output_type": "execute_result"
    }
   ],
   "source": [
    "message = '철수가 \"안녕\"이라고 말했습니다.'\n",
    "message"
   ]
  },
  {
   "cell_type": "code",
   "execution_count": 21,
   "metadata": {},
   "outputs": [
    {
     "name": "stdout",
     "output_type": "stream",
     "text": [
      "철수가 \"안녕\"이라고 말했습니다.\n"
     ]
    }
   ],
   "source": [
    "print(message)"
   ]
  },
  {
   "cell_type": "markdown",
   "metadata": {},
   "source": [
    "문자열을 시작한 따옴표와 같은 모양의 따옴표를 출력해야 한다면 역슬래시를 이용할 수 있다."
   ]
  },
  {
   "cell_type": "code",
   "execution_count": 23,
   "metadata": {},
   "outputs": [
    {
     "name": "stdout",
     "output_type": "stream",
     "text": [
      "철수가 '안녕'이라고 말했습니다.\n",
      "안녕\n",
      "우리 다시 만나~~\n",
      "안녕\t우리 다시 만나~~\n"
     ]
    }
   ],
   "source": [
    "print('철수가 \\'안녕\\'이라고 말했습니다.')\n",
    "print('안녕\\n우리 다시 만나~~')\n",
    "print('안녕\\t우리 다시 만나~~')"
   ]
  },
  {
   "cell_type": "markdown",
   "metadata": {},
   "source": [
    "## 2.13 왜 오류가 발생할까 : 자료형의 변환"
   ]
  },
  {
   "cell_type": "markdown",
   "metadata": {},
   "source": [
    "정수와 문자열을 합하라고 명령하면 오류가 발생한다."
   ]
  },
  {
   "cell_type": "code",
   "execution_count": 24,
   "metadata": {},
   "outputs": [
    {
     "ename": "TypeError",
     "evalue": "unsupported operand type(s) for +: 'int' and 'str'",
     "output_type": "error",
     "traceback": [
      "\u001b[1;31m---------------------------------------------------------------------------\u001b[0m",
      "\u001b[1;31mTypeError\u001b[0m                                 Traceback (most recent call last)",
      "\u001b[1;32m<ipython-input-24-b4bbd7b1b52a>\u001b[0m in \u001b[0;36m<module>\u001b[1;34m\u001b[0m\n\u001b[0;32m      1\u001b[0m \u001b[1;31m## 2.13 왜 오류가 발생할까 : 자료형의 변환\u001b[0m\u001b[1;33m\u001b[0m\u001b[1;33m\u001b[0m\u001b[1;33m\u001b[0m\u001b[0m\n\u001b[1;32m----> 2\u001b[1;33m \u001b[1;36m100\u001b[0m \u001b[1;33m+\u001b[0m \u001b[1;34m'원'\u001b[0m\u001b[1;33m\u001b[0m\u001b[1;33m\u001b[0m\u001b[0m\n\u001b[0m",
      "\u001b[1;31mTypeError\u001b[0m: unsupported operand type(s) for +: 'int' and 'str'"
     ]
    }
   ],
   "source": [
    "100 + '원'"
   ]
  },
  {
   "cell_type": "markdown",
   "metadata": {},
   "source": [
    "이때는 자료형을 통일시켜야 한다."
   ]
  },
  {
   "cell_type": "code",
   "execution_count": 25,
   "metadata": {},
   "outputs": [
    {
     "data": {
      "text/plain": [
       "'100원'"
      ]
     },
     "execution_count": 25,
     "metadata": {},
     "output_type": "execute_result"
    }
   ],
   "source": [
    "str(100) + '원' # str() 함수는 100을 문자열 '100'으로 변환시킴"
   ]
  },
  {
   "cell_type": "markdown",
   "metadata": {},
   "source": [
    "정수를 문자열로 변환하려면 str()을 사용한다. 반대로 문자열을 정수로 변환하려면 int()를 사용한다."
   ]
  },
  {
   "cell_type": "code",
   "execution_count": 26,
   "metadata": {},
   "outputs": [
    {
     "data": {
      "text/plain": [
       "'100'"
      ]
     },
     "execution_count": 26,
     "metadata": {},
     "output_type": "execute_result"
    }
   ],
   "source": [
    "str(100)"
   ]
  },
  {
   "cell_type": "code",
   "execution_count": 27,
   "metadata": {
    "scrolled": true
   },
   "outputs": [
    {
     "data": {
      "text/plain": [
       "100"
      ]
     },
     "execution_count": 27,
     "metadata": {},
     "output_type": "execute_result"
    }
   ],
   "source": [
    "int(\"100\")"
   ]
  },
  {
   "cell_type": "markdown",
   "metadata": {},
   "source": [
    "실수 데이터를 문자열로 변환할 때에도 str()을 사용한다. 반대로 문자열을 실수로 변환하려면 float()를 사용한다."
   ]
  },
  {
   "cell_type": "code",
   "execution_count": 28,
   "metadata": {},
   "outputs": [
    {
     "data": {
      "text/plain": [
       "'3.14'"
      ]
     },
     "execution_count": 28,
     "metadata": {},
     "output_type": "execute_result"
    }
   ],
   "source": [
    "str(3.14)"
   ]
  },
  {
   "cell_type": "code",
   "execution_count": 29,
   "metadata": {},
   "outputs": [
    {
     "data": {
      "text/plain": [
       "3.14"
      ]
     },
     "execution_count": 29,
     "metadata": {},
     "output_type": "execute_result"
    }
   ],
   "source": [
    "float(\"3.14\")"
   ]
  },
  {
   "cell_type": "markdown",
   "metadata": {},
   "source": [
    "## 2.14 사용자로부터 문자열 입력받기 : input() 함수"
   ]
  },
  {
   "cell_type": "markdown",
   "metadata": {},
   "source": [
    "파이썬에서 사용자로부터 무엇인가를 입력받으려면 input() 함수를 사용한다. input() 함수는 사용자의 입력을 무조건 문자열 형태로 반환한다.\n",
    "\n",
    "input_string = input(output_string)\n",
    "\n",
    "위와 같은 코드가 사용되면 화면에 output_string에 담긴 문자열이 출력된다. 그리고 사용자의 입력을 기다리는 상태가 된다."
   ]
  },
  {
   "cell_type": "code",
   "execution_count": 31,
   "metadata": {},
   "outputs": [
    {
     "name": "stdout",
     "output_type": "stream",
     "text": [
      "이름을 입력하시오: 홍길동\n"
     ]
    }
   ],
   "source": [
    "name = input(\"이름을 입력하시오: \")"
   ]
  },
  {
   "cell_type": "markdown",
   "metadata": {},
   "source": [
    "파이썬의 변수는 컴퓨터에서 사용할 수 있는 자료값을 저장할 수 있다."
   ]
  },
  {
   "cell_type": "code",
   "execution_count": 32,
   "metadata": {},
   "outputs": [
    {
     "name": "stdout",
     "output_type": "stream",
     "text": [
      "이름을 입력하시오: 홍길동\n",
      "홍길동 씨, 안녕하세요?\n",
      "파이썬 프로그래밍의 세계에 오신 것을 환영합니다.\n"
     ]
    }
   ],
   "source": [
    "name = input(\"이름을 입력하시오: \")\n",
    "print(name, \"씨, 안녕하세요?\")\n",
    "print(\"파이썬 프로그래밍의 세계에 오신 것을 환영합니다.\")"
   ]
  },
  {
   "cell_type": "markdown",
   "metadata": {},
   "source": [
    "## 2.15 사용자로부터 정수 입력받기"
   ]
  },
  {
   "cell_type": "markdown",
   "metadata": {},
   "source": [
    "우리는 input() 함수를 이용하여 정수를 받을 수 있다. 하지만 input() 함수는 사용자의 입력을 무조건 문자열 형태로 반환한다. 이것을 정휴로 변환하려면 input() 함수의 반환값을 int()로 감싸야 한다. int() 함수는 문자열을 정수로 변환한다."
   ]
  },
  {
   "cell_type": "code",
   "execution_count": 33,
   "metadata": {},
   "outputs": [
    {
     "name": "stdout",
     "output_type": "stream",
     "text": [
      "첫 번째 정수를 입력하시오: 300\n",
      "두 번째 정수를 입력하시오: 400\n",
      "300 과 400 의 합은 700 입니다.\n"
     ]
    }
   ],
   "source": [
    "x = int(input(\"첫 번째 정수를 입력하시오: \"))\n",
    "y = int(input(\"두 번째 정수를 입력하시오: \"))\n",
    "s = x + y\n",
    "print(x, \"과\", y, \"의 합은\", s, \"입니다.\")"
   ]
  },
  {
   "cell_type": "markdown",
   "metadata": {},
   "source": [
    "### 도전문제 2.6"
   ]
  },
  {
   "cell_type": "code",
   "execution_count": 36,
   "metadata": {},
   "outputs": [
    {
     "name": "stdout",
     "output_type": "stream",
     "text": [
      "체중을 입력하세요: 70\n",
      "신장을 입력하세요: 1.8\n",
      "21.604938271604937\n"
     ]
    }
   ],
   "source": [
    "# 1\n",
    "weight = int(input(\"체중을 입력하세요: \"))\n",
    "height = float(input(\"신장을 입력하세요: \"))\n",
    "bmi = weight / height**2\n",
    "print(bmi)"
   ]
  },
  {
   "cell_type": "code",
   "execution_count": 39,
   "metadata": {},
   "outputs": [
    {
     "name": "stdout",
     "output_type": "stream",
     "text": [
      "5\n",
      "6\n",
      "두 수의 합: 11\n",
      "두 수의 평균: 5.5\n"
     ]
    }
   ],
   "source": [
    "# 2\n",
    "a = int(input())\n",
    "b = int(input())\n",
    "print(\"두 수의 합:\",a+b)\n",
    "print(\"두 수의 평균:\", (a+b)/2)"
   ]
  },
  {
   "cell_type": "code",
   "execution_count": 40,
   "metadata": {},
   "outputs": [
    {
     "name": "stdout",
     "output_type": "stream",
     "text": [
      "7\n",
      "8\n",
      "9\n",
      "세 수의 합: 24\n",
      "세 수의 평균: 8.0\n"
     ]
    }
   ],
   "source": [
    "# 3\n",
    "a = int(input())\n",
    "b = int(input())\n",
    "c = int(input())\n",
    "print('세 수의 합:', a+b+c)\n",
    "print('세 수의 평균:', (a+b+c)/3)"
   ]
  },
  {
   "cell_type": "markdown",
   "metadata": {},
   "source": [
    "## LAB 2-5 로봇 기자가 야구기사를 쓰다"
   ]
  },
  {
   "cell_type": "code",
   "execution_count": 42,
   "metadata": {},
   "outputs": [
    {
     "name": "stdout",
     "output_type": "stream",
     "text": [
      "경기장은 어디입니까? 강른\n",
      "이긴 팀은 어디입니까? 드림즈\n",
      "진 팀은 어디입니까? 비룡스\n",
      "우수선수는 누구입니까? 강두기\n",
      "스코어는 몇대몇입니까? 9:7\n",
      "\n",
      "=============================================\n",
      "오늘 강른 에서 야구 경기가 열렸습니다.\n",
      "드림즈 과 비룡스 은 치열한 공방전을 펼쳤습니다.\n",
      "강두기 의 맹활양으로  드림즈 가 비룡스 를  9:7 로 이겼습니다.\n",
      "=============================================\n"
     ]
    }
   ],
   "source": [
    "stadium = input(\"경기장은 어디입니까? \")\n",
    "winner = input(\"이긴 팀은 어디입니까? \")\n",
    "loser = input(\"진 팀은 어디입니까? \")\n",
    "vip = input(\"우수선수는 누구입니까? \")\n",
    "score = input(\"스코어는 몇대몇입니까? \")\n",
    "\n",
    "print(\"\")\n",
    "print(\"=============================================\")\n",
    "print(\"오늘\", stadium, \"에서 야구 경기가 열렸습니다.\")\n",
    "print(winner, \"과\", loser, \"은 치열한 공방전을 펼쳤습니다.\")\n",
    "print(vip, \"의 맹활양으로 \", winner, \"가\", loser, \"를 \", score, \"로 이겼습니다.\")\n",
    "print(\"=============================================\")"
   ]
  },
  {
   "cell_type": "markdown",
   "metadata": {},
   "source": [
    "## LAB 2-6 부동산 광고 만들기에 도전하자"
   ]
  },
  {
   "cell_type": "code",
   "execution_count": 45,
   "metadata": {
    "scrolled": true
   },
   "outputs": [
    {
     "name": "stdout",
     "output_type": "stream",
     "text": [
      "##############################\n",
      "#                            #\n",
      "# 부동산 매물 광고           #\n",
      "#                            #\n",
      "##############################\n",
      "\n",
      "서울시 종로구 에 위치한 아주 좋은  아파트 가 매울로 나왔습니다. 이 아파트 는  3 개의 방을 가지고 있으며 가격은 100000000 입니다.\n"
     ]
    }
   ],
   "source": [
    "street = \"서울시 종로구\"\n",
    "st = \"아파트\"\n",
    "number_of_rooms = 3\n",
    "price = 100000000\n",
    "\n",
    "print(\"##############################\")\n",
    "print(\"#                            #\")\n",
    "print(\"# 부동산 매물 광고           #\")\n",
    "print(\"#                            #\")\n",
    "print(\"##############################\")\n",
    "print(\"\")\n",
    "print(street, \"에 위치한 아주 좋은 \", st, \"가 매울로 나왔습니다. 이\", st, \"는 \", number_of_rooms, \"개의 방을 가지고 있으며 가격은\", price, \"입니다.\")"
   ]
  },
  {
   "cell_type": "markdown",
   "metadata": {},
   "source": [
    "### 핵심 정리"
   ]
  },
  {
   "cell_type": "markdown",
   "metadata": {},
   "source": [
    "- 컴퓨터에서는 변수를 사용하여 어떤 것을 컴퓨터 메모리 안에 저장할 수 있다\n",
    "- 변수들은 이름을 가지고 있다\n",
    "- 변수들은 숫자뿐만 아니라 문자열도 저장할 수 있다. 사실은 어떤 자료형이든지 저장이 가능하다\n",
    "- input() 함수를 사용해서 사용자로부터 문자열을 입력받을 수 있다\n",
    "- int() 함수를 사용해서 문자열을 정수값으로 변환할 수 있다"
   ]
  }
 ],
 "metadata": {
  "kernelspec": {
   "display_name": "Python 3",
   "language": "python",
   "name": "python3"
  },
  "language_info": {
   "codemirror_mode": {
    "name": "ipython",
    "version": 3
   },
   "file_extension": ".py",
   "mimetype": "text/x-python",
   "name": "python",
   "nbconvert_exporter": "python",
   "pygments_lexer": "ipython3",
   "version": "3.8.8"
  }
 },
 "nbformat": 4,
 "nbformat_minor": 2
}
