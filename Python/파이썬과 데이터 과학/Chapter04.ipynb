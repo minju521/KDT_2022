{
 "cells": [
  {
   "cell_type": "markdown",
   "metadata": {},
   "source": [
    "# Chapter04 조건을 따져 실행해보자"
   ]
  },
  {
   "cell_type": "markdown",
   "metadata": {},
   "source": [
    "## 4.1 프로그램의 기본 제어 구조는 크게 세 가지가 있다"
   ]
  },
  {
   "cell_type": "markdown",
   "metadata": {},
   "source": [
    "우리가 프로그램을 작성할 떄, 사용할 수 있는 세 가지의 기본적인 제어 구조가 있다.\n",
    "- 순차 구조 : 여러 명령이 순차적으로 실행되는 구조이다\n",
    "- 선택 구조 : 여러 개 중 하나의 명령문을 선택하여 실행하는 구조이다\n",
    "- 반복 구조 : 동일한 명령이 반복되면서 실행되는 구조이다"
   ]
  },
  {
   "cell_type": "markdown",
   "metadata": {},
   "source": [
    "## 4.2 왜 선택 구조가 필요한가"
   ]
  },
  {
   "cell_type": "markdown",
   "metadata": {},
   "source": [
    "프로그램에도 수많은 선택 구조가 존재한다. 프로그램의 어떤 단계에서는 진행할 수 있는 경로가 하나 이상인 경우가 있는데, 어떤 경로를 선택할 것인지를 결정하여야 한다."
   ]
  },
  {
   "cell_type": "markdown",
   "metadata": {},
   "source": [
    "## 4.3 조건이 맞을때만 실행되는 if 문"
   ]
  },
  {
   "cell_type": "markdown",
   "metadata": {},
   "source": [
    "어떤 조건을 만족하는지 그렇지 않은지를 판정하는 식을 조건식이라고 한다. 이 조건식은 참 또는 거짓의 값을 갖는 부울형으로 평가된다.\n",
    "\n",
    "관계연산자는 두 개의 피연산자를 비교하는데 사용되는데, 관계 연산자의 결과는 참 아니면 거짓으로 나타난다.\n",
    "\n",
    "파이썬에서 참과 거짓은 True와 False로 표시되기 때문에 True 또는 False가 관계 연산의 값으로 생성된다.\n",
    "\n",
    "조건식에는 논리 연산자를 사용할 수도 있다. 논리 연산자는 여러 개의 부울형 데이터를 논리적으로 연산하여 최종적으로 참 또는 거짓의 값을 갖는 수식을 만들 수 있다."
   ]
  },
  {
   "cell_type": "markdown",
   "metadata": {},
   "source": [
    "if 조건식:\n",
    "\n",
    "    실행할 내용"
   ]
  },
  {
   "cell_type": "markdown",
   "metadata": {},
   "source": [
    "위의 방식대로 코딩을 하면 조건식을 평가한 결과가 True이면 실행할 내용이 실제로 실행이 되고, 그렇지 않으면 실행할 내용을 선택하지 않고 건너 뛰어 버린다."
   ]
  },
  {
   "cell_type": "code",
   "execution_count": 1,
   "metadata": {},
   "outputs": [
    {
     "name": "stdout",
     "output_type": "stream",
     "text": [
      "x는 1보다 큽니다.\n"
     ]
    }
   ],
   "source": [
    "x = 100\n",
    "if x > 1:\n",
    "    print(\"x는 1보다 큽니다.\")"
   ]
  },
  {
   "cell_type": "markdown",
   "metadata": {},
   "source": [
    "## 4.4 들어쓰기가 아주 중요한 파이썬 : 블록은 들여쓰기로 완성"
   ]
  },
  {
   "cell_type": "markdown",
   "metadata": {},
   "source": [
    "만약 조건이 참인 경우에 여러 개의 문장이 실행되어야 한다면 들여쓰기를 이용하여 문장들을 묶을 수 있다.\n",
    "\n",
    "문장들이 동일한 개수의 공백을 가지고 있으면 모두는 동일한 블록에 속해있다. 하나의 블록에 속하는 문장들은 모두 같이 실행된다."
   ]
  },
  {
   "cell_type": "code",
   "execution_count": 2,
   "metadata": {},
   "outputs": [
    {
     "name": "stdout",
     "output_type": "stream",
     "text": [
      "정수를 입력하시오: 95\n",
      "축하합니다.\n",
      "합격입니다.\n",
      "장학금도 받을 수 있습니다.\n"
     ]
    }
   ],
   "source": [
    "score = int(input(\"정수를 입력하시오: \"))\n",
    "if score >= 90: # 조건이 참일 경우 들여쓰기 블록이 모두 실행됨\n",
    "    print(\"축하합니다.\")\n",
    "    print(\"합격입니다.\")\n",
    "    print(\"장학금도 받을 수 있습니다.\")"
   ]
  },
  {
   "cell_type": "markdown",
   "metadata": {},
   "source": [
    "파이썬에서 문장 앞에 동일한 개수의 공백이 있으면 문장들은 하나의 블록에 속하게 된다. 만약 동일한 블록에 속해야 하는데 공백을 더 많이 추가하면 오류가 발생한다."
   ]
  },
  {
   "cell_type": "code",
   "execution_count": 3,
   "metadata": {},
   "outputs": [
    {
     "ename": "IndentationError",
     "evalue": "unexpected indent (<ipython-input-3-df37d6f1556f>, line 4)",
     "output_type": "error",
     "traceback": [
      "\u001b[1;36m  File \u001b[1;32m\"<ipython-input-3-df37d6f1556f>\"\u001b[1;36m, line \u001b[1;32m4\u001b[0m\n\u001b[1;33m    print(\"합격입니다.\")\u001b[0m\n\u001b[1;37m    ^\u001b[0m\n\u001b[1;31mIndentationError\u001b[0m\u001b[1;31m:\u001b[0m unexpected indent\n"
     ]
    }
   ],
   "source": [
    "score = int(input(\"정수를 입력하시오: \"))\n",
    "if score >= 90:\n",
    " print(\"축하합니다.\")\n",
    "  print(\"합격입니다.\")\n",
    "   print(\"장학금도 받을 수 있습니다.\")"
   ]
  },
  {
   "cell_type": "markdown",
   "metadata": {},
   "source": [
    "### 도전문제 4.1"
   ]
  },
  {
   "cell_type": "code",
   "execution_count": 4,
   "metadata": {},
   "outputs": [
    {
     "name": "stdout",
     "output_type": "stream",
     "text": [
      "속도를 입력하세요 : 33\n",
      "과속입니다. 속도를 줄이세요.\n"
     ]
    }
   ],
   "source": [
    "a = int(input(\"속도를 입력하세요 : \"))\n",
    "if a >= 30:\n",
    "    print(\"과속입니다. 속도를 줄이세요.\")"
   ]
  },
  {
   "cell_type": "markdown",
   "metadata": {},
   "source": [
    "## 4.5 배타적 조건에 따라 실행하는 if-else 문"
   ]
  },
  {
   "cell_type": "markdown",
   "metadata": {},
   "source": [
    "파이썬에서는 선택 구조를 위하여 if-else문을 제공한다. if-else 문장은 \"만약 조건이 참이면 이것을 실행하고, 조건이 참이 아니라면 저것을 실행해\"라고 말하는 것과 같다. 조건을 수식으로 표현하며, 그 수식을 바로 조건식이라고 한다.\n",
    "\n",
    "if-else 문은 주어진 조건식을 계산하여 조건식이 참으로 계산되면 if 아래에 있는 문장을 실행한다. 만약 거짓이면 else 아래에 있는 문장을 실행한다."
   ]
  },
  {
   "cell_type": "code",
   "execution_count": 5,
   "metadata": {},
   "outputs": [
    {
     "name": "stdout",
     "output_type": "stream",
     "text": [
      "합격입니다.\n"
     ]
    }
   ],
   "source": [
    "if score >= 60:\n",
    "    print(\"합격입니다.\")\n",
    "else:\n",
    "    print(\"불합격입니다.\")"
   ]
  },
  {
   "cell_type": "markdown",
   "metadata": {},
   "source": [
    "배타적 조건을 if-else 문으로 표현가능하다."
   ]
  },
  {
   "cell_type": "code",
   "execution_count": 6,
   "metadata": {},
   "outputs": [
    {
     "name": "stdout",
     "output_type": "stream",
     "text": [
      "오전입니다.\n"
     ]
    }
   ],
   "source": [
    "hour = 10\n",
    "if hour < 12:\n",
    "    print(\"오전입니다.\")\n",
    "else:\n",
    "    print(\"오후입니다.\")"
   ]
  },
  {
   "cell_type": "markdown",
   "metadata": {},
   "source": [
    "### 도전문제 4.2"
   ]
  },
  {
   "cell_type": "code",
   "execution_count": 7,
   "metadata": {},
   "outputs": [
    {
     "name": "stdout",
     "output_type": "stream",
     "text": [
      "속도를 입력하세요 : 28\n",
      "안전운전하세요.\n"
     ]
    }
   ],
   "source": [
    "a = int(input(\"속도를 입력하세요 : \"))\n",
    "if a >= 30:\n",
    "    print(\"과속입니다. 속도를 줄이세요.\")\n",
    "else:\n",
    "    print(\"안전운전하세요.\")"
   ]
  },
  {
   "cell_type": "markdown",
   "metadata": {},
   "source": [
    "## 4.6 if-else 문으로 다양한 코드를 작성해보자"
   ]
  },
  {
   "cell_type": "markdown",
   "metadata": {},
   "source": [
    "사용자로부터 성적을 입력받아서 합격 여부를 판단해 보자"
   ]
  },
  {
   "cell_type": "code",
   "execution_count": 8,
   "metadata": {},
   "outputs": [
    {
     "name": "stdout",
     "output_type": "stream",
     "text": [
      "성적을 입력하시오: 80\n",
      "합격입니다.\n"
     ]
    }
   ],
   "source": [
    "score = int(input(\"성적을 입력하시오: \"))\n",
    "if score >= 60:\n",
    "    print(\"합격입니다.\")\n",
    "else:\n",
    "    print(\"불합격입니다.\")"
   ]
  },
  {
   "cell_type": "markdown",
   "metadata": {},
   "source": [
    "사용자로부터 정수를 입력받아서 짝수인지 홀수인지를 검사하는 프로그램을 작성하자"
   ]
  },
  {
   "cell_type": "code",
   "execution_count": 9,
   "metadata": {},
   "outputs": [
    {
     "name": "stdout",
     "output_type": "stream",
     "text": [
      "양의 정수를 입력하시오: 10\n",
      "짝수입니다.\n"
     ]
    }
   ],
   "source": [
    "num = int(input(\"양의 정수를 입력하시오: \"))\n",
    "if num % 2 == 0:\n",
    "    print(\"짝수입니다.\")\n",
    "else:\n",
    "    print(\"홀수입니다.\")"
   ]
  },
  {
   "cell_type": "markdown",
   "metadata": {},
   "source": [
    "좀 더 복잡한 조건을 설정하려면 if-else문 애에 또 다시 if-else 조건을 달아서 해결할 수 있다. 이러한 경우 조건문 내의 조건문을 내부 조건문이라고 한다."
   ]
  },
  {
   "cell_type": "code",
   "execution_count": 11,
   "metadata": {},
   "outputs": [
    {
     "name": "stdout",
     "output_type": "stream",
     "text": [
      "정수를 입력하시오: 10\n",
      "양수입니다.\n",
      "짝수입니다.\n"
     ]
    }
   ],
   "source": [
    "num = int(input(\"정수를 입력하시오: \"))\n",
    "\n",
    "if num < 0:\n",
    "    print(\"음수입니다.\")\n",
    "else:\n",
    "    print(\"양수입니다.\")\n",
    "    if num % 2 == 0:\n",
    "        print(\"짝수입니다.\")\n",
    "    else:\n",
    "        print(\"홀수입니다.\")"
   ]
  },
  {
   "cell_type": "markdown",
   "metadata": {},
   "source": [
    "### 도전문제 4.3"
   ]
  },
  {
   "cell_type": "code",
   "execution_count": 14,
   "metadata": {},
   "outputs": [
    {
     "name": "stdout",
     "output_type": "stream",
     "text": [
      "정수를 입력하시오: -2\n",
      "음수입니다.\n"
     ]
    }
   ],
   "source": [
    "# 1\n",
    "num = int(input(\"정수를 입력하시오: \"))\n",
    "if num < 0:\n",
    "    print(\"음수입니다.\")\n",
    "else:\n",
    "    print(\"음수가 아닙니다.\")"
   ]
  },
  {
   "cell_type": "code",
   "execution_count": 16,
   "metadata": {},
   "outputs": [
    {
     "name": "stdout",
     "output_type": "stream",
     "text": [
      "게임 점수를 입력하시오: 10020\n",
      "고수입니다.\n"
     ]
    }
   ],
   "source": [
    "# 2\n",
    "game_score = int(input(\"게임 점수를 입력하시오: \"))\n",
    "if game_score >= 10000:\n",
    "    print(\"고수입니다.\")\n",
    "else:\n",
    "    print(\"입문자입니다.\")"
   ]
  },
  {
   "cell_type": "code",
   "execution_count": 17,
   "metadata": {},
   "outputs": [
    {
     "name": "stdout",
     "output_type": "stream",
     "text": [
      "첫 번째 정수를 입력하시오: 100\n",
      "두 번째 정수를 입력하시오: 200\n",
      "두 값이 일치하지 않습니다.\n"
     ]
    }
   ],
   "source": [
    "# 3\n",
    "a = int(input(\"첫 번째 정수를 입력하시오: \"))\n",
    "b = int(input(\"두 번째 정수를 입력하시오: \"))\n",
    "if a == b:\n",
    "    print(\"두 값이 일치합니다.\")\n",
    "else:\n",
    "    print(\"두 값이 일치하지 않습니다.\")"
   ]
  },
  {
   "cell_type": "code",
   "execution_count": 1,
   "metadata": {},
   "outputs": [
    {
     "name": "stdout",
     "output_type": "stream",
     "text": [
      "첫 번째 정수를 입력하시오: 300\n",
      "두 번째 정수를 입력하시오: 300\n",
      "두 값이 일치합니다.\n"
     ]
    }
   ],
   "source": [
    "a = int(input(\"첫 번째 정수를 입력하시오: \"))\n",
    "b = int(input(\"두 번째 정수를 입력하시오: \"))\n",
    "if a == b:\n",
    "    print(\"두 값이 일치합니다.\")\n",
    "else:\n",
    "    print(\"두 값이 일치하지 않습니다.\")"
   ]
  },
  {
   "cell_type": "markdown",
   "metadata": {},
   "source": [
    "## LAB 4-1 입력 숫자에 따라 터틀 그래픽 제어하기"
   ]
  },
  {
   "cell_type": "code",
   "execution_count": 2,
   "metadata": {},
   "outputs": [],
   "source": [
    "import turtle\n",
    "t = turtle.Turtle()\n",
    "t.shape(\"turtle\")\n",
    "\n",
    "t.penup()\n",
    "t.goto(100, 100)\n",
    "t.write(\"거북이가 여기로 오면 양수입니다.\")\n",
    "t.goto(100, 0)\n",
    "t.write(\"거북이가 여기로 오면 0입니다.\")\n",
    "t.goto(100, -100)\n",
    "t.write(\"거북이가 여기로 오면 음수입니다.\")\n",
    "\n",
    "t.goto(0, 0)\n",
    "t.pendown()"
   ]
  },
  {
   "cell_type": "code",
   "execution_count": null,
   "metadata": {},
   "outputs": [],
   "source": [
    "s = turtle.textinput(\"\", \"숫자를 입력하시오.\")\n",
    "n = int(s)\n",
    "\n",
    "if n > 0:\n",
    "    t.goto(100, 100)\n",
    "if n == 0:\n",
    "    t.goto(100, 0)\n",
    "if n < 0:\n",
    "    t.goto(100, -100)\n",
    "    \n",
    "turtle.done()"
   ]
  },
  {
   "cell_type": "markdown",
   "metadata": {},
   "source": [
    "### 도전문제 4.4"
   ]
  },
  {
   "cell_type": "code",
   "execution_count": null,
   "metadata": {},
   "outputs": [],
   "source": [
    "import turtle\n",
    "t = turtle.Turtle()\n",
    "t.shape(\"turtle\")\n",
    "\n",
    "a = int(turtle.textinput(\"\", \"첫 번째 정수를 입력하세요: \"))\n",
    "b = int(turtle.textinput(\"\", \"두 번째 정수를 입력하세요: \"))\n",
    "\n",
    "if a>0 and b>0:\n",
    "    t.goto(100, 100)\n",
    "if a<0 and b>0:\n",
    "    t.goto(-100, 100)\n",
    "if a<0 and b<0:\n",
    "    t.goto(-100, -100)\n",
    "if a>0 and b<0:\n",
    "    t.goto(100, -100)\n",
    "    \n",
    "turtle.done()"
   ]
  },
  {
   "cell_type": "markdown",
   "metadata": {},
   "source": [
    "### 도전문제 4.5"
   ]
  },
  {
   "cell_type": "code",
   "execution_count": null,
   "metadata": {},
   "outputs": [],
   "source": [
    "import turtle\n",
    "t = turtle.Turtle()\n",
    "t.shape(\"turtle\")\n",
    "\n",
    "a = int(turtle.textinput(\"\", \"첫 번째 정수를 입력하세요: \"))\n",
    "b = int(turtle.textinput(\"\", \"두 번째 정수를 입력하세요: \"))\n",
    "\n",
    "if a > b:\n",
    "    t.goto(100, 100)\n",
    "if a < b:\n",
    "    t.goto(-100, 100)\n",
    "if a == b:\n",
    "    t.goto(0, 100)\n",
    "    \n",
    "turtle.done()"
   ]
  },
  {
   "cell_type": "markdown",
   "metadata": {},
   "source": [
    "## LAB 4-2 영화를 볼 수 있는 나이 제한 검사를 하자"
   ]
  },
  {
   "cell_type": "code",
   "execution_count": 1,
   "metadata": {},
   "outputs": [
    {
     "name": "stdout",
     "output_type": "stream",
     "text": [
      "나이를 입력하시오: 16\n",
      "본 영화를 보실 수 있습니다.\n"
     ]
    }
   ],
   "source": [
    "age = int(input(\"나이를 입력하시오: \"))\n",
    "if age >= 15:\n",
    "    print(\"본 영화를 보실 수 있습니다.\")\n",
    "else:\n",
    "    print(\"본 영화를 보실 수 없습니다.\")"
   ]
  },
  {
   "cell_type": "markdown",
   "metadata": {},
   "source": [
    "### 도전문제 4.6"
   ]
  },
  {
   "cell_type": "code",
   "execution_count": 3,
   "metadata": {},
   "outputs": [
    {
     "name": "stdout",
     "output_type": "stream",
     "text": [
      "나이를 입력하시오: 13\n",
      "본 영화를 보실 수 없습니다.\n",
      "다른 영화를 보시겠어요?\n"
     ]
    }
   ],
   "source": [
    "# 1\n",
    "age = int(input(\"나이를 입력하시오: \"))\n",
    "if age >= 15:\n",
    "    print(\"본 영화를 보실 수 있습니다.\")\n",
    "    print(\"영화의 가격은 10000원입니다.\")\n",
    "else:\n",
    "    print(\"본 영화를 보실 수 없습니다.\")\n",
    "    print(\"다른 영화를 보시겠어요?\")"
   ]
  },
  {
   "cell_type": "code",
   "execution_count": 6,
   "metadata": {},
   "outputs": [
    {
     "name": "stdout",
     "output_type": "stream",
     "text": [
      "나이를 입력하시오: 16\n",
      "청소년입니다.\n"
     ]
    }
   ],
   "source": [
    "# 2\n",
    "age = int(input(\"나이를 입력하시오: \"))\n",
    "if age < 20:\n",
    "    print(\"청소년입니다.\")\n",
    "else:\n",
    "    print(\"승인되었습니다.\")"
   ]
  },
  {
   "cell_type": "markdown",
   "metadata": {},
   "source": [
    "## LAB 4-3 거북이 제어하기"
   ]
  },
  {
   "cell_type": "code",
   "execution_count": null,
   "metadata": {},
   "outputs": [],
   "source": [
    "import turtle\n",
    "t = turtle.Turtle()\n",
    "t.shape(\"turtle\")\n",
    "\n",
    "t.width(3) # 선의 두께를 3으로 지정\n",
    "t.shapesize(3, 3) # 거북이를 3배 확대\n",
    "\n",
    "while True:\n",
    "    command = input(\"명령을 입력하시오: \")\n",
    "    if command == \"l\":\n",
    "        t.left(90)\n",
    "        t.forward(100)\n",
    "    if command = \"r\":\n",
    "        t.right(90)\n",
    "        t.forward(100)"
   ]
  },
  {
   "cell_type": "markdown",
   "metadata": {},
   "source": [
    "### 도전문제 4.7"
   ]
  },
  {
   "cell_type": "code",
   "execution_count": null,
   "metadata": {},
   "outputs": [],
   "source": [
    "# 1\n",
    "import turtle\n",
    "t = turtle.Turtle()\n",
    "t.shape(\"turtle\")\n",
    "\n",
    "while True:\n",
    "    command = input(\"명령을 입력하시오: \")\n",
    "    if command == \"f\":\n",
    "        t.forward(100)"
   ]
  },
  {
   "cell_type": "code",
   "execution_count": null,
   "metadata": {},
   "outputs": [],
   "source": [
    "# 2\n",
    "import turtle\n",
    "t = turtle.Turtle()\n",
    "t.shape(\"turtle\")\n",
    "\n",
    "while True:\n",
    "    command = input(\"명령을 입력하시오: \")\n",
    "    if command == \"h\":\n",
    "        t.shapesize(10, 10)\n",
    "    if command == \"n\":\n",
    "        t.shapesize(3, 3)"
   ]
  },
  {
   "cell_type": "code",
   "execution_count": null,
   "metadata": {},
   "outputs": [],
   "source": [
    "# 3\n",
    "import turtle\n",
    "t = turtle.Turtle()\n",
    "t.shape(\"turtle\")\n",
    "\n",
    "while True:\n",
    "    num = int(input(\"정수를 입력하시오: \"))\n",
    "    if num >= 1 and num <= 9:\n",
    "        t.shapesize(num, num)"
   ]
  },
  {
   "cell_type": "markdown",
   "metadata": {},
   "source": [
    "### 도전문제 4.8"
   ]
  },
  {
   "cell_type": "code",
   "execution_count": null,
   "metadata": {},
   "outputs": [],
   "source": [
    "import turtle\n",
    "t = turtle.Turtle()\n",
    "t.shape(\"turtle\")\n",
    "\n",
    "import random\n",
    "for i in range(10):\n",
    "    a = random.randrange(2)\n",
    "    if a == \"0\":\n",
    "        t.right(90)\n",
    "        t.forward(50)\n",
    "    if a == \"1\":\n",
    "        t.left(90)\n",
    "        t.forward(50)"
   ]
  },
  {
   "cell_type": "markdown",
   "metadata": {},
   "source": [
    "## LAB 4-4 윤년 판단은 어떻게 하지"
   ]
  },
  {
   "cell_type": "code",
   "execution_count": 8,
   "metadata": {},
   "outputs": [
    {
     "name": "stdout",
     "output_type": "stream",
     "text": [
      "연도를 입력하시오: 2022\n",
      "2022 년은 윤년이 아닙니다.\n"
     ]
    }
   ],
   "source": [
    "year = int(input(\"연도를 입력하시오: \"))\n",
    "if (year % 4 == 0) and (year % 100 != 0) or (year % 400 == 0):\n",
    "    print(year, \"년은 윤년입니다.\")\n",
    "else:\n",
    "    print(year, \"년은 윤년이 아닙니다.\")"
   ]
  },
  {
   "cell_type": "markdown",
   "metadata": {},
   "source": [
    "## LAB 4-5 동전 던지기 게임"
   ]
  },
  {
   "cell_type": "code",
   "execution_count": 11,
   "metadata": {},
   "outputs": [
    {
     "name": "stdout",
     "output_type": "stream",
     "text": [
      "동전 던지기 게임을 시작합니다.\n",
      "앞면입니다.\n",
      "게임이 종료되었습니다.\n"
     ]
    }
   ],
   "source": [
    "import random\n",
    "\n",
    "print(\"동전 던지기 게임을 시작합니다.\")\n",
    "coin = random.randrange(2)\n",
    "if coin == 0:\n",
    "    print(\"앞면입니다.\")\n",
    "else:\n",
    "    print(\"뒷면입니다.\")\n",
    "print(\"게임이 종료되었습니다.\")"
   ]
  },
  {
   "cell_type": "markdown",
   "metadata": {},
   "source": [
    "### 도전문제 4.9"
   ]
  },
  {
   "cell_type": "code",
   "execution_count": 13,
   "metadata": {},
   "outputs": [
    {
     "name": "stdout",
     "output_type": "stream",
     "text": [
      "Player1의 이름 : 홍길동\n",
      "Player2의 이름 : 홍길순\n",
      "......주사위를 굴립니다......\n",
      "홍길동 의 주사위 번호는 1\n",
      "홍길순 의 주사위 번호는 4\n",
      "홍길순 이 이겼습니다.\n"
     ]
    }
   ],
   "source": [
    "import random\n",
    "\n",
    "a = input(\"Player1의 이름 : \")\n",
    "aa = random.randrange(1, 6)\n",
    "b = input(\"Player2의 이름 : \")\n",
    "bb = random.randrange(1, 6)\n",
    "print(\"......주사위를 굴립니다......\")\n",
    "print(a, \"의 주사위 번호는\", aa)\n",
    "print(b, \"의 주사위 번호는\", bb)\n",
    "if aa > bb:\n",
    "    print(a, \"이 이겼습니다.\")\n",
    "if aa < bb:\n",
    "    print(b, \"이 이겼습니다.\")\n",
    "else:\n",
    "    print(\"비겼습니다.\")"
   ]
  },
  {
   "cell_type": "markdown",
   "metadata": {},
   "source": [
    "## LAB 4-6 원의 내부에 있는 점일까 외부에 있는 점일까"
   ]
  },
  {
   "cell_type": "code",
   "execution_count": 1,
   "metadata": {},
   "outputs": [
    {
     "name": "stdout",
     "output_type": "stream",
     "text": [
      "점의 좌표 x, y를 입력하시오 : 3 3\n",
      "원의 내부에 있음\n"
     ]
    }
   ],
   "source": [
    "x, y = map(float, input('점의 좌표 x, y를 입력하시오 : ').split())\n",
    "if x*x + y*y > 5*5:\n",
    "    print(\"원의 외부에 있음\")\n",
    "else:\n",
    "    print(\"원의 내부에 있음\")"
   ]
  },
  {
   "cell_type": "code",
   "execution_count": 3,
   "metadata": {},
   "outputs": [
    {
     "name": "stdout",
     "output_type": "stream",
     "text": [
      "점의 좌표 x, y를 입력하시오 : 3 3\n",
      "원의 내부에 있음\n"
     ]
    }
   ],
   "source": [
    "x,y = input('점의 좌표 x, y를 입력하시오 : ').split()\n",
    "\n",
    "if int(x)*int(x) + int(y)*int(y) > 5*5:\n",
    "    print(\"원의 외부에 있음\")\n",
    "else:\n",
    "    print(\"원의 내부에 있음\")"
   ]
  },
  {
   "cell_type": "markdown",
   "metadata": {},
   "source": [
    "### 도전문제 4.10"
   ]
  },
  {
   "cell_type": "code",
   "execution_count": 5,
   "metadata": {},
   "outputs": [
    {
     "name": "stdout",
     "output_type": "stream",
     "text": [
      "점의 좌표 x, y를 입력하시오 : -9 9\n",
      "원의 외부에 있음\n"
     ]
    }
   ],
   "source": [
    "x, y = map(float, input('점의 좌표 x, y를 입력하시오 : ').split())\n",
    "if (x-3)*(x-3) + (y-4)*(y-4) > 10*10:\n",
    "    print(\"원의 외부에 있음\")\n",
    "else:\n",
    "    print(\"원의 내부에 있음\")"
   ]
  },
  {
   "cell_type": "markdown",
   "metadata": {},
   "source": [
    "## 4.7 조건이 거짓일 때 연속하여 다른 조건을 검사"
   ]
  },
  {
   "cell_type": "markdown",
   "metadata": {},
   "source": [
    "if-else 문에서 조건이 거질일 때 다른 조건을 검사할 수 있다. 이때는 elif 키워드를 사용하면 된다."
   ]
  },
  {
   "cell_type": "code",
   "execution_count": 21,
   "metadata": {},
   "outputs": [
    {
     "name": "stdout",
     "output_type": "stream",
     "text": [
      "정수를 입력하시오: 0\n",
      "0입니다.\n"
     ]
    }
   ],
   "source": [
    "num = int(input(\"정수를 입력하시오: \"))\n",
    "\n",
    "if num > 0:\n",
    "    print(\"양수입니다.\")\n",
    "elif num == 0:\n",
    "    print(\"0입니다.\")\n",
    "else:\n",
    "    print(\"음수입니다.\")"
   ]
  },
  {
   "cell_type": "markdown",
   "metadata": {},
   "source": [
    "## 4.8 if-else 문 안에 if-else 문 넣기"
   ]
  },
  {
   "cell_type": "markdown",
   "metadata": {},
   "source": [
    "필요에 따라 if문 안에 다른 if문이 들어갈 수도 있는데, 이것을 중첩 if문이라고 한다."
   ]
  },
  {
   "cell_type": "code",
   "execution_count": 22,
   "metadata": {},
   "outputs": [
    {
     "name": "stdout",
     "output_type": "stream",
     "text": [
      "정수를 입력하시오: 10\n",
      "양수입니다.\n"
     ]
    }
   ],
   "source": [
    "num = int(input(\"정수를 입력하시오: \"))\n",
    "if num >= 0:\n",
    "    if num == 0:\n",
    "        print(\"0입니다.\")\n",
    "    else:\n",
    "        print(\"양수입니다.\")\n",
    "else:\n",
    "    print(\"음수입니다.\")"
   ]
  },
  {
   "cell_type": "markdown",
   "metadata": {},
   "source": [
    "## LAB 4-8 로그인 처리하기"
   ]
  },
  {
   "cell_type": "code",
   "execution_count": 23,
   "metadata": {},
   "outputs": [
    {
     "name": "stdout",
     "output_type": "stream",
     "text": [
      "아이디를 입력하시오: ilovepython\n",
      "환영합니다.\n"
     ]
    }
   ],
   "source": [
    "id = \"ilovepython\"\n",
    "s = input(\"아이디를 입력하시오: \")\n",
    "if s == id:\n",
    "    print(\"환영합니다.\")\n",
    "else:\n",
    "    print(\"아이디를 찾을 수 없습니다.\")"
   ]
  },
  {
   "cell_type": "markdown",
   "metadata": {},
   "source": [
    "### 도전문제 4.11"
   ]
  },
  {
   "cell_type": "code",
   "execution_count": 24,
   "metadata": {},
   "outputs": [
    {
     "name": "stdout",
     "output_type": "stream",
     "text": [
      "아이디를 입력하시오: ilovepython\n",
      "패스워드를 입력하시오: mypass1234\n",
      "환영합니다.\n"
     ]
    }
   ],
   "source": [
    "a = \"mypass1234\"\n",
    "b = input(\"아이디를 입력하시오: \")\n",
    "c = input(\"패스워드를 입력하시오: \")\n",
    "if c == a:\n",
    "    print(\"환영합니다.\")\n",
    "else:\n",
    "    print(\"아이디를 찾을 수 없습니다.\")"
   ]
  },
  {
   "cell_type": "markdown",
   "metadata": {},
   "source": [
    "## LAB 4-9 컴퓨터와 승부차기 게임을 만들어보자"
   ]
  },
  {
   "cell_type": "code",
   "execution_count": 26,
   "metadata": {},
   "outputs": [
    {
     "name": "stdout",
     "output_type": "stream",
     "text": [
      "어디를 공격하시겠어요?(왼쪽, 중앙, 오른쪽) : 왼쪽\n",
      "축하합니다!! 공격에 성공하였습니다.\n",
      "컴퓨터의 수비위치 : 오른쪽\n"
     ]
    }
   ],
   "source": [
    "import random\n",
    "\n",
    "n = random.randint(1, 3)\n",
    "if n == 1:\n",
    "    computer_choice = \"왼쪽\"\n",
    "elif n == 2:\n",
    "    computer_choice = \"중앙\"\n",
    "else:\n",
    "    computer_choice = \"오른쪽\"\n",
    "    \n",
    "user_choice = input(\"어디를 공격하시겠어요?(왼쪽, 중앙, 오른쪽) : \")\n",
    "if computer_choice == user_choice:\n",
    "    print(\"공격에 실패하셨습니다.\")\n",
    "else:\n",
    "    print(\"축하합니다!! 공격에 성공하였습니다.\")\n",
    "print(\"컴퓨터의 수비위치 :\", computer_choice)"
   ]
  },
  {
   "cell_type": "markdown",
   "metadata": {},
   "source": [
    "### 도전문제 4.12"
   ]
  },
  {
   "cell_type": "code",
   "execution_count": 29,
   "metadata": {},
   "outputs": [
    {
     "name": "stdout",
     "output_type": "stream",
     "text": [
      "어디를 공격하시겠어요?(왼쪽, 중앙, 오른쪽) : 오른쪽\n",
      "축하합니다!! 공격에 성공하였습니다.\n",
      "컴퓨터의 수비위치 : 왼쪽\n"
     ]
    }
   ],
   "source": [
    "import random\n",
    "\n",
    "options = ['왼쪽', '중앙', '오른쪽']\n",
    "computer_choice = random.choice(options)\n",
    "  \n",
    "user_choice = input(\"어디를 공격하시겠어요?(왼쪽, 중앙, 오른쪽) : \")\n",
    "if computer_choice == user_choice:\n",
    "    print(\"공격에 실패하셨습니다.\")\n",
    "else:\n",
    "    print(\"축하합니다!! 공격에 성공하였습니다.\")\n",
    "print(\"컴퓨터의 수비위치 :\", computer_choice)"
   ]
  },
  {
   "cell_type": "markdown",
   "metadata": {},
   "source": [
    "## LAB 4-10 도형 그리기"
   ]
  },
  {
   "cell_type": "code",
   "execution_count": null,
   "metadata": {},
   "outputs": [],
   "source": [
    "import turtle\n",
    "t = turtle.Turtle()\n",
    "t.shape(\"turtle\")\n",
    "\n",
    "s = turtle.textinput(\"\", \"도형을 입력하시오: \")\n",
    "if s == \"사각형\":\n",
    "    s = turtle.textinput(\"\", \"가로: \")\n",
    "    w = int(s)\n",
    "    s = turtle.textinput(\"\", \"세로: \")\n",
    "    h = int(s)\n",
    "    t.forward(w)\n",
    "    t.left(90)\n",
    "    t.forward(h)\n",
    "    t.left(90)\n",
    "    t.forward(w)\n",
    "    t.left(90)\n",
    "    t.forward(h)\n",
    "    \n",
    "turtle.done()"
   ]
  },
  {
   "cell_type": "markdown",
   "metadata": {},
   "source": [
    "### 도전문제 4.13"
   ]
  },
  {
   "cell_type": "code",
   "execution_count": null,
   "metadata": {},
   "outputs": [],
   "source": [
    "import turtle\n",
    "t = turtle.Turtle()\n",
    "t.shape(\"turtle\")\n",
    "\n",
    "import turtle\n",
    "t = turtle.Turtle()\n",
    "t.shape(\"turtle\")\n",
    "\n",
    "s = turtle.textinput(\"\", \"도형을 입력하시오: \")\n",
    "if s == \"삼각형\":\n",
    "    s = turtle.textinput(\"\", \"한 변의 길이: \")\n",
    "    a = int(s)\n",
    "    t.forward(a)\n",
    "    t.left(120)\n",
    "    t.forward(a)\n",
    "    t.left(120)\n",
    "    t.forward(a)\n",
    "elif s == \"원\":\n",
    "    s = turtle.textinput(\"\", \"반지름: \")\n",
    "    b = int(s)\n",
    "    t.circle(b)\n",
    "    \n",
    "turtle.done()"
   ]
  },
  {
   "cell_type": "markdown",
   "metadata": {},
   "source": [
    "### 핵심정리"
   ]
  },
  {
   "cell_type": "markdown",
   "metadata": {},
   "source": [
    "- 제어문이란 프로그램의 순차적 흐름이 아닌 조건에 맞는 실행과 반복을 하는 명령문이다\n",
    "- 조건문이란 프로그래머가 명시한 특정 조건을 만족할 때에만 특정 블록이 실행되도로 하는 문법이다\n",
    "- 조건문의 키워드인 if, elif의 다음에는 조건식이 나타나고 바로 이어서 실행문 블록이 시작되기 전에 콜론(:)을 표시한다. 그리고 실행문 블록은 조건문의 키워드보다 들여쓰기를 해서 작성한다\n",
    "- 조건식은 부울형인 참과 거짓의 값을 가질 수 있다\n",
    "- 블록은 같은 실행 흐름에서 순서대로 실행되는 코드의 집합을 의미한다\n",
    "- 조건문에서 실행문 블록은 반드시 들여쓰기를 해주어야 한다\n",
    "- if-elif-else 문에서 if문의 조건식을 제일 먼저 조사하고, if 문의 조건식이 참이 아닐 때, elif 조건식을 검사하고, elif 문의 조건식도 참이 아닐 떄에는 마지막으로 else 문의 블록을 실행한다"
   ]
  }
 ],
 "metadata": {
  "kernelspec": {
   "display_name": "Python 3",
   "language": "python",
   "name": "python3"
  },
  "language_info": {
   "codemirror_mode": {
    "name": "ipython",
    "version": 3
   },
   "file_extension": ".py",
   "mimetype": "text/x-python",
   "name": "python",
   "nbconvert_exporter": "python",
   "pygments_lexer": "ipython3",
   "version": "3.8.8"
  }
 },
 "nbformat": 4,
 "nbformat_minor": 2
}
