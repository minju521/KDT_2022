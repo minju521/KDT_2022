{
 "cells": [
  {
   "cell_type": "markdown",
   "metadata": {},
   "source": [
    "# Chapter04"
   ]
  },
  {
   "cell_type": "markdown",
   "metadata": {},
   "source": [
    "## 4.3 조건이 맞을때만 실행되는 if 문"
   ]
  },
  {
   "cell_type": "code",
   "execution_count": 1,
   "metadata": {},
   "outputs": [
    {
     "name": "stdout",
     "output_type": "stream",
     "text": [
      "x는 1보다 큽니다.\n"
     ]
    }
   ],
   "source": [
    "x = 100\n",
    "if x > 1:\n",
    "    print(\"x는 1보다 큽니다.\")"
   ]
  },
  {
   "cell_type": "markdown",
   "metadata": {},
   "source": [
    "## 4.4 들어쓰기가 아주 중요한 파이썬 : 블록은 들여쓰기로 완성"
   ]
  },
  {
   "cell_type": "code",
   "execution_count": 2,
   "metadata": {},
   "outputs": [
    {
     "name": "stdout",
     "output_type": "stream",
     "text": [
      "정수를 입력하시오: 95\n",
      "축하합니다.\n",
      "합격입니다.\n",
      "장학금도 받을 수 있습니다.\n"
     ]
    }
   ],
   "source": [
    "score = int(input(\"정수를 입력하시오: \"))\n",
    "if score >= 90:\n",
    "    print(\"축하합니다.\")\n",
    "    print(\"합격입니다.\")\n",
    "    print(\"장학금도 받을 수 있습니다.\")"
   ]
  },
  {
   "cell_type": "code",
   "execution_count": 3,
   "metadata": {},
   "outputs": [
    {
     "ename": "IndentationError",
     "evalue": "unexpected indent (<ipython-input-3-df37d6f1556f>, line 4)",
     "output_type": "error",
     "traceback": [
      "\u001b[1;36m  File \u001b[1;32m\"<ipython-input-3-df37d6f1556f>\"\u001b[1;36m, line \u001b[1;32m4\u001b[0m\n\u001b[1;33m    print(\"합격입니다.\")\u001b[0m\n\u001b[1;37m    ^\u001b[0m\n\u001b[1;31mIndentationError\u001b[0m\u001b[1;31m:\u001b[0m unexpected indent\n"
     ]
    }
   ],
   "source": [
    "score = int(input(\"정수를 입력하시오: \"))\n",
    "if score >= 90:\n",
    " print(\"축하합니다.\")\n",
    "  print(\"합격입니다.\")\n",
    "   print(\"장학금도 받을 수 있습니다.\")"
   ]
  },
  {
   "cell_type": "markdown",
   "metadata": {},
   "source": [
    "### 도전문제 4.1"
   ]
  },
  {
   "cell_type": "code",
   "execution_count": 4,
   "metadata": {},
   "outputs": [
    {
     "name": "stdout",
     "output_type": "stream",
     "text": [
      "속도를 입력하세요 : 33\n",
      "과속입니다. 속도를 줄이세요.\n"
     ]
    }
   ],
   "source": [
    "a = int(input(\"속도를 입력하세요 : \"))\n",
    "if a >= 30:\n",
    "    print(\"과속입니다. 속도를 줄이세요.\")"
   ]
  },
  {
   "cell_type": "markdown",
   "metadata": {},
   "source": [
    "## 4.5 배타적 조건에 따라 실행하는 if-else 문"
   ]
  },
  {
   "cell_type": "code",
   "execution_count": 5,
   "metadata": {},
   "outputs": [
    {
     "name": "stdout",
     "output_type": "stream",
     "text": [
      "합격입니다.\n"
     ]
    }
   ],
   "source": [
    "if score >= 60:\n",
    "    print(\"합격입니다.\")\n",
    "else:\n",
    "    print(\"불합격입니다.\")"
   ]
  },
  {
   "cell_type": "code",
   "execution_count": 6,
   "metadata": {},
   "outputs": [
    {
     "name": "stdout",
     "output_type": "stream",
     "text": [
      "오전입니다.\n"
     ]
    }
   ],
   "source": [
    "hour = 10\n",
    "if hour < 12:\n",
    "    print(\"오전입니다.\")\n",
    "else:\n",
    "    print(\"오후입니다.\")"
   ]
  },
  {
   "cell_type": "markdown",
   "metadata": {},
   "source": [
    "### 도전문제 4.2"
   ]
  },
  {
   "cell_type": "code",
   "execution_count": 7,
   "metadata": {},
   "outputs": [
    {
     "name": "stdout",
     "output_type": "stream",
     "text": [
      "속도를 입력하세요 : 28\n",
      "안전운전하세요.\n"
     ]
    }
   ],
   "source": [
    "a = int(input(\"속도를 입력하세요 : \"))\n",
    "if a >= 30:\n",
    "    print(\"과속입니다. 속도를 줄이세요.\")\n",
    "else:\n",
    "    print(\"안전운전하세요.\")"
   ]
  },
  {
   "cell_type": "markdown",
   "metadata": {},
   "source": [
    "## 4.6 if-else 문으로 다양한 코드를 작성해보자"
   ]
  },
  {
   "cell_type": "code",
   "execution_count": 8,
   "metadata": {},
   "outputs": [
    {
     "name": "stdout",
     "output_type": "stream",
     "text": [
      "성적을 입력하시오: 80\n",
      "합격입니다.\n"
     ]
    }
   ],
   "source": [
    "score = int(input(\"성적을 입력하시오: \"))\n",
    "if score >= 60:\n",
    "    print(\"합격입니다.\")\n",
    "else:\n",
    "    print(\"불합격입니다.\")"
   ]
  },
  {
   "cell_type": "code",
   "execution_count": 9,
   "metadata": {},
   "outputs": [
    {
     "name": "stdout",
     "output_type": "stream",
     "text": [
      "양의 정수를 입력하시오: 10\n",
      "짝수입니다.\n"
     ]
    }
   ],
   "source": [
    "num = int(input(\"양의 정수를 입력하시오: \"))\n",
    "if num % 2 == 0:\n",
    "    print(\"짝수입니다.\")\n",
    "else:\n",
    "    print(\"홀수입니다.\")"
   ]
  },
  {
   "cell_type": "code",
   "execution_count": 11,
   "metadata": {},
   "outputs": [
    {
     "name": "stdout",
     "output_type": "stream",
     "text": [
      "정수를 입력하시오: 10\n",
      "양수입니다.\n",
      "짝수입니다.\n"
     ]
    }
   ],
   "source": [
    "num = int(input(\"정수를 입력하시오: \"))\n",
    "\n",
    "if num < 0:\n",
    "    print(\"음수입니다.\")\n",
    "else:\n",
    "    print(\"양수입니다.\")\n",
    "    if num % 2 == 0:\n",
    "        print(\"짝수입니다.\")\n",
    "    else:\n",
    "        print(\"홀수입니다.\")"
   ]
  },
  {
   "cell_type": "markdown",
   "metadata": {},
   "source": [
    "### 도전문제 4.3"
   ]
  },
  {
   "cell_type": "code",
   "execution_count": 14,
   "metadata": {},
   "outputs": [
    {
     "name": "stdout",
     "output_type": "stream",
     "text": [
      "정수를 입력하시오: -2\n",
      "음수입니다.\n"
     ]
    }
   ],
   "source": [
    "# 1\n",
    "num = int(input(\"정수를 입력하시오: \"))\n",
    "if num < 0:\n",
    "    print(\"음수입니다.\")\n",
    "else:\n",
    "    print(\"음수가 아닙니다.\")"
   ]
  },
  {
   "cell_type": "code",
   "execution_count": 16,
   "metadata": {},
   "outputs": [
    {
     "name": "stdout",
     "output_type": "stream",
     "text": [
      "게임 점수를 입력하시오: 10020\n",
      "고수입니다.\n"
     ]
    }
   ],
   "source": [
    "# 2\n",
    "game_score = int(input(\"게임 점수를 입력하시오: \"))\n",
    "if game_score >= 10000:\n",
    "    print(\"고수입니다.\")\n",
    "else:\n",
    "    print(\"입문자입니다.\")"
   ]
  },
  {
   "cell_type": "code",
   "execution_count": 17,
   "metadata": {},
   "outputs": [
    {
     "name": "stdout",
     "output_type": "stream",
     "text": [
      "첫 번째 정수를 입력하시오: 100\n",
      "두 번째 정수를 입력하시오: 200\n",
      "두 값이 일치하지 않습니다.\n"
     ]
    }
   ],
   "source": [
    "# 3\n",
    "a = int(input(\"첫 번째 정수를 입력하시오: \"))\n",
    "b = int(input(\"두 번째 정수를 입력하시오: \"))\n",
    "if a == b:\n",
    "    print(\"두 값이 일치합니다.\")\n",
    "else:\n",
    "    print(\"두 값이 일치하지 않습니다.\")"
   ]
  },
  {
   "cell_type": "code",
   "execution_count": 1,
   "metadata": {},
   "outputs": [
    {
     "name": "stdout",
     "output_type": "stream",
     "text": [
      "첫 번째 정수를 입력하시오: 300\n",
      "두 번째 정수를 입력하시오: 300\n",
      "두 값이 일치합니다.\n"
     ]
    }
   ],
   "source": [
    "a = int(input(\"첫 번째 정수를 입력하시오: \"))\n",
    "b = int(input(\"두 번째 정수를 입력하시오: \"))\n",
    "if a == b:\n",
    "    print(\"두 값이 일치합니다.\")\n",
    "else:\n",
    "    print(\"두 값이 일치하지 않습니다.\")"
   ]
  },
  {
   "cell_type": "markdown",
   "metadata": {},
   "source": [
    "## LAB 4-1 입력 숫자에 따라 터틀 그래픽 제어하기"
   ]
  },
  {
   "cell_type": "code",
   "execution_count": 2,
   "metadata": {},
   "outputs": [],
   "source": [
    "import turtle\n",
    "t = turtle.Turtle()\n",
    "t.shape(\"turtle\")\n",
    "\n",
    "t.penup()\n",
    "t.goto(100, 100)\n",
    "t.write(\"거북이가 여기로 오면 양수입니다.\")\n",
    "t.goto(100, 0)\n",
    "t.write(\"거북이가 여기로 오면 0입니다.\")\n",
    "t.goto(100, -100)\n",
    "t.write(\"거북이가 여기로 오면 음수입니다.\")\n",
    "\n",
    "t.goto(0, 0)\n",
    "t.pendown()"
   ]
  },
  {
   "cell_type": "code",
   "execution_count": null,
   "metadata": {},
   "outputs": [],
   "source": [
    "s = turtle.textinput(\"\", \"숫자를 입력하시오.\")\n",
    "n = int(s)\n",
    "\n",
    "if n > 0:\n",
    "    t.goto(100, 100)\n",
    "if n == 0:\n",
    "    t.goto(100, 0)\n",
    "if n < 0:\n",
    "    t.goto(100, -100)\n",
    "    \n",
    "turtle.done()"
   ]
  },
  {
   "cell_type": "markdown",
   "metadata": {},
   "source": [
    "### 도전문제 4.4"
   ]
  },
  {
   "cell_type": "code",
   "execution_count": null,
   "metadata": {},
   "outputs": [],
   "source": [
    "import turtle\n",
    "t = turtle.Turtle()\n",
    "t.shape(\"turtle\")\n",
    "\n",
    "a = int(turtle.textinput(\"\", \"첫 번째 정수를 입력하세요: \"))\n",
    "b = int(turtle.textinput(\"\", \"두 번째 정수를 입력하세요: \"))\n",
    "\n",
    "if a>0 and b>0:\n",
    "    t.goto(100, 100)\n",
    "if a<0 and b>0:\n",
    "    t.goto(-100, 100)\n",
    "if a<0 and b<0:\n",
    "    t.goto(-100, -100)\n",
    "if a>0 and b<0:\n",
    "    t.goto(100, -100)\n",
    "    \n",
    "turtle.done()"
   ]
  },
  {
   "cell_type": "markdown",
   "metadata": {},
   "source": [
    "### 도전문제 4.5"
   ]
  },
  {
   "cell_type": "code",
   "execution_count": null,
   "metadata": {},
   "outputs": [],
   "source": [
    "import turtle\n",
    "t = turtle.Turtle()\n",
    "t.shape(\"turtle\")\n",
    "\n",
    "a = int(turtle.textinput(\"\", \"첫 번째 정수를 입력하세요: \"))\n",
    "b = int(turtle.textinput(\"\", \"두 번째 정수를 입력하세요: \"))\n",
    "\n",
    "if a > b:\n",
    "    t.goto(100, 100)\n",
    "if a < b:\n",
    "    t.goto(-100, 100)\n",
    "if a == b:\n",
    "    t.goto(0, 100)\n",
    "    \n",
    "turtle.done()"
   ]
  },
  {
   "cell_type": "markdown",
   "metadata": {},
   "source": [
    "## LAB 4-2 영화를 볼 수 있는 나이 제한 검사를 하자"
   ]
  },
  {
   "cell_type": "code",
   "execution_count": 1,
   "metadata": {},
   "outputs": [
    {
     "name": "stdout",
     "output_type": "stream",
     "text": [
      "나이를 입력하시오: 16\n",
      "본 영화를 보실 수 있습니다.\n"
     ]
    }
   ],
   "source": [
    "age = int(input(\"나이를 입력하시오: \"))\n",
    "if age >= 15:\n",
    "    print(\"본 영화를 보실 수 있습니다.\")\n",
    "else:\n",
    "    print(\"본 영화를 보실 수 없습니다.\")"
   ]
  },
  {
   "cell_type": "markdown",
   "metadata": {},
   "source": [
    "### 도전문제 4.6"
   ]
  },
  {
   "cell_type": "code",
   "execution_count": 3,
   "metadata": {},
   "outputs": [
    {
     "name": "stdout",
     "output_type": "stream",
     "text": [
      "나이를 입력하시오: 13\n",
      "본 영화를 보실 수 없습니다.\n",
      "다른 영화를 보시겠어요?\n"
     ]
    }
   ],
   "source": [
    "# 1\n",
    "age = int(input(\"나이를 입력하시오: \"))\n",
    "if age >= 15:\n",
    "    print(\"본 영화를 보실 수 있습니다.\")\n",
    "    print(\"영화의 가격은 10000원입니다.\")\n",
    "else:\n",
    "    print(\"본 영화를 보실 수 없습니다.\")\n",
    "    print(\"다른 영화를 보시겠어요?\")"
   ]
  },
  {
   "cell_type": "code",
   "execution_count": 6,
   "metadata": {},
   "outputs": [
    {
     "name": "stdout",
     "output_type": "stream",
     "text": [
      "나이를 입력하시오: 16\n",
      "청소년입니다.\n"
     ]
    }
   ],
   "source": [
    "# 2\n",
    "age = int(input(\"나이를 입력하시오: \"))\n",
    "if age < 20:\n",
    "    print(\"청소년입니다.\")\n",
    "else:\n",
    "    print(\"승인되었습니다.\")"
   ]
  },
  {
   "cell_type": "markdown",
   "metadata": {},
   "source": [
    "## LAB 4-3 거북이 제어하기"
   ]
  },
  {
   "cell_type": "code",
   "execution_count": null,
   "metadata": {},
   "outputs": [],
   "source": [
    "import turtle\n",
    "t = turtle.Turtle()\n",
    "t.shape(\"turtle\")\n",
    "\n",
    "t.width(3) # 선의 두께를 3으로 지정\n",
    "t.shapesize(3, 3) # 거북이를 3배 확대\n",
    "\n",
    "while True:\n",
    "    command = input(\"명령을 입력하시오: \")\n",
    "    if command == \"l\":\n",
    "        t.left(90)\n",
    "        t.forward(100)\n",
    "    if command = \"r\":\n",
    "        t.right(90)\n",
    "        t.forward(100)"
   ]
  },
  {
   "cell_type": "markdown",
   "metadata": {},
   "source": [
    "### 도전문제 4.7"
   ]
  },
  {
   "cell_type": "code",
   "execution_count": null,
   "metadata": {},
   "outputs": [],
   "source": [
    "# 1\n",
    "import turtle\n",
    "t = turtle.Turtle()\n",
    "t.shape(\"turtle\")\n",
    "\n",
    "while True:\n",
    "    command = input(\"명령을 입력하시오: \")\n",
    "    if command == \"f\":\n",
    "        t.forward(100)"
   ]
  },
  {
   "cell_type": "code",
   "execution_count": null,
   "metadata": {},
   "outputs": [],
   "source": [
    "# 2\n",
    "import turtle\n",
    "t = turtle.Turtle()\n",
    "t.shape(\"turtle\")\n",
    "\n",
    "while True:\n",
    "    command = input(\"명령을 입력하시오: \")\n",
    "    if command == \"h\":\n",
    "        t.shapesize(10, 10)\n",
    "    if command == \"n\":\n",
    "        t.shapesize(3, 3)"
   ]
  },
  {
   "cell_type": "code",
   "execution_count": null,
   "metadata": {},
   "outputs": [],
   "source": [
    "# 3\n",
    "import turtle\n",
    "t = turtle.Turtle()\n",
    "t.shape(\"turtle\")\n",
    "\n",
    "while True:\n",
    "    num = int(input(\"정수를 입력하시오: \"))\n",
    "    if num >= 1 and num <= 9:\n",
    "        t.shapesize(num, num)"
   ]
  },
  {
   "cell_type": "markdown",
   "metadata": {},
   "source": [
    "### 도전문제 4.8"
   ]
  },
  {
   "cell_type": "code",
   "execution_count": null,
   "metadata": {},
   "outputs": [],
   "source": [
    "import turtle\n",
    "t = turtle.Turtle()\n",
    "t.shape(\"turtle\")\n",
    "\n",
    "import random\n",
    "for i in range(10):\n",
    "    a = random.randrange(2)\n",
    "    if a == \"0\":\n",
    "        t.right(90)\n",
    "        t.forward(50)\n",
    "    if a == \"1\":\n",
    "        t.left(90)\n",
    "        t.forward(50)"
   ]
  },
  {
   "cell_type": "markdown",
   "metadata": {},
   "source": [
    "## LAB 4-4 윤년 판단은 어떻게 하지"
   ]
  },
  {
   "cell_type": "code",
   "execution_count": 8,
   "metadata": {},
   "outputs": [
    {
     "name": "stdout",
     "output_type": "stream",
     "text": [
      "연도를 입력하시오: 2022\n",
      "2022 년은 윤년이 아닙니다.\n"
     ]
    }
   ],
   "source": [
    "year = int(input(\"연도를 입력하시오: \"))\n",
    "if (year % 4 == 0) and (year % 100 != 0) or (year % 400 == 0):\n",
    "    print(year, \"년은 윤년입니다.\")\n",
    "else:\n",
    "    print(year, \"년은 윤년이 아닙니다.\")"
   ]
  },
  {
   "cell_type": "markdown",
   "metadata": {},
   "source": [
    "## LAB 4-5 동전 던지기 게임"
   ]
  },
  {
   "cell_type": "code",
   "execution_count": 11,
   "metadata": {},
   "outputs": [
    {
     "name": "stdout",
     "output_type": "stream",
     "text": [
      "동전 던지기 게임을 시작합니다.\n",
      "앞면입니다.\n",
      "게임이 종료되었습니다.\n"
     ]
    }
   ],
   "source": [
    "import random\n",
    "\n",
    "print(\"동전 던지기 게임을 시작합니다.\")\n",
    "coin = random.randrange(2)\n",
    "if coin == 0:\n",
    "    print(\"앞면입니다.\")\n",
    "else:\n",
    "    print(\"뒷면입니다.\")\n",
    "print(\"게임이 종료되었습니다.\")"
   ]
  },
  {
   "cell_type": "markdown",
   "metadata": {},
   "source": [
    "### 도전문제 4.9"
   ]
  },
  {
   "cell_type": "code",
   "execution_count": 13,
   "metadata": {},
   "outputs": [
    {
     "name": "stdout",
     "output_type": "stream",
     "text": [
      "Player1의 이름 : 홍길동\n",
      "Player2의 이름 : 홍길순\n",
      "......주사위를 굴립니다......\n",
      "홍길동 의 주사위 번호는 1\n",
      "홍길순 의 주사위 번호는 4\n",
      "홍길순 이 이겼습니다.\n"
     ]
    }
   ],
   "source": [
    "import random\n",
    "\n",
    "a = input(\"Player1의 이름 : \")\n",
    "aa = random.randrange(1, 6)\n",
    "b = input(\"Player2의 이름 : \")\n",
    "bb = random.randrange(1, 6)\n",
    "print(\"......주사위를 굴립니다......\")\n",
    "print(a, \"의 주사위 번호는\", aa)\n",
    "print(b, \"의 주사위 번호는\", bb)\n",
    "if aa > bb:\n",
    "    print(a, \"이 이겼습니다.\")\n",
    "if aa < bb:\n",
    "    print(b, \"이 이겼습니다.\")\n",
    "else:\n",
    "    print(\"비겼습니다.\")"
   ]
  },
  {
   "cell_type": "markdown",
   "metadata": {},
   "source": [
    "## LAB 4-6 원의 내부에 있는 점일까 외부에 있는 점일까"
   ]
  },
  {
   "cell_type": "code",
   "execution_count": 1,
   "metadata": {},
   "outputs": [
    {
     "name": "stdout",
     "output_type": "stream",
     "text": [
      "점의 좌표 x, y를 입력하시오 : 3 3\n",
      "원의 내부에 있음\n"
     ]
    }
   ],
   "source": [
    "x, y = map(float, input('점의 좌표 x, y를 입력하시오 : ').split())\n",
    "if x*x + y*y > 5*5:\n",
    "    print(\"원의 외부에 있음\")\n",
    "else:\n",
    "    print(\"원의 내부에 있음\")"
   ]
  },
  {
   "cell_type": "code",
   "execution_count": 3,
   "metadata": {},
   "outputs": [
    {
     "name": "stdout",
     "output_type": "stream",
     "text": [
      "점의 좌표 x, y를 입력하시오 : 3 3\n",
      "원의 내부에 있음\n"
     ]
    }
   ],
   "source": [
    "x,y = input('점의 좌표 x, y를 입력하시오 : ').split()\n",
    "\n",
    "if int(x)*int(x) + int(y)*int(y) > 5*5:\n",
    "    print(\"원의 외부에 있음\")\n",
    "else:\n",
    "    print(\"원의 내부에 있음\")"
   ]
  },
  {
   "cell_type": "markdown",
   "metadata": {},
   "source": [
    "### 도전문제 4.10"
   ]
  },
  {
   "cell_type": "code",
   "execution_count": 5,
   "metadata": {},
   "outputs": [
    {
     "name": "stdout",
     "output_type": "stream",
     "text": [
      "점의 좌표 x, y를 입력하시오 : -9 9\n",
      "원의 외부에 있음\n"
     ]
    }
   ],
   "source": [
    "x, y = map(float, input('점의 좌표 x, y를 입력하시오 : ').split())\n",
    "if (x-3)*(x-3) + (y-4)*(y-4) > 10*10:\n",
    "    print(\"원의 외부에 있음\")\n",
    "else:\n",
    "    print(\"원의 내부에 있음\")"
   ]
  },
  {
   "cell_type": "markdown",
   "metadata": {},
   "source": [
    "## 4.7 조건이 거짓일 때 연속하여 다른 조건을 검사"
   ]
  },
  {
   "cell_type": "code",
   "execution_count": 21,
   "metadata": {},
   "outputs": [
    {
     "name": "stdout",
     "output_type": "stream",
     "text": [
      "정수를 입력하시오: 0\n",
      "0입니다.\n"
     ]
    }
   ],
   "source": [
    "num = int(input(\"정수를 입력하시오: \"))\n",
    "\n",
    "if num > 0:\n",
    "    print(\"양수입니다.\")\n",
    "elif num == 0:\n",
    "    print(\"0입니다.\")\n",
    "else:\n",
    "    print(\"음수입니다.\")"
   ]
  },
  {
   "cell_type": "markdown",
   "metadata": {},
   "source": [
    "## 4.8 if-else 문 안에 if-else 문 넣기"
   ]
  },
  {
   "cell_type": "code",
   "execution_count": 22,
   "metadata": {},
   "outputs": [
    {
     "name": "stdout",
     "output_type": "stream",
     "text": [
      "정수를 입력하시오: 10\n",
      "양수입니다.\n"
     ]
    }
   ],
   "source": [
    "num = int(input(\"정수를 입력하시오: \"))\n",
    "if num >= 0:\n",
    "    if num == 0:\n",
    "        print(\"0입니다.\")\n",
    "    else:\n",
    "        print(\"양수입니다.\")\n",
    "else:\n",
    "    print(\"음수입니다.\")"
   ]
  },
  {
   "cell_type": "markdown",
   "metadata": {},
   "source": [
    "## LAB 4-8 로그인 처리하기"
   ]
  },
  {
   "cell_type": "code",
   "execution_count": 23,
   "metadata": {},
   "outputs": [
    {
     "name": "stdout",
     "output_type": "stream",
     "text": [
      "아이디를 입력하시오: ilovepython\n",
      "환영합니다.\n"
     ]
    }
   ],
   "source": [
    "id = \"ilovepython\"\n",
    "s = input(\"아이디를 입력하시오: \")\n",
    "if s == id:\n",
    "    print(\"환영합니다.\")\n",
    "else:\n",
    "    print(\"아이디를 찾을 수 없습니다.\")"
   ]
  },
  {
   "cell_type": "markdown",
   "metadata": {},
   "source": [
    "### 도전문제 4.11"
   ]
  },
  {
   "cell_type": "code",
   "execution_count": 24,
   "metadata": {},
   "outputs": [
    {
     "name": "stdout",
     "output_type": "stream",
     "text": [
      "아이디를 입력하시오: ilovepython\n",
      "패스워드를 입력하시오: mypass1234\n",
      "환영합니다.\n"
     ]
    }
   ],
   "source": [
    "a = \"mypass1234\"\n",
    "b = input(\"아이디를 입력하시오: \")\n",
    "c = input(\"패스워드를 입력하시오: \")\n",
    "if c == a:\n",
    "    print(\"환영합니다.\")\n",
    "else:\n",
    "    print(\"아이디를 찾을 수 없습니다.\")"
   ]
  },
  {
   "cell_type": "markdown",
   "metadata": {},
   "source": [
    "## LAB 4-9 컴퓨터와 승부차기 게임을 만들어보자"
   ]
  },
  {
   "cell_type": "code",
   "execution_count": 26,
   "metadata": {},
   "outputs": [
    {
     "name": "stdout",
     "output_type": "stream",
     "text": [
      "어디를 공격하시겠어요?(왼쪽, 중앙, 오른쪽) : 왼쪽\n",
      "축하합니다!! 공격에 성공하였습니다.\n",
      "컴퓨터의 수비위치 : 오른쪽\n"
     ]
    }
   ],
   "source": [
    "import random\n",
    "\n",
    "n = random.randint(1, 3)\n",
    "if n == 1:\n",
    "    computer_choice = \"왼쪽\"\n",
    "elif n == 2:\n",
    "    computer_choice = \"중앙\"\n",
    "else:\n",
    "    computer_choice = \"오른쪽\"\n",
    "    \n",
    "user_choice = input(\"어디를 공격하시겠어요?(왼쪽, 중앙, 오른쪽) : \")\n",
    "if computer_choice == user_choice:\n",
    "    print(\"공격에 실패하셨습니다.\")\n",
    "else:\n",
    "    print(\"축하합니다!! 공격에 성공하였습니다.\")\n",
    "print(\"컴퓨터의 수비위치 :\", computer_choice)"
   ]
  },
  {
   "cell_type": "markdown",
   "metadata": {},
   "source": [
    "### 도전문제 4.12"
   ]
  },
  {
   "cell_type": "code",
   "execution_count": 29,
   "metadata": {},
   "outputs": [
    {
     "name": "stdout",
     "output_type": "stream",
     "text": [
      "어디를 공격하시겠어요?(왼쪽, 중앙, 오른쪽) : 오른쪽\n",
      "축하합니다!! 공격에 성공하였습니다.\n",
      "컴퓨터의 수비위치 : 왼쪽\n"
     ]
    }
   ],
   "source": [
    "import random\n",
    "\n",
    "options = ['왼쪽', '중앙', '오른쪽']\n",
    "computer_choice = random.choice(options)\n",
    "  \n",
    "user_choice = input(\"어디를 공격하시겠어요?(왼쪽, 중앙, 오른쪽) : \")\n",
    "if computer_choice == user_choice:\n",
    "    print(\"공격에 실패하셨습니다.\")\n",
    "else:\n",
    "    print(\"축하합니다!! 공격에 성공하였습니다.\")\n",
    "print(\"컴퓨터의 수비위치 :\", computer_choice)"
   ]
  },
  {
   "cell_type": "markdown",
   "metadata": {},
   "source": [
    "## LAB 4-10 도형 그리기"
   ]
  },
  {
   "cell_type": "code",
   "execution_count": null,
   "metadata": {},
   "outputs": [],
   "source": [
    "import turtle\n",
    "t = turtle.Turtle()\n",
    "t.shape(\"turtle\")\n",
    "\n",
    "s = turtle.textinput(\"\", \"도형을 입력하시오: \")\n",
    "if s == \"사각형\":\n",
    "    s = turtle.textinput(\"\", \"가로: \")\n",
    "    w = int(s)\n",
    "    s = turtle.textinput(\"\", \"세로: \")\n",
    "    h = int(s)\n",
    "    t.forward(w)\n",
    "    t.left(90)\n",
    "    t.forward(h)\n",
    "    t.left(90)\n",
    "    t.forward(w)\n",
    "    t.left(90)\n",
    "    t.forward(h)\n",
    "    \n",
    "turtle.done()"
   ]
  },
  {
   "cell_type": "markdown",
   "metadata": {},
   "source": [
    "### 도전문제 4.13"
   ]
  },
  {
   "cell_type": "code",
   "execution_count": null,
   "metadata": {},
   "outputs": [],
   "source": [
    "import turtle\n",
    "t = turtle.Turtle()\n",
    "t.shape(\"turtle\")\n",
    "\n",
    "import turtle\n",
    "t = turtle.Turtle()\n",
    "t.shape(\"turtle\")\n",
    "\n",
    "s = turtle.textinput(\"\", \"도형을 입력하시오: \")\n",
    "if s == \"삼각형\":\n",
    "    s = turtle.textinput(\"\", \"한 변의 길이: \")\n",
    "    a = int(s)\n",
    "    t.forward(a)\n",
    "    t.left(120)\n",
    "    t.forward(a)\n",
    "    t.left(120)\n",
    "    t.forward(a)\n",
    "elif s == \"원\":\n",
    "    s = turtle.textinput(\"\", \"반지름: \")\n",
    "    b = int(s)\n",
    "    t.circle(b)\n",
    "    \n",
    "turtle.done()"
   ]
  },
  {
   "cell_type": "markdown",
   "metadata": {},
   "source": [
    "# 심화문제"
   ]
  },
  {
   "cell_type": "code",
   "execution_count": 3,
   "metadata": {},
   "outputs": [
    {
     "name": "stdout",
     "output_type": "stream",
     "text": [
      "알파벳을 입력하시오 : i\n",
      "i (은)는 모음입니다.\n"
     ]
    }
   ],
   "source": [
    "# 4.1\n",
    "a = input(\"알파벳을 입력하시오 : \")\n",
    "if a == \"a\" or a == \"e\" or a == \"i\" or a == \"o\" or a == \"u\":\n",
    "    print(a, \"(은)는 모음입니다.\")\n",
    "else:\n",
    "    print(a, \"(은)는 자음입니다.\")"
   ]
  },
  {
   "cell_type": "code",
   "execution_count": 17,
   "metadata": {},
   "outputs": [
    {
     "name": "stdout",
     "output_type": "stream",
     "text": [
      "알파벳을 입력하시오 :i\n",
      "i 는 모음입니다.\n"
     ]
    }
   ],
   "source": [
    "alphabet = input(\"알파벳을 입력하시오 :\")\n",
    "alphabet_i = [\"a\", \"e\", \"i\", \"o\", \"u\"]\n",
    "if alphabet in alphabet_i:\n",
    "    print(alphabet, \"는 모음입니다.\")\n",
    "else:\n",
    "    print(alphabet, \"는 자음입니다.\")"
   ]
  },
  {
   "cell_type": "code",
   "execution_count": 82,
   "metadata": {},
   "outputs": [
    {
     "name": "stdout",
     "output_type": "stream",
     "text": [
      "세 정수를 입력하시오 : 9 122 4\n",
      "122 9 4\n"
     ]
    }
   ],
   "source": [
    "# 4.2\n",
    "a = input(\"세 정수를 입력하시오 : \").split()\n",
    "\n",
    "if (int(a[0]) > int(a[1])) and (int(a[0])> int(a[2])):\n",
    "    if int(a[1]) > int(a[2]):\n",
    "        print(a[0], a[1], a[2])\n",
    "    else:\n",
    "        print(a[0], a[2], a[1])\n",
    "elif (int(a[1]) > int(a[0])) and(int(a[1]) > int(a[2])):\n",
    "    if int(a[0]) > int(a[2]):\n",
    "        print(a[1], a[0], a[2])\n",
    "    else:\n",
    "        print(a[1], a[2], a[0])\n",
    "elif (int(a[2]) > int(a[0])) and (int(a[2]) > int(a[1])):\n",
    "    if int(a[0]) > int(a[1]):\n",
    "        print(a[2], a[0], a[1])\n",
    "    else:\n",
    "        print(a[2], a[1], a[0])"
   ]
  },
  {
   "cell_type": "code",
   "execution_count": 80,
   "metadata": {},
   "outputs": [
    {
     "name": "stdout",
     "output_type": "stream",
     "text": [
      "세 정수를 입력하시오 : 9 4 122\n",
      "122 9 4\n"
     ]
    }
   ],
   "source": [
    "a = input(\"세 정수를 입력하시오 : \").split()\n",
    "\n",
    "if int(a[0])>int(a[1])>int(a[2]):\n",
    "    print(a[0], a[1], a[2])\n",
    "elif int(a[0])>int(a[2])>int(a[1]):\n",
    "    print(a[0], a[2], a[1])\n",
    "elif int(a[1])>int(a[0])>int(a[2]):\n",
    "    print(a[1], a[0], a[2])\n",
    "elif int(a[1])>int(a[2])>int(a[0]):\n",
    "    print(a[1], a[2], a[0])\n",
    "elif int(a[2])>int(a[0])>int(a[1]):\n",
    "    print(a[2], a[0], a[1])\n",
    "elif int(a[2])>int(a[1])>int(a[0]):\n",
    "    print(a[2], a[1], a[0])"
   ]
  },
  {
   "cell_type": "code",
   "execution_count": 7,
   "metadata": {},
   "outputs": [
    {
     "name": "stdout",
     "output_type": "stream",
     "text": [
      "세 정수를 입력하시오 : 9 4 122\n",
      "[122, 9, 4]\n"
     ]
    }
   ],
   "source": [
    "a, b, c = input(\"세 정수를 입력하시오 : \").split()\n",
    "\n",
    "d = []\n",
    "d.append(int(a))\n",
    "d.append(int(b))\n",
    "d.append(int(c))\n",
    "d.sort(reverse=True)\n",
    "\n",
    "print(d)"
   ]
  },
  {
   "cell_type": "code",
   "execution_count": 10,
   "metadata": {},
   "outputs": [
    {
     "name": "stdout",
     "output_type": "stream",
     "text": [
      "나이를 입력하시오 : 3\n",
      "Kid\n"
     ]
    }
   ],
   "source": [
    "# 4.3\n",
    "a = int(input(\"나이를 입력하시오 : \"))\n",
    "if a >= 20:\n",
    "    print(\"Adult\")\n",
    "elif a >= 10:\n",
    "    print(\"Youth\")\n",
    "else:\n",
    "    print(\"Kid\")"
   ]
  },
  {
   "cell_type": "code",
   "execution_count": 11,
   "metadata": {},
   "outputs": [
    {
     "name": "stdout",
     "output_type": "stream",
     "text": [
      "정수를 입력하시오 : 15\n",
      "15 는(은) 2(으)로 나누어지지 않습니다.\n",
      "15 는(은) 3(으)로 나누어집니다.\n",
      "15 는(은) 2와(과) 3 모두로 나누어지지 않습니다.\n"
     ]
    }
   ],
   "source": [
    "# 4.4\n",
    "a = int(input(\"정수를 입력하시오 : \"))\n",
    "\n",
    "if a % 2 == 0:\n",
    "    print(a, \"는(은) 2(으)로 나누어집니다.\")\n",
    "else:\n",
    "    print(a, \"는(은) 2(으)로 나누어지지 않습니다.\")\n",
    "    \n",
    "if a % 3 == 0:\n",
    "    print(a, \"는(은) 3(으)로 나누어집니다.\")\n",
    "else:\n",
    "    print(a, \"는(은) 3(으)로 나누어지지 않습니다.\")\n",
    "\n",
    "if a % 2 == 0 and a % 3 == 0:\n",
    "    print(a, \"는(은) 2와(과) 3 모두로 나누어집니다.\")\n",
    "else:\n",
    "    print(a, \"는(은) 2와(과) 3 모두로 나누어지지 않습니다.\")"
   ]
  },
  {
   "cell_type": "code",
   "execution_count": 38,
   "metadata": {},
   "outputs": [
    {
     "name": "stdout",
     "output_type": "stream",
     "text": [
      "4 3 9\n",
      "세 복권번호를 입력하시오 : 1 2 3\n",
      "상금 1만원\n"
     ]
    }
   ],
   "source": [
    "# 4.5\n",
    "import random\n",
    "a = random.randint(0, 9)\n",
    "b = random.randint(0, 9)\n",
    "c = random.randint(0, 9)\n",
    "print(a, b, c)\n",
    "\n",
    "k = 0\n",
    "s = input(\"세 복권번호를 입력하시오 : \").split()\n",
    "for i in range(3):\n",
    "    if int(s[i]) == a:\n",
    "        k = k + 1\n",
    "    elif int(s[i]) == b:\n",
    "        k = k + 1\n",
    "    elif int(s[i]) == c:\n",
    "        k = k + 1\n",
    "#print(k)\n",
    "\n",
    "if k == 3:\n",
    "    print(\"상금 1억원\")\n",
    "elif k == 2:\n",
    "    print(\"상금 1천만원\")\n",
    "elif k == 1:\n",
    "    print(\"상금 1만원\")\n",
    "else:\n",
    "    print(\"다음 기회에...\")"
   ]
  },
  {
   "cell_type": "code",
   "execution_count": 19,
   "metadata": {},
   "outputs": [
    {
     "name": "stdout",
     "output_type": "stream",
     "text": [
      "우리 식당에 오신것을 환영합니다. 메뉴는 다음과 같습니다.\n",
      " - 햄버거(입력 b)\n",
      " - 치킨(입력 c)\n",
      " - 피자(입력 p)\n",
      "메뉴를 선택하세요(알파벳 b, c, p 입력) : c\n",
      "치킨을 선택하였습니다.\n"
     ]
    }
   ],
   "source": [
    "# 4.6\n",
    "print(\"우리 식당에 오신것을 환영합니다. 메뉴는 다음과 같습니다.\\n\", \n",
    "      \"- 햄버거(입력 b)\\n\",\n",
    "      \"- 치킨(입력 c)\\n\",\n",
    "      \"- 피자(입력 p)\")\n",
    "\n",
    "a = input(\"메뉴를 선택하세요(알파벳 b, c, p 입력) : \")\n",
    "if a == \"b\":\n",
    "    print(\"햄버거를 선택하였습니다.\")\n",
    "elif a == \"c\":\n",
    "    print(\"치킨을 선택하였습니다.\")\n",
    "elif a == \"p\":\n",
    "    print(\"피자를 선택하였습니다.\")\n",
    "else:\n",
    "    print(\"선택한 메뉴가 없습니다.\")"
   ]
  },
  {
   "cell_type": "code",
   "execution_count": 54,
   "metadata": {},
   "outputs": [
    {
     "name": "stdout",
     "output_type": "stream",
     "text": [
      "41 + 48 = 89\n",
      "잘했어요!!\n"
     ]
    }
   ],
   "source": [
    "# 4.7\n",
    "import random\n",
    "a = random.randint(1, 100)\n",
    "b = random.randint(1, 100)\n",
    "c = str(a) + ' + ' + str(b) + ' = '\n",
    "d = input(c)\n",
    "\n",
    "if int(d) == a+b:\n",
    "    print(\"잘했어요!!\")\n",
    "else:\n",
    "    print(\"정답은\", a+b, \"입니다.\")"
   ]
  },
  {
   "cell_type": "code",
   "execution_count": 66,
   "metadata": {},
   "outputs": [
    {
     "name": "stdout",
     "output_type": "stream",
     "text": [
      "1)덧셈 2)뺄셈 3)곱셈 4)나눗셈\n",
      "어떤 연산을 원하는지 번호를 입력하세요 : 4\n",
      "연산을 원하는 숫자 두개를 입력하세요\n",
      "3 4\n",
      "3 / 4 = 0.75\n"
     ]
    }
   ],
   "source": [
    "# 4.8\n",
    "a = int(input(\"1)덧셈 2)뺄셈 3)곱셈 4)나눗셈\\n어떤 연산을 원하는지 번호를 입력하세요 : \"))\n",
    "\n",
    "if a == 1 or a == 2 or a == 3 or a == 4:\n",
    "    b = input(\"연산을 원하는 숫자 두개를 입력하세요\\n\").split()\n",
    "    if a == 1:\n",
    "        print(b[0], \"+\", b[1], \"=\", int(b[0])+int(b[1]))\n",
    "    elif a == 2:\n",
    "        print(b[0], \"-\", b[1], \"=\", int(b[0])-int(b[1]))\n",
    "    elif a == 3:\n",
    "        print(b[0], \"*\", b[1], \"=\", int(b[0])*int(b[1]))\n",
    "    elif a == 4:\n",
    "        print(b[0], \"/\", b[1], \"=\", int(b[0])/int(b[1]))\n",
    "    else:\n",
    "        print(\"잘못 입력하였습니다.\")\n",
    "else:\n",
    "    print(\"잘못 입력하였습니다.\")"
   ]
  }
 ],
 "metadata": {
  "kernelspec": {
   "display_name": "Python 3",
   "language": "python",
   "name": "python3"
  },
  "language_info": {
   "codemirror_mode": {
    "name": "ipython",
    "version": 3
   },
   "file_extension": ".py",
   "mimetype": "text/x-python",
   "name": "python",
   "nbconvert_exporter": "python",
   "pygments_lexer": "ipython3",
   "version": "3.7.3"
  }
 },
 "nbformat": 4,
 "nbformat_minor": 2
}
