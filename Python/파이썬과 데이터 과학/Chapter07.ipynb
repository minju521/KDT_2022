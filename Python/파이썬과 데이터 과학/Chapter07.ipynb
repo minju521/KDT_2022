{
 "cells": [
  {
   "cell_type": "markdown",
   "metadata": {},
   "source": [
    "# Chapter07"
   ]
  },
  {
   "cell_type": "markdown",
   "metadata": {},
   "source": [
    "## 7.1 리스트는 무엇이고 왜 필요한가"
   ]
  },
  {
   "cell_type": "markdown",
   "metadata": {},
   "source": [
    "파이썬에서는 여러 가지 종류의 데이터를 메모리 안의 변수로 저장할 수 있다. 파이썬에서는 리스트와 딕셔너리를 이용하여 여러 개의 데이터를 한꺼번에 저장하고 처리할 수 있다."
   ]
  },
  {
   "cell_type": "code",
   "execution_count": 1,
   "metadata": {},
   "outputs": [],
   "source": [
    "height = 178.9"
   ]
  },
  {
   "cell_type": "code",
   "execution_count": 4,
   "metadata": {},
   "outputs": [],
   "source": [
    "height1 = 178.9\n",
    "height2 = 173.5\n",
    "height3 = 166.1\n",
    "height4 = 164.3\n",
    "height5 = 176.4"
   ]
  },
  {
   "cell_type": "markdown",
   "metadata": {},
   "source": [
    "수집한 데이터를 저장하기 위하여 변수를 하나씩 만들어주는 일은 번거롭다. 이럴 때는 리스트(list)를 만들고 여기에 데이터를 저장하면 된다. 파이썬에서 리스트는 대괄호를 이용해서 만들 수 있다."
   ]
  },
  {
   "cell_type": "code",
   "execution_count": 3,
   "metadata": {},
   "outputs": [
    {
     "data": {
      "text/plain": [
       "[178.9, 173.5, 166.1, 164.3, 176.4]"
      ]
     },
     "execution_count": 3,
     "metadata": {},
     "output_type": "execute_result"
    }
   ],
   "source": [
    "heights = [178.9, 173.5, 166.1, 164.3, 176.4]\n",
    "heights"
   ]
  },
  {
   "cell_type": "markdown",
   "metadata": {},
   "source": [
    "리스트 안에 저장된 각각의 데이터를 항목 또는 요소라고 한다. 각 항목들은 순서대로 나열되어 있고, 항목마다 몇 번째인지 번호로 관리 할 수 있다. 파이썬의 리스트는 시작과 끝을 표시하기 위하여 대괄호를 사용한다. 내부의 항목을 분리하기 위하여 쉼표(,)를 사용한다."
   ]
  },
  {
   "cell_type": "markdown",
   "metadata": {},
   "source": [
    "## 7.2 여러 개의 항목이 들어가는 리스트를 만들자"
   ]
  },
  {
   "cell_type": "markdown",
   "metadata": {},
   "source": [
    "파이썬에서 리스트는 다른 변수처럼 생성할 수 있다. 항목들을 [] 안에 적어주고 변수에 저장하면 리스트 변수가 생성된다."
   ]
  },
  {
   "cell_type": "code",
   "execution_count": 6,
   "metadata": {},
   "outputs": [],
   "source": [
    "bts = ['V', 'Jungkook', 'Jimin']"
   ]
  },
  {
   "cell_type": "markdown",
   "metadata": {},
   "source": [
    "항목이 없는 공백 리스트에는 코드로 항목을 추가할 수 있다. 리스트에 항목을 새로 추가하려면 append(항목) 메소드를 사용한다."
   ]
  },
  {
   "cell_type": "code",
   "execution_count": 7,
   "metadata": {},
   "outputs": [
    {
     "data": {
      "text/plain": [
       "['V']"
      ]
     },
     "execution_count": 7,
     "metadata": {},
     "output_type": "execute_result"
    }
   ],
   "source": [
    "bts = []\n",
    "bts.append(\"V\")\n",
    "bts"
   ]
  },
  {
   "cell_type": "code",
   "execution_count": 8,
   "metadata": {},
   "outputs": [
    {
     "data": {
      "text/plain": [
       "['V', 'Jin', 'Suga']"
      ]
     },
     "execution_count": 8,
     "metadata": {},
     "output_type": "execute_result"
    }
   ],
   "source": [
    "bts.append(\"Jin\")\n",
    "bts.append(\"Suga\")\n",
    "bts"
   ]
  },
  {
   "cell_type": "markdown",
   "metadata": {},
   "source": [
    "리스트에 항목을 추가하려면 리스트가 먼저 생성되어 있어야 한다. 리스트에 요소를 추가하는 매우 간편한 방법은 + 연산자를 이용하는 것이다."
   ]
  },
  {
   "cell_type": "code",
   "execution_count": 9,
   "metadata": {},
   "outputs": [
    {
     "data": {
      "text/plain": [
       "['V', 'Jin', 'Suga', 'Jungkook', 'RM']"
      ]
     },
     "execution_count": 9,
     "metadata": {},
     "output_type": "execute_result"
    }
   ],
   "source": [
    "bts = ['V', 'Jin', 'Suga', 'Jungkook']\n",
    "bts = bts + ['RM']\n",
    "bts"
   ]
  },
  {
   "cell_type": "markdown",
   "metadata": {},
   "source": [
    "연속된 정수 리스트는 range() 함수를 사용하여 쉽게 생성할 수 있다. range(시작값, 종료값, 스텝값)을 인자로 가질 수 있으며 시작값과 스텝값은 생략 가능하다."
   ]
  },
  {
   "cell_type": "code",
   "execution_count": 10,
   "metadata": {},
   "outputs": [
    {
     "data": {
      "text/plain": [
       "[0, 1, 2, 3, 4]"
      ]
     },
     "execution_count": 10,
     "metadata": {},
     "output_type": "execute_result"
    }
   ],
   "source": [
    "list(range(5))"
   ]
  },
  {
   "cell_type": "code",
   "execution_count": 12,
   "metadata": {},
   "outputs": [
    {
     "data": {
      "text/plain": [
       "[0, 1, 2, 3, 4]"
      ]
     },
     "execution_count": 12,
     "metadata": {},
     "output_type": "execute_result"
    }
   ],
   "source": [
    "list(range(0, 5))"
   ]
  },
  {
   "cell_type": "code",
   "execution_count": 13,
   "metadata": {},
   "outputs": [
    {
     "data": {
      "text/plain": [
       "[0, 1, 2, 3, 4]"
      ]
     },
     "execution_count": 13,
     "metadata": {},
     "output_type": "execute_result"
    }
   ],
   "source": [
    "list(range(0, 5, 1))"
   ]
  },
  {
   "cell_type": "code",
   "execution_count": 14,
   "metadata": {},
   "outputs": [
    {
     "data": {
      "text/plain": [
       "[0, 2, 4]"
      ]
     },
     "execution_count": 14,
     "metadata": {},
     "output_type": "execute_result"
    }
   ],
   "source": [
    "list(range(0, 5, 2))"
   ]
  },
  {
   "cell_type": "code",
   "execution_count": 16,
   "metadata": {},
   "outputs": [
    {
     "data": {
      "text/plain": [
       "[2, 3, 4]"
      ]
     },
     "execution_count": 16,
     "metadata": {},
     "output_type": "execute_result"
    }
   ],
   "source": [
    "list(range(2, 5))"
   ]
  },
  {
   "cell_type": "markdown",
   "metadata": {},
   "source": [
    "## 7.3 리스트 연산을 해보자"
   ]
  },
  {
   "cell_type": "markdown",
   "metadata": {},
   "source": [
    "파이썬에서는 리스트에 대해서도 다양한 연산이 가능하다."
   ]
  },
  {
   "cell_type": "code",
   "execution_count": 17,
   "metadata": {},
   "outputs": [
    {
     "data": {
      "text/plain": [
       "['V', 'J-Hope', 'RM', 'Jungkook', 'Jin']"
      ]
     },
     "execution_count": 17,
     "metadata": {},
     "output_type": "execute_result"
    }
   ],
   "source": [
    "bts = ['V', 'J-Hope'] + ['RM', 'Jungkook', 'Jin']\n",
    "bts"
   ]
  },
  {
   "cell_type": "markdown",
   "metadata": {},
   "source": [
    "문자열이 저장된 리스트들을 더하면 2개의 리스트가 합쳐지는 것을 확인 할 수 있다. 문자열 리스트 뿐만 아니라 정수 리스트를 서로 더해도 리스트는 합쳐진다."
   ]
  },
  {
   "cell_type": "code",
   "execution_count": 18,
   "metadata": {},
   "outputs": [
    {
     "data": {
      "text/plain": [
       "[10, 20, 30, 40, 50, 60]"
      ]
     },
     "execution_count": 18,
     "metadata": {},
     "output_type": "execute_result"
    }
   ],
   "source": [
    "numbers = [10, 20, 30] + [40, 50, 60]\n",
    "numbers"
   ]
  },
  {
   "cell_type": "markdown",
   "metadata": {},
   "source": [
    "정수 리스트를 서로 더했을 때는 대응되는 원소끼리 더해지는 것이 아니라 리스트가 합쳐진다. 원소끼리 더하려면 Numpy를 사용해야 한다. 리스트에 n을 곱하면 리스트가 n번 반복된다."
   ]
  },
  {
   "cell_type": "code",
   "execution_count": 19,
   "metadata": {},
   "outputs": [
    {
     "data": {
      "text/plain": [
       "[0, 1, 2, 0, 1, 2, 0, 1, 2]"
      ]
     },
     "execution_count": 19,
     "metadata": {},
     "output_type": "execute_result"
    }
   ],
   "source": [
    "mystery = [0, 1, 2] * 3\n",
    "mystery"
   ]
  },
  {
   "cell_type": "markdown",
   "metadata": {},
   "source": [
    "리스트에 어떤 값이 포함되는 지를 알려면 in 연산자를 사용한다. 반대의 역할을 하는 연산자는 not in 연산자이다."
   ]
  },
  {
   "cell_type": "code",
   "execution_count": 20,
   "metadata": {},
   "outputs": [
    {
     "data": {
      "text/plain": [
       "True"
      ]
     },
     "execution_count": 20,
     "metadata": {},
     "output_type": "execute_result"
    }
   ],
   "source": [
    "bts = ['V', 'J-Hope', 'RM', 'Jungkook', 'Jin', 'Jimin', 'Suga']\n",
    "'V' in bts"
   ]
  },
  {
   "cell_type": "code",
   "execution_count": 21,
   "metadata": {},
   "outputs": [
    {
     "data": {
      "text/plain": [
       "False"
      ]
     },
     "execution_count": 21,
     "metadata": {},
     "output_type": "execute_result"
    }
   ],
   "source": [
    "'V' not in bts"
   ]
  },
  {
   "cell_type": "markdown",
   "metadata": {},
   "source": [
    "### 도전문제 7.1"
   ]
  },
  {
   "cell_type": "code",
   "execution_count": 22,
   "metadata": {},
   "outputs": [
    {
     "data": {
      "text/plain": [
       "True"
      ]
     },
     "execution_count": 22,
     "metadata": {},
     "output_type": "execute_result"
    }
   ],
   "source": [
    "black_pink = ['Jennie', 'Rose', 'Jisoo', 'Risa']\n",
    "'Jennie' in black_pink"
   ]
  },
  {
   "cell_type": "code",
   "execution_count": 23,
   "metadata": {},
   "outputs": [
    {
     "data": {
      "text/plain": [
       "False"
      ]
     },
     "execution_count": 23,
     "metadata": {},
     "output_type": "execute_result"
    }
   ],
   "source": [
    "'Psy' in black_pink"
   ]
  },
  {
   "cell_type": "markdown",
   "metadata": {},
   "source": [
    "## LAB 7-1 입력을 받아 맛있는 과일의 리스트를 만들어 보자"
   ]
  },
  {
   "cell_type": "code",
   "execution_count": 25,
   "metadata": {},
   "outputs": [
    {
     "name": "stdout",
     "output_type": "stream",
     "text": [
      "좋아하는 과일 이름을 입력하시오: 사과\n",
      "좋아하는 과일 이름을 입력하시오: 키위\n",
      "좋아하는 과일 이름을 입력하시오: 바나나\n",
      "과일의 이름을 입력하세요 : 바나나\n",
      "이 과일은 당신이 좋아하는 과일입니다.\n"
     ]
    }
   ],
   "source": [
    "fruits = []\n",
    "for i in range(3):\n",
    "    a = input(\"좋아하는 과일 이름을 입력하시오: \")\n",
    "    fruits.append(a)\n",
    "    \n",
    "b = input(\"과일의 이름을 입력하세요 : \")\n",
    "if b in fruits:\n",
    "    print(\"이 과일은 당신이 좋아하는 과일입니다.\")\n",
    "else:\n",
    "    print(\"이 과일은 당신이 좋아하는 과일이 아닙니다.\")"
   ]
  },
  {
   "cell_type": "code",
   "execution_count": 26,
   "metadata": {},
   "outputs": [
    {
     "name": "stdout",
     "output_type": "stream",
     "text": [
      "좋아하는 과일 이름을 입력하시오: 사과\n",
      "좋아하는 과일 이름을 입력하시오: 바나나\n",
      "좋아하는 과일 이름을 입력하시오: 키위\n",
      "과일의 이름을 입력하세요 : 딸기\n",
      "이 과일은 당신이 좋아하는 과일이 아닙니다.\n"
     ]
    }
   ],
   "source": [
    "fruits = []\n",
    "\n",
    "name = input(\"좋아하는 과일 이름을 입력하시오: \")\n",
    "fruits.append(name)\n",
    "name = input(\"좋아하는 과일 이름을 입력하시오: \")\n",
    "fruits.append(name)\n",
    "name = input(\"좋아하는 과일 이름을 입력하시오: \")\n",
    "fruits.append(name)\n",
    "    \n",
    "name = input(\"과일의 이름을 입력하세요 : \")\n",
    "if name in fruits:\n",
    "    print(\"이 과일은 당신이 좋아하는 과일입니다.\")\n",
    "else:\n",
    "    print(\"이 과일은 당신이 좋아하는 과일이 아닙니다.\")"
   ]
  },
  {
   "cell_type": "markdown",
   "metadata": {},
   "source": [
    "## 7.4 리스트에 사용 가능한 함수를 알아보자"
   ]
  },
  {
   "cell_type": "markdown",
   "metadata": {},
   "source": [
    "하나의 리스트 안에 여러 가지 타입의 데이터를 섞어서 저장하는 것도 가능하다."
   ]
  },
  {
   "cell_type": "code",
   "execution_count": 27,
   "metadata": {},
   "outputs": [
    {
     "data": {
      "text/plain": [
       "['Kim', 178.9, 'Park', 173.5, 'Lee', 176.1]"
      ]
     },
     "execution_count": 27,
     "metadata": {},
     "output_type": "execute_result"
    }
   ],
   "source": [
    "slist1 = ['Kim', 178.9, 'Park', 173.5, 'Lee', 176.1]\n",
    "slist1"
   ]
  },
  {
   "cell_type": "markdown",
   "metadata": {},
   "source": [
    "그러나 위의 방법 보다는 리스트를 리스트 안에 포함시키는 것이 더 나을 것이다."
   ]
  },
  {
   "cell_type": "code",
   "execution_count": 29,
   "metadata": {},
   "outputs": [
    {
     "data": {
      "text/plain": [
       "('Kim', 'Park', 'Lee')"
      ]
     },
     "execution_count": 29,
     "metadata": {},
     "output_type": "execute_result"
    }
   ],
   "source": [
    "slist1[0], slist1[2], slist1[4]"
   ]
  },
  {
   "cell_type": "code",
   "execution_count": 30,
   "metadata": {},
   "outputs": [
    {
     "data": {
      "text/plain": [
       "[['Kim', 178.9], ['Park', 173.5], ['Lee', 176.1]]"
      ]
     },
     "execution_count": 30,
     "metadata": {},
     "output_type": "execute_result"
    }
   ],
   "source": [
    "slist2 = [['Kim', 178.9], ['Park', 173.5], ['Lee', 176.1]]\n",
    "slist2"
   ]
  },
  {
   "cell_type": "code",
   "execution_count": 31,
   "metadata": {},
   "outputs": [
    {
     "data": {
      "text/plain": [
       "list"
      ]
     },
     "execution_count": 31,
     "metadata": {},
     "output_type": "execute_result"
    }
   ],
   "source": [
    "type(slist1)"
   ]
  },
  {
   "cell_type": "code",
   "execution_count": 32,
   "metadata": {},
   "outputs": [
    {
     "data": {
      "text/plain": [
       "list"
      ]
     },
     "execution_count": 32,
     "metadata": {},
     "output_type": "execute_result"
    }
   ],
   "source": [
    "type(slist2)"
   ]
  },
  {
   "cell_type": "markdown",
   "metadata": {},
   "source": [
    "리스트에 수치값이 있을 경우 len(), max(), min(), sum(), any() 등의 내장함수를 사용하여 편리하게 활용할 수 있다.\n",
    "\n",
    "- len() : 리스트의 길이를 반환\n",
    "- max() : 리스트 항목 중 최댓값을 반환\n",
    "- min() : 리스트 항목 중 최솟값을 반환\n",
    "- sum() : 리스트 항목의 합을 반환\n",
    "- any() : 리스트에 0이 아닌 원소가 하나라도 있을 경우 True를 반환하고, 0과 ''는 any() 함수가 False를 반환한다."
   ]
  },
  {
   "cell_type": "code",
   "execution_count": 33,
   "metadata": {},
   "outputs": [
    {
     "data": {
      "text/plain": [
       "5"
      ]
     },
     "execution_count": 33,
     "metadata": {},
     "output_type": "execute_result"
    }
   ],
   "source": [
    "n_list = [200, 700, 500, 300, 400]\n",
    "len(n_list)"
   ]
  },
  {
   "cell_type": "code",
   "execution_count": 34,
   "metadata": {},
   "outputs": [
    {
     "data": {
      "text/plain": [
       "700"
      ]
     },
     "execution_count": 34,
     "metadata": {},
     "output_type": "execute_result"
    }
   ],
   "source": [
    "max(n_list)"
   ]
  },
  {
   "cell_type": "code",
   "execution_count": 35,
   "metadata": {},
   "outputs": [
    {
     "data": {
      "text/plain": [
       "200"
      ]
     },
     "execution_count": 35,
     "metadata": {},
     "output_type": "execute_result"
    }
   ],
   "source": [
    "min(n_list)"
   ]
  },
  {
   "cell_type": "code",
   "execution_count": 36,
   "metadata": {},
   "outputs": [
    {
     "data": {
      "text/plain": [
       "2100"
      ]
     },
     "execution_count": 36,
     "metadata": {},
     "output_type": "execute_result"
    }
   ],
   "source": [
    "sum(n_list)"
   ]
  },
  {
   "cell_type": "code",
   "execution_count": 37,
   "metadata": {},
   "outputs": [
    {
     "data": {
      "text/plain": [
       "420.0"
      ]
     },
     "execution_count": 37,
     "metadata": {},
     "output_type": "execute_result"
    }
   ],
   "source": [
    "sum(n_list)/len(n_list)"
   ]
  },
  {
   "cell_type": "code",
   "execution_count": 38,
   "metadata": {},
   "outputs": [
    {
     "data": {
      "text/plain": [
       "[1, 2, 3, 4, 5, 6, 7, 8, 9, 10]"
      ]
     },
     "execution_count": 38,
     "metadata": {},
     "output_type": "execute_result"
    }
   ],
   "source": [
    "list(range(1, 11))"
   ]
  },
  {
   "cell_type": "code",
   "execution_count": 40,
   "metadata": {},
   "outputs": [
    {
     "data": {
      "text/plain": [
       "True"
      ]
     },
     "execution_count": 40,
     "metadata": {},
     "output_type": "execute_result"
    }
   ],
   "source": [
    "a_list = [0, ''] # 임의의 리스트를 생성\n",
    "any(n_list) # n_list에 0이 아닌 원소가 하나라도 있는가 -> O"
   ]
  },
  {
   "cell_type": "code",
   "execution_count": 41,
   "metadata": {},
   "outputs": [
    {
     "data": {
      "text/plain": [
       "False"
      ]
     },
     "execution_count": 41,
     "metadata": {},
     "output_type": "execute_result"
    }
   ],
   "source": [
    "any(a_list) # n_list에 0이 아닌 원소가 하나라도 있는가 -> X"
   ]
  },
  {
   "cell_type": "markdown",
   "metadata": {},
   "source": [
    "## LAB 7-2 리스트에 도시의 인구를 저장해보자"
   ]
  },
  {
   "cell_type": "code",
   "execution_count": 1,
   "metadata": {},
   "outputs": [
    {
     "name": "stdout",
     "output_type": "stream",
     "text": [
      "[9765, 3441, 2954]\n"
     ]
    }
   ],
   "source": [
    "Seoul = 9765\n",
    "Busan = 3441\n",
    "Incheon = 2954\n",
    "city_pop = [Seoul, Busan, Incheon]\n",
    "print(city_pop)"
   ]
  },
  {
   "cell_type": "code",
   "execution_count": 46,
   "metadata": {},
   "outputs": [
    {
     "name": "stdout",
     "output_type": "stream",
     "text": [
      "[9765, 3441, 2954, 1531]\n",
      "최대 인구 : 9765\n",
      "최소 인구 : 1531\n",
      "평균 인구 : 4422.75\n"
     ]
    }
   ],
   "source": [
    "Daejeon = 1531\n",
    "city_pop.append(Daejeon)\n",
    "\n",
    "print(city_pop)\n",
    "print(\"최대 인구 :\", max(city_pop))\n",
    "print(\"최소 인구 :\", min(city_pop))\n",
    "print(\"평균 인구 :\", sum(city_pop)/len(city_pop))"
   ]
  },
  {
   "cell_type": "code",
   "execution_count": 2,
   "metadata": {},
   "outputs": [
    {
     "name": "stdout",
     "output_type": "stream",
     "text": [
      "최대 인구 : 9765\n",
      "최소 인구 : 1531\n",
      "평균 인구 : 4422.75\n"
     ]
    }
   ],
   "source": [
    "Seoul = 9765\n",
    "Busan = 3441\n",
    "Incheon = 2954\n",
    "city_pop = [Seoul, Busan, Incheon]\n",
    "print(city_pop)\n",
    "\n",
    "Daejeon = 1531\n",
    "city_pop.append(Daejeon)\n",
    "\n",
    "max_pop = 0\n",
    "min_pop = 9999999999\n",
    "pop_sum = 0\n",
    "n = 0\n",
    "\n",
    "for pop in city_pop:\n",
    "    if pop > max_pop:\n",
    "        max_pop = pop\n",
    "    if pop < min_pop:\n",
    "        min_pop = pop\n",
    "    pop_sum += pop\n",
    "    n += 1\n",
    "    \n",
    "print(\"최대 인구 :\", max_pop)\n",
    "print(\"최소 인구 :\", min_pop)\n",
    "print(\"평균 인구 :\", pop_sum/n)"
   ]
  },
  {
   "cell_type": "markdown",
   "metadata": {},
   "source": [
    "## 7.5 인덱스를 사용하여 리스트의 항목에 접근하자"
   ]
  },
  {
   "cell_type": "code",
   "execution_count": 56,
   "metadata": {},
   "outputs": [],
   "source": [
    "letters = ['A', 'B', 'C', 'D', 'E', 'F']"
   ]
  },
  {
   "cell_type": "markdown",
   "metadata": {},
   "source": [
    "리스트에서 데이터를 추출하려면 인덱스라는 정수를 사용한다. 인덱스란 리스트에서의 항목의 번호라고 생각하면 된다. 리스트의 인덱스는 0부터 시작한다."
   ]
  },
  {
   "cell_type": "code",
   "execution_count": 57,
   "metadata": {},
   "outputs": [
    {
     "data": {
      "text/plain": [
       "'A'"
      ]
     },
     "execution_count": 57,
     "metadata": {},
     "output_type": "execute_result"
    }
   ],
   "source": [
    "letters[0]"
   ]
  },
  {
   "cell_type": "code",
   "execution_count": 59,
   "metadata": {},
   "outputs": [
    {
     "data": {
      "text/plain": [
       "'B'"
      ]
     },
     "execution_count": 59,
     "metadata": {},
     "output_type": "execute_result"
    }
   ],
   "source": [
    "letters[1]"
   ]
  },
  {
   "cell_type": "code",
   "execution_count": 60,
   "metadata": {
    "scrolled": true
   },
   "outputs": [
    {
     "data": {
      "text/plain": [
       "'C'"
      ]
     },
     "execution_count": 60,
     "metadata": {},
     "output_type": "execute_result"
    }
   ],
   "source": [
    "letters[2]"
   ]
  },
  {
   "cell_type": "markdown",
   "metadata": {},
   "source": [
    "음수는 리스트의 맨 끝에 있는 데이터를 얻고자 할 때 유용하다."
   ]
  },
  {
   "cell_type": "code",
   "execution_count": 61,
   "metadata": {},
   "outputs": [
    {
     "data": {
      "text/plain": [
       "'F'"
      ]
     },
     "execution_count": 61,
     "metadata": {},
     "output_type": "execute_result"
    }
   ],
   "source": [
    "letters[-1]"
   ]
  },
  {
   "cell_type": "markdown",
   "metadata": {},
   "source": [
    "파이썬의 len(), min(), max()와 같은 함수를 리스트에 적용하면 리스트의 길이와 함께 리스트 원소들 중에서 최솟값을 갖는 원소를 찾거나 최댓값을 갖는 원소를 찾을 수 있다."
   ]
  },
  {
   "cell_type": "code",
   "execution_count": 64,
   "metadata": {},
   "outputs": [
    {
     "data": {
      "text/plain": [
       "7"
      ]
     },
     "execution_count": 64,
     "metadata": {},
     "output_type": "execute_result"
    }
   ],
   "source": [
    "bts = ['V', 'RM', 'Jungkook', 'J-Hope', 'Suga', 'Jin', 'Jimin']\n",
    "len(bts)"
   ]
  },
  {
   "cell_type": "code",
   "execution_count": 65,
   "metadata": {},
   "outputs": [
    {
     "data": {
      "text/plain": [
       "'Jimin'"
      ]
     },
     "execution_count": 65,
     "metadata": {},
     "output_type": "execute_result"
    }
   ],
   "source": [
    "bts[len(bts)-1]"
   ]
  },
  {
   "cell_type": "code",
   "execution_count": 66,
   "metadata": {},
   "outputs": [
    {
     "data": {
      "text/plain": [
       "'Jimin'"
      ]
     },
     "execution_count": 66,
     "metadata": {},
     "output_type": "execute_result"
    }
   ],
   "source": [
    "bts[-1]"
   ]
  },
  {
   "cell_type": "code",
   "execution_count": 67,
   "metadata": {},
   "outputs": [
    {
     "data": {
      "text/plain": [
       "'J-Hope'"
      ]
     },
     "execution_count": 67,
     "metadata": {},
     "output_type": "execute_result"
    }
   ],
   "source": [
    "min(bts) # 리스트 원소 중 가장 작은 값을 찾는다(문자열은 사전식 순서)"
   ]
  },
  {
   "cell_type": "code",
   "execution_count": null,
   "metadata": {},
   "outputs": [],
   "source": [
    "max(bts) # 리스트 원소 중 가장 큰 값을 찾는다(문자열은 사전식 순서)"
   ]
  },
  {
   "cell_type": "markdown",
   "metadata": {},
   "source": [
    "## 7.6 리스트를 원하는 모양으로 자르는 슬라이싱"
   ]
  },
  {
   "cell_type": "markdown",
   "metadata": {},
   "source": [
    "리스트에서 여러 요소를 선택해서 새로운 리스트를 만들고 싶다면 슬라이싱을 사용할 수 있다."
   ]
  },
  {
   "cell_type": "code",
   "execution_count": 71,
   "metadata": {},
   "outputs": [
    {
     "data": {
      "text/plain": [
       "['C', 'D', 'E']"
      ]
     },
     "execution_count": 71,
     "metadata": {},
     "output_type": "execute_result"
    }
   ],
   "source": [
    "letters = ['A', 'B', 'C', 'D', 'E', 'F']\n",
    "letters[2:5]"
   ]
  },
  {
   "cell_type": "markdown",
   "metadata": {},
   "source": [
    "리스트를 슬라이싱하면 원래의 리스트는 손상되지 않으며, 새로운 리스트가 생성되어서 반환된다. 즉 슬라이스는 원래의 부분 복사본이다. 첫 번째 인덱스를 생략하면 무조건 리스트의 처음부터라고 가정한다."
   ]
  },
  {
   "cell_type": "code",
   "execution_count": 73,
   "metadata": {},
   "outputs": [
    {
     "data": {
      "text/plain": [
       "['A', 'B', 'C']"
      ]
     },
     "execution_count": 73,
     "metadata": {},
     "output_type": "execute_result"
    }
   ],
   "source": [
    "letters[:3]"
   ]
  },
  {
   "cell_type": "markdown",
   "metadata": {},
   "source": [
    "두 번째 인덱스가 생략되면 리스트의 끝까지라고 가정한다."
   ]
  },
  {
   "cell_type": "code",
   "execution_count": 74,
   "metadata": {},
   "outputs": [
    {
     "data": {
      "text/plain": [
       "['D', 'E', 'F']"
      ]
     },
     "execution_count": 74,
     "metadata": {},
     "output_type": "execute_result"
    }
   ],
   "source": [
    "letters[3:]"
   ]
  },
  {
   "cell_type": "markdown",
   "metadata": {},
   "source": [
    "콜론(:)만 있으면 리스트의 처음부터 끝까지라고 생각한다."
   ]
  },
  {
   "cell_type": "code",
   "execution_count": 75,
   "metadata": {},
   "outputs": [
    {
     "data": {
      "text/plain": [
       "['A', 'B', 'C', 'D', 'E', 'F']"
      ]
     },
     "execution_count": 75,
     "metadata": {},
     "output_type": "execute_result"
    }
   ],
   "source": [
    "letters[:]"
   ]
  },
  {
   "cell_type": "markdown",
   "metadata": {},
   "source": [
    "스텝값을 세 번째 원소로 넣어 step만큼 건너뛰며 원소르 추출할 수도 있다."
   ]
  },
  {
   "cell_type": "code",
   "execution_count": 76,
   "metadata": {},
   "outputs": [
    {
     "data": {
      "text/plain": [
       "['A', 'C', 'E']"
      ]
     },
     "execution_count": 76,
     "metadata": {},
     "output_type": "execute_result"
    }
   ],
   "source": [
    "letters[::2] # 전체를 2만큼 건너뛰며 원소를 추출"
   ]
  },
  {
   "cell_type": "code",
   "execution_count": 77,
   "metadata": {},
   "outputs": [
    {
     "data": {
      "text/plain": [
       "['F', 'E', 'D', 'C', 'B', 'A']"
      ]
     },
     "execution_count": 77,
     "metadata": {},
     "output_type": "execute_result"
    }
   ],
   "source": [
    "letters[::-1] # 전체를 뒤에서부터 앞으로 읽어오며 원소를 생성한다"
   ]
  },
  {
   "cell_type": "markdown",
   "metadata": {},
   "source": [
    "### 도전문제 7.2"
   ]
  },
  {
   "cell_type": "code",
   "execution_count": 78,
   "metadata": {},
   "outputs": [
    {
     "data": {
      "text/plain": [
       "6"
      ]
     },
     "execution_count": 78,
     "metadata": {},
     "output_type": "execute_result"
    }
   ],
   "source": [
    "# 1\n",
    "numbers = [4, 5, 6, 7, 8, 9]\n",
    "numbers[2]"
   ]
  },
  {
   "cell_type": "code",
   "execution_count": 79,
   "metadata": {},
   "outputs": [
    {
     "data": {
      "text/plain": [
       "[5, 6]"
      ]
     },
     "execution_count": 79,
     "metadata": {},
     "output_type": "execute_result"
    }
   ],
   "source": [
    "# 2\n",
    "numbers[1:3]"
   ]
  },
  {
   "cell_type": "code",
   "execution_count": 81,
   "metadata": {},
   "outputs": [
    {
     "data": {
      "text/plain": [
       "[4, 5, 6]"
      ]
     },
     "execution_count": 81,
     "metadata": {},
     "output_type": "execute_result"
    }
   ],
   "source": [
    "# 3\n",
    "numbers[:3]"
   ]
  },
  {
   "cell_type": "code",
   "execution_count": 82,
   "metadata": {},
   "outputs": [
    {
     "data": {
      "text/plain": [
       "[5, 7, 9]"
      ]
     },
     "execution_count": 82,
     "metadata": {},
     "output_type": "execute_result"
    }
   ],
   "source": [
    "# 4\n",
    "numbers[1::2]"
   ]
  },
  {
   "cell_type": "markdown",
   "metadata": {},
   "source": [
    "## LAB 7-3 도시의 인구 자료에 대한 슬라이싱을 해보자"
   ]
  },
  {
   "cell_type": "code",
   "execution_count": 83,
   "metadata": {},
   "outputs": [],
   "source": [
    "population = ['Seoul', 9765, 'Busan', 3441, 'Incheon', 2954]"
   ]
  },
  {
   "cell_type": "code",
   "execution_count": 91,
   "metadata": {},
   "outputs": [
    {
     "name": "stdout",
     "output_type": "stream",
     "text": [
      "서울 인구 : 9765\n"
     ]
    }
   ],
   "source": [
    "# 1\n",
    "print(\"서울 인구 :\", population[1])"
   ]
  },
  {
   "cell_type": "code",
   "execution_count": 92,
   "metadata": {},
   "outputs": [
    {
     "name": "stdout",
     "output_type": "stream",
     "text": [
      "인천 인구 : 2954\n"
     ]
    }
   ],
   "source": [
    "# 2\n",
    "print(\"인천 인구 :\", population[-1])"
   ]
  },
  {
   "cell_type": "code",
   "execution_count": 93,
   "metadata": {},
   "outputs": [
    {
     "name": "stdout",
     "output_type": "stream",
     "text": [
      "도시 리시트 : ['Seoul', 'Busan', 'Incheon']\n"
     ]
    }
   ],
   "source": [
    "# 3\n",
    "print(\"도시 리시트 :\", population[::2])"
   ]
  },
  {
   "cell_type": "code",
   "execution_count": 95,
   "metadata": {},
   "outputs": [
    {
     "name": "stdout",
     "output_type": "stream",
     "text": [
      "인구의 합 : 16160\n"
     ]
    }
   ],
   "source": [
    "# 4\n",
    "print(\"인구의 합 :\", sum(population[1::2]))"
   ]
  },
  {
   "cell_type": "markdown",
   "metadata": {},
   "source": [
    "### 도전문제 7.3"
   ]
  },
  {
   "cell_type": "code",
   "execution_count": 96,
   "metadata": {},
   "outputs": [
    {
     "data": {
      "text/plain": [
       "'P'"
      ]
     },
     "execution_count": 96,
     "metadata": {},
     "output_type": "execute_result"
    }
   ],
   "source": [
    "# 1\n",
    "s = \"Python is strong\"\n",
    "s[0]"
   ]
  },
  {
   "cell_type": "code",
   "execution_count": 97,
   "metadata": {},
   "outputs": [
    {
     "data": {
      "text/plain": [
       "'strong'"
      ]
     },
     "execution_count": 97,
     "metadata": {},
     "output_type": "execute_result"
    }
   ],
   "source": [
    "# 2\n",
    "s[-6:]"
   ]
  },
  {
   "cell_type": "code",
   "execution_count": 98,
   "metadata": {},
   "outputs": [
    {
     "data": {
      "text/plain": [
       "'Python'"
      ]
     },
     "execution_count": 98,
     "metadata": {},
     "output_type": "execute_result"
    }
   ],
   "source": [
    "# 3\n",
    "s[:6]"
   ]
  },
  {
   "cell_type": "code",
   "execution_count": 100,
   "metadata": {},
   "outputs": [
    {
     "data": {
      "text/plain": [
       "'is'"
      ]
     },
     "execution_count": 100,
     "metadata": {},
     "output_type": "execute_result"
    }
   ],
   "source": [
    "# 4\n",
    "s[7:9]"
   ]
  },
  {
   "cell_type": "markdown",
   "metadata": {},
   "source": [
    "## 7.7 리스트의 원소 값을 자유롭게 조작해 보자"
   ]
  },
  {
   "cell_type": "markdown",
   "metadata": {},
   "source": [
    "리스트의 요소들을 변경할 수 있다. 원하는 요소를 인덱스를 이용하여 지정한 후에 할당연산자로 새 값을 할당하면 된다."
   ]
  },
  {
   "cell_type": "code",
   "execution_count": 106,
   "metadata": {},
   "outputs": [],
   "source": [
    "slist = ['Kim', 178.9, 'Park', 173.5, 'Lee', 176.1]"
   ]
  },
  {
   "cell_type": "code",
   "execution_count": 107,
   "metadata": {},
   "outputs": [
    {
     "data": {
      "text/plain": [
       "['Kim', 178.9, 'Park', 175.0, 'Lee', 176.1]"
      ]
     },
     "execution_count": 107,
     "metadata": {},
     "output_type": "execute_result"
    }
   ],
   "source": [
    "slist[3] = 175.0 # slist[3]을 수정함\n",
    "slist"
   ]
  },
  {
   "cell_type": "markdown",
   "metadata": {},
   "source": [
    "리스트의 슬라이싱을 사용하여 한 번에 여러 원소의 값을 변경할 수도 있다."
   ]
  },
  {
   "cell_type": "code",
   "execution_count": 108,
   "metadata": {},
   "outputs": [
    {
     "data": {
      "text/plain": [
       "['Kim', 178.9, 'Paik', 180.0, 'Lee', 176.1]"
      ]
     },
     "execution_count": 108,
     "metadata": {},
     "output_type": "execute_result"
    }
   ],
   "source": [
    "slist[2:4] = ['Paik', 180.0] # 한번에 여러개도 수정 가능함\n",
    "slist"
   ]
  },
  {
   "cell_type": "markdown",
   "metadata": {},
   "source": [
    "함수를 사용하여 항목을 추가하려면 append()나 insert() 함수를 사용할 수 있다.\n",
    "\n",
    "- append() : 리스트의 뒤쪽에 항목 추가\n",
    "- insert(index, item) : 지정된 인덱스 위치에 항목 추가"
   ]
  },
  {
   "cell_type": "code",
   "execution_count": 109,
   "metadata": {},
   "outputs": [
    {
     "data": {
      "text/plain": [
       "['Kim', 178.9, 'Paik', 180.0, 'Hong', 168.1, 'Lee', 176.1]"
      ]
     },
     "execution_count": 109,
     "metadata": {},
     "output_type": "execute_result"
    }
   ],
   "source": [
    "# 함수를 사용하여 동적으로 항목을 추가하려면 append(), insert() 함수를 사용함\n",
    "slist.insert(4, \"Hong\") # slist[4] 위치에 내용을 추가함\n",
    "slist.insert(5, 168.1) # slist[5] 위치에 나용을 추가함\n",
    "slist"
   ]
  },
  {
   "cell_type": "markdown",
   "metadata": {},
   "source": [
    "- index(x) : 원소 x를 이용하여 위치를 찾는 기능\n",
    "- append(x) : 원소 x를 리스트의 끝에 추가\n",
    "- count(x) : 리스트 내에서 x원소의 개수를 반환\n",
    "- extend([x1, x2]) : [x1, x2] 리스트를 기존 리스트에 삽입\n",
    "- insert(index, item) : 원하는 index 위치에 x를 추가\n",
    "- remove(x) : x 원소를 리스트에서 삭제\n",
    "- pop(index) : index 위치의 원소를 삭제 한 후 반환\n",
    "- sort() : 값을 오름차순 순서대로 정렬\n",
    "- reverse() : 리스트를 원래 원소들의 역순으로 반환"
   ]
  },
  {
   "cell_type": "markdown",
   "metadata": {},
   "source": [
    "## 7.8 항목을 삭제하는 방법을 여러가지가 있다"
   ]
  },
  {
   "cell_type": "markdown",
   "metadata": {},
   "source": [
    "리스트의 항목을 삭제하는 것도 가능하다. 삭제를 위해서는 remove(), pop() 메소드 그리고 del 명령을 사용할 수 있다.\n",
    "\n",
    "- remove() : 리스트에서 지정된 항목을 삭제"
   ]
  },
  {
   "cell_type": "code",
   "execution_count": 110,
   "metadata": {},
   "outputs": [
    {
     "data": {
      "text/plain": [
       "['V', 'J-Hope', 'Suga']"
      ]
     },
     "execution_count": 110,
     "metadata": {},
     "output_type": "execute_result"
    }
   ],
   "source": [
    "bts = ['V', 'J-Hope', 'Suga', 'Jungkook']\n",
    "bts.remove(\"Jungkook\") # 해당 항목을 제거함\n",
    "bts"
   ]
  },
  {
   "cell_type": "markdown",
   "metadata": {},
   "source": [
    "remove()를 사용할 때는 삭제하고자 하는 항목의 위치를 알 필요가 없다. in 연산자를 사용하면 항목이 리스트 안에 있는지를 알 수 있다."
   ]
  },
  {
   "cell_type": "code",
   "execution_count": 112,
   "metadata": {},
   "outputs": [
    {
     "data": {
      "text/plain": [
       "['V', 'J-Hope']"
      ]
     },
     "execution_count": 112,
     "metadata": {},
     "output_type": "execute_result"
    }
   ],
   "source": [
    "if 'Suga' in bts:\n",
    "    bts.remove(\"Suga\")\n",
    "bts"
   ]
  },
  {
   "cell_type": "markdown",
   "metadata": {},
   "source": [
    "pop()도 리스트에서 항목을 삭제하는 역할을 하는데 remove()와는 달리 리스트의 마지막 항목을 삭제하여 그 항목을 반환한다."
   ]
  },
  {
   "cell_type": "code",
   "execution_count": 114,
   "metadata": {},
   "outputs": [
    {
     "data": {
      "text/plain": [
       "['V', 'J-Hope', 'Suga']"
      ]
     },
     "execution_count": 114,
     "metadata": {},
     "output_type": "execute_result"
    }
   ],
   "source": [
    "bts = ['V', 'J-Hope', 'Suga', 'Jungkook']\n",
    "last_member = bts.pop()\n",
    "last_member # 마지막에 있는 항목을 보여주고 제거함\n",
    "bts"
   ]
  },
  {
   "cell_type": "markdown",
   "metadata": {},
   "source": [
    "del 명령어는 리스트의 메소드가 아니므로 주의해야 한다. 이 명령어는 파이썬의 키워드인데 인덱스를 사용하여 해당하는 항목을 메모리에서 삭제할 수 있다."
   ]
  },
  {
   "cell_type": "code",
   "execution_count": 115,
   "metadata": {
    "scrolled": true
   },
   "outputs": [
    {
     "data": {
      "text/plain": [
       "['J-Hope', 'Suga', 'Jungkook']"
      ]
     },
     "execution_count": 115,
     "metadata": {},
     "output_type": "execute_result"
    }
   ],
   "source": [
    "bts = ['V', 'J-Hope', 'Suga', 'Jungkook']\n",
    "del bts[0] # 리스트의 첫 항목을 삭제하는 명령어\n",
    "bts"
   ]
  },
  {
   "cell_type": "markdown",
   "metadata": {},
   "source": [
    "## 7.9 리스트의 객체의 생성과 참조라는 깊이있는 개념"
   ]
  },
  {
   "cell_type": "markdown",
   "metadata": {},
   "source": [
    "새로운 리스트를 만들면 파이썬은 컴퓨터 메모리에 리스트를 저장한 후에 리스트의 주소를 변수에 저장한다."
   ]
  },
  {
   "cell_type": "code",
   "execution_count": 117,
   "metadata": {},
   "outputs": [],
   "source": [
    "#alist가 리스트의 모든 원소를 가지고 있는 것이 아니라 리스트의 저장 위치를 가지고 있는 것이다\n",
    "alist = ['Kim', 'Park', 'Lee', 'Hong']"
   ]
  },
  {
   "cell_type": "markdown",
   "metadata": {},
   "source": [
    "하나의 리스트를 다른 리스트로 복사할 경우에 확실하게 나타난다."
   ]
  },
  {
   "cell_type": "code",
   "execution_count": 118,
   "metadata": {},
   "outputs": [
    {
     "data": {
      "text/plain": [
       "['Kim', 'Choi', 'Lee', 'Hong']"
      ]
     },
     "execution_count": 118,
     "metadata": {},
     "output_type": "execute_result"
    }
   ],
   "source": [
    "blist = alist\n",
    "blist[1] = 'Choi' # blist[1] 위치의 항목을 변경함\n",
    "alist # blist를 수정하는 것은 alist와는 상과 없음"
   ]
  },
  {
   "cell_type": "markdown",
   "metadata": {},
   "source": [
    "등호를 사용하여 리스트를 복사하면 실제 값 자체를 복사하지 않고, 리스트의 저장 위치만 복사된 것이다. 변수의 이름이 실제 존재하는 메모리 상의 객체를 가리키는 것을 참조라고 한다. 파이썬에서 변수의 이름은 모두 객체에 대한 참조로 이루어져 있다."
   ]
  },
  {
   "cell_type": "code",
   "execution_count": 119,
   "metadata": {},
   "outputs": [
    {
     "data": {
      "text/plain": [
       "1494272899144"
      ]
     },
     "execution_count": 119,
     "metadata": {},
     "output_type": "execute_result"
    }
   ],
   "source": [
    "id(alist)"
   ]
  },
  {
   "cell_type": "code",
   "execution_count": 120,
   "metadata": {},
   "outputs": [
    {
     "data": {
      "text/plain": [
       "1494272899144"
      ]
     },
     "execution_count": 120,
     "metadata": {},
     "output_type": "execute_result"
    }
   ],
   "source": [
    "id(blist) # alist와 blist의 id값은 동일하게 나옴"
   ]
  },
  {
   "cell_type": "markdown",
   "metadata": {},
   "source": [
    "## 7.10 리스트를 복제한 새로운 리스트 만들기"
   ]
  },
  {
   "cell_type": "markdown",
   "metadata": {},
   "source": [
    "동일한 내용을 가지는 새로운 리스트를 생성하고 싶은 경우에는 등호를 사용하면 안되고, list() 함수를 사용해야 한다. list() 함수를 사용하면 원래 리스트의 복사본이 생성되며 복사본을 참조한다. 따라서 두 객체의 id는 다른 값을 가진다."
   ]
  },
  {
   "cell_type": "code",
   "execution_count": 122,
   "metadata": {},
   "outputs": [],
   "source": [
    "alist = ['Kim', 'Park', 'Lee', 'Hong']\n",
    "blist = list(alist) # list()를 사용하면 복사본이 만들어짐"
   ]
  },
  {
   "cell_type": "code",
   "execution_count": 123,
   "metadata": {},
   "outputs": [
    {
     "data": {
      "text/plain": [
       "1494272844104"
      ]
     },
     "execution_count": 123,
     "metadata": {},
     "output_type": "execute_result"
    }
   ],
   "source": [
    "id(alist)"
   ]
  },
  {
   "cell_type": "code",
   "execution_count": 124,
   "metadata": {},
   "outputs": [
    {
     "data": {
      "text/plain": [
       "1494273040520"
      ]
     },
     "execution_count": 124,
     "metadata": {},
     "output_type": "execute_result"
    }
   ],
   "source": [
    "id(blist) # blist의 id는 alist와 다르다"
   ]
  },
  {
   "cell_type": "markdown",
   "metadata": {},
   "source": [
    "리스트를 복사하는 경우 슬라이싱 표기법을 사용해도 된다. 이때는 복사본 리스트를 변경해도 원래의 리스트는 변경되지 않는다."
   ]
  },
  {
   "cell_type": "code",
   "execution_count": 125,
   "metadata": {},
   "outputs": [],
   "source": [
    "blist = alist[:]"
   ]
  },
  {
   "cell_type": "code",
   "execution_count": 126,
   "metadata": {},
   "outputs": [
    {
     "data": {
      "text/plain": [
       "1494272844104"
      ]
     },
     "execution_count": 126,
     "metadata": {},
     "output_type": "execute_result"
    }
   ],
   "source": [
    "id(alist)"
   ]
  },
  {
   "cell_type": "code",
   "execution_count": 127,
   "metadata": {},
   "outputs": [
    {
     "data": {
      "text/plain": [
       "1494272898120"
      ]
     },
     "execution_count": 127,
     "metadata": {},
     "output_type": "execute_result"
    }
   ],
   "source": [
    "id(blist) # blist의 id는 alist의 id와 다름"
   ]
  },
  {
   "cell_type": "code",
   "execution_count": 129,
   "metadata": {},
   "outputs": [],
   "source": [
    "blist[0] = 'Song' # alist의 복사본 blist를 고쳤으므로 아무런 변화가 없다"
   ]
  },
  {
   "cell_type": "code",
   "execution_count": 130,
   "metadata": {},
   "outputs": [
    {
     "data": {
      "text/plain": [
       "['Kim', 'Park', 'Lee', 'Hong']"
      ]
     },
     "execution_count": 130,
     "metadata": {},
     "output_type": "execute_result"
    }
   ],
   "source": [
    "alist"
   ]
  },
  {
   "cell_type": "code",
   "execution_count": 131,
   "metadata": {},
   "outputs": [
    {
     "data": {
      "text/plain": [
       "['Song', 'Park', 'Lee', 'Hong']"
      ]
     },
     "execution_count": 131,
     "metadata": {},
     "output_type": "execute_result"
    }
   ],
   "source": [
    "blist"
   ]
  },
  {
   "cell_type": "markdown",
   "metadata": {},
   "source": [
    "## 7.11 리스트를 탐색해보자"
   ]
  },
  {
   "cell_type": "markdown",
   "metadata": {},
   "source": [
    "리스트에서 특정한 항목을 찾을 수 있다. 파이썬에서는 특정 항목이 리스트의 어떤 인덱스에 있는지 알려면 index()를 사용한다."
   ]
  },
  {
   "cell_type": "code",
   "execution_count": 132,
   "metadata": {},
   "outputs": [
    {
     "data": {
      "text/plain": [
       "2"
      ]
     },
     "execution_count": 132,
     "metadata": {},
     "output_type": "execute_result"
    }
   ],
   "source": [
    "bts = ['V', 'J-Hope', 'Suga', 'Jungkook']\n",
    "bts.index('Suga')"
   ]
  },
  {
   "cell_type": "markdown",
   "metadata": {},
   "source": [
    "remove()와 마찬가지로 탐색하고자 하는 항목이 리스트에 없다면 오류가 발생한다. 따라서 탐색하기 전에 in 연산자를 이용하여 리스트 안에 항목이 있는지부터 확인하는 것이 안전하다."
   ]
  },
  {
   "cell_type": "code",
   "execution_count": 133,
   "metadata": {},
   "outputs": [
    {
     "name": "stdout",
     "output_type": "stream",
     "text": [
      "2\n"
     ]
    }
   ],
   "source": [
    "if 'Suga' in bts:\n",
    "    print(bts.index('Suga'))"
   ]
  },
  {
   "cell_type": "code",
   "execution_count": 134,
   "metadata": {},
   "outputs": [
    {
     "name": "stdout",
     "output_type": "stream",
     "text": [
      "V\n",
      "J-Hope\n",
      "Suga\n",
      "Jungkook\n"
     ]
    }
   ],
   "source": [
    "bts = ['V', 'J-Hope', 'Suga', 'Jungkook']\n",
    "for member in bts:\n",
    "    print(member)"
   ]
  },
  {
   "cell_type": "markdown",
   "metadata": {},
   "source": [
    "## 7.12 리스트를 크기에 따라 정렬해보자"
   ]
  },
  {
   "cell_type": "markdown",
   "metadata": {},
   "source": [
    "리스트는 정렬할 수도 있다. 정렬이란 리스트 안의 항목들을 크기 순으로 나열하는 것이다. 정렬을 위해서는 리스트의 sort() 메소드를 사용하면 된다."
   ]
  },
  {
   "cell_type": "code",
   "execution_count": 135,
   "metadata": {},
   "outputs": [
    {
     "name": "stdout",
     "output_type": "stream",
     "text": [
      "[1, 2, 3, 4, 5, 6, 7, 8, 9]\n"
     ]
    }
   ],
   "source": [
    "numbers = [9, 6, 7, 1, 8, 4, 5, 3, 2]\n",
    "numbers.sort()\n",
    "print(numbers)"
   ]
  },
  {
   "cell_type": "markdown",
   "metadata": {},
   "source": [
    "기본정렬방식은 오름차순이다. 내림차순 정렬을 원하면 reverse 인자를 사용하면 된다."
   ]
  },
  {
   "cell_type": "code",
   "execution_count": 136,
   "metadata": {},
   "outputs": [
    {
     "name": "stdout",
     "output_type": "stream",
     "text": [
      "[9, 8, 7, 6, 5, 4, 3, 2, 1]\n"
     ]
    }
   ],
   "source": [
    "numbers.sort(reverse=True) # 내림차순으로 정렬\n",
    "print(numbers)"
   ]
  },
  {
   "cell_type": "markdown",
   "metadata": {},
   "source": [
    "리스트 안에 들어 있는 항목들이 문자열인 경우에는 사전 순서대로 정렬된다."
   ]
  },
  {
   "cell_type": "code",
   "execution_count": 137,
   "metadata": {},
   "outputs": [
    {
     "name": "stdout",
     "output_type": "stream",
     "text": [
      "['J-Hope', 'Jungkook', 'Suga', 'V']\n"
     ]
    }
   ],
   "source": [
    "bts = ['V', 'J-Hope', 'Suga', 'Jungkook']\n",
    "bts.sort()\n",
    "print(bts)"
   ]
  },
  {
   "cell_type": "markdown",
   "metadata": {},
   "source": [
    "sort() 메소드는 원래의 리스트의 내부 항목의 순서를 변경시키는 기능을 한다. 만일 정렬된 새로운 리스트가 필요하면 sorted() 함수를 사용해야 한다."
   ]
  },
  {
   "cell_type": "code",
   "execution_count": 140,
   "metadata": {},
   "outputs": [
    {
     "name": "stdout",
     "output_type": "stream",
     "text": [
      "[1, 2, 3, 4, 5, 6, 7, 8, 9]\n"
     ]
    }
   ],
   "source": [
    "numbers = [9, 6, 7, 1, 8, 4, 5, 3, 2]\n",
    "new_list = sorted(numbers)\n",
    "print(new_list) # numbers 리스트를 항목의 크기 순으로 정렬"
   ]
  },
  {
   "cell_type": "code",
   "execution_count": 141,
   "metadata": {},
   "outputs": [
    {
     "name": "stdout",
     "output_type": "stream",
     "text": [
      "[9, 6, 7, 1, 8, 4, 5, 3, 2]\n"
     ]
    }
   ],
   "source": [
    "print(numbers) # sorted() 함수는 정렬한 결과를 반환하므로 원래 리스트에는 변화가 없음"
   ]
  },
  {
   "cell_type": "markdown",
   "metadata": {},
   "source": [
    "리스트를 역순으로 정렬하고 싶으면 sorted()를 호출할 때 reverse=True를 사용한다."
   ]
  },
  {
   "cell_type": "code",
   "execution_count": 143,
   "metadata": {},
   "outputs": [
    {
     "name": "stdout",
     "output_type": "stream",
     "text": [
      "[9, 8, 7, 6, 5, 4, 3, 2, 1]\n"
     ]
    }
   ],
   "source": [
    "numbers = [9, 6, 7, 1, 8, 4, 5, 3, 2]\n",
    "new_list = sorted(numbers, reverse=True)\n",
    "print(new_list)"
   ]
  },
  {
   "cell_type": "markdown",
   "metadata": {},
   "source": [
    "### 도전문제 7.4"
   ]
  },
  {
   "cell_type": "code",
   "execution_count": 144,
   "metadata": {},
   "outputs": [
    {
     "data": {
      "text/plain": [
       "['A', 'A', 'D', 'E', 'F', 'W', 'Y']"
      ]
     },
     "execution_count": 144,
     "metadata": {},
     "output_type": "execute_result"
    }
   ],
   "source": [
    "sorted(\"FADEWAY\")"
   ]
  },
  {
   "cell_type": "markdown",
   "metadata": {},
   "source": [
    "## LAB 7-4 오늘의 명언을 골라주는 기능을 만들자"
   ]
  },
  {
   "cell_type": "code",
   "execution_count": 148,
   "metadata": {},
   "outputs": [
    {
     "name": "stdout",
     "output_type": "stream",
     "text": [
      "##################################\n",
      "#          오늘의 명언           #\n",
      "##################################\n",
      "\n",
      "시작이 반이다.\n"
     ]
    }
   ],
   "source": [
    "import random\n",
    "\n",
    "quotes = []\n",
    "quotes.append(\"꿈을 지녀라. 그러면 어려운 현실을 이길 수 있다.\")\n",
    "quotes.append(\"분노는 바보들의 가슴속에서만 살아간다.\")\n",
    "quotes.append(\"고생 없이 얻을 수 있는 진실로 귀중한 것은 하나도 없다.\")\n",
    "quotes.append(\"사람은 사랑할 때 누구나 시인이 된다.\")\n",
    "quotes.append(\"시작이 반이다.\")\n",
    "\n",
    "print(\"##################################\")\n",
    "print(\"#          오늘의 명언           #\")\n",
    "print(\"##################################\")\n",
    "print(\"\")\n",
    "dailyQuote = random.choice(quotes)\n",
    "print(dailyQuote)"
   ]
  },
  {
   "cell_type": "markdown",
   "metadata": {},
   "source": [
    "### 도전문제 7.5"
   ]
  },
  {
   "cell_type": "code",
   "execution_count": 11,
   "metadata": {
    "scrolled": true
   },
   "outputs": [
    {
     "name": "stdout",
     "output_type": "stream",
     "text": [
      "##################################\n",
      "#          오늘의 연산           #\n",
      "##################################\n",
      "\n",
      "100 + 200\n",
      "300\n"
     ]
    }
   ],
   "source": [
    "import random\n",
    "\n",
    "eval = []\n",
    "eval.append(\"100 + 200\")\n",
    "eval.append(\"100 + 300\")\n",
    "eval.append(\"300 + 200\")\n",
    "eval.append(\"100 + 400\")\n",
    "eval.append(\"200 + 600\")\n",
    "\n",
    "print(\"##################################\")\n",
    "print(\"#          오늘의 연산           #\")\n",
    "print(\"##################################\")\n",
    "print(\"\")\n",
    "dailyeval = random.choice(eval)\n",
    "print(dailyeval)\n",
    "print(int(dailyeval[:3]) + int(dailyeval[-3:]))"
   ]
  },
  {
   "cell_type": "markdown",
   "metadata": {},
   "source": [
    "## 7.13 리스트 함축은 코드를 짧고 간결하게 만드는데 사용된다"
   ]
  },
  {
   "cell_type": "markdown",
   "metadata": {},
   "source": [
    "파이썬은 리스트 함축 기능을 지원한다. comprehension은 함축, 포한, 내포라는 의미를 가지는데 이는 수학자들이 집합을 정의하는 것과 유사하다."
   ]
  },
  {
   "cell_type": "code",
   "execution_count": 150,
   "metadata": {},
   "outputs": [
    {
     "data": {
      "text/plain": [
       "[1, 4, 9, 16, 25]"
      ]
     },
     "execution_count": 150,
     "metadata": {},
     "output_type": "execute_result"
    }
   ],
   "source": [
    "[ x**2 for x in [1, 2, 3, 4, 5]] # 숫자 리스트에 대한 제곱으로 된 리스트"
   ]
  },
  {
   "cell_type": "markdown",
   "metadata": {},
   "source": [
    "리스트 함축 표현을 사용하면 입력 리스트의 각 항목을 하나하나 방문하며 지정된 연산을 하고, 연산의 결과로 생성된 항목값을 가지는 리스트를 생성할 수 있다.\n",
    "\n",
    "리스트 함축을 사용하지 않는다면 반복문을 사용해야 한다."
   ]
  },
  {
   "cell_type": "code",
   "execution_count": 151,
   "metadata": {},
   "outputs": [],
   "source": [
    "s = []\n",
    "for x in [1, 2, 3, 4, 5]:\n",
    "    s.append(x**2)"
   ]
  },
  {
   "cell_type": "markdown",
   "metadata": {},
   "source": [
    "리스트 함축은 다양한 기능도 수행할 수 있다."
   ]
  },
  {
   "cell_type": "code",
   "execution_count": 152,
   "metadata": {},
   "outputs": [
    {
     "data": {
      "text/plain": [
       "[0, 1, 2, 3, 4, 5, 6, 7, 8, 9]"
      ]
     },
     "execution_count": 152,
     "metadata": {},
     "output_type": "execute_result"
    }
   ],
   "source": [
    "[x for x in range(10)]"
   ]
  },
  {
   "cell_type": "code",
   "execution_count": 153,
   "metadata": {},
   "outputs": [
    {
     "data": {
      "text/plain": [
       "[0, 1, 4, 9, 16, 25, 36, 49, 64, 81]"
      ]
     },
     "execution_count": 153,
     "metadata": {},
     "output_type": "execute_result"
    }
   ],
   "source": [
    "[x*x for x in range(10)]"
   ]
  },
  {
   "cell_type": "code",
   "execution_count": 154,
   "metadata": {},
   "outputs": [
    {
     "data": {
      "text/plain": [
       "['H', 'E', 'L', 'L', 'O', ' ', 'W', 'O', 'R', 'L', 'D']"
      ]
     },
     "execution_count": 154,
     "metadata": {},
     "output_type": "execute_result"
    }
   ],
   "source": [
    "st = 'Hello world'\n",
    "[x.upper() for x in st] # 문자열을 대문자로"
   ]
  },
  {
   "cell_type": "code",
   "execution_count": 156,
   "metadata": {},
   "outputs": [
    {
     "name": "stdout",
     "output_type": "stream",
     "text": [
      "['W', 'T', 'T', 'P', 'W']\n"
     ]
    }
   ],
   "source": [
    "a = ['welcome', 'to', 'the', 'python', 'world']\n",
    "first_a = [s[0].upper() for s in a] # 첫 알파벳에 대한 대문자 변환\n",
    "print(first_a)"
   ]
  },
  {
   "cell_type": "markdown",
   "metadata": {},
   "source": [
    "## 7.14 조건이 붙는 리스트 함축 표현도 가능하다"
   ]
  },
  {
   "cell_type": "markdown",
   "metadata": {},
   "source": [
    "리스트 함축에는 if를 사용하여 조건이 추가될 수 있다."
   ]
  },
  {
   "cell_type": "code",
   "execution_count": 157,
   "metadata": {},
   "outputs": [
    {
     "data": {
      "text/plain": [
       "[0, 2, 4, 6, 8]"
      ]
     },
     "execution_count": 157,
     "metadata": {},
     "output_type": "execute_result"
    }
   ],
   "source": [
    "[x for x in range(10) if x%2 == 0]"
   ]
  },
  {
   "cell_type": "code",
   "execution_count": 158,
   "metadata": {},
   "outputs": [
    {
     "data": {
      "text/plain": [
       "[0, 4, 16, 36, 64]"
      ]
     },
     "execution_count": 158,
     "metadata": {},
     "output_type": "execute_result"
    }
   ],
   "source": [
    "[x**2 for x in range(10) if x%2 == 0]"
   ]
  },
  {
   "cell_type": "markdown",
   "metadata": {},
   "source": [
    "리스트 함축은 숫자에 대해서만 적용되는 것은 아니며 문자열과 같이 여러 자료형에 대해서도 리스트 함축을 적용할 수 있다.\n",
    "\n",
    "문자열이 숫자로만 이루어져 있는지를 isdigit() 메소드를 사용하여 검사할 수 있다."
   ]
  },
  {
   "cell_type": "code",
   "execution_count": 159,
   "metadata": {},
   "outputs": [
    {
     "name": "stdout",
     "output_type": "stream",
     "text": [
      "['12345', '67890']\n"
     ]
    }
   ],
   "source": [
    "s = ['Hello', '12345', 'world', '67890']\n",
    "numbers = [x for x in s if x.isdigit()]\n",
    "print(numbers)"
   ]
  },
  {
   "cell_type": "markdown",
   "metadata": {},
   "source": [
    "공백으로 구분된 여러 개의 정수를 한 줄에 입력하여 개별적인 정수값을 가진 리스트로 변환하는 것도 가능하다."
   ]
  },
  {
   "cell_type": "code",
   "execution_count": 160,
   "metadata": {},
   "outputs": [
    {
     "name": "stdout",
     "output_type": "stream",
     "text": [
      "정수를 여러개 입력하세요 : 100 200 300\n"
     ]
    },
    {
     "data": {
      "text/plain": [
       "[100, 200, 300]"
      ]
     },
     "execution_count": 160,
     "metadata": {},
     "output_type": "execute_result"
    }
   ],
   "source": [
    "[int(x) for x in input(\"정수를 여러개 입력하세요 : \").split()]"
   ]
  },
  {
   "cell_type": "code",
   "execution_count": 161,
   "metadata": {
    "scrolled": true
   },
   "outputs": [
    {
     "name": "stdout",
     "output_type": "stream",
     "text": [
      "정수를 여러개 입력하세요 : 100 300 400\n"
     ]
    },
    {
     "data": {
      "text/plain": [
       "[100, 300, 400]"
      ]
     },
     "execution_count": 161,
     "metadata": {},
     "output_type": "execute_result"
    }
   ],
   "source": [
    "[int(x) for x in input(\"정수를 여러개 입력하세요 : \").split() if x.isdigit()]"
   ]
  },
  {
   "cell_type": "markdown",
   "metadata": {},
   "source": [
    "변수 x와 y를 사용하여서 다른 리스트의 항목을 가져와서 튜플로 새로운 리스트를 만들 수도 있다."
   ]
  },
  {
   "cell_type": "code",
   "execution_count": 162,
   "metadata": {},
   "outputs": [
    {
     "data": {
      "text/plain": [
       "[(1, 3), (1, 1), (1, 4), (2, 3), (2, 1), (2, 4), (3, 3), (3, 1), (3, 4)]"
      ]
     },
     "execution_count": 162,
     "metadata": {},
     "output_type": "execute_result"
    }
   ],
   "source": [
    "[(x, y) for x in [1, 2, 3] for y in [3, 1, 4]]"
   ]
  },
  {
   "cell_type": "code",
   "execution_count": 163,
   "metadata": {},
   "outputs": [
    {
     "data": {
      "text/plain": [
       "[(1, 3), (1, 4), (2, 3), (2, 1), (2, 4), (3, 1), (3, 4)]"
      ]
     },
     "execution_count": 163,
     "metadata": {},
     "output_type": "execute_result"
    }
   ],
   "source": [
    "[(x, y) for x in [1, 2, 3] for y in [3, 1, 4] if x != y]"
   ]
  },
  {
   "cell_type": "markdown",
   "metadata": {},
   "source": [
    "## 7.15 한번 생성하면 그 값을 고칠 수 없는 자료형 : 튜플"
   ]
  },
  {
   "cell_type": "markdown",
   "metadata": {},
   "source": [
    "파이썬의 데이터 형을 크게 분류하면 불변속성 데이터 형, 가변속성 데이터 형으로 나눌 수 있다. 튜플은 리스트와 유사하다. 하지만 튜플의 내용은 한 번 지정되면 변경 될 수 없어 대표적인 불변속성 자료형이다.\n",
    "\n",
    "튜플을 한 번 그 내용이 정해지면 변경이 불가능하므로 구조가 단순하고 리스트에 비하여 접근 속도가 빠르다는 장점도 있다. 튜플 생성은 소괄호() 안에 항목들을 넣으면 된다."
   ]
  },
  {
   "cell_type": "code",
   "execution_count": 165,
   "metadata": {},
   "outputs": [
    {
     "data": {
      "text/plain": [
       "('red', 'green', 'blue')"
      ]
     },
     "execution_count": 165,
     "metadata": {},
     "output_type": "execute_result"
    }
   ],
   "source": [
    "colors = (\"red\", \"green\", \"blue\")\n",
    "colors"
   ]
  },
  {
   "cell_type": "markdown",
   "metadata": {},
   "source": [
    "다수의 정수를 저장하는 튜플도 생성할 수 있다."
   ]
  },
  {
   "cell_type": "code",
   "execution_count": 166,
   "metadata": {},
   "outputs": [
    {
     "data": {
      "text/plain": [
       "(1, 2, 3, 4, 5)"
      ]
     },
     "execution_count": 166,
     "metadata": {},
     "output_type": "execute_result"
    }
   ],
   "source": [
    "numbers = (1, 2, 3, 4, 5)\n",
    "numbers"
   ]
  },
  {
   "cell_type": "markdown",
   "metadata": {},
   "source": [
    "튜플은 변경될 수 없는 객체이므로 튜플의 요소는 변경될 수 없다. 따라서 변경을 시도하면 에러를 출력한다."
   ]
  },
  {
   "cell_type": "code",
   "execution_count": 167,
   "metadata": {},
   "outputs": [
    {
     "ename": "TypeError",
     "evalue": "'tuple' object does not support item assignment",
     "output_type": "error",
     "traceback": [
      "\u001b[1;31m---------------------------------------------------------------------------\u001b[0m",
      "\u001b[1;31mTypeError\u001b[0m                                 Traceback (most recent call last)",
      "\u001b[1;32m<ipython-input-167-614bcaadef71>\u001b[0m in \u001b[0;36m<module>\u001b[1;34m\u001b[0m\n\u001b[0;32m      1\u001b[0m \u001b[0mt1\u001b[0m \u001b[1;33m=\u001b[0m \u001b[1;33m(\u001b[0m\u001b[1;36m1\u001b[0m\u001b[1;33m,\u001b[0m \u001b[1;36m2\u001b[0m\u001b[1;33m,\u001b[0m \u001b[1;36m3\u001b[0m\u001b[1;33m,\u001b[0m \u001b[1;36m4\u001b[0m\u001b[1;33m,\u001b[0m \u001b[1;36m5\u001b[0m\u001b[1;33m)\u001b[0m\u001b[1;33m\u001b[0m\u001b[1;33m\u001b[0m\u001b[0m\n\u001b[1;32m----> 2\u001b[1;33m \u001b[0mt1\u001b[0m\u001b[1;33m[\u001b[0m\u001b[1;36m0\u001b[0m\u001b[1;33m]\u001b[0m \u001b[1;33m=\u001b[0m \u001b[1;36m100\u001b[0m\u001b[1;33m\u001b[0m\u001b[1;33m\u001b[0m\u001b[0m\n\u001b[0m",
      "\u001b[1;31mTypeError\u001b[0m: 'tuple' object does not support item assignment"
     ]
    }
   ],
   "source": [
    "t1 = (1, 2, 3, 4, 5)\n",
    "t1[0] = 100 # 튜플은 변경할 수 없다"
   ]
  },
  {
   "cell_type": "markdown",
   "metadata": {},
   "source": [
    "튜플도 시퀀스의 일종이기 때문에 인덱싱과 슬라이싱은 문자열이나 리스트와 동일하게 동작한다. 튜플간의 결합연산인 +와 반복연산자 *도 사용할 수 있다."
   ]
  },
  {
   "cell_type": "code",
   "execution_count": 168,
   "metadata": {},
   "outputs": [
    {
     "data": {
      "text/plain": [
       "1"
      ]
     },
     "execution_count": 168,
     "metadata": {},
     "output_type": "execute_result"
    }
   ],
   "source": [
    "t1 = (1, 2, 3, 4, 5)\n",
    "t1[0]"
   ]
  },
  {
   "cell_type": "code",
   "execution_count": 170,
   "metadata": {},
   "outputs": [
    {
     "data": {
      "text/plain": [
       "(2, 3, 4)"
      ]
     },
     "execution_count": 170,
     "metadata": {},
     "output_type": "execute_result"
    }
   ],
   "source": [
    "t1[1:4]"
   ]
  },
  {
   "cell_type": "code",
   "execution_count": 171,
   "metadata": {},
   "outputs": [
    {
     "data": {
      "text/plain": [
       "(1, 2, 3, 4, 5, 1, 2, 3, 4, 5)"
      ]
     },
     "execution_count": 171,
     "metadata": {},
     "output_type": "execute_result"
    }
   ],
   "source": [
    "t2 = t1 + t1\n",
    "t2"
   ]
  },
  {
   "cell_type": "markdown",
   "metadata": {},
   "source": [
    "## LAB 7-5 함수는 튜플을 돌려줄 수 있다"
   ]
  },
  {
   "cell_type": "code",
   "execution_count": 2,
   "metadata": {},
   "outputs": [
    {
     "name": "stdout",
     "output_type": "stream",
     "text": [
      "원의 반지름을 입력하시오 : 10\n",
      "원의 넓이는 314.1592653589793이고 원의 둘레는 62.83185307179586이다.\n"
     ]
    }
   ],
   "source": [
    "import math\n",
    "\n",
    "def calCircle(r):\n",
    "    area = math.pi * r * r\n",
    "    circum = 2 * math.pi * r\n",
    "    return area, circum\n",
    "\n",
    "radius = float(input(\"원의 반지름을 입력하시오 : \"))\n",
    "(a, c) = calCircle(radius)\n",
    "print(\"원의 넓이는 \" + str(a) + \"이고 원의 둘레는 \" +  str(c) + \"이다.\")"
   ]
  },
  {
   "cell_type": "markdown",
   "metadata": {},
   "source": [
    "## LAB 7-6 도시의 이름과 인구를 튜플로 묶어보자"
   ]
  },
  {
   "cell_type": "code",
   "execution_count": 5,
   "metadata": {},
   "outputs": [],
   "source": [
    "city_info = [('서울', 9765), ('부산', 3441), ('인천', 3954), ('광주', 1501), ('대전', 1531)]"
   ]
  },
  {
   "cell_type": "code",
   "execution_count": 6,
   "metadata": {},
   "outputs": [
    {
     "name": "stdout",
     "output_type": "stream",
     "text": [
      "최대인구: 서울, 인구: 9765 천명\n",
      "최소인구: 광주, 인구: 1501 천명\n",
      "리스트 도시 평균 인구: 4038.4 천명\n"
     ]
    }
   ],
   "source": [
    "max_pop = 0\n",
    "min_pop = 99999999999999999999\n",
    "total_pop = 0\n",
    "\n",
    "max_city = None\n",
    "min_city = None\n",
    "\n",
    "for city in city_info:\n",
    "    total_pop += city[1]\n",
    "    if city[1] > max_pop:\n",
    "        max_pop = city[1]\n",
    "        max_city = city\n",
    "    if city[1] < min_pop:\n",
    "        min_pop = city[1]\n",
    "        min_city = city\n",
    "\n",
    "print(\"최대인구: {0}, 인구: {1} 천명\".format(max_city[0], max_city[1]))\n",
    "print(\"최소인구: {0}, 인구: {1} 천명\".format(min_city[0], min_city[1]))\n",
    "print(\"리스트 도시 평균 인구: {0} 천명\".format(total_pop / len(city_info)))"
   ]
  },
  {
   "cell_type": "markdown",
   "metadata": {},
   "source": [
    "## 7.16 클래스와 객체가 무엇인가"
   ]
  },
  {
   "cell_type": "markdown",
   "metadata": {},
   "source": [
    "프로그램 코드가 복잡해지면 이를 관리하기가 쉽지 않다. 가장 뛰어난 해결책으로 인정 받고 있는 방법이 바로 객체지향 프로그래밍 방식이다. 객체지향 프로그래밍은 다양한 객체를 클래스로 미리 정의해두고 이 객체들이 프로그램 상에서 상호작용하면서 원하는 작업을 수행하는 문제해결 방식이다. 각각의 객체들은 클래스의 틀을 지키면서 서로 다른 실제 값을 담고 있다. 이런 객체를 인스턴스 객체라고 한다.\n",
    "\n",
    "파이썬은 '객체지향 프로그래밍 언어'이다. 자료형, 함수, 모듈은 모두 객체이다."
   ]
  },
  {
   "cell_type": "code",
   "execution_count": 7,
   "metadata": {},
   "outputs": [
    {
     "data": {
      "text/plain": [
       "['cat', 'dog', 'lion', 'tiger']"
      ]
     },
     "execution_count": 7,
     "metadata": {},
     "output_type": "execute_result"
    }
   ],
   "source": [
    "animals = ['lion', 'tiger', 'cat', 'dog']\n",
    "animals.sort() # animals 리스트의 문자열을 알파벳 순으로 정렬\n",
    "animals"
   ]
  },
  {
   "cell_type": "code",
   "execution_count": 8,
   "metadata": {},
   "outputs": [
    {
     "data": {
      "text/plain": [
       "['cat', 'dog', 'lion', 'tiger', 'rabbit']"
      ]
     },
     "execution_count": 8,
     "metadata": {},
     "output_type": "execute_result"
    }
   ],
   "source": [
    "animals.append('rabbit') # animals 리스트에 새 원소를 추가\n",
    "animals"
   ]
  },
  {
   "cell_type": "code",
   "execution_count": 9,
   "metadata": {},
   "outputs": [
    {
     "data": {
      "text/plain": [
       "['rabbit', 'tiger', 'lion', 'dog', 'cat']"
      ]
     },
     "execution_count": 9,
     "metadata": {},
     "output_type": "execute_result"
    }
   ],
   "source": [
    "animals.reverse() # animals 리스트를 역순으로 재배열\n",
    "animals"
   ]
  },
  {
   "cell_type": "markdown",
   "metadata": {},
   "source": [
    "리스트라는 것은 여러 개의 데이터를 담을 수 있고 인덱스로 접근할 수 있는 어떤 데이터 자료 유형의 통칭이다. 이러한 특정한 자료 유형이 클래스라고 할 수 있다. 리스트 클래스에는 sort(), append(), remove(), reverse(), pop() 등의 풍부한 기능을 이미 구현해 두었는데 리스트 클래스에 속하는 모든 객체들이 이 기능을 사용할 수 있다.\n",
    "\n",
    "특정한 클래스에 속한 객체들이 사용할 수 있는 함수들을 해당 클래스의 메소드라고 부른다. 객체 지향 언어는 리스트와 같은 클래스를 정의할 수 있고, 해당 클래스의 인스턴스 객체를 생성할 수 있으며, 이들이 메소드를 이용하여 다양한 일을 할 수 있도록 지원하는 언어를 의미한다."
   ]
  },
  {
   "cell_type": "markdown",
   "metadata": {},
   "source": [
    "### 핵심정리"
   ]
  },
  {
   "cell_type": "markdown",
   "metadata": {},
   "source": [
    "- 리스트는 항목들을 모아둔 곳이다\n",
    "- 리스트의 항목은 어떤 것이든 가능하다\n",
    "- 공백 리스트를 만들고 append()를 호출하여서 코드로 항목을 추가할 수 있다\n",
    "- 튜플은 변경불가능 자료형으로 리스트에 비하여 처리속도가 빠르지만 그 항목값을 수정할 수 없다\n",
    "- 튜플을 사용하여 함수로부터 여러 개의 값을 반환 받을 수 있다\n",
    "- 파이썬은 여러가지 종류의 클래스를 미리 만들어서 개발시에 사용할 수 있도록 제공하는 객체지향 프로그래밍 언어이다"
   ]
  }
 ],
 "metadata": {
  "kernelspec": {
   "display_name": "Python 3",
   "language": "python",
   "name": "python3"
  },
  "language_info": {
   "codemirror_mode": {
    "name": "ipython",
    "version": 3
   },
   "file_extension": ".py",
   "mimetype": "text/x-python",
   "name": "python",
   "nbconvert_exporter": "python",
   "pygments_lexer": "ipython3",
   "version": "3.7.3"
  }
 },
 "nbformat": 4,
 "nbformat_minor": 2
}
