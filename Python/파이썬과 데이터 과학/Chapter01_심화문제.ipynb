{
 "cells": [
  {
   "cell_type": "markdown",
   "metadata": {},
   "source": [
    "# Chapter01_심화문제"
   ]
  },
  {
   "cell_type": "markdown",
   "metadata": {},
   "source": [
    "## 1.3"
   ]
  },
  {
   "cell_type": "code",
   "execution_count": 2,
   "metadata": {},
   "outputs": [
    {
     "name": "stdout",
     "output_type": "stream",
     "text": [
      "(1) 100\n",
      "(2) 300\n",
      "(3) 100+200\n",
      "(4) 100 200\n",
      "(5) 100 200\n",
      "(6) 100200\n",
      "(7) Hello Python!\n",
      "(8) Hello Python !\n",
      "(9) HelloPython!\n",
      "(10) HelloPython!\n",
      "(11) ********************\n",
      "(12) ********************\n"
     ]
    }
   ],
   "source": [
    "print('(1)', 100)\n",
    "print('(2)', 100+200)\n",
    "print('(3)', '100+200')\n",
    "print('(4)', 100, 200)\n",
    "print('(5)', '100', '200')\n",
    "print('(6)', '100''200')\n",
    "print('(7)', 'Hello Python!')\n",
    "print('(8)', 'Hello', 'Python', '!')\n",
    "print('(9)', 'Hello'+'Python'+'!')\n",
    "print('(10)', 'Hello''Python''!')\n",
    "print('(11)', '********************')\n",
    "print('(12)', '*' * 20)"
   ]
  },
  {
   "cell_type": "markdown",
   "metadata": {},
   "source": [
    "## 1.4"
   ]
  },
  {
   "cell_type": "code",
   "execution_count": 3,
   "metadata": {},
   "outputs": [
    {
     "name": "stdout",
     "output_type": "stream",
     "text": [
      "(1) Hello Python!\n",
      "(2) ********************\n",
      "(3) Life is short learn Python!\n",
      "(4) 300\n"
     ]
    }
   ],
   "source": [
    "print('(1)', 'Hello Python!') # 따옴표를 동일하게 수정\n",
    "print('(2)', '*'*20) # 곱하기 연산자 추가\n",
    "print('(3)', 'Life is short learn Python!') # 따옴표 추가\n",
    "print('(4)', 100 + 200) # 숫자/문자 형태를 동일하게 수정"
   ]
  },
  {
   "cell_type": "markdown",
   "metadata": {},
   "source": [
    "## 1.5"
   ]
  },
  {
   "cell_type": "code",
   "execution_count": 4,
   "metadata": {},
   "outputs": [
    {
     "name": "stdout",
     "output_type": "stream",
     "text": [
      "I love Python!!\n",
      "I love Python!!\n",
      "I love Python!!\n",
      "I love Python!!\n",
      "I love Python!!\n",
      "\n"
     ]
    }
   ],
   "source": [
    "print('I love Python!!\\n' * 5)"
   ]
  },
  {
   "cell_type": "markdown",
   "metadata": {},
   "source": [
    "## 1.6"
   ]
  },
  {
   "cell_type": "code",
   "execution_count": 5,
   "metadata": {},
   "outputs": [
    {
     "name": "stdout",
     "output_type": "stream",
     "text": [
      "*\n",
      "**\n",
      "***\n",
      "****\n",
      "*****\n",
      "******\n"
     ]
    }
   ],
   "source": [
    "for i in range(1,7):\n",
    "    print('*'*i)"
   ]
  },
  {
   "cell_type": "markdown",
   "metadata": {},
   "source": [
    "## 1.7"
   ]
  },
  {
   "cell_type": "markdown",
   "metadata": {},
   "source": [
    "(1)"
   ]
  },
  {
   "cell_type": "code",
   "execution_count": 6,
   "metadata": {},
   "outputs": [],
   "source": [
    "import turtle\n",
    "t = turtle.Turtle()\n",
    "t.shape('turtle')\n",
    "\n",
    "t.forward(100)\n",
    "t.left(135)\n",
    "t.forward(141)\n",
    "t.left(135)\n",
    "t.forward(100)"
   ]
  },
  {
   "cell_type": "markdown",
   "metadata": {},
   "source": [
    "(2)"
   ]
  },
  {
   "cell_type": "code",
   "execution_count": 7,
   "metadata": {},
   "outputs": [],
   "source": [
    "import turtle\n",
    "t = turtle.Turtle()\n",
    "t.shape('turtle')\n",
    "\n",
    "t.forward(100)\n",
    "t.left(120)\n",
    "t.forward(100)\n",
    "t.left(120)\n",
    "t.forward(100)\n",
    "t.right(120)\n",
    "t.forward(100)\n",
    "t.right(120)\n",
    "t.forward(100)"
   ]
  },
  {
   "cell_type": "markdown",
   "metadata": {},
   "source": [
    "## 1.8"
   ]
  },
  {
   "cell_type": "code",
   "execution_count": 8,
   "metadata": {},
   "outputs": [
    {
     "name": "stdout",
     "output_type": "stream",
     "text": [
      "(1) 300\n",
      "(2) 81700\n",
      "(3) 2.0\n",
      "(4) 729\n",
      "(5) 3.0\n",
      "(6) 3\n"
     ]
    }
   ],
   "source": [
    "print('(1)', 400 - 200 + 100)\n",
    "print('(2)', 409 * 200 - 100)\n",
    "print('(3)', 6 * 3 / 9)\n",
    "print('(4)', 9 ** 3)\n",
    "print('(5)', 9 / 3)\n",
    "print('(6)', 9 // 3)"
   ]
  },
  {
   "cell_type": "markdown",
   "metadata": {},
   "source": [
    "## 1.9"
   ]
  },
  {
   "cell_type": "code",
   "execution_count": 9,
   "metadata": {},
   "outputs": [
    {
     "name": "stdout",
     "output_type": "stream",
     "text": [
      "(1) 55\n",
      "(2) 78.5\n",
      "(3) 80\n",
      "(4) 400\n",
      "(5) 150.0\n",
      "(6) 300\n"
     ]
    }
   ],
   "source": [
    "print('(1)', 1+2+3+4+5+6+7+8+9+10)\n",
    "print('(2)', 5 * 5 * 3.14)\n",
    "print('(3)', 20 * 4)\n",
    "print('(4)', 20 * 20)\n",
    "print('(5)', 30 * 10 * 0.5)\n",
    "print('(6)', 10 * 30)"
   ]
  },
  {
   "cell_type": "markdown",
   "metadata": {},
   "source": [
    "## 1.10"
   ]
  },
  {
   "cell_type": "code",
   "execution_count": 10,
   "metadata": {},
   "outputs": [
    {
     "name": "stdout",
     "output_type": "stream",
     "text": [
      "(1) 24\n",
      "(2) 120\n",
      "(3) 720\n"
     ]
    }
   ],
   "source": [
    "print('(1)', 1*2*3*4) #4!\n",
    "print('(2)', 1*2*3*4*5) #5!\n",
    "print('(3)', 1*2*3*4*5*6) #6!"
   ]
  }
 ],
 "metadata": {
  "kernelspec": {
   "display_name": "Python 3",
   "language": "python",
   "name": "python3"
  },
  "language_info": {
   "codemirror_mode": {
    "name": "ipython",
    "version": 3
   },
   "file_extension": ".py",
   "mimetype": "text/x-python",
   "name": "python",
   "nbconvert_exporter": "python",
   "pygments_lexer": "ipython3",
   "version": "3.7.3"
  }
 },
 "nbformat": 4,
 "nbformat_minor": 2
}
