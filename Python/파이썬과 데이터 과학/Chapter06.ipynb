{
 "cells": [
  {
   "cell_type": "markdown",
   "metadata": {},
   "source": [
    "# Chapter06 함수로 일처리를 짜임새있게 하자"
   ]
  },
  {
   "cell_type": "markdown",
   "metadata": {},
   "source": [
    "## 6.1 짜임새 있는 기능을 만드는 멋진 기능 : 함수"
   ]
  },
  {
   "cell_type": "markdown",
   "metadata": {},
   "source": [
    "프로그램을 이해하기 쉽고 관리하기 쉽도록 작은 조각으로 나누어서 조직화 할 필요가 있다.\n",
    "\n",
    "파이썬에서는 프로그램을 쪼개는 3가지 방법이 있다. 함수는 우리가 반복적으로 사용하는 코드를 묶은 것으로 코드의 덩어리와 같다. 객체는 코드 중에서 독립적인 단위로 분리할 수 있는 조각이다. 모듈은 프로그램의 일부를 가지고 있는 독립적인 파일이다."
   ]
  },
  {
   "cell_type": "markdown",
   "metadata": {},
   "source": [
    "함수는 일을 수행하는 코드의 덩어리이며, 더 큰 프로그램을 구축하는 데 사용할 수 있는 작은 조각이다.\n",
    "\n",
    "우리는 파이썬의 def 키워드를 이용하여 함수를 정의할 수 있다. 함수가 정의되면 우리는 함수를 사용할 수 있다. 이것을 함수를 호출한다고 한다."
   ]
  },
  {
   "cell_type": "markdown",
   "metadata": {},
   "source": [
    "## 6.2 def 예약어를 이용하여 함수를 작성하고 호출하기"
   ]
  },
  {
   "cell_type": "markdown",
   "metadata": {},
   "source": [
    "첫째 줄에서 def 키워드를 이용하여 함수를 정의한다. 함수의 이름을 적은 후에 소괄호()와 콜론:을 붙인다.\n",
    "\n",
    "두 번째 줄부터는 함수를 구성하는 문장들이 들어간다. 함수를 구성하는 문장들은 반드시 들여쓰기를 해야 한다.\n",
    "\n",
    "함수 안에 있는 토드들은 자동으로 실행되지 않으며, 함수가 호출되어야 함수 안의 코드가 실행된다. 함수호출이란 함수 이름을 적어주는 것이다."
   ]
  },
  {
   "cell_type": "code",
   "execution_count": 1,
   "metadata": {},
   "outputs": [
    {
     "name": "stdout",
     "output_type": "stream",
     "text": [
      "경상북도\n",
      "울릉군 울릉읍\n",
      "독도리 산 1-96번지\n"
     ]
    }
   ],
   "source": [
    "def print_address():\n",
    "    print('경상북도')\n",
    "    print('울릉군 울릉읍')\n",
    "    print('독도리 산 1-96번지')\n",
    "\n",
    "print_address() # 정의한 함수를 호출"
   ]
  },
  {
   "cell_type": "markdown",
   "metadata": {},
   "source": [
    "함수를 호출하는 호출문을 제일 아래 줄과 같이 만들게 되면, 함수의 첫 번째 줄로 점프하여 함수의 내용이 실행된다. 함수의 수행이 완료되면 함수를 호출한 명령으로 다시 돌아가서 그 명령 다음 코드를 차레로 실행하기 시작한다."
   ]
  },
  {
   "cell_type": "markdown",
   "metadata": {},
   "source": [
    "### 도전문제 6.1"
   ]
  },
  {
   "cell_type": "code",
   "execution_count": 3,
   "metadata": {},
   "outputs": [
    {
     "name": "stdout",
     "output_type": "stream",
     "text": [
      "대전광역시 대덕구 오정동 한남로 70\n",
      "042-629-7114\n"
     ]
    }
   ],
   "source": [
    "# 1\n",
    "def print_company_address():\n",
    "    print(\"대전광역시 대덕구 오정동 한남로 70\")\n",
    "    print(\"042-629-7114\")\n",
    "    \n",
    "print_company_address()"
   ]
  },
  {
   "cell_type": "code",
   "execution_count": 5,
   "metadata": {},
   "outputs": [
    {
     "name": "stdout",
     "output_type": "stream",
     "text": [
      "********************\n",
      "********************\n",
      "********************\n",
      "********************\n",
      "********************\n"
     ]
    }
   ],
   "source": [
    "# 2\n",
    "def print_star():\n",
    "    print(\"********************\")\n",
    "    \n",
    "print_star()\n",
    "print_star()\n",
    "print_star()\n",
    "print_star()\n",
    "print_star()"
   ]
  },
  {
   "cell_type": "markdown",
   "metadata": {},
   "source": [
    "## 6.3 함수를 만들고 불러서 일을 시켜보자"
   ]
  },
  {
   "cell_type": "markdown",
   "metadata": {},
   "source": [
    "함수를 정의하더라도 함수를 호출하지 않으면 함수 안의 코드는 실행되지 않는다. 함수를 호출하려면 함수 이름과 소괄호를 이용한다."
   ]
  },
  {
   "cell_type": "code",
   "execution_count": 6,
   "metadata": {},
   "outputs": [
    {
     "name": "stdout",
     "output_type": "stream",
     "text": [
      "경상북도\n",
      "울릉군 울릉읍\n",
      "독도리 산 1-96번지\n"
     ]
    }
   ],
   "source": [
    "print('경상북도')\n",
    "print('울릉군 울릉읍')\n",
    "print('독도리 산 1-96번지')"
   ]
  },
  {
   "cell_type": "markdown",
   "metadata": {},
   "source": [
    "함수를 사용하는 주된 이유는 한 번만 함수를 정의하면 언제든지 필요할 때면 함수를 불러서 일을 시킬 수 있기 때문이다."
   ]
  },
  {
   "cell_type": "code",
   "execution_count": 7,
   "metadata": {},
   "outputs": [
    {
     "name": "stdout",
     "output_type": "stream",
     "text": [
      "경상북도\n",
      "울릉군 울릉읍\n",
      "독도리 산 1-96번지\n",
      "경상북도\n",
      "울릉군 울릉읍\n",
      "독도리 산 1-96번지\n",
      "경상북도\n",
      "울릉군 울릉읍\n",
      "독도리 산 1-96번지\n"
     ]
    }
   ],
   "source": [
    "print_address()\n",
    "print_address()\n",
    "print_address()"
   ]
  },
  {
   "cell_type": "markdown",
   "metadata": {},
   "source": [
    "함수와 루프의 차이점?\n",
    "\n",
    "함수를 사용하면 프로그램의 여러 곳에서 동일한 작업을 시킬 수 있다. 반복 루프는 이것이 불가능하다. 그리고 함수에는 입력을 전달하여서 호출할 때마다 서로 다르게 실행하게 할 수 있다."
   ]
  },
  {
   "cell_type": "markdown",
   "metadata": {},
   "source": [
    "## 6.4 함수에 하나의 값을 넘겨주고 일을 시키자"
   ]
  },
  {
   "cell_type": "markdown",
   "metadata": {},
   "source": [
    "함수 외부에서 함수 안으로 값(정보)을 전달 할 수 있다. 이 값을 인자라고 한다."
   ]
  },
  {
   "cell_type": "code",
   "execution_count": 8,
   "metadata": {},
   "outputs": [
    {
     "name": "stdout",
     "output_type": "stream",
     "text": [
      "서울 특별시 종로구 1번지\n",
      "파이썬 빌딩 7층\n",
      "홍길동\n",
      "서울 특별시 종로구 1번지\n",
      "파이썬 빌딩 7층\n",
      "널널한 교수\n"
     ]
    }
   ],
   "source": [
    "def print_address(name):\n",
    "    print(\"서울 특별시 종로구 1번지\")\n",
    "    print(\"파이썬 빌딩 7층\")\n",
    "    print(name)\n",
    "    \n",
    "print_address(\"홍길동\")\n",
    "print_address(\"널널한 교수\")"
   ]
  },
  {
   "cell_type": "markdown",
   "metadata": {},
   "source": [
    "함수 호출시 전달되는 실제 값을 인자라고 하고, 함수 내부에서 전달받는 변수를 매개변수라고 한다."
   ]
  },
  {
   "cell_type": "markdown",
   "metadata": {},
   "source": [
    "### 도전문제 6.2"
   ]
  },
  {
   "cell_type": "code",
   "execution_count": 10,
   "metadata": {},
   "outputs": [
    {
     "name": "stdout",
     "output_type": "stream",
     "text": [
      "이름 : 홍길순\n",
      "주소 : 부산광역시 남구 광안로 10번길 1-1\n"
     ]
    }
   ],
   "source": [
    "def print_address(name, address):\n",
    "    print(\"이름 :\", name)\n",
    "    print(\"주소 :\", address)\n",
    "    \n",
    "print_address(\"홍길순\", \"부산광역시 남구 광안로 10번길 1-1\")"
   ]
  },
  {
   "cell_type": "markdown",
   "metadata": {},
   "source": [
    "## 6.5 함수에 일을 시키고 그 값을 받아오도록 하자"
   ]
  },
  {
   "cell_type": "markdown",
   "metadata": {},
   "source": [
    "지금까지 함수는 우리가 주는 값을 받아서 작업을 처리하였다. 그러나 함수가 매우 유용한 것은 우리가 주어진 일을 하고 우리에게 뭔가를 보낼 수 있다는 점이다. 함수로부터 되돌아오는 값을 반환 값이라고 한다.\n",
    "\n",
    "함수가 함수 내부의 값을 외부에 보낼때는 return 키워드를 사용하면 된다."
   ]
  },
  {
   "cell_type": "code",
   "execution_count": 11,
   "metadata": {},
   "outputs": [],
   "source": [
    "def calculate_area(radius):\n",
    "    area = 3.14 * radius**2\n",
    "    return area # 이전 줄에서 구한 area 값을 호출문에 돌려준다"
   ]
  },
  {
   "cell_type": "code",
   "execution_count": 15,
   "metadata": {},
   "outputs": [
    {
     "data": {
      "text/plain": [
       "78.5"
      ]
     },
     "execution_count": 15,
     "metadata": {},
     "output_type": "execute_result"
    }
   ],
   "source": [
    "c_area = calculate_area(5.0) # calculate_are() 함수가 계산한 값을 c_area에 저장\n",
    "c_area"
   ]
  },
  {
   "cell_type": "markdown",
   "metadata": {},
   "source": [
    "print() 함수를 사용하여 이 값을 출력할 수도 있고, 두 개의 함수를 한줄에서 호출하여 각각의 함수가 수행한 결과를 더하는 연산을 수행할 수도 있다."
   ]
  },
  {
   "cell_type": "code",
   "execution_count": 16,
   "metadata": {},
   "outputs": [
    {
     "name": "stdout",
     "output_type": "stream",
     "text": [
      "78.5\n"
     ]
    }
   ],
   "source": [
    "print(calculate_area(5.0))"
   ]
  },
  {
   "cell_type": "code",
   "execution_count": 17,
   "metadata": {},
   "outputs": [
    {
     "name": "stdout",
     "output_type": "stream",
     "text": [
      "392.5\n"
     ]
    }
   ],
   "source": [
    "area_sum = calculate_area(5.0) + calculate_area(10.0)\n",
    "print(area_sum)"
   ]
  },
  {
   "cell_type": "markdown",
   "metadata": {},
   "source": [
    "함수가 반드시 return 문을 가져야 하는 것은 아니며, return을 통해서 반환을 하더라도 반환값을 사용하지 않아도 된다."
   ]
  },
  {
   "cell_type": "code",
   "execution_count": 19,
   "metadata": {},
   "outputs": [
    {
     "data": {
      "text/plain": [
       "314.0"
      ]
     },
     "execution_count": 19,
     "metadata": {},
     "output_type": "execute_result"
    }
   ],
   "source": [
    "calculate_area(10.0) # 함수를 호출만 하고 그 반환값을 사용안함"
   ]
  },
  {
   "cell_type": "markdown",
   "metadata": {},
   "source": [
    "## 6.6 함수에 여러 개의 값을 넘겨주는 고급 기능"
   ]
  },
  {
   "cell_type": "markdown",
   "metadata": {},
   "source": [
    "함수로 여러 개의 값을 전달 할 수 있다."
   ]
  },
  {
   "cell_type": "code",
   "execution_count": 21,
   "metadata": {},
   "outputs": [
    {
     "name": "stdout",
     "output_type": "stream",
     "text": [
      "55\n"
     ]
    }
   ],
   "source": [
    "def get_sum(start, end): # start, end 를 매개변수로 하여 인자를 받는다\n",
    "    s = 0\n",
    "    for i in range(start, end+1): # start부터 end까지 정수의 합을 구함\n",
    "        s += i\n",
    "    return s # start부터 end까지 수의 합을 반환\n",
    "\n",
    "print(get_sum(1, 10)) # 1에서 10까지 정수의 함 55를 출력"
   ]
  },
  {
   "cell_type": "markdown",
   "metadata": {},
   "source": [
    "인자와 매개변수는 함수 호출시에 데이터를 주고받기 위하여 필요하다. 인자는 호출 프로그램에 의하여 함수에 실제로 전달되는 값이다. 매개변수는 이 값을 전달받는 변수이다. 함수가 호출될 때마다 인자는 함수의 매개 변수로 전달된다.\n",
    "\n",
    "함수가 호출될 때마다 인자는 달라질 수 있으며 이 인자에 의해 함수가 반환하는 값이 달라질 수 있다. 함수는 일을 하고 그 결과값을 return문으로 반환할 수 있다."
   ]
  },
  {
   "cell_type": "code",
   "execution_count": 24,
   "metadata": {},
   "outputs": [
    {
     "name": "stdout",
     "output_type": "stream",
     "text": [
      "x = 55\n",
      "y = 210\n"
     ]
    }
   ],
   "source": [
    "x = get_sum(1, 10) # 1과 10이 인자가 된다\n",
    "print('x =', x)\n",
    "\n",
    "y = get_sum(1, 20) # 1과 20이 인자가 된다\n",
    "print('y =', y)"
   ]
  },
  {
   "cell_type": "markdown",
   "metadata": {},
   "source": [
    "주의해야 할 점은 매개변수의 개수와 넘어가는 인자의 개수가 정확히 일치하여야 한다는 점이다. 즉 매개 변수가 두 개이면 인자도 두 개를 전달하여야 한다. 매개변수의 개수와 인자의 개수가 일치하지 않으면 오류가 발생하게 된다."
   ]
  },
  {
   "cell_type": "markdown",
   "metadata": {},
   "source": [
    "## 6.7 여러 개의 값을 넘겨주고 여러 개의 값을 돌려받자"
   ]
  },
  {
   "cell_type": "markdown",
   "metadata": {},
   "source": [
    "파이썬의 큰 특징 중 하나는 함수가 여러 개의 값을 반환할 수 있다는 것이다."
   ]
  },
  {
   "cell_type": "code",
   "execution_count": 25,
   "metadata": {},
   "outputs": [
    {
     "name": "stdout",
     "output_type": "stream",
     "text": [
      "(110, 210)\n",
      "(80, 2100)\n"
     ]
    }
   ],
   "source": [
    "def sort_num(n1, n2): # 2개의 값을 받아오는 함수\n",
    "    if n1 < n2:\n",
    "        return n1, n2 # n1이 더 작으면 n1, n2 순서로 반환\n",
    "    else:\n",
    "        return n2, n1 # n2가 더 작으면 n2, n1 순서로 반환\n",
    "    \n",
    "print(sort_num(110, 210)) # 110과 210을 함수의 인자로 전달하고 반환되는 값을 출력\n",
    "print(sort_num(2100, 80))"
   ]
  },
  {
   "cell_type": "code",
   "execution_count": 26,
   "metadata": {},
   "outputs": [
    {
     "name": "stdout",
     "output_type": "stream",
     "text": [
      "200 + 100 = 300\n",
      "200 - 100 = 100\n",
      "200 * 100 = 20000\n",
      "200 / 100 = 2.0\n"
     ]
    }
   ],
   "source": [
    "def calc(n1, n2):\n",
    "    return n1+n2, n1-n2, n1*n2, n1/n2 # 덧셈, 뺄셈, 곱셈, 나눗셈 결과를 반환\n",
    "\n",
    "n1, n2 = 200, 100\n",
    "t1, t2, t3, t4 = calc(n1, n2) # 네 개의 값을 반환받기 위해 4개의 변수를 사용함\n",
    "print(n1, '+', n2, '=', t1)\n",
    "print(n1, '-', n2, '=', t2)\n",
    "print(n1, '*', n2, '=', t3)\n",
    "print(n1, '/', n2, '=', t4)"
   ]
  },
  {
   "cell_type": "markdown",
   "metadata": {},
   "source": [
    "### 도전문제 6.3"
   ]
  },
  {
   "cell_type": "code",
   "execution_count": 31,
   "metadata": {},
   "outputs": [
    {
     "name": "stdout",
     "output_type": "stream",
     "text": [
      "1 제곱 : 1 , 2 제곱 : 4 , 3 제곱 : 9\n"
     ]
    }
   ],
   "source": [
    "def get_square(a, b, c):\n",
    "    return a**2, b**2, c**2\n",
    "\n",
    "a, b, c = 1, 2, 3\n",
    "a_sq, b_sq, c_sq = get_square(a, b, c)\n",
    "print(a, \"제곱 :\", a_sq, ',', b, '제곱 :', b_sq, ',', c, '제곱 :', c_sq)"
   ]
  },
  {
   "cell_type": "markdown",
   "metadata": {},
   "source": [
    "## 6.8 변수의 범위는 어디까지인가"
   ]
  },
  {
   "cell_type": "markdown",
   "metadata": {},
   "source": [
    "이제 변수와 사용 범위를 함수와 관련해 깊이 있게 다루어 보려 한다."
   ]
  },
  {
   "cell_type": "code",
   "execution_count": 32,
   "metadata": {},
   "outputs": [
    {
     "name": "stdout",
     "output_type": "stream",
     "text": [
      "counter = 100\n",
      "counter = 100\n"
     ]
    }
   ],
   "source": [
    "def print_counter():\n",
    "    print('counter =', counter) # 함수 내부의 counter 값\n",
    "    \n",
    "counter = 100\n",
    "print_counter()\n",
    "print('counter =', counter) # 함수 외부의 counter 값"
   ]
  },
  {
   "cell_type": "code",
   "execution_count": 33,
   "metadata": {},
   "outputs": [
    {
     "name": "stdout",
     "output_type": "stream",
     "text": [
      "counter = 200\n",
      "counter = 100\n"
     ]
    }
   ],
   "source": [
    "def print_counter():\n",
    "    counter = 200\n",
    "    print('counter =', counter) # 함수 내부의 counter 값\n",
    "    \n",
    "counter = 100\n",
    "print_counter()\n",
    "print('counter =', counter) # 함수 외부의 counter 값"
   ]
  },
  {
   "cell_type": "markdown",
   "metadata": {},
   "source": [
    "함수 안에서 할당이 이루어질 때 변수는 함수 안에서 새로 선언되고 생성된다. 이와 같이 함수 안에서 생성되는 변수를 지역변수라고 한다. "
   ]
  },
  {
   "cell_type": "markdown",
   "metadata": {},
   "source": [
    "## 6.9 함수 안에서 전역변수 사용하기 : global 키워드"
   ]
  },
  {
   "cell_type": "code",
   "execution_count": 35,
   "metadata": {},
   "outputs": [
    {
     "name": "stdout",
     "output_type": "stream",
     "text": [
      "counter = 200\n",
      "counter = 200\n"
     ]
    }
   ],
   "source": [
    "def print_counter():\n",
    "    global counter # 함수 외부의 전역변수 counter를 사용하겠다고 선언\n",
    "    counter = 200\n",
    "    print('counter =', counter) # 함수 내부의 counter 값\n",
    "    \n",
    "counter = 100\n",
    "print_counter()\n",
    "print('counter =', counter) # 함수 외부의 counter 값"
   ]
  },
  {
   "cell_type": "code",
   "execution_count": 36,
   "metadata": {},
   "outputs": [
    {
     "name": "stdout",
     "output_type": "stream",
     "text": [
      "원의 반지름: 5.0\n",
      "78.5\n"
     ]
    }
   ],
   "source": [
    "def calculate_area(radius):\n",
    "    global area\n",
    "    area = 3.14 * radius**2\n",
    "    return\n",
    "\n",
    "area = 0\n",
    "r = float(input(\"원의 반지름: \"))\n",
    "calculate_area(r)\n",
    "print(area)"
   ]
  },
  {
   "cell_type": "markdown",
   "metadata": {},
   "source": [
    "전역변수를 많이 사용할 경우 프로그램에서 어느 부분에서 오류가 발생하였는지를 추적하는 것은 매우 어렵다. 따라서 전역변수의 사용은 최소로 하는 것이 바람직하다."
   ]
  },
  {
   "cell_type": "markdown",
   "metadata": {},
   "source": [
    "## 6.10 함수에 쉽게 일을 시키는 디폴트 인자"
   ]
  },
  {
   "cell_type": "markdown",
   "metadata": {},
   "source": [
    "파이썬에서는 함수의 매개변수가 기본값을 가질 수 있다. 이것을 디폴트 인자라고 한다."
   ]
  },
  {
   "cell_type": "code",
   "execution_count": 38,
   "metadata": {},
   "outputs": [
    {
     "name": "stdout",
     "output_type": "stream",
     "text": [
      "햄버거 1 개 - 피클 False, 양파True\n"
     ]
    }
   ],
   "source": [
    "def order(num, pickle, onion):\n",
    "    print('햄버거 {0} 개 - 피클 {1}, 양파{2}'.format(num, pickle, onion))\n",
    "    \n",
    "order(1, False, True)"
   ]
  },
  {
   "cell_type": "code",
   "execution_count": 39,
   "metadata": {
    "scrolled": true
   },
   "outputs": [
    {
     "ename": "TypeError",
     "evalue": "order() missing 2 required positional arguments: 'pickle' and 'onion'",
     "output_type": "error",
     "traceback": [
      "\u001b[1;31m---------------------------------------------------------------------------\u001b[0m",
      "\u001b[1;31mTypeError\u001b[0m                                 Traceback (most recent call last)",
      "\u001b[1;32m<ipython-input-39-31306661e809>\u001b[0m in \u001b[0;36m<module>\u001b[1;34m\u001b[0m\n\u001b[1;32m----> 1\u001b[1;33m \u001b[0morder\u001b[0m\u001b[1;33m(\u001b[0m\u001b[1;36m1\u001b[0m\u001b[1;33m)\u001b[0m\u001b[1;33m\u001b[0m\u001b[1;33m\u001b[0m\u001b[0m\n\u001b[0m",
      "\u001b[1;31mTypeError\u001b[0m: order() missing 2 required positional arguments: 'pickle' and 'onion'"
     ]
    }
   ],
   "source": [
    "order(1)"
   ]
  },
  {
   "cell_type": "markdown",
   "metadata": {},
   "source": [
    "인자가 부족한 경우에 기본값을 넣어주는 메커니즘이 있다면 편리할 것이다. 바로 이러한 목적으로 사용하는 것이 디폴트 인자이다."
   ]
  },
  {
   "cell_type": "code",
   "execution_count": 40,
   "metadata": {},
   "outputs": [
    {
     "name": "stdout",
     "output_type": "stream",
     "text": [
      "햄버거 1 개 - 피클 False, 양파 True\n",
      "햄버거 2 개 - 피클 True, 양파 True\n"
     ]
    }
   ],
   "source": [
    "def order(num, pickle = True, onion = True):\n",
    "    print('햄버거 {0} 개 - 피클 {1}, 양파 {2}'.format(num, pickle, onion))\n",
    "    \n",
    "order(1, pickle = False, onion = True)\n",
    "order(2) # 햄버거 2개를 주문, 디폴트로 pickle, onion값은 True임"
   ]
  },
  {
   "cell_type": "markdown",
   "metadata": {},
   "source": [
    "디폴트 값이 있는 매개 변수는 순서를 바꾸어 인자를 넣을 수도 있다."
   ]
  },
  {
   "cell_type": "code",
   "execution_count": 41,
   "metadata": {},
   "outputs": [
    {
     "name": "stdout",
     "output_type": "stream",
     "text": [
      "햄버거 3 개 - 피클 True, 양파 False\n"
     ]
    }
   ],
   "source": [
    "order(3, onion = False, pickle = True) # 인자의 순서를 바꾸면 출력값에는 반영되지 않음"
   ]
  },
  {
   "cell_type": "markdown",
   "metadata": {},
   "source": [
    "## 6.11 키워드 인자로 더욱 더 고급지게 함수 활용하기"
   ]
  },
  {
   "cell_type": "markdown",
   "metadata": {},
   "source": [
    "파이썬에서 대부분의 인자들은 함수 호출 시 위치에 의하여 구별된다. 하지만 인자가 많을 경우 인자가 가지는 의미를 명확하게 파악하기 어려운 경우도 있을 수 있다.\n",
    "\n",
    "이러한 혼동을 줄이고 안전한 프로그램을 위해 키워드 인자는 인자들 앞에 키워드를 두어서 인자들을 구분한다. 키워드 인자는 함수를 호출할 때 이자의 이름을 명시적으로 지정해서 전달하는 방법이다."
   ]
  },
  {
   "cell_type": "code",
   "execution_count": 42,
   "metadata": {},
   "outputs": [],
   "source": [
    "def power(base, exponent):\n",
    "    return base**exponent # base가 밑이고, exponent가 지수값이다"
   ]
  },
  {
   "cell_type": "code",
   "execution_count": 43,
   "metadata": {},
   "outputs": [
    {
     "data": {
      "text/plain": [
       "1024"
      ]
     },
     "execution_count": 43,
     "metadata": {},
     "output_type": "execute_result"
    }
   ],
   "source": [
    "power(2, 10) # 2의 10승을 반환"
   ]
  },
  {
   "cell_type": "code",
   "execution_count": 44,
   "metadata": {},
   "outputs": [
    {
     "data": {
      "text/plain": [
       "100"
      ]
     },
     "execution_count": 44,
     "metadata": {},
     "output_type": "execute_result"
    }
   ],
   "source": [
    "power(10, 2) # 10의 2승을 반환"
   ]
  },
  {
   "cell_type": "markdown",
   "metadata": {},
   "source": [
    "같은 이자 전달 방식을 위치 인자라고도 한다. 하지만 우리는 매개변수의 이름에 값을 직접 대입하여서도 전달 할 수 있다."
   ]
  },
  {
   "cell_type": "code",
   "execution_count": 45,
   "metadata": {},
   "outputs": [
    {
     "data": {
      "text/plain": [
       "1024"
      ]
     },
     "execution_count": 45,
     "metadata": {},
     "output_type": "execute_result"
    }
   ],
   "source": [
    "power(base=2, exponent=10) # 2의 10승을 반환"
   ]
  },
  {
   "cell_type": "code",
   "execution_count": 46,
   "metadata": {},
   "outputs": [
    {
     "data": {
      "text/plain": [
       "1024"
      ]
     },
     "execution_count": 46,
     "metadata": {},
     "output_type": "execute_result"
    }
   ],
   "source": [
    "power(exponent=10, base=2) # 2의 10승을 반환"
   ]
  },
  {
   "cell_type": "markdown",
   "metadata": {},
   "source": [
    "하지만 첫 인자에 키워드를 넣고 두 번째로 위치 인자로 넣게 되면 오류가 발생한다. 이럴 경우 두 번째 인자의 의미가 명확하지 않기 때문이다. 인자의 순서는 언제나 위치 인자가 먼저 나오고 키워드 인자가 나와야 한다."
   ]
  },
  {
   "cell_type": "code",
   "execution_count": 47,
   "metadata": {},
   "outputs": [
    {
     "ename": "SyntaxError",
     "evalue": "positional argument follows keyword argument (<ipython-input-47-1d2882bbce62>, line 1)",
     "output_type": "error",
     "traceback": [
      "\u001b[1;36m  File \u001b[1;32m\"<ipython-input-47-1d2882bbce62>\"\u001b[1;36m, line \u001b[1;32m1\u001b[0m\n\u001b[1;33m    power(base = 10, 2)\u001b[0m\n\u001b[1;37m                    ^\u001b[0m\n\u001b[1;31mSyntaxError\u001b[0m\u001b[1;31m:\u001b[0m positional argument follows keyword argument\n"
     ]
    }
   ],
   "source": [
    "power(base = 10, 2)"
   ]
  },
  {
   "cell_type": "markdown",
   "metadata": {},
   "source": [
    "## LAB 6-3 주급 계산 프로그램"
   ]
  },
  {
   "cell_type": "code",
   "execution_count": 53,
   "metadata": {},
   "outputs": [],
   "source": [
    "def weeklyPay(rate, hour):\n",
    "    if hour > 30:\n",
    "        money = rate*30 + 1.5*rate*(hour-30)\n",
    "    else:\n",
    "        money = rate * hour\n",
    "    return money"
   ]
  },
  {
   "cell_type": "code",
   "execution_count": 54,
   "metadata": {
    "scrolled": true
   },
   "outputs": [
    {
     "name": "stdout",
     "output_type": "stream",
     "text": [
      "시급을 입력하시오 : 10000\n",
      "근무 시간을 입력하시오 : 38\n",
      "주급은 420000.0\n"
     ]
    }
   ],
   "source": [
    "r = int(input(\"시급을 입력하시오 : \"))\n",
    "h = int(input(\"근무 시간을 입력하시오 : \"))\n",
    "print(\"주급은 \" + str(weeklyPay(rate = r, hour = h)))"
   ]
  },
  {
   "cell_type": "markdown",
   "metadata": {},
   "source": [
    "## LAB 6-4 리스트에서 최댓값/최솟값을 편리하게 찾는 함수"
   ]
  },
  {
   "cell_type": "code",
   "execution_count": null,
   "metadata": {},
   "outputs": [],
   "source": [
    "def getMinMax(mylist, method = 'max'):\n",
    "    minValue = 99999999999999999999999999999999999999\n",
    "    maxValue = -minValue\n",
    "    \n",
    "    if method == 'max':\n",
    "        for value in mylist:\n",
    "            if value > maxValue:\n",
    "                maxValue = value;\n",
    "        return maxValue\n",
    "    elif method == 'min':\n",
    "        for value in mylist:\n",
    "            if value < minValue:\n",
    "                minValue = value;\n",
    "        return minValue\n",
    "    else:\n",
    "        print('illegal method')\n",
    "        \n",
    "list_data = [27, 90, 30, 87, 56]\n",
    "while(True):\n",
    "    print(list_data)\n",
    "    s = input(\"최댓값을 원하면 max, 최솟값을 원하면 min을 입력하시오: \")\n",
    "    print(getMinMax(list_data, s))"
   ]
  },
  {
   "cell_type": "markdown",
   "metadata": {},
   "source": [
    "위에 코드가 책에 나와있는 코드 : maximum을 넣어도 끝나지 않음 / 밑에는 수정된 코드"
   ]
  },
  {
   "cell_type": "code",
   "execution_count": 4,
   "metadata": {},
   "outputs": [],
   "source": [
    "def getMinMax(mylist, method='max'):\n",
    "    minValue = 99999999999999999999999999999999999999\n",
    "    maxValue = -minValue\n",
    "    \n",
    "    if method == 'max':\n",
    "        for value in mylist:\n",
    "            if value > maxValue:\n",
    "                maxValue = value;\n",
    "        print(maxValue)\n",
    "    elif method == 'min':\n",
    "        for value in mylist:\n",
    "            if value < minValue:\n",
    "                minValue = value;\n",
    "        print(minValue)\n",
    "    else:\n",
    "        print('illegal method')\n",
    "        return False"
   ]
  },
  {
   "cell_type": "code",
   "execution_count": 6,
   "metadata": {
    "scrolled": true
   },
   "outputs": [
    {
     "name": "stdout",
     "output_type": "stream",
     "text": [
      "[27, 90, 30, 87, 56]\n",
      "최댓값을 원하면 max, 최솟값을 원하면 min을 입력하시오: max\n",
      "90\n",
      "[27, 90, 30, 87, 56]\n",
      "최댓값을 원하면 max, 최솟값을 원하면 min을 입력하시오: min\n",
      "27\n",
      "[27, 90, 30, 87, 56]\n",
      "최댓값을 원하면 max, 최솟값을 원하면 min을 입력하시오: maximum\n",
      "illegal method\n"
     ]
    }
   ],
   "source": [
    "list_data = [27, 90, 30, 87, 56]\n",
    "\n",
    "while True:\n",
    "    print(list_data)\n",
    "    s = input(\"최댓값을 원하면 max, 최솟값을 원하면 min을 입력하시오: \")\n",
    "    if getMinMax(list_data, s) == False:\n",
    "        break"
   ]
  },
  {
   "cell_type": "markdown",
   "metadata": {},
   "source": [
    "## 6.12 자신을 호출하는 재귀 함수"
   ]
  },
  {
   "cell_type": "markdown",
   "metadata": {},
   "source": [
    "재귀함수란 함수 내부에서 자기 자신을 호출하는 함수를 말한다. 재귀는 매우 유용한 문제해결 기법으로 처리 단계를 모두 기술하기 어려운 문제를 직관적이고 간단하게 해결할 수 있다."
   ]
  },
  {
   "cell_type": "code",
   "execution_count": 1,
   "metadata": {},
   "outputs": [
    {
     "name": "stdout",
     "output_type": "stream",
     "text": [
      "4! = 24\n"
     ]
    }
   ],
   "source": [
    "def factorial(n):\n",
    "    if n <= 1:\n",
    "        return 1\n",
    "    else:\n",
    "        return n * factorial(n-1)\n",
    "    \n",
    "print('4! =', factorial(4))"
   ]
  },
  {
   "cell_type": "markdown",
   "metadata": {},
   "source": [
    "재귀함수에서 중요한 점은 이 프로그램이 언제 종료되는가 이다. "
   ]
  },
  {
   "cell_type": "markdown",
   "metadata": {},
   "source": [
    "## LAB 6-7 피보나치 함수 계산하기"
   ]
  },
  {
   "cell_type": "code",
   "execution_count": 15,
   "metadata": {},
   "outputs": [
    {
     "name": "stdout",
     "output_type": "stream",
     "text": [
      "몇 번째 항 : 10\n",
      "34\n"
     ]
    }
   ],
   "source": [
    "def fibonacci(n):\n",
    "    if n < 0:\n",
    "        print(\"잘못된 입력입니다.\")\n",
    "    elif n == 1:\n",
    "        return 0\n",
    "    elif n == 2:\n",
    "        return 1\n",
    "    else:\n",
    "        return fibonacci(n-1) + fibonacci(n-2)\n",
    "\n",
    "i = int(input(\"몇 번째 항 : \"))\n",
    "print(fibonacci(i))"
   ]
  },
  {
   "cell_type": "markdown",
   "metadata": {},
   "source": [
    "위의 코드는 n이 커지면 안돌아 간다고 함,,, 그래서 큰 수를 넣어도 사용할 수 있도록 새로운 식을 만들어야 함(밑에서)"
   ]
  },
  {
   "cell_type": "markdown",
   "metadata": {},
   "source": [
    "### 도전문제 6.4"
   ]
  },
  {
   "cell_type": "code",
   "execution_count": 3,
   "metadata": {},
   "outputs": [
    {
     "name": "stdout",
     "output_type": "stream",
     "text": [
      "몇 번째 항 : 9\n",
      "21\n"
     ]
    }
   ],
   "source": [
    "def fibonacci(n):\n",
    "    fibo=[0,1]\n",
    "    if n<0 or n==0:\n",
    "        print(\"잘못된 입력입니다.\")\n",
    "    elif n==1:\n",
    "        print(fibo[0])\n",
    "    elif n==2:\n",
    "        print(fibo[1])\n",
    "    else:\n",
    "        for i in range(n-2):\n",
    "            b=sum(fibo[:-3:-1])\n",
    "            fibo.append(b)\n",
    "        print(fibo[-1])\n",
    "fibonacci(int(input(\"몇 번째 항 : \")))"
   ]
  },
  {
   "cell_type": "markdown",
   "metadata": {},
   "source": [
    "## 6.13 모듈을 이용해서 함수를 두고두고 재사용하자"
   ]
  },
  {
   "cell_type": "markdown",
   "metadata": {},
   "source": [
    "모듈이란 파이썬 함수나 변수 또는 클래스들을 모아놓은 스크립트 파일을 말한다. 많이 사용되는 기능들을 담은 모듈들이 파이썬 설치 파일과 함께 제공되고 있다. 미리 만들어진 모듈을 가져올 때에는 import와 함께 모듈 이름을 써 주면되고, 사용할 때는 모듈 이름에 점(.)을 찍은 후 모듈 안의 구성요소를 호출해주면 된다.\n",
    "\n",
    "파이썬 설치와 함꼐 제공되는 모듈을 파이썬 표준 라이브라리라고도 하며 문자열과 텍스트 처리, 이진 데이터 처리, 날짜와 시간 처리, 배열 등의 바료형 처리, 수치 연산과 수학 함수 등 100여 가지 이상의 모듈이 표준 라이브러리들로 제공된다."
   ]
  },
  {
   "cell_type": "code",
   "execution_count": 7,
   "metadata": {},
   "outputs": [
    {
     "data": {
      "text/plain": [
       "datetime.datetime(2022, 5, 30, 21, 51, 17, 311797)"
      ]
     },
     "execution_count": 7,
     "metadata": {},
     "output_type": "execute_result"
    }
   ],
   "source": [
    "import datetime # 날짜와 시간을 다루는 모듈\n",
    "datetime.datetime.now()"
   ]
  },
  {
   "cell_type": "markdown",
   "metadata": {},
   "source": [
    "모듈을 사용하기 위해서 먼저 import 명령을 통해 모듈을 가져와야 한다."
   ]
  },
  {
   "cell_type": "code",
   "execution_count": 11,
   "metadata": {},
   "outputs": [
    {
     "name": "stdout",
     "output_type": "stream",
     "text": [
      "2022-05-30\n"
     ]
    }
   ],
   "source": [
    "today = datetime.date.today()\n",
    "print(today)"
   ]
  },
  {
   "cell_type": "code",
   "execution_count": 12,
   "metadata": {},
   "outputs": [
    {
     "data": {
      "text/plain": [
       "datetime.date(2022, 5, 30)"
      ]
     },
     "execution_count": 12,
     "metadata": {},
     "output_type": "execute_result"
    }
   ],
   "source": [
    "today"
   ]
  },
  {
   "cell_type": "code",
   "execution_count": 13,
   "metadata": {},
   "outputs": [
    {
     "data": {
      "text/plain": [
       "2022"
      ]
     },
     "execution_count": 13,
     "metadata": {},
     "output_type": "execute_result"
    }
   ],
   "source": [
    "today.year"
   ]
  },
  {
   "cell_type": "code",
   "execution_count": 14,
   "metadata": {},
   "outputs": [
    {
     "data": {
      "text/plain": [
       "5"
      ]
     },
     "execution_count": 14,
     "metadata": {},
     "output_type": "execute_result"
    }
   ],
   "source": [
    "today.month"
   ]
  },
  {
   "cell_type": "code",
   "execution_count": 15,
   "metadata": {},
   "outputs": [
    {
     "data": {
      "text/plain": [
       "30"
      ]
     },
     "execution_count": 15,
     "metadata": {},
     "output_type": "execute_result"
    }
   ],
   "source": [
    "today.day"
   ]
  },
  {
   "cell_type": "markdown",
   "metadata": {},
   "source": [
    "### 핵심 정리"
   ]
  },
  {
   "cell_type": "markdown",
   "metadata": {},
   "source": [
    "- 함수가 무엇인지를 학습하였다\n",
    "- 인자와 매개변수가 무엇인지를 학습하였다\n",
    "- 어떻게 함수로 인자를 전달할 수 있는지를 학습하였다\n",
    "- 여러 개의 인자를 함수로 전달하는 방법을 학습하였다\n",
    "- 함수가 값을 반환하는 방법을 학습하였다\n",
    "- 지역변수와 전역변수의 차이점에 대하여 학습하였다\n",
    "- global 키워드를 사용하여서 함수 안에서 전역변수를 사용하는 방법을 학습하였다\n",
    "- 함수가 자기자신을 호출하여 문제를 해결할 수 있다는 것을 알게 되었다\n",
    "- 모듈을 사용하여 여러가지 함수를 구현해 두고 다른 코드에서 불러와서 사용할 수 있다"
   ]
  }
 ],
 "metadata": {
  "kernelspec": {
   "display_name": "Python 3",
   "language": "python",
   "name": "python3"
  },
  "language_info": {
   "codemirror_mode": {
    "name": "ipython",
    "version": 3
   },
   "file_extension": ".py",
   "mimetype": "text/x-python",
   "name": "python",
   "nbconvert_exporter": "python",
   "pygments_lexer": "ipython3",
   "version": "3.7.3"
  }
 },
 "nbformat": 4,
 "nbformat_minor": 2
}
