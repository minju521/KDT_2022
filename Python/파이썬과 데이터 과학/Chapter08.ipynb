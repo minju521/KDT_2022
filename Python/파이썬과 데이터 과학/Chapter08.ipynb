{
 "cells": [
  {
   "cell_type": "markdown",
   "metadata": {},
   "source": [
    "# Chapter08 연관된 데이터를 딕셔너리로 짝을 짓자"
   ]
  },
  {
   "cell_type": "markdown",
   "metadata": {},
   "source": [
    "## 8.1 키와 값을 가진 딕셔너리로 자료를 저장하자"
   ]
  },
  {
   "cell_type": "markdown",
   "metadata": {},
   "source": [
    "딕셔너리도 리스트와 같이 값을 저장하는 자료구조로 파이썬에서는 기본 자료형으로 제공되고 있다. 하지만 딕셔너리에는 값과 관련된 키가 있다는 점이 큰 차이점이다"
   ]
  },
  {
   "cell_type": "code",
   "execution_count": 1,
   "metadata": {},
   "outputs": [],
   "source": [
    "phone_book = {} # 공백 딕셔너리를 생성"
   ]
  },
  {
   "cell_type": "code",
   "execution_count": 2,
   "metadata": {},
   "outputs": [],
   "source": [
    "phone_book[\"홍길동\"] = \"010-1234-5678\""
   ]
  },
  {
   "cell_type": "code",
   "execution_count": 4,
   "metadata": {},
   "outputs": [
    {
     "name": "stdout",
     "output_type": "stream",
     "text": [
      "{'홍길동': '010-1234-5678'}\n"
     ]
    }
   ],
   "source": [
    "print(phone_book)"
   ]
  },
  {
   "cell_type": "code",
   "execution_count": 5,
   "metadata": {},
   "outputs": [],
   "source": [
    "phone_book = {\"홍길동\": \"010-1234-5678\"} # 딕셔너리를 생성하면서 동시에 초기화 하는 방법"
   ]
  },
  {
   "cell_type": "code",
   "execution_count": 6,
   "metadata": {},
   "outputs": [
    {
     "name": "stdout",
     "output_type": "stream",
     "text": [
      "{'홍길동': '010-1234-5678', '강감찬': '010-1234-5679', '이순신': '010-1234-5680'}\n"
     ]
    }
   ],
   "source": [
    "phone_book[\"강감찬\"] = \"010-1234-5679\"\n",
    "phone_book[\"이순신\"] = \"010-1234-5680\"\n",
    "print(phone_book)"
   ]
  },
  {
   "cell_type": "markdown",
   "metadata": {},
   "source": [
    "## 8.2 딕셔너리의 기능을 알아보자"
   ]
  },
  {
   "cell_type": "markdown",
   "metadata": {},
   "source": [
    "리스트와 마찬가지로 딕셔너리에는 어떤 유형의 값도 저장할 수 있다. 즉 정수, 문자열, 다른 리스트, 다른 딕셔너리도 항목으로 저장할 수 있다"
   ]
  },
  {
   "cell_type": "code",
   "execution_count": 7,
   "metadata": {},
   "outputs": [
    {
     "name": "stdout",
     "output_type": "stream",
     "text": [
      "홍길동\n",
      "27\n"
     ]
    }
   ],
   "source": [
    "person_dic = {'Name': '홍길동', 'Age':27, 'Class':'초급'}\n",
    "\n",
    "print(person_dic['Name']) # 딕셔너리의 'Name'이라는 키로 값을 조회함\n",
    "print(person_dic['Age']) # 딕셔너리의 'Age'이라는 키로 값을 조회함"
   ]
  },
  {
   "cell_type": "code",
   "execution_count": 8,
   "metadata": {},
   "outputs": [
    {
     "name": "stdout",
     "output_type": "stream",
     "text": [
      "010-1234-5679\n"
     ]
    }
   ],
   "source": [
    "print(phone_book[\"강감찬\"]) # 키를 가지고 연관된 값을 찾을 수 있다"
   ]
  },
  {
   "cell_type": "code",
   "execution_count": 9,
   "metadata": {},
   "outputs": [
    {
     "data": {
      "text/plain": [
       "dict_keys(['홍길동', '강감찬', '이순신'])"
      ]
     },
     "execution_count": 9,
     "metadata": {},
     "output_type": "execute_result"
    }
   ],
   "source": [
    "phone_book.keys() # 딕셔너리에서 사용되는 모든 키를 출력하려면 keys()라는 메소드를 사용한다"
   ]
  },
  {
   "cell_type": "code",
   "execution_count": 10,
   "metadata": {},
   "outputs": [
    {
     "data": {
      "text/plain": [
       "dict_values(['010-1234-5678', '010-1234-5679', '010-1234-5680'])"
      ]
     },
     "execution_count": 10,
     "metadata": {},
     "output_type": "execute_result"
    }
   ],
   "source": [
    "phone_book.values() # 딕셔너리에서 사용되는 모든 값을 출력하려면 values()를 사용한다"
   ]
  },
  {
   "cell_type": "code",
   "execution_count": 11,
   "metadata": {},
   "outputs": [
    {
     "data": {
      "text/plain": [
       "dict_items([('홍길동', '010-1234-5678'), ('강감찬', '010-1234-5679'), ('이순신', '010-1234-5680')])"
      ]
     },
     "execution_count": 11,
     "metadata": {},
     "output_type": "execute_result"
    }
   ],
   "source": [
    "# 딕셔너리 내부의 모든 값을 출력하려면 items()를 사용할 수도 있다\n",
    "phone_book.items()"
   ]
  },
  {
   "cell_type": "code",
   "execution_count": 13,
   "metadata": {},
   "outputs": [
    {
     "name": "stdout",
     "output_type": "stream",
     "text": [
      "홍길동 : 010-1234-5678\n",
      "강감찬 : 010-1234-5679\n",
      "이순신 : 010-1234-5680\n"
     ]
    }
   ],
   "source": [
    "for name, phone_num in phone_book.items():\n",
    "    print(name, \":\", phone_num)"
   ]
  },
  {
   "cell_type": "markdown",
   "metadata": {},
   "source": [
    "### 도전문제 8.1"
   ]
  },
  {
   "cell_type": "code",
   "execution_count": 18,
   "metadata": {},
   "outputs": [
    {
     "name": "stdout",
     "output_type": "stream",
     "text": [
      "성 : 홍\n",
      "이름 : 길동\n",
      "직장 : 학생\n"
     ]
    }
   ],
   "source": [
    "contact = {'성':'홍', '이름':'길동', '직장':'학생'}\n",
    "\n",
    "for a, b in contact.items():\n",
    "    print(a, \":\", b)"
   ]
  },
  {
   "cell_type": "markdown",
   "metadata": {},
   "source": [
    "## 8.3 딕셔너리의 다양하고 멋진 기능들을 수행하는 메소드"
   ]
  },
  {
   "cell_type": "markdown",
   "metadata": {},
   "source": [
    "딕셔너리의 모든 항목을 하나씩 출력하기 위해서 for 루프를 사용"
   ]
  },
  {
   "cell_type": "code",
   "execution_count": 21,
   "metadata": {},
   "outputs": [
    {
     "name": "stdout",
     "output_type": "stream",
     "text": [
      "홍길동 : 010-1234-5678\n",
      "강감찬 : 010-1234-5679\n",
      "이순신 : 010-1234-5680\n"
     ]
    }
   ],
   "source": [
    "for key in phone_book.keys():\n",
    "    print(key, \":\", phone_book[key])"
   ]
  },
  {
   "cell_type": "markdown",
   "metadata": {},
   "source": [
    "딕셔너리 안의 항목들은 자동으로 정렬되지 않아 sorted() 함수를 사용하여 딕셔너리의 키를 기준으로 정렬을 수행할 수 있다"
   ]
  },
  {
   "cell_type": "code",
   "execution_count": 23,
   "metadata": {},
   "outputs": [
    {
     "data": {
      "text/plain": [
       "['강감찬', '이순신', '홍길동']"
      ]
     },
     "execution_count": 23,
     "metadata": {},
     "output_type": "execute_result"
    }
   ],
   "source": [
    "sorted(phone_book) # 딕셔너리를 키를 기준으로 정렬하여 리스트를 반환"
   ]
  },
  {
   "cell_type": "code",
   "execution_count": 27,
   "metadata": {},
   "outputs": [
    {
     "name": "stdout",
     "output_type": "stream",
     "text": [
      "[('강감찬', '010-1234-5679'), ('이순신', '010-1234-5680'), ('홍길동', '010-1234-5678')]\n"
     ]
    }
   ],
   "source": [
    "sorted_phone_book = sorted(phone_book.items(), key=lambda x: x[0])\n",
    "print(sorted_phone_book)"
   ]
  },
  {
   "cell_type": "markdown",
   "metadata": {},
   "source": [
    "딕셔너리의 항목을 삭제하려면 del을 사용한다"
   ]
  },
  {
   "cell_type": "code",
   "execution_count": 28,
   "metadata": {},
   "outputs": [
    {
     "name": "stdout",
     "output_type": "stream",
     "text": [
      "{'강감찬': '010-1234-5679', '이순신': '010-1234-5680'}\n"
     ]
    }
   ],
   "source": [
    "del phone_book[\"홍길동\"] # \"홍길동\" 키를 이용하여 딕셔너리의 한 항목 삭제\n",
    "print(phone_book)"
   ]
  },
  {
   "cell_type": "markdown",
   "metadata": {},
   "source": [
    "딕셔너리의 모든 항목을 삭제하려면 clear()를 사용한다"
   ]
  },
  {
   "cell_type": "code",
   "execution_count": 30,
   "metadata": {},
   "outputs": [
    {
     "name": "stdout",
     "output_type": "stream",
     "text": [
      "{}\n"
     ]
    }
   ],
   "source": [
    "phone_book.clear()\n",
    "print(phone_book)"
   ]
  },
  {
   "cell_type": "markdown",
   "metadata": {},
   "source": [
    "- keys() : 딕셔너리 내의 모든 키를 반환\n",
    "- values() : 딕셔너리 내의 모든 값을 반환\n",
    "- items() : 딕셔너리 내의 모든 항목을 쌍으로 반환\n",
    "- get(key) : 키에 대한 값을 반환\n",
    "- pop(key) : 키에 대한 값을 반환하고 그 항목을 삭제\n",
    "- popitem() : 제일 마지막에 입력된 항목을 반환하고 그 항목을 삭제\n",
    "- clear() : 딕셔너리 내의 모든 항목을 삭제"
   ]
  },
  {
   "cell_type": "markdown",
   "metadata": {},
   "source": [
    "## 8.4 람다 함수 == 이름이 없는 함수"
   ]
  },
  {
   "cell_type": "markdown",
   "metadata": {},
   "source": [
    "람다함수란 이름이 없는 함수로 정의할 수 있는데 간단한 1회용 작업에 유용하다"
   ]
  },
  {
   "cell_type": "code",
   "execution_count": 34,
   "metadata": {},
   "outputs": [
    {
     "name": "stdout",
     "output_type": "stream",
     "text": [
      "100과 200의 합 : 300\n"
     ]
    }
   ],
   "source": [
    "print(\"100과 200의 합 :\", (lambda x, y: x + y)(100, 200)) # 100, 200이 람다 함수의 인자"
   ]
  },
  {
   "cell_type": "code",
   "execution_count": 38,
   "metadata": {},
   "outputs": [
    {
     "data": {
      "text/plain": [
       "100"
      ]
     },
     "execution_count": 38,
     "metadata": {},
     "output_type": "execute_result"
    }
   ],
   "source": [
    "t = (100, 200, 300)\n",
    "(lambda x: x[0])(t) # t를 인자로 받아서 그 첫 항목 t[0]을 반환"
   ]
  },
  {
   "cell_type": "code",
   "execution_count": 39,
   "metadata": {},
   "outputs": [
    {
     "data": {
      "text/plain": [
       "200"
      ]
     },
     "execution_count": 39,
     "metadata": {},
     "output_type": "execute_result"
    }
   ],
   "source": [
    "(lambda x: x[1])(t) # t를 인자로 받아서 그 두 번째 항목 t[1]을 반환"
   ]
  },
  {
   "cell_type": "code",
   "execution_count": 42,
   "metadata": {},
   "outputs": [
    {
     "name": "stdout",
     "output_type": "stream",
     "text": [
      "dict_items([('홍길동', '010-1234-5678'), ('강감찬', '010-1234-5679'), ('이순신', '010-1234-5680')])\n"
     ]
    }
   ],
   "source": [
    "phone_book = {\"홍길동\": \"010-1234-5678\", \"강감찬\":\"010-1234-5679\", \"이순신\":\"010-1234-5680\"}\n",
    "print(phone_book.items()) # 딕셔너리의 items()는 키, 값을 튜플로 출력"
   ]
  },
  {
   "cell_type": "code",
   "execution_count": 43,
   "metadata": {},
   "outputs": [
    {
     "name": "stdout",
     "output_type": "stream",
     "text": [
      "[('강감찬', '010-1234-5679'), ('이순신', '010-1234-5680'), ('홍길동', '010-1234-5678')]\n"
     ]
    }
   ],
   "source": [
    "# 항목의 첫 인자인 이름을 기준으로 정렬한다 : 한글 사전 순서\n",
    "sorted_phone_book1 = sorted(phone_book.items(), key=lambda x: x[0])\n",
    "print(sorted_phone_book1)"
   ]
  },
  {
   "cell_type": "code",
   "execution_count": 46,
   "metadata": {},
   "outputs": [
    {
     "name": "stdout",
     "output_type": "stream",
     "text": [
      "[('홍길동', '010-1234-5678'), ('강감찬', '010-1234-5679'), ('이순신', '010-1234-5680')]\n"
     ]
    }
   ],
   "source": [
    "sorted_phone_book2 = sorted(phone_book.items(), key=lambda x: x[1])\n",
    "print(sorted_phone_book2)"
   ]
  },
  {
   "cell_type": "markdown",
   "metadata": {},
   "source": [
    "## LAB 8-1 편의점 재고 관리 프로그램을 만들자"
   ]
  },
  {
   "cell_type": "code",
   "execution_count": 18,
   "metadata": {},
   "outputs": [
    {
     "name": "stdout",
     "output_type": "stream",
     "text": [
      "물건의 이름을 입력하시오: 책\n",
      "재고 : 5\n"
     ]
    }
   ],
   "source": [
    "items = {\"커피음료\": 7, \"펜\": 3, \"종이컵\": 2, \"우유\": 1, \"콜라\": 4, \"책\": 5}\n",
    "\n",
    "name = input(\"물건의 이름을 입력하시오: \")\n",
    "print(\"재고 :\", items[name])"
   ]
  },
  {
   "cell_type": "markdown",
   "metadata": {},
   "source": [
    "### 도전문제 8.2"
   ]
  },
  {
   "cell_type": "code",
   "execution_count": 22,
   "metadata": {},
   "outputs": [
    {
     "name": "stdout",
     "output_type": "stream",
     "text": [
      "메뉴를 선택하시오 1) 재고조회 2) 입고 3) 출고 4) 종료 : 4\n",
      "프로그램을 종료합니다.\n"
     ]
    }
   ],
   "source": [
    "items = {\"커피음료\": 7, \"펜\": 3, \"종이컵\": 2, \"우유\": 1, \"콜라\": 4, \"책\": 5}\n",
    "\n",
    "a = int(input(\"메뉴를 선택하시오 1) 재고조회 2) 입고 3) 출고 4) 종료 : \"))\n",
    "if a == 1:\n",
    "    b = input(\"[재고조회] 물건의 이름을 입력하시오 : \")\n",
    "    print(\"재고 :\", items[b])\n",
    "elif a == 2:\n",
    "    c = input(\"[입고] 물건의 이름과 수량을 입력하시오 : \").split()\n",
    "    print(c[0], \"의 재고 :\", items[c[0]]+int(c[1]))\n",
    "elif a == 3:\n",
    "    d = input(\"[출고] 물건의 이름과 수량을 입력하시오 : \").split()\n",
    "    print(d[0], \"의 재고 :\", items[d[0]]-int(d[1]))\n",
    "elif a == 4:\n",
    "    print(\"프로그램을 종료합니다.\")"
   ]
  },
  {
   "cell_type": "code",
   "execution_count": 8,
   "metadata": {},
   "outputs": [
    {
     "name": "stdout",
     "output_type": "stream",
     "text": [
      "메뉴를 선택하시오 1) 재고조회 2) 입고 3) 출고 4) 종료 : 1\n",
      "[재고조회] 물건의 이름을 입력하시오 : 우유\n",
      "재고 : 1\n",
      "메뉴를 선택하시오 1) 재고조회 2) 입고 3) 출고 4) 종료 : 2\n",
      "[입고] 물건의 이름과 수량을 입력하시오 : 우유 5\n",
      "우유 의 재고 : 6\n",
      "메뉴를 선택하시오 1) 재고조회 2) 입고 3) 출고 4) 종료 : 3\n",
      "[출고] 물건의 이름과 수량을 입력하시오 : 펜 2\n",
      "펜 의 재고 : 1\n",
      "메뉴를 선택하시오 1) 재고조회 2) 입고 3) 출고 4) 종료 : 4\n",
      "프로그램을 종료합니다.\n"
     ]
    }
   ],
   "source": [
    "items = {\"커피음료\": 7, \"펜\": 3, \"종이컵\": 2, \"우유\": 1, \"콜라\": 4, \"책\": 5}\n",
    "\n",
    "while True:\n",
    "    a = int(input(\"메뉴를 선택하시오 1) 재고조회 2) 입고 3) 출고 4) 종료 : \"))\n",
    "    if a == 1:\n",
    "        b = input(\"[재고조회] 물건의 이름을 입력하시오 : \")\n",
    "        print(\"재고 :\", items[b])\n",
    "        continue\n",
    "    elif a == 2:\n",
    "        c = input(\"[입고] 물건의 이름과 수량을 입력하시오 : \").split()\n",
    "        print(c[0], \"의 재고 :\", items[c[0]]+int(c[1]))\n",
    "        continue\n",
    "    elif a == 3:\n",
    "        d = input(\"[출고] 물건의 이름과 수량을 입력하시오 : \").split()\n",
    "        print(d[0], \"의 재고 :\", items[d[0]]-int(d[1]))\n",
    "        continue\n",
    "    elif a == 4:\n",
    "        print(\"프로그램을 종료합니다.\")\n",
    "        break"
   ]
  },
  {
   "cell_type": "markdown",
   "metadata": {},
   "source": [
    "## LAB 8-2 영한 사전을 만들어 보자"
   ]
  },
  {
   "cell_type": "markdown",
   "metadata": {},
   "source": [
    "- '<' : 입력 명령\n",
    "- '>' : 검색 명령\n",
    "- '영어단어:우리만단어' 형태\n",
    "- 프로그램 종료 : q"
   ]
  },
  {
   "cell_type": "code",
   "execution_count": 83,
   "metadata": {},
   "outputs": [
    {
     "name": "stdout",
     "output_type": "stream",
     "text": [
      "사전 프로그램 시작... 종료는 q를 입력\n",
      "$ < one:하나\n",
      "$ < two:둘\n",
      "$ < house:집\n",
      "$ < Korea:한국\n",
      "$ > one\n",
      "하나\n",
      "$ > house\n",
      "집\n",
      "$ > body\n",
      "body가 사전에 없습니다.\n",
      "$ q\n",
      "사전 프로그램을 종료합니다.\n"
     ]
    }
   ],
   "source": [
    "print(\"사전 프로그램 시작... 종료는 q를 입력\")\n",
    "dictionary = {}\n",
    "\n",
    "while True:\n",
    "    st = input(\"$ \")\n",
    "    command = st[0] # 첫 입력 문자를 추출한다\n",
    "    if command == '<':\n",
    "        st = st[1:]\n",
    "        inputStr = st.split(':')\n",
    "        if len(inputStr) < 2:\n",
    "            print(\"입력 오류가 발생했습니다.\")\n",
    "        else:\n",
    "            dictionary[inputStr[0].strip()] = inputStr[1].strip()\n",
    "    elif command == '>':\n",
    "        st = st[1:]\n",
    "        inputStr = st.strip()\n",
    "        if inputStr in dictionary:\n",
    "            print(dictionary[inputStr])\n",
    "        else:\n",
    "            print('{}가 사전에 없습니다.'.format(inputStr))\n",
    "    elif command == 'q':\n",
    "        break\n",
    "    else:\n",
    "        print(\"입력 오류가 발생했습니다.\")\n",
    "print(\"사전 프로그램을 종료합니다.\")"
   ]
  },
  {
   "cell_type": "markdown",
   "metadata": {},
   "source": [
    "## 8.5 순서가 중요하지 않은 대상들이 모이면 : 집합"
   ]
  },
  {
   "cell_type": "markdown",
   "metadata": {},
   "source": [
    "파이썬에서 사용하는 집합은 수학의 집합과 비슷하며, 튜플과 달리 순서가 없는 자료형이다."
   ]
  },
  {
   "cell_type": "code",
   "execution_count": 27,
   "metadata": {},
   "outputs": [
    {
     "data": {
      "text/plain": [
       "{1, 2, 3}"
      ]
     },
     "execution_count": 27,
     "metadata": {},
     "output_type": "execute_result"
    }
   ],
   "source": [
    "numbers = {2, 1, 3} # 숫자 3개로 이루어진 집합 자료형\n",
    "numbers"
   ]
  },
  {
   "cell_type": "markdown",
   "metadata": {},
   "source": [
    "집합 자료형에서는 요소가 중복되면 자동으로 중복된 요소를 제거한다."
   ]
  },
  {
   "cell_type": "code",
   "execution_count": 28,
   "metadata": {},
   "outputs": [
    {
     "data": {
      "text/plain": [
       "{1, 2, 3}"
      ]
     },
     "execution_count": 28,
     "metadata": {},
     "output_type": "execute_result"
    }
   ],
   "source": [
    "set([1, 2, 3, 1, 2]) # 리스트로부터 집합을 생성함"
   ]
  },
  {
   "cell_type": "code",
   "execution_count": 29,
   "metadata": {},
   "outputs": [
    {
     "data": {
      "text/plain": [
       "{'a', 'b', 'c', 'd', 'e', 'f'}"
      ]
     },
     "execution_count": 29,
     "metadata": {},
     "output_type": "execute_result"
    }
   ],
   "source": [
    "set(\"abcdefa\") # 문자열도 시퀀스형이라서 집합형으로 변환이 가능하다"
   ]
  },
  {
   "cell_type": "code",
   "execution_count": 30,
   "metadata": {},
   "outputs": [],
   "source": [
    "numbers = set()"
   ]
  },
  {
   "cell_type": "markdown",
   "metadata": {},
   "source": [
    "## 8.6 집합의 항목에 접근하는 연산"
   ]
  },
  {
   "cell_type": "markdown",
   "metadata": {},
   "source": [
    "어떤 항목이 집합 안에 있는지를 검사하려면 리스트와 마찬가지로 in 연산자를 사용하면 된다."
   ]
  },
  {
   "cell_type": "code",
   "execution_count": 31,
   "metadata": {},
   "outputs": [
    {
     "name": "stdout",
     "output_type": "stream",
     "text": [
      "집합 안에 1이 있습니다.\n"
     ]
    }
   ],
   "source": [
    "numbers = {2, 1, 3}\n",
    "if 1 in numbers: # 1이라는 항목이 numbers 집합에 있는가 검사\n",
    "    print(\"집합 안에 1이 있습니다.\")"
   ]
  },
  {
   "cell_type": "markdown",
   "metadata": {},
   "source": [
    "집합의 항목은 순서가 없기 때문에 인덱스를 사용 할 수 없다"
   ]
  },
  {
   "cell_type": "code",
   "execution_count": 33,
   "metadata": {},
   "outputs": [
    {
     "name": "stdout",
     "output_type": "stream",
     "text": [
      "1 2 3 "
     ]
    }
   ],
   "source": [
    "numbers = {2, 1, 3}\n",
    "for x in numbers:\n",
    "    print(x, end=\" \")"
   ]
  },
  {
   "cell_type": "code",
   "execution_count": 34,
   "metadata": {},
   "outputs": [
    {
     "name": "stdout",
     "output_type": "stream",
     "text": [
      "1 2 3 "
     ]
    }
   ],
   "source": [
    "for x in sorted(numbers): # 정렬된 순서로 항목을 출력하기 위해 sorted()를 사용\n",
    "    print(x, end=\" \")"
   ]
  },
  {
   "cell_type": "markdown",
   "metadata": {},
   "source": [
    "집합은 인덱스가 없기 때문에 인덱셍이나 슬라이싱 연산은 의미가 없다."
   ]
  },
  {
   "cell_type": "code",
   "execution_count": 36,
   "metadata": {},
   "outputs": [
    {
     "data": {
      "text/plain": [
       "{1, 2, 3, 4}"
      ]
     },
     "execution_count": 36,
     "metadata": {},
     "output_type": "execute_result"
    }
   ],
   "source": [
    "numbers = {1, 2, 3}\n",
    "numbers.add(4) # numbers 집합에 원소 4를 추가\n",
    "numbers"
   ]
  },
  {
   "cell_type": "code",
   "execution_count": 37,
   "metadata": {},
   "outputs": [
    {
     "data": {
      "text/plain": [
       "{1, 2, 3}"
      ]
     },
     "execution_count": 37,
     "metadata": {},
     "output_type": "execute_result"
    }
   ],
   "source": [
    "numbers.remove(4) # numbers 집합에 원소 4를 삭제\n",
    "numbers"
   ]
  },
  {
   "cell_type": "markdown",
   "metadata": {},
   "source": [
    "in 연산자는 집합에서만 사용하는 것은 아니다."
   ]
  },
  {
   "cell_type": "code",
   "execution_count": 38,
   "metadata": {},
   "outputs": [
    {
     "data": {
      "text/plain": [
       "True"
      ]
     },
     "execution_count": 38,
     "metadata": {},
     "output_type": "execute_result"
    }
   ],
   "source": [
    "a_list = ['hello', 'world', 'welcome', 'to', 'python']\n",
    "'python' in a_list # 'python' 문자열이 a_list에 있는지 확인"
   ]
  },
  {
   "cell_type": "markdown",
   "metadata": {},
   "source": [
    "## 8.7 집합에 적용할 수 있는 다양한 연산들을 살펴보자"
   ]
  },
  {
   "cell_type": "markdown",
   "metadata": {},
   "source": [
    "< 집합 비교 연산 >"
   ]
  },
  {
   "cell_type": "markdown",
   "metadata": {},
   "source": [
    "==, != 연산자를 사용하여 2개의 집합이 서로 같은지 검사"
   ]
  },
  {
   "cell_type": "code",
   "execution_count": 40,
   "metadata": {},
   "outputs": [
    {
     "data": {
      "text/plain": [
       "True"
      ]
     },
     "execution_count": 40,
     "metadata": {},
     "output_type": "execute_result"
    }
   ],
   "source": [
    "A = {1, 2, 3}\n",
    "B = {1, 2, 3}\n",
    "A == B # A가 B와 같은지 검사"
   ]
  },
  {
   "cell_type": "markdown",
   "metadata": {},
   "source": [
    "<, <=, >, >= 연산자를 사용하여 진부분 집합인지 부분 집합인지 검사"
   ]
  },
  {
   "cell_type": "code",
   "execution_count": 41,
   "metadata": {},
   "outputs": [
    {
     "data": {
      "text/plain": [
       "True"
      ]
     },
     "execution_count": 41,
     "metadata": {},
     "output_type": "execute_result"
    }
   ],
   "source": [
    "A = {1, 2, 3, 4, 5}\n",
    "B = {1, 2, 3}\n",
    "B < A # B가 A의 진부분 집합인가 검사"
   ]
  },
  {
   "cell_type": "markdown",
   "metadata": {},
   "source": [
    "< 항목들에 대한 정보 처리 >"
   ]
  },
  {
   "cell_type": "markdown",
   "metadata": {},
   "source": [
    "집합에 대해서도 len(), max(), min(), sorted(), sum() 등의 메소드는 사용할 수 있다."
   ]
  },
  {
   "cell_type": "code",
   "execution_count": 46,
   "metadata": {},
   "outputs": [],
   "source": [
    "a_set = {1, 5, 4, 3, 7, 4} # 6개 항목으로 집합 생성"
   ]
  },
  {
   "cell_type": "code",
   "execution_count": 47,
   "metadata": {},
   "outputs": [
    {
     "data": {
      "text/plain": [
       "5"
      ]
     },
     "execution_count": 47,
     "metadata": {},
     "output_type": "execute_result"
    }
   ],
   "source": [
    "len(a_set) # 항목의 개수는 중복을 제외하면 5개이다"
   ]
  },
  {
   "cell_type": "code",
   "execution_count": 48,
   "metadata": {},
   "outputs": [
    {
     "data": {
      "text/plain": [
       "7"
      ]
     },
     "execution_count": 48,
     "metadata": {},
     "output_type": "execute_result"
    }
   ],
   "source": [
    "max(a_set) # 항목 가운데 가장 큰 수는 7"
   ]
  },
  {
   "cell_type": "code",
   "execution_count": 49,
   "metadata": {},
   "outputs": [
    {
     "data": {
      "text/plain": [
       "1"
      ]
     },
     "execution_count": 49,
     "metadata": {},
     "output_type": "execute_result"
    }
   ],
   "source": [
    "min(a_set) # 항목 가운데 가장 작은 수는 1"
   ]
  },
  {
   "cell_type": "code",
   "execution_count": 50,
   "metadata": {},
   "outputs": [
    {
     "data": {
      "text/plain": [
       "[1, 3, 4, 5, 7]"
      ]
     },
     "execution_count": 50,
     "metadata": {},
     "output_type": "execute_result"
    }
   ],
   "source": [
    "sorted(a_set) # 항목을 정렬하여 리스트를 만든다. 집합이므로 중복은 제거"
   ]
  },
  {
   "cell_type": "code",
   "execution_count": 51,
   "metadata": {},
   "outputs": [
    {
     "data": {
      "text/plain": [
       "20"
      ]
     },
     "execution_count": 51,
     "metadata": {},
     "output_type": "execute_result"
    }
   ],
   "source": [
    "sum(a_set) # 중복 원소는 하나만 사용되므로 전체 합은 20"
   ]
  },
  {
   "cell_type": "markdown",
   "metadata": {},
   "source": [
    "< 집합에 적용할 수 있는 논리 연산 >"
   ]
  },
  {
   "cell_type": "markdown",
   "metadata": {},
   "source": [
    "all()은 모든 항목이 True로 평가되었을 때 True이고 하나라도 False로 평가되면 False가 된다.\n",
    "any()는 항목들 가운데 하나라도 True가 있으면 True이고 그렇지 않으면 False가 된다."
   ]
  },
  {
   "cell_type": "code",
   "execution_count": 54,
   "metadata": {},
   "outputs": [
    {
     "data": {
      "text/plain": [
       "False"
      ]
     },
     "execution_count": 54,
     "metadata": {},
     "output_type": "execute_result"
    }
   ],
   "source": [
    "a_set = {1, 0, 2, 3, 3}\n",
    "all(a_set) # a_set이 모두 True인가를 검사한다"
   ]
  },
  {
   "cell_type": "code",
   "execution_count": 55,
   "metadata": {},
   "outputs": [
    {
     "data": {
      "text/plain": [
       "True"
      ]
     },
     "execution_count": 55,
     "metadata": {},
     "output_type": "execute_result"
    }
   ],
   "source": [
    "any(a_set) # a_set에 0이 있는가를 검사한다"
   ]
  },
  {
   "cell_type": "markdown",
   "metadata": {},
   "source": [
    "## 8.8 풍부하고 멋진 집합 연산이 있다"
   ]
  },
  {
   "cell_type": "markdown",
   "metadata": {},
   "source": [
    "집합이 유용한 이유는 교집합이나 합집합과 같은 여러가지 집합 연산을 지원하기 때문이다."
   ]
  },
  {
   "cell_type": "code",
   "execution_count": 58,
   "metadata": {},
   "outputs": [],
   "source": [
    "A = {1, 2, 3}\n",
    "B = {3, 4, 5}"
   ]
  },
  {
   "cell_type": "markdown",
   "metadata": {},
   "source": [
    "합집합은 2개의 집합을 합하는 연산으로 | 연산자나 union() 메소드를 사용한다."
   ]
  },
  {
   "cell_type": "code",
   "execution_count": 60,
   "metadata": {},
   "outputs": [
    {
     "data": {
      "text/plain": [
       "{1, 2, 3, 4, 5}"
      ]
     },
     "execution_count": 60,
     "metadata": {},
     "output_type": "execute_result"
    }
   ],
   "source": [
    "A | B # 합집합 연산"
   ]
  },
  {
   "cell_type": "code",
   "execution_count": 61,
   "metadata": {},
   "outputs": [
    {
     "data": {
      "text/plain": [
       "{1, 2, 3, 4, 5}"
      ]
     },
     "execution_count": 61,
     "metadata": {},
     "output_type": "execute_result"
    }
   ],
   "source": [
    "A.union(B) # 합집합 메소드"
   ]
  },
  {
   "cell_type": "markdown",
   "metadata": {},
   "source": [
    "교집합은 2개 집합에서 겹치는 요소를 구하는 연산으로 & 연산자나 intersection() 메소드를 사용한다."
   ]
  },
  {
   "cell_type": "code",
   "execution_count": 63,
   "metadata": {},
   "outputs": [
    {
     "data": {
      "text/plain": [
       "{3}"
      ]
     },
     "execution_count": 63,
     "metadata": {},
     "output_type": "execute_result"
    }
   ],
   "source": [
    "A & B # 교집합 연산"
   ]
  },
  {
   "cell_type": "code",
   "execution_count": 64,
   "metadata": {},
   "outputs": [
    {
     "data": {
      "text/plain": [
       "{3}"
      ]
     },
     "execution_count": 64,
     "metadata": {},
     "output_type": "execute_result"
    }
   ],
   "source": [
    "A.intersection(B) # 교집합 메소드"
   ]
  },
  {
   "cell_type": "markdown",
   "metadata": {},
   "source": [
    "차집합은 하나의 집합에서 다른 집합의 요소를 빼는 연산으로 - 연산자나 difference() 메소드를 사용한다."
   ]
  },
  {
   "cell_type": "code",
   "execution_count": 66,
   "metadata": {},
   "outputs": [
    {
     "data": {
      "text/plain": [
       "{1, 2}"
      ]
     },
     "execution_count": 66,
     "metadata": {},
     "output_type": "execute_result"
    }
   ],
   "source": [
    "A - B # 차집합 연산"
   ]
  },
  {
   "cell_type": "code",
   "execution_count": 67,
   "metadata": {},
   "outputs": [
    {
     "data": {
      "text/plain": [
       "{1, 2}"
      ]
     },
     "execution_count": 67,
     "metadata": {},
     "output_type": "execute_result"
    }
   ],
   "source": [
    "A.difference(B) # 차집합 메소드"
   ]
  },
  {
   "cell_type": "markdown",
   "metadata": {},
   "source": [
    "대칭차집합은 두 집합의 합집합에서 교집합을 뺀 요소를 구하는 연산으로 ^ 연산자나 symmetric_difference() 메소드를 사용한다."
   ]
  },
  {
   "cell_type": "code",
   "execution_count": 69,
   "metadata": {},
   "outputs": [
    {
     "data": {
      "text/plain": [
       "{1, 2, 4, 5}"
      ]
     },
     "execution_count": 69,
     "metadata": {},
     "output_type": "execute_result"
    }
   ],
   "source": [
    "A ^ B # 대칭 차집합 연산"
   ]
  },
  {
   "cell_type": "code",
   "execution_count": 70,
   "metadata": {},
   "outputs": [
    {
     "data": {
      "text/plain": [
       "{1, 2, 4, 5}"
      ]
     },
     "execution_count": 70,
     "metadata": {},
     "output_type": "execute_result"
    }
   ],
   "source": [
    "A.symmetric_difference(B) # 대칭 차집합 메소드"
   ]
  },
  {
   "cell_type": "markdown",
   "metadata": {},
   "source": [
    "## LAB 8-3 파티 동시 참석자 알아내기"
   ]
  },
  {
   "cell_type": "code",
   "execution_count": 72,
   "metadata": {},
   "outputs": [
    {
     "name": "stdout",
     "output_type": "stream",
     "text": [
      "2개의 파티에 모두 참석한 사람은 다음과 같습니다. \n",
      "{'Park'}\n"
     ]
    }
   ],
   "source": [
    "partyA = set([\"Park\", \"Kim\", \"Lee\"])\n",
    "partyB = set([\"Park\", \"Choi\"])\n",
    "\n",
    "print(\"2개의 파티에 모두 참석한 사람은 다음과 같습니다. \")\n",
    "print(partyA.intersection(partyB))"
   ]
  },
  {
   "cell_type": "markdown",
   "metadata": {},
   "source": [
    "### 도전문제 8.3"
   ]
  },
  {
   "cell_type": "code",
   "execution_count": 74,
   "metadata": {},
   "outputs": [
    {
     "name": "stdout",
     "output_type": "stream",
     "text": [
      "파티 A, B에 참석한 사람들 : {'Park', 'Choi', 'Kim', 'Lee'}\n"
     ]
    }
   ],
   "source": [
    "# (1) 합집합\n",
    "print(\"파티 A, B에 참석한 사람들 :\", partyA.union(partyB))"
   ]
  },
  {
   "cell_type": "code",
   "execution_count": 76,
   "metadata": {},
   "outputs": [
    {
     "name": "stdout",
     "output_type": "stream",
     "text": [
      "파티 A, B에 중복없이 참석한 사람 : {'Choi', 'Lee', 'Kim'}\n"
     ]
    }
   ],
   "source": [
    "# (2) 대칭차집합\n",
    "print(\"파티 A, B에 중복없이 참석한 사람 :\", partyA.symmetric_difference(partyB))"
   ]
  },
  {
   "cell_type": "code",
   "execution_count": 75,
   "metadata": {},
   "outputs": [
    {
     "name": "stdout",
     "output_type": "stream",
     "text": [
      "파티 A, B에 중복없이 참석한 사람 : {'Choi', 'Lee', 'Kim'}\n"
     ]
    }
   ],
   "source": [
    "print(\"파티 A, B에 중복없이 참석한 사람 :\", partyA.union(partyB)-partyA.intersection(partyB))"
   ]
  },
  {
   "cell_type": "code",
   "execution_count": 77,
   "metadata": {},
   "outputs": [
    {
     "name": "stdout",
     "output_type": "stream",
     "text": [
      "파티 A에만 참석한 사람 : {'Lee', 'Kim'}\n"
     ]
    }
   ],
   "source": [
    "# (3) 차집합\n",
    "print(\"파티 A에만 참석한 사람 :\", partyA.difference(partyB))"
   ]
  },
  {
   "cell_type": "markdown",
   "metadata": {},
   "source": [
    "## 8.9 파일로부터 자료를 읽고 저장해보자"
   ]
  },
  {
   "cell_type": "markdown",
   "metadata": {},
   "source": [
    "컴퓨터 파일이란 컴퓨터의 저장 장치 내에 데이터를 저장하기 위해 사용하는 논리적인 단위를 말한다."
   ]
  },
  {
   "cell_type": "code",
   "execution_count": 1,
   "metadata": {},
   "outputs": [],
   "source": [
    "f = open('hello.txt', 'w')  #파일을 쓰기 모드로 연다. \n",
    "f.write('Hello World!')     #hello.txt 파일에 Hello World를 쓴다.\n",
    "f.close() # 파일을 닫는다"
   ]
  },
  {
   "cell_type": "code",
   "execution_count": 2,
   "metadata": {},
   "outputs": [
    {
     "name": "stdout",
     "output_type": "stream",
     "text": [
      "Hello World!\n"
     ]
    }
   ],
   "source": [
    "f = open('hello.txt', 'r') # 파일을 연다\n",
    "s = f.read() # hello.txt 파일을 읽는다\n",
    "print(s) # 파일의 내용을 출력한다\n",
    "f.close() # 파일을 닫는다"
   ]
  },
  {
   "cell_type": "markdown",
   "metadata": {},
   "source": [
    "## LAB 8-4 파일에서 중복되지 않은 단어의 개수 구하기"
   ]
  },
  {
   "cell_type": "code",
   "execution_count": 4,
   "metadata": {},
   "outputs": [
    {
     "name": "stdout",
     "output_type": "stream",
     "text": [
      "입력 파일 이름: proverb.txt\n",
      "사용된 단어의 개수 = 18\n",
      "{'of', 'well', 'alls', 'a', 'bad', 'travels', 'feather', 'together', 'ends', 'that', 'begun', 'is', 'half', 'done', 'birds', 'flock', 'fast', 'news'}\n"
     ]
    }
   ],
   "source": [
    "# 단어에서 구두점을 제거하고 소문자로 만든다\n",
    "def process(w):\n",
    "    output = \"\"\n",
    "    for ch in w:\n",
    "        if ch.isalpha():\n",
    "            output += ch\n",
    "    return output.lower()\n",
    "\n",
    "words = set() # 중복을 방지하기 위해 집합 자료형에 단어를 넣자\n",
    "fname = input(\"입력 파일 이름: \")\n",
    "file = open(fname, \"r\") # 파일을 연다\n",
    "\n",
    "# 파일의 모든 줄에 대하여 반복한다\n",
    "for line in file:\n",
    "    lineWords = line.split()\n",
    "    for word in lineWords:\n",
    "        words.add(process(word)) # 단어를 집합에 추가한다\n",
    "        \n",
    "print(\"사용된 단어의 개수 =\", len(words))\n",
    "print(words)"
   ]
  },
  {
   "cell_type": "markdown",
   "metadata": {},
   "source": [
    "## 8.10 두 수의 약수와 최대공약수 그리고 프로그래밍적인 사고"
   ]
  },
  {
   "cell_type": "markdown",
   "metadata": {},
   "source": [
    "10의 진약수"
   ]
  },
  {
   "cell_type": "code",
   "execution_count": 7,
   "metadata": {},
   "outputs": [
    {
     "name": "stdout",
     "output_type": "stream",
     "text": [
      "10 의 진약수 : [2, 5]\n"
     ]
    }
   ],
   "source": [
    "num = 10\n",
    "divisors = []\n",
    "\n",
    "for i in range(2, num):\n",
    "    if num % i == 0:\n",
    "        divisors.append(i)\n",
    "        \n",
    "print(num, \"의 진약수 :\", divisors)"
   ]
  },
  {
   "cell_type": "markdown",
   "metadata": {},
   "source": [
    "48과 60의 최대공약수"
   ]
  },
  {
   "cell_type": "code",
   "execution_count": 12,
   "metadata": {},
   "outputs": [
    {
     "name": "stdout",
     "output_type": "stream",
     "text": [
      "48 의 진약수 : {2, 3, 4, 6, 8, 12, 16, 24}\n",
      "60 의 진약수 : {2, 3, 4, 5, 6, 10, 12, 15, 20, 30}\n"
     ]
    }
   ],
   "source": [
    "def get_divisors(num): # num의 약수를 집합형으로 반환함\n",
    "    divisors = set()\n",
    "    for i in range(2, num):\n",
    "        if num % i == 0:\n",
    "            divisors.add(i)\n",
    "    return divisors\n",
    "\n",
    "x = 48\n",
    "print(x, \"의 진약수 :\", get_divisors(x))\n",
    "y = 60\n",
    "print(y, \"의 진약수 :\", get_divisors(y))"
   ]
  },
  {
   "cell_type": "code",
   "execution_count": 14,
   "metadata": {},
   "outputs": [
    {
     "name": "stdout",
     "output_type": "stream",
     "text": [
      "{2, 3, 4, 6, 12}\n",
      "48 60 의 최대공약수 : 12\n"
     ]
    }
   ],
   "source": [
    "A = get_divisors(x)\n",
    "B = get_divisors(y)\n",
    "\n",
    "print(A.intersection(B))\n",
    "print(x, y, '의 최대공약수 :', max(A.intersection(B)))"
   ]
  },
  {
   "cell_type": "markdown",
   "metadata": {},
   "source": [
    "### 핵심정리"
   ]
  },
  {
   "cell_type": "markdown",
   "metadata": {},
   "source": [
    "- 딕셔너리는 키와 값으로 이루어진다\n",
    "- 딕셔너리에 키를 제시하면 값을 반환한다\n",
    "- 딕셔너리는 인덱스를 이용하여 접근하지 않고 키를 이용하여 항목에 접근한다\n",
    "- 키를 이용하기 때문에 항목들 사이의 순서는 중요하지 않다\n",
    "- 항목의 순서가 중요하지 않은 데이터로 집합이 있다\n",
    "- 딕셔너리와 집합은 항목의 순서에 의미가 없으므로 슬라이싱을 적용할 수 없다\n",
    "- 집합연산을 지원하는 풍부한 연산자와 메소드가 제공되고 있다"
   ]
  }
 ],
 "metadata": {
  "kernelspec": {
   "display_name": "Python 3",
   "language": "python",
   "name": "python3"
  },
  "language_info": {
   "codemirror_mode": {
    "name": "ipython",
    "version": 3
   },
   "file_extension": ".py",
   "mimetype": "text/x-python",
   "name": "python",
   "nbconvert_exporter": "python",
   "pygments_lexer": "ipython3",
   "version": "3.7.3"
  }
 },
 "nbformat": 4,
 "nbformat_minor": 2
}
