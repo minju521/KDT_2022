{
 "cells": [
  {
   "cell_type": "markdown",
   "id": "f6241548",
   "metadata": {},
   "source": [
    "# Chapter13_심화문제"
   ]
  },
  {
   "cell_type": "markdown",
   "id": "73492452",
   "metadata": {},
   "source": [
    "## 13.1"
   ]
  },
  {
   "cell_type": "code",
   "execution_count": 2,
   "id": "93e761f9",
   "metadata": {},
   "outputs": [],
   "source": [
    "# 각각 50%씩 합성한 이미지\n",
    "import cv2\n",
    "global img1, img2\n",
    "\n",
    "img1 = cv2.imread('c:/kdt/myData.png')\n",
    "img2 = cv2.imread('c:/kdt/bag_cartoon.png')\n",
    "img1 = cv2.resize(img1, (300,400))\n",
    "img2 = cv2.resize(img2, (300,400))\n",
    "\n",
    "img_merged = cv2.addWeighted(img1, 0.5, img2, 0.5, 0)\n",
    "cv2.imshow('Display', img_merged)\n",
    "\n",
    "cv2.waitKey(0)\n",
    "cv2.destroyAllWindows()"
   ]
  },
  {
   "cell_type": "code",
   "execution_count": 1,
   "id": "c8f732ff",
   "metadata": {},
   "outputs": [],
   "source": [
    "# 트랙바를 사용하는 이미지\n",
    "import cv2\n",
    "global img1, img2 # 두 이미지를 프로그램의 전체에서 사용할 수 있도록 함\n",
    "\n",
    "def on_change_weight(x): # 상단 트랙바 막대가 움직이게 되면 이 함수가 호출된다\n",
    "    weight = x / 100 # x 값이 0에서 100사이이므로 100으로 나누어 0에서 1사이 값으로 나타난다\n",
    "    img_merged = cv2.addWeighted(img1, 1-weight, img2, weight, 0)\n",
    "    cv2.imshow('Display', img_merged)\n",
    "\n",
    "cv2.namedWindow('Display')\n",
    "cv2.createTrackbar('weight', 'Display', 0, 100, on_change_weight)\n",
    "\n",
    "img1 = cv2.imread('c:/kdt/myData.png')\n",
    "img2 = cv2.imread('c:/kdt/bag_cartoon.png')\n",
    "img1 = cv2.resize(img1, (300,400))\n",
    "img2 = cv2.resize(img2, (300,400))\n",
    "\n",
    "cv2.waitKey(0)\n",
    "cv2.destroyAllWindows()"
   ]
  },
  {
   "cell_type": "markdown",
   "id": "cefb5c8c",
   "metadata": {},
   "source": [
    "## 13.2"
   ]
  },
  {
   "cell_type": "code",
   "execution_count": 6,
   "id": "834248ad",
   "metadata": {},
   "outputs": [],
   "source": [
    "import cv2\n",
    "\n",
    "img1 = cv2.imread('c:/kdt/myData.png', cv2.IMREAD_GRAYSCALE)\n",
    "img2 = cv2.imread('c:/kdt/bag_cartoon.png', cv2.IMREAD_GRAYSCALE)\n",
    "\n",
    "# 이미지 크기가 너무 작아서 픽셀이 깨져서 나오고 잘 안보임\n",
    "img1 = cv2.resize(img1,(28, 28))\n",
    "img2 = cv2.resize(img2,(28, 28))\n",
    "\n",
    "# img1을 좌우반전 시킴\n",
    "img3 = img1[:, ::-1]\n",
    "\n",
    "cv2.imshow('myData', img1)\n",
    "cv2.imshow('bag_cartoon', img2)\n",
    "cv2.imshow('myData2', img3)\n",
    "\n",
    "cv2.waitKey(0)\n",
    "cv2.destroyAllWindows()"
   ]
  },
  {
   "cell_type": "code",
   "execution_count": 19,
   "id": "1ae8b602",
   "metadata": {},
   "outputs": [],
   "source": [
    "import cv2\n",
    " \n",
    "img1 = cv2.imread('c:/kdt/myData.png', cv2.IMREAD_GRAYSCALE) #회색조로 읽는다.\n",
    "img2 = cv2.imread('c:/kdt/bag_cartoon.png', cv2.IMREAD_GRAYSCALE)\n",
    "img3 = img1[:, ::-1]  #좌우반전 시키기 \n",
    "\n",
    "img1 = cv2.resize(img1, (28, 28))  #사이즈를 28로 줄인다. \n",
    "img2 = cv2.resize(img2, (28, 28))\n",
    "img3 = cv2.resize(img3, (28, 28))\n",
    "\n",
    "cv2.imshow('img_myData', img1)\n",
    "cv2.imshow('img_bag', img2)\n",
    "cv2.imshow('img_myData2', img3)\n",
    "\n",
    "cv2.waitKey(0)\n",
    "cv2.destroyAllWindows()"
   ]
  },
  {
   "cell_type": "markdown",
   "id": "c3d5734a",
   "metadata": {},
   "source": [
    "## 13.3"
   ]
  },
  {
   "cell_type": "code",
   "execution_count": 11,
   "id": "fd198f94",
   "metadata": {},
   "outputs": [],
   "source": [
    "import cv2\n",
    "import numpy as np\n",
    "\n",
    "image = cv2.imread('c:/kdt/annotated.jpg')\n",
    "image = cv2.resize(image, (500, 400))\n",
    "image_hsv = cv2.cvtColor(image, cv2.COLOR_BGR2HSV)\n",
    "\n",
    "red_low = np.array([-10, 100, 100])\n",
    "red_high = np.array([10, 255, 255])\n",
    "\n",
    "my_mask = cv2.inRange(image_hsv, red_low, red_high)\n",
    "\n",
    "cv2.imshow('original', image)\n",
    "cv2.imshow('mask', my_mask)\n",
    "\n",
    "cv2.waitKey(0)\n",
    "cv2.destroyAllWindows()"
   ]
  },
  {
   "cell_type": "markdown",
   "id": "197a5bdb",
   "metadata": {},
   "source": [
    "## 13.4"
   ]
  },
  {
   "cell_type": "code",
   "execution_count": 12,
   "id": "f43faa82",
   "metadata": {},
   "outputs": [],
   "source": [
    "import cv2\n",
    "import numpy as np\n",
    "\n",
    "image = cv2.imread('c:/kdt/annotated.jpg')\n",
    "image = cv2.resize(image, (500, 400))\n",
    "image_hsv = cv2.cvtColor(image, cv2.COLOR_BGR2HSV)\n",
    "\n",
    "red_low = np.array([-10, 100, 100])\n",
    "red_high = np.array([10, 255, 255])\n",
    "\n",
    "my_mask = cv2.inRange(image_hsv, red_low, red_high)\n",
    "\n",
    "# 빨간색과 겹치는 이미지만 추출\n",
    "aaa = cv2.bitwise_and(image, image, mask=my_mask)\n",
    "\n",
    "cv2.imshow('original', image)\n",
    "cv2.imshow('mask_red', aaa)\n",
    "\n",
    "cv2.waitKey(0)\n",
    "cv2.destroyAllWindows()"
   ]
  },
  {
   "cell_type": "markdown",
   "id": "36ac85d0",
   "metadata": {},
   "source": [
    "## 13.5"
   ]
  },
  {
   "cell_type": "code",
   "execution_count": 18,
   "id": "58002f60",
   "metadata": {},
   "outputs": [],
   "source": [
    "import cv2\n",
    "import numpy as np\n",
    "\n",
    "image = cv2.imread('c:/kdt/annotated.jpg')\n",
    "image = cv2.resize(image, (500, 400))\n",
    "image_hsv = cv2.cvtColor(image, cv2.COLOR_BGR2HSV)\n",
    "\n",
    "red_low = np.array([-10, 100, 100])\n",
    "red_high = np.array([10, 255, 255])\n",
    "\n",
    "# 빨간색 픽셀 찾기\n",
    "my_mask = cv2.inRange(image_hsv, red_low, red_high)\n",
    "# 빨간색 아닌 픽셀 찾기\n",
    "mask_inv = cv2.bitwise_not(my_mask)\n",
    "\n",
    "# 빨간색과 겹치는 이미지만 추출\n",
    "aaa = cv2.bitwise_and(image, image, mask=my_mask)\n",
    "# 빨간색이 아닌 픽셀만 추출\n",
    "removed = cv2.bitwise_and(image, image, mask=mask_inv)\n",
    "# 빨간색 제거 이미지\n",
    "merged = cv2.bitwise_or(removed, aaa)\n",
    "\n",
    "# 원본이미지\n",
    "cv2.imshow('original', image)\n",
    "# 중앙값 흐린 기법 사용한 이미지\n",
    "result_image = cv2.medianBlur(merged, 9)\n",
    "cv2.imshow('median', result_image)\n",
    "\n",
    "cv2.waitKey(0)\n",
    "cv2.destroyAllWindows()"
   ]
  }
 ],
 "metadata": {
  "kernelspec": {
   "display_name": "Python 3",
   "language": "python",
   "name": "python3"
  },
  "language_info": {
   "codemirror_mode": {
    "name": "ipython",
    "version": 3
   },
   "file_extension": ".py",
   "mimetype": "text/x-python",
   "name": "python",
   "nbconvert_exporter": "python",
   "pygments_lexer": "ipython3",
   "version": "3.8.8"
  }
 },
 "nbformat": 4,
 "nbformat_minor": 5
}
