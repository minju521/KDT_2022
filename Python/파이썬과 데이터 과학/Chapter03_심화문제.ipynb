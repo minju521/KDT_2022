{
 "cells": [
  {
   "cell_type": "markdown",
   "metadata": {},
   "source": [
    "# Chapter03_심화문제"
   ]
  },
  {
   "cell_type": "markdown",
   "metadata": {},
   "source": [
    "## 3.1"
   ]
  },
  {
   "cell_type": "code",
   "execution_count": 1,
   "metadata": {},
   "outputs": [
    {
     "name": "stdout",
     "output_type": "stream",
     "text": [
      "a   n   a ** n\n",
      "2   2   4\n",
      "3   2   9\n",
      "4   2   16\n",
      "5   2   25\n",
      "6   2   36\n"
     ]
    }
   ],
   "source": [
    "n = 2\n",
    "print('a', ' ', 'n', ' ', 'a ** n')\n",
    "for i in range(2,7):\n",
    "    print(i, ' ', n, ' ', i**n)"
   ]
  },
  {
   "cell_type": "markdown",
   "metadata": {},
   "source": [
    "## 3.2"
   ]
  },
  {
   "cell_type": "code",
   "execution_count": 2,
   "metadata": {},
   "outputs": [
    {
     "name": "stdout",
     "output_type": "stream",
     "text": [
      "2 의 제곱근 = 1.4142135623730951\n",
      "3 의 제곱근 = 1.7320508075688772\n",
      "4 의 제곱근 = 2.0\n",
      "5 의 제곱근 = 2.23606797749979\n",
      "6 의 제곱근 = 2.449489742783178\n",
      "7 의 제곱근 = 2.6457513110645907\n",
      "8 의 제곱근 = 2.8284271247461903\n",
      "9 의 제곱근 = 3.0\n",
      "10 의 제곱근 = 3.1622776601683795\n"
     ]
    }
   ],
   "source": [
    "for i in range(2,11):\n",
    "    print(i, \"의 제곱근 =\", i**0.5)"
   ]
  },
  {
   "cell_type": "markdown",
   "metadata": {},
   "source": [
    "## 3.3"
   ]
  },
  {
   "cell_type": "code",
   "execution_count": 3,
   "metadata": {},
   "outputs": [
    {
     "name": "stdout",
     "output_type": "stream",
     "text": [
      "2 4 8 16 32 64 128 256 512 1024\n"
     ]
    }
   ],
   "source": [
    "print(2<<0, 2<<1, 2<<2, 2<<3, 2<<4, 2<<5, 2<<6, 2<<7, 2<<8, 2<<9)"
   ]
  },
  {
   "cell_type": "markdown",
   "metadata": {},
   "source": [
    "## 3.4"
   ]
  },
  {
   "cell_type": "code",
   "execution_count": 4,
   "metadata": {},
   "outputs": [
    {
     "name": "stdout",
     "output_type": "stream",
     "text": [
      "정수를 입력하세요 : 120\n",
      "입력된 정수는 0에서 100의 범위 안에 있는 짝수인가요? False\n"
     ]
    }
   ],
   "source": [
    "a = int(input(\"정수를 입력하세요 : \"))\n",
    "\n",
    "if 0<=a<=100 and a%2==0:\n",
    "    b = 'True'\n",
    "else:\n",
    "    b = 'False'\n",
    "\n",
    "print(\"입력된 정수는 0에서 100의 범위 안에 있는 짝수인가요?\", b)"
   ]
  },
  {
   "cell_type": "markdown",
   "metadata": {},
   "source": [
    "## 3.5"
   ]
  },
  {
   "cell_type": "code",
   "execution_count": 5,
   "metadata": {},
   "outputs": [
    {
     "name": "stdout",
     "output_type": "stream",
     "text": [
      "0b101\n",
      "0b110\n"
     ]
    }
   ],
   "source": [
    "print(bin(5))\n",
    "print(bin(6))"
   ]
  },
  {
   "cell_type": "code",
   "execution_count": 6,
   "metadata": {},
   "outputs": [
    {
     "name": "stdout",
     "output_type": "stream",
     "text": [
      "0b100\n",
      "0b111\n",
      "0b11\n"
     ]
    }
   ],
   "source": [
    "print(bin(5&6))\n",
    "print(bin(5|6))\n",
    "print(bin(5^6))"
   ]
  },
  {
   "cell_type": "markdown",
   "metadata": {},
   "source": [
    "## 3.6"
   ]
  },
  {
   "cell_type": "code",
   "execution_count": 7,
   "metadata": {},
   "outputs": [
    {
     "name": "stdout",
     "output_type": "stream",
     "text": [
      "정수 a를 입력하시오 : 202\n",
      "정수 b를 입력하시오 : 50\n",
      "a / b의 몫 : 4\n",
      "a / b의 나머지 : 2\n"
     ]
    }
   ],
   "source": [
    "a = int(input(\"정수 a를 입력하시오 : \"))\n",
    "b = int(input(\"정수 b를 입력하시오 : \"))\n",
    "print(\"a / b의 몫 :\", a//b)\n",
    "print(\"a / b의 나머지 :\", a%b)"
   ]
  },
  {
   "cell_type": "markdown",
   "metadata": {},
   "source": [
    "## 3.7"
   ]
  },
  {
   "cell_type": "code",
   "execution_count": 8,
   "metadata": {},
   "outputs": [
    {
     "name": "stdout",
     "output_type": "stream",
     "text": [
      "세 자리 정수를 입력하시오 : 349\n",
      "백의 자리 : 3\n",
      "십의 자리 : 4\n",
      "일의 자리 : 9\n"
     ]
    }
   ],
   "source": [
    "a = int(input(\"세 자리 정수를 입력하시오 : \"))\n",
    "print(\"백의 자리 :\", a//100)\n",
    "print(\"십의 자리 :\", a%100//10)\n",
    "print(\"일의 자리 :\", a%100%10)"
   ]
  },
  {
   "cell_type": "markdown",
   "metadata": {},
   "source": [
    "## 3.8"
   ]
  },
  {
   "cell_type": "markdown",
   "metadata": {},
   "source": [
    "(1)"
   ]
  },
  {
   "cell_type": "code",
   "execution_count": 9,
   "metadata": {},
   "outputs": [
    {
     "name": "stdout",
     "output_type": "stream",
     "text": [
      "세 자리 정수를 입력하시오 : 349\n",
      "9\n",
      "4\n",
      "3\n"
     ]
    }
   ],
   "source": [
    "a = int(input(\"세 자리 정수를 입력하시오 : \"))\n",
    "print(a%100%10)\n",
    "print(a%100//10)\n",
    "print(a//100)"
   ]
  },
  {
   "cell_type": "markdown",
   "metadata": {},
   "source": [
    "(2)"
   ]
  },
  {
   "cell_type": "code",
   "execution_count": 10,
   "metadata": {},
   "outputs": [
    {
     "name": "stdout",
     "output_type": "stream",
     "text": [
      "세 자리 정수를 입력하시오 : 349\n",
      "943\n"
     ]
    }
   ],
   "source": [
    "a = int(input(\"세 자리 정수를 입력하시오 : \"))\n",
    "print(a%100%10,end='')\n",
    "print(a%100//10,end='')\n",
    "print(a//100)"
   ]
  },
  {
   "cell_type": "markdown",
   "metadata": {},
   "source": [
    "## 3.9"
   ]
  },
  {
   "cell_type": "code",
   "execution_count": 11,
   "metadata": {},
   "outputs": [
    {
     "name": "stdout",
     "output_type": "stream",
     "text": [
      "평균 시속(km/h)을 입력하세요 : 46.5\n",
      "이동 시간(h)을 입력하세요 : 12.342\n",
      "평균 시속 : 46.5 km/h\n",
      "이동 시간 : 12 시간 20 분 31 초\n",
      "이동 거리 : 573.903 km\n"
     ]
    }
   ],
   "source": [
    "a = float(input(\"평균 시속(km/h)을 입력하세요 : \"))\n",
    "b = float(input(\"이동 시간(h)을 입력하세요 : \"))\n",
    "print(\"평균 시속 :\", a, \"km/h\")\n",
    "print(\"이동 시간 :\", int(b//1), \"시간\", int(b%1*60), \"분\", int(b%1*60%1*60), \"초\")\n",
    "print(\"이동 거리 :\", a*b, \"km\")"
   ]
  },
  {
   "cell_type": "markdown",
   "metadata": {},
   "source": [
    "## 3.10"
   ]
  },
  {
   "cell_type": "code",
   "execution_count": 12,
   "metadata": {},
   "outputs": [
    {
     "name": "stdout",
     "output_type": "stream",
     "text": [
      "x1의 좌표를 입력하시오 : 0\n",
      "y1의 좌표를 입력하시오 : 0\n",
      "x2의 좌표를 입력하시오 : 3\n",
      "y2의 좌표를 입력하시오 : 4\n",
      "두 점의 거리: 5.0\n"
     ]
    }
   ],
   "source": [
    "x1 = int(input(\"x1의 좌표를 입력하시오 : \"))\n",
    "y1 = int(input(\"y1의 좌표를 입력하시오 : \"))\n",
    "x2 = int(input(\"x2의 좌표를 입력하시오 : \"))\n",
    "y2 = int(input(\"y2의 좌표를 입력하시오 : \"))\n",
    "print(\"두 점의 거리:\", ((x1-x2)**2 + (y1-y2)**2)**0.5)"
   ]
  },
  {
   "cell_type": "markdown",
   "metadata": {},
   "source": [
    "## 3.11"
   ]
  },
  {
   "cell_type": "code",
   "execution_count": 13,
   "metadata": {},
   "outputs": [
    {
     "name": "stdout",
     "output_type": "stream",
     "text": [
      "x1의 좌표를 입력하시오 : 0\n",
      "y1의 좌표를 입력하시오 : 0\n",
      "x2의 좌표를 입력하시오 : 3\n",
      "y2의 좌표를 입력하시오 : 4\n",
      "직각삼각형의 면적은 : 6.0\n"
     ]
    }
   ],
   "source": [
    "x1 = int(input(\"x1의 좌표를 입력하시오 : \"))\n",
    "y1 = int(input(\"y1의 좌표를 입력하시오 : \"))\n",
    "x2 = int(input(\"x2의 좌표를 입력하시오 : \"))\n",
    "y2 = int(input(\"y2의 좌표를 입력하시오 : \"))\n",
    "print(\"직각삼각형의 면적은 :\", ((x2-x1) * (y2-y1) * 0.5))"
   ]
  },
  {
   "cell_type": "markdown",
   "metadata": {},
   "source": [
    "## 3.12"
   ]
  },
  {
   "cell_type": "code",
   "execution_count": 14,
   "metadata": {},
   "outputs": [
    {
     "name": "stdout",
     "output_type": "stream",
     "text": [
      "(1) 2197\n",
      "(2) 10648\n",
      "(3) 6800\n",
      "(4) 1569.9999999999998\n",
      "(5) 65416.666666666664\n",
      "(6) 4710.0\n"
     ]
    }
   ],
   "source": [
    "pi = 3.14\n",
    "print(\"(1)\", 13**3)\n",
    "print(\"(2)\", 22**3)\n",
    "print(\"(3)\", 17*25*16)\n",
    "print(\"(4)\", (1/3)*pi*(10**2)*15)\n",
    "print(\"(5)\", (4/3)*pi*(25**3))\n",
    "print(\"(6)\", pi*(10**2)*15)"
   ]
  },
  {
   "cell_type": "code",
   "execution_count": 15,
   "metadata": {},
   "outputs": [
    {
     "name": "stdout",
     "output_type": "stream",
     "text": [
      "(4) 1570.7963267948965\n",
      "(5) 65449.84694978735\n",
      "(6) 4712.38898038469\n"
     ]
    }
   ],
   "source": [
    "import math\n",
    "print(\"(4)\", (1/3)*math.pi*(10**2)*15)\n",
    "print(\"(5)\", (4/3)*math.pi*(25**3))\n",
    "print(\"(6)\", math.pi*(10**2)*15)"
   ]
  }
 ],
 "metadata": {
  "kernelspec": {
   "display_name": "Python 3",
   "language": "python",
   "name": "python3"
  },
  "language_info": {
   "codemirror_mode": {
    "name": "ipython",
    "version": 3
   },
   "file_extension": ".py",
   "mimetype": "text/x-python",
   "name": "python",
   "nbconvert_exporter": "python",
   "pygments_lexer": "ipython3",
   "version": "3.7.3"
  }
 },
 "nbformat": 4,
 "nbformat_minor": 2
}
