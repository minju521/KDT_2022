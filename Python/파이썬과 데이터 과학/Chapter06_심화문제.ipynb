{
 "cells": [
  {
   "cell_type": "markdown",
   "metadata": {},
   "source": [
    "# Chapter06_심화문제"
   ]
  },
  {
   "cell_type": "markdown",
   "metadata": {},
   "source": [
    "## 6.1"
   ]
  },
  {
   "cell_type": "code",
   "execution_count": 1,
   "metadata": {},
   "outputs": [
    {
     "name": "stdout",
     "output_type": "stream",
     "text": [
      "3의 제곱은 : 9\n",
      "4의 제곱은 : 16\n"
     ]
    }
   ],
   "source": [
    "def square(n):\n",
    "    return n**2\n",
    "\n",
    "print('3의 제곱은 :', square(3))\n",
    "print('4의 제곱은 :', square(4))"
   ]
  },
  {
   "cell_type": "markdown",
   "metadata": {},
   "source": [
    "## 6.2"
   ]
  },
  {
   "cell_type": "code",
   "execution_count": 3,
   "metadata": {},
   "outputs": [
    {
     "name": "stdout",
     "output_type": "stream",
     "text": [
      "100과 200중 큰 수는 : 200\n",
      "100과 200중 작은 수는 : 100\n"
     ]
    }
   ],
   "source": [
    "def max2(m, n):\n",
    "    if m > n:\n",
    "        return m\n",
    "    else:\n",
    "        return n\n",
    "\n",
    "def min2(m, n):\n",
    "    if m < n:\n",
    "        return m\n",
    "    else:\n",
    "        return n\n",
    "\n",
    "print('100과 200중 큰 수는 :', max2(100, 200))\n",
    "print('100과 200중 작은 수는 :', min2(100, 200))"
   ]
  },
  {
   "cell_type": "markdown",
   "metadata": {},
   "source": [
    "## 6.3"
   ]
  },
  {
   "cell_type": "code",
   "execution_count": 4,
   "metadata": {},
   "outputs": [
    {
     "name": "stdout",
     "output_type": "stream",
     "text": [
      "3 수를 입력하시오 : 34 66 20\n",
      "가장 큰 수 : 66\n",
      "가장 작은 수 : 20\n"
     ]
    }
   ],
   "source": [
    "n1, n2, n3 = input(\"3 수를 입력하시오 : \").split()\n",
    "def max3(n1, n2, n3):\n",
    "    if n1 > n2 and n1 > n3:\n",
    "        return n1\n",
    "    elif n2 > n1 and n2 > n3:\n",
    "        return n2\n",
    "    elif n3 > n1 and n3 > n2:\n",
    "        return n3\n",
    "def min3(n1, n2, n3):\n",
    "    if n1 < n2 and n1 < n3:\n",
    "        return n1\n",
    "    elif n2 < n1 and n2 < n3:\n",
    "        return n2\n",
    "    elif n3 < n1 and n3 < n2:\n",
    "        return n3\n",
    "\n",
    "print(\"가장 큰 수 :\", max3(n1, n2, n3))\n",
    "print(\"가장 작은 수 :\", min3(n1, n2, n3))"
   ]
  },
  {
   "cell_type": "code",
   "execution_count": 5,
   "metadata": {},
   "outputs": [
    {
     "name": "stdout",
     "output_type": "stream",
     "text": [
      "3수를 입력하시오 : 34 66 20\n",
      "가장 큰 수 : 66\n",
      "가장 작은 수는 : 20\n"
     ]
    }
   ],
   "source": [
    "n1, n2, n3 = input(\"3수를 입력하시오 : \").split()\n",
    "n1, n2, n3 = int(n1), int(n2), int(n3)\n",
    "\n",
    "def max3(n1,n2,n3):\n",
    "    if n1 > n2 and n1 > n3:\n",
    "        return n1\n",
    "    elif n2 > n3:\n",
    "        return n2\n",
    "    else:\n",
    "        return n3\n",
    "    \n",
    "def min3(n1,n2,n3):\n",
    "    if n1 < n2 and n2 < n3:\n",
    "        return n1\n",
    "    elif n2 < n3:\n",
    "        return n2\n",
    "    else:\n",
    "        return n3\n",
    "\n",
    "print(\"가장 큰 수 :\", max3(n1,n2,n3))\n",
    "print(\"가장 작은 수는 :\", min3(n1,n2,n3))"
   ]
  },
  {
   "cell_type": "markdown",
   "metadata": {},
   "source": [
    "## 6.4"
   ]
  },
  {
   "cell_type": "code",
   "execution_count": 6,
   "metadata": {},
   "outputs": [
    {
     "name": "stdout",
     "output_type": "stream",
     "text": [
      "3 수를 입력하시오 : 34 66 20\n",
      "가장 큰 수 : 66 \n",
      "가장 작은 수 : 20\n"
     ]
    }
   ],
   "source": [
    "n1, n2, n3 = input(\"3 수를 입력하시오 : \").split()\n",
    "def max_and_min(n1, n2, n3):\n",
    "    n_max = 0\n",
    "    n_min = 0\n",
    "    if n1 > n2 and n1 > n3:\n",
    "        if n2 > n3:\n",
    "            return n1, n3\n",
    "        elif n3 > n2:\n",
    "            return n1, n2\n",
    "    elif n2 > n1 and n2 > n3:\n",
    "        if n1 > n3:\n",
    "            return n2, n3\n",
    "        elif n3 > n1:\n",
    "            return n2, n1\n",
    "    elif n3 > n1 and n3 > n2:\n",
    "        if n1 > n2:\n",
    "            return n3, n2\n",
    "        elif n2 > n1:\n",
    "            return n3, n1\n",
    "\n",
    "a, b = max_and_min(n1, n2, n3)\n",
    "print(\"가장 큰 수 :\", a, \"\\n가장 작은 수 :\", b)"
   ]
  },
  {
   "cell_type": "code",
   "execution_count": 7,
   "metadata": {},
   "outputs": [
    {
     "name": "stdout",
     "output_type": "stream",
     "text": [
      "3 수를 입력하시오 : 34 66 20\n",
      "가장 큰 수 : 66\n",
      "가장 작은 수 : 20\n"
     ]
    }
   ],
   "source": [
    "n1, n2, n3 = map(int, input(\"3 수를 입력하시오 : \").split())  #세 수를 받고 한 번에 공백 단위로 분리한다.\n",
    "\n",
    "def max_and_min(n1, n2, n3) :\n",
    "    if n1 > n2 and n1 > n3 :   #n1이 가장 클 때\n",
    "        if n2 > n3 :           #n2와 n3을 비교하여 최솟값을 찾는다. \n",
    "            return n1, n3\n",
    "        else :\n",
    "            return n1, n2\n",
    " \n",
    "    elif n2 > n1 and n2 > n3 : #n2이 가장 클 때도 마찬가지\n",
    "        if n1 > n3 :\n",
    "            return n2, n3\n",
    "        else :\n",
    "            return n2, n1\n",
    "\n",
    "    else :                     #n3이 가장 클 때도 마찬가지\n",
    "        if n1 > n2 :\n",
    "            return n3, n2\n",
    "        else :\n",
    "            return n3, n1\n",
    "\n",
    "Max,Min = max_and_min(n1, n2, n3)  #최대/최솟값을 각각 변수에 담는다.\n",
    "print(\"가장 큰 수 :\", Max)\n",
    "print(\"가장 작은 수 :\", Min)"
   ]
  },
  {
   "cell_type": "markdown",
   "metadata": {},
   "source": [
    "## 6.5"
   ]
  },
  {
   "cell_type": "code",
   "execution_count": 8,
   "metadata": {},
   "outputs": [
    {
     "name": "stdout",
     "output_type": "stream",
     "text": [
      "섭씨온도를 입력하시오 : 0\n",
      "32.0\n",
      "50.0\n",
      "68.0\n",
      "86.0\n",
      "104.0\n",
      "122.0\n"
     ]
    }
   ],
   "source": [
    "def cel2fah():\n",
    "    c = int(input(\"섭씨온도를 입력하시오 : \"))\n",
    "    while c <= 50:\n",
    "        f = (9/5)*c + 32\n",
    "        print(f)\n",
    "        c = c + 10\n",
    "\n",
    "cel2fah()"
   ]
  },
  {
   "cell_type": "code",
   "execution_count": 9,
   "metadata": {},
   "outputs": [
    {
     "name": "stdout",
     "output_type": "stream",
     "text": [
      "섭씨온도를 입력하시오 : 0\n",
      "Celsius : 0 , Fahrenheit : 32.0\n",
      "Celsius : 10 , Fahrenheit : 50.0\n",
      "Celsius : 20 , Fahrenheit : 68.0\n",
      "Celsius : 30 , Fahrenheit : 86.0\n",
      "Celsius : 40 , Fahrenheit : 104.0\n",
      "Celsius : 50 , Fahrenheit : 122.0\n"
     ]
    }
   ],
   "source": [
    "def cel2fah():\n",
    "    c = int(input(\"섭씨온도를 입력하시오 : \"))\n",
    "    while c <= 50:\n",
    "        f = (9/5)*c + 32\n",
    "        print(\"Celsius :\", c,\", Fahrenheit :\", f)\n",
    "        c = c + 10\n",
    "\n",
    "cel2fah()"
   ]
  },
  {
   "cell_type": "code",
   "execution_count": 10,
   "metadata": {},
   "outputs": [
    {
     "name": "stdout",
     "output_type": "stream",
     "text": [
      "F : 0, C : 32.0\n",
      "F : 10, C : 50.0\n",
      "F : 20, C : 68.0\n",
      "F : 30, C : 86.0\n",
      "F : 40, C : 104.0\n",
      "F : 50, C : 122.0\n"
     ]
    }
   ],
   "source": [
    "def cel3fah(cel):\n",
    "    return (9/5)*cel + 32\n",
    "\n",
    "for i in range(0, 51, 10):\n",
    "    print('F : {0}, C : {1:0.1f}'.format(i, cel3fah(i)))"
   ]
  },
  {
   "cell_type": "markdown",
   "metadata": {},
   "source": [
    "## 6.6"
   ]
  },
  {
   "cell_type": "code",
   "execution_count": 11,
   "metadata": {},
   "outputs": [
    {
     "name": "stdout",
     "output_type": "stream",
     "text": [
      "소수 검사를 할 정수를 입력하시오 : 9677\n",
      "소수인가요? : True\n"
     ]
    }
   ],
   "source": [
    "def is_prime(n):\n",
    "    for i in range(2, n):\n",
    "        if n % i == 0:\n",
    "            return False\n",
    "        else:\n",
    "            continue\n",
    "    else:\n",
    "        return True\n",
    "    \n",
    "n = int(input(\"소수 검사를 할 정수를 입력하시오 : \"))\n",
    "print(\"소수인가요? :\", is_prime(n))"
   ]
  },
  {
   "cell_type": "code",
   "execution_count": 12,
   "metadata": {},
   "outputs": [
    {
     "name": "stdout",
     "output_type": "stream",
     "text": [
      "9677\n",
      "True\n",
      "13\n",
      "True\n",
      "4\n",
      "False\n",
      "1234\n",
      "False\n"
     ]
    }
   ],
   "source": [
    "def what(num):\n",
    "    nums = []\n",
    "    for i in range(2, int(num)):\n",
    "        if int(num)%i == 0:\n",
    "            nums.append(\"{0}\".format(i))\n",
    "    if len(nums) != 0:\n",
    "        print(False)\n",
    "    else:\n",
    "        print(True)\n",
    "        \n",
    "for u in range(4):\n",
    "    what(input())"
   ]
  },
  {
   "cell_type": "code",
   "execution_count": 13,
   "metadata": {},
   "outputs": [
    {
     "name": "stdout",
     "output_type": "stream",
     "text": [
      "소수 검사를 할 정수를 입력하시오 : 9677\n",
      "소수인가요? : True\n"
     ]
    }
   ],
   "source": [
    "def is_prime(x) :\n",
    "    for i in range(2, x) :      #2부터 x-1까지 아래를 반복한다. \n",
    "        if num % i == 0 :       #2부터 x-1까지 나누었을 때 나머지가 0이면 False를 반환\n",
    "            return False\n",
    " \n",
    "        else :                  #아니면 반복을 계속한다.\n",
    "            continue\n",
    " \n",
    "    return True                 #나머지가 0이 되는 수가 없으면 True를 반환한다.\n",
    " \n",
    "num = int(input('소수 검사를 할 정수를 입력하시오 : '))\n",
    "print('소수인가요? :', is_prime(num))"
   ]
  },
  {
   "cell_type": "markdown",
   "metadata": {},
   "source": [
    "## 6.7"
   ]
  },
  {
   "cell_type": "code",
   "execution_count": 14,
   "metadata": {},
   "outputs": [],
   "source": [
    "def factorial(n):\n",
    "    for i in range(1, n+1):\n",
    "        if n > 1:\n",
    "            return n * factorial(n-1)\n",
    "        else:\n",
    "            return 1"
   ]
  },
  {
   "cell_type": "code",
   "execution_count": 15,
   "metadata": {},
   "outputs": [
    {
     "data": {
      "text/plain": [
       "120"
      ]
     },
     "execution_count": 15,
     "metadata": {},
     "output_type": "execute_result"
    }
   ],
   "source": [
    "factorial(5)"
   ]
  },
  {
   "cell_type": "code",
   "execution_count": 16,
   "metadata": {},
   "outputs": [
    {
     "data": {
      "text/plain": [
       "5040"
      ]
     },
     "execution_count": 16,
     "metadata": {},
     "output_type": "execute_result"
    }
   ],
   "source": [
    "factorial(7)"
   ]
  },
  {
   "cell_type": "code",
   "execution_count": 17,
   "metadata": {},
   "outputs": [
    {
     "data": {
      "text/plain": [
       "3628800"
      ]
     },
     "execution_count": 17,
     "metadata": {},
     "output_type": "execute_result"
    }
   ],
   "source": [
    "factorial(10)"
   ]
  },
  {
   "cell_type": "code",
   "execution_count": 18,
   "metadata": {},
   "outputs": [
    {
     "name": "stdout",
     "output_type": "stream",
     "text": [
      "factorial(5)는 120입니다.\n",
      "factorial(7)는 5040입니다.\n",
      "factorial(10)는 3628800입니다.\n"
     ]
    }
   ],
   "source": [
    "def factorial(n):\n",
    "    a = 1\n",
    "    for i in range(n, 1, -1):\n",
    "        a = a * i\n",
    "    print('factorial({0})는 {1}입니다.'.format(n, a))\n",
    "    \n",
    "factorial(5)\n",
    "factorial(7)\n",
    "factorial(10)"
   ]
  },
  {
   "cell_type": "markdown",
   "metadata": {},
   "source": [
    "## 6.8"
   ]
  },
  {
   "cell_type": "code",
   "execution_count": 20,
   "metadata": {},
   "outputs": [],
   "source": [
    "def distance(x1, y1, x2, y2):\n",
    "    print('x1:', x1, '\\ny1:', y1, '\\nx2:', x2, '\\ny2:', y2)\n",
    "    a = ((x1-x2)**2 + (y1-y2)**2)**0.5\n",
    "    print(\"(\", float(x1), \",\", float(y1), \")과 (\", float(x2), ',', float(y2), \") 사이의 거리는\", a)"
   ]
  },
  {
   "cell_type": "code",
   "execution_count": 21,
   "metadata": {},
   "outputs": [
    {
     "name": "stdout",
     "output_type": "stream",
     "text": [
      "x1: 4 \n",
      "y1: 2 \n",
      "x2: 2 \n",
      "y2: 1\n",
      "( 4.0 , 2.0 )과 ( 2.0 , 1.0 ) 사이의 거리는 2.23606797749979\n"
     ]
    }
   ],
   "source": [
    "distance(4, 2, 2, 1)"
   ]
  },
  {
   "cell_type": "code",
   "execution_count": 22,
   "metadata": {},
   "outputs": [
    {
     "name": "stdout",
     "output_type": "stream",
     "text": [
      "x1 : 4\n",
      "y1 : 2\n",
      "x2 : 2\n",
      "y2 : 1\n",
      "( 4.0 , 2.0 )과 ( 2.0 , 1.0 ) 사이의 거리는 2.23606797749979\n"
     ]
    }
   ],
   "source": [
    "def distance(x1, y1, x2, y2):\n",
    "    a = ((x1-x2)**2 + (y1-y2)**2)**0.5\n",
    "    return a\n",
    "\n",
    "x1 = float(input('x1 : '))\n",
    "y1 = float(input('y1 : '))\n",
    "x2 = float(input('x2 : '))\n",
    "y2 = float(input('y2 : '))\n",
    "print(\"(\", x1, \",\", y1, \")과 (\", x2, ',', y2, \") 사이의 거리는\", distance(x1, y1, x2, y2))"
   ]
  },
  {
   "cell_type": "code",
   "execution_count": 23,
   "metadata": {},
   "outputs": [
    {
     "name": "stdout",
     "output_type": "stream",
     "text": [
      "x1 : 4\n",
      "y1 : 2\n",
      "x2 : 2\n",
      "y2 : 1\n",
      "(4.0, 2.0) 과 (2.0, 1.0) 사이의 거리는 2.23606797749979\n"
     ]
    }
   ],
   "source": [
    "def distance(x1, y1, x2, y2) :\n",
    "    distance = ((x1 - x2) ** 2 + (y1 - y2) ** 2) ** (1/2)\n",
    "    return distance\n",
    " \n",
    "x1 = float(input('x1 : '))\n",
    "y1 = float(input('y1 : '))\n",
    "x2 = float(input('x2 : '))\n",
    "y2 = float(input('y2 : '))\n",
    " \n",
    "A = (x1, y1)\n",
    "B = (x2, y2)\n",
    "print(A, '과', B, '사이의 거리는', distance(x1, y1, x2, y2))"
   ]
  },
  {
   "cell_type": "code",
   "execution_count": 24,
   "metadata": {},
   "outputs": [
    {
     "name": "stdout",
     "output_type": "stream",
     "text": [
      "x1: 4\n",
      "y1: 2\n",
      "x2: 2\n",
      "y2: 1\n",
      "(4,2)과 (2,1)사이의 거리는 2.23606797749979\n"
     ]
    }
   ],
   "source": [
    "def distance(a, b, c, d):\n",
    "    abcd = (((c-a)**2)+((d-b)**2))**0.5\n",
    "    print('({0},{1})과 ({2},{3})사이의 거리는 {4}'.format(a, b, c, d, abcd))\n",
    "    \n",
    "x1, y1, x2, y2 = int(input('x1: ')), int(input('y1: ')), int(input('x2: ')), int(input('y2: '))\n",
    "distance(x1, y1, x2, y2)"
   ]
  }
 ],
 "metadata": {
  "kernelspec": {
   "display_name": "Python 3",
   "language": "python",
   "name": "python3"
  },
  "language_info": {
   "codemirror_mode": {
    "name": "ipython",
    "version": 3
   },
   "file_extension": ".py",
   "mimetype": "text/x-python",
   "name": "python",
   "nbconvert_exporter": "python",
   "pygments_lexer": "ipython3",
   "version": "3.7.3"
  }
 },
 "nbformat": 4,
 "nbformat_minor": 2
}
