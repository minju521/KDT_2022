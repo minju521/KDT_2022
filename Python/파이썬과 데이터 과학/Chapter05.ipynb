{
 "cells": [
  {
   "cell_type": "markdown",
   "metadata": {},
   "source": [
    "# Chapter05 여러 번 반복하는 일을 하자"
   ]
  },
  {
   "cell_type": "markdown",
   "metadata": {},
   "source": [
    "## 5.1 왜 반복문이 중요한가"
   ]
  },
  {
   "cell_type": "markdown",
   "metadata": {},
   "source": [
    "반복문은 어떤 단계를 반복하게 하는 것으로 반복 구조를 사용하면 프로그램이 간결해지게 된다. 또 프로그래밍에 필요한 시간도 단축할 수 있다.\n",
    "\n",
    "반복 구조를 사용하지 않는다면 동일한 문장을 ctrl+C를 사용하여 복사한 후에 ctrl+V로 붙여넣기 해야 한다."
   ]
  },
  {
   "cell_type": "code",
   "execution_count": 1,
   "metadata": {},
   "outputs": [
    {
     "name": "stdout",
     "output_type": "stream",
     "text": [
      "파이썬 주식회사의 방문을 환영합니다!\n",
      "파이썬 주식회사의 방문을 환영합니다!\n",
      "파이썬 주식회사의 방문을 환영합니다!\n",
      "파이썬 주식회사의 방문을 환영합니다!\n",
      "파이썬 주식회사의 방문을 환영합니다!\n"
     ]
    }
   ],
   "source": [
    "print(\"파이썬 주식회사의 방문을 환영합니다!\")\n",
    "print(\"파이썬 주식회사의 방문을 환영합니다!\")\n",
    "print(\"파이썬 주식회사의 방문을 환영합니다!\")\n",
    "print(\"파이썬 주식회사의 방문을 환영합니다!\")\n",
    "print(\"파이썬 주식회사의 방문을 환영합니다!\")"
   ]
  },
  {
   "cell_type": "markdown",
   "metadata": {},
   "source": [
    "반복 횟수가 몇 번 안 되는 경우에는 해도 되지만 100번 이상 반족할 경우 for문을 사용하면 간단하게 작성할 수 있다."
   ]
  },
  {
   "cell_type": "code",
   "execution_count": 2,
   "metadata": {
    "scrolled": true
   },
   "outputs": [
    {
     "name": "stdout",
     "output_type": "stream",
     "text": [
      "파이썬 주식회사의 방문을 환영합니다!\n",
      "파이썬 주식회사의 방문을 환영합니다!\n",
      "파이썬 주식회사의 방문을 환영합니다!\n",
      "파이썬 주식회사의 방문을 환영합니다!\n",
      "파이썬 주식회사의 방문을 환영합니다!\n",
      "파이썬 주식회사의 방문을 환영합니다!\n",
      "파이썬 주식회사의 방문을 환영합니다!\n",
      "파이썬 주식회사의 방문을 환영합니다!\n",
      "파이썬 주식회사의 방문을 환영합니다!\n",
      "파이썬 주식회사의 방문을 환영합니다!\n",
      "파이썬 주식회사의 방문을 환영합니다!\n",
      "파이썬 주식회사의 방문을 환영합니다!\n",
      "파이썬 주식회사의 방문을 환영합니다!\n",
      "파이썬 주식회사의 방문을 환영합니다!\n",
      "파이썬 주식회사의 방문을 환영합니다!\n",
      "파이썬 주식회사의 방문을 환영합니다!\n",
      "파이썬 주식회사의 방문을 환영합니다!\n",
      "파이썬 주식회사의 방문을 환영합니다!\n",
      "파이썬 주식회사의 방문을 환영합니다!\n",
      "파이썬 주식회사의 방문을 환영합니다!\n",
      "파이썬 주식회사의 방문을 환영합니다!\n",
      "파이썬 주식회사의 방문을 환영합니다!\n",
      "파이썬 주식회사의 방문을 환영합니다!\n",
      "파이썬 주식회사의 방문을 환영합니다!\n",
      "파이썬 주식회사의 방문을 환영합니다!\n",
      "파이썬 주식회사의 방문을 환영합니다!\n",
      "파이썬 주식회사의 방문을 환영합니다!\n",
      "파이썬 주식회사의 방문을 환영합니다!\n",
      "파이썬 주식회사의 방문을 환영합니다!\n",
      "파이썬 주식회사의 방문을 환영합니다!\n",
      "파이썬 주식회사의 방문을 환영합니다!\n",
      "파이썬 주식회사의 방문을 환영합니다!\n",
      "파이썬 주식회사의 방문을 환영합니다!\n",
      "파이썬 주식회사의 방문을 환영합니다!\n",
      "파이썬 주식회사의 방문을 환영합니다!\n",
      "파이썬 주식회사의 방문을 환영합니다!\n",
      "파이썬 주식회사의 방문을 환영합니다!\n",
      "파이썬 주식회사의 방문을 환영합니다!\n",
      "파이썬 주식회사의 방문을 환영합니다!\n",
      "파이썬 주식회사의 방문을 환영합니다!\n",
      "파이썬 주식회사의 방문을 환영합니다!\n",
      "파이썬 주식회사의 방문을 환영합니다!\n",
      "파이썬 주식회사의 방문을 환영합니다!\n",
      "파이썬 주식회사의 방문을 환영합니다!\n",
      "파이썬 주식회사의 방문을 환영합니다!\n",
      "파이썬 주식회사의 방문을 환영합니다!\n",
      "파이썬 주식회사의 방문을 환영합니다!\n",
      "파이썬 주식회사의 방문을 환영합니다!\n",
      "파이썬 주식회사의 방문을 환영합니다!\n",
      "파이썬 주식회사의 방문을 환영합니다!\n",
      "파이썬 주식회사의 방문을 환영합니다!\n",
      "파이썬 주식회사의 방문을 환영합니다!\n",
      "파이썬 주식회사의 방문을 환영합니다!\n",
      "파이썬 주식회사의 방문을 환영합니다!\n",
      "파이썬 주식회사의 방문을 환영합니다!\n",
      "파이썬 주식회사의 방문을 환영합니다!\n",
      "파이썬 주식회사의 방문을 환영합니다!\n",
      "파이썬 주식회사의 방문을 환영합니다!\n",
      "파이썬 주식회사의 방문을 환영합니다!\n",
      "파이썬 주식회사의 방문을 환영합니다!\n",
      "파이썬 주식회사의 방문을 환영합니다!\n",
      "파이썬 주식회사의 방문을 환영합니다!\n",
      "파이썬 주식회사의 방문을 환영합니다!\n",
      "파이썬 주식회사의 방문을 환영합니다!\n",
      "파이썬 주식회사의 방문을 환영합니다!\n",
      "파이썬 주식회사의 방문을 환영합니다!\n",
      "파이썬 주식회사의 방문을 환영합니다!\n",
      "파이썬 주식회사의 방문을 환영합니다!\n",
      "파이썬 주식회사의 방문을 환영합니다!\n",
      "파이썬 주식회사의 방문을 환영합니다!\n",
      "파이썬 주식회사의 방문을 환영합니다!\n",
      "파이썬 주식회사의 방문을 환영합니다!\n",
      "파이썬 주식회사의 방문을 환영합니다!\n",
      "파이썬 주식회사의 방문을 환영합니다!\n",
      "파이썬 주식회사의 방문을 환영합니다!\n",
      "파이썬 주식회사의 방문을 환영합니다!\n",
      "파이썬 주식회사의 방문을 환영합니다!\n",
      "파이썬 주식회사의 방문을 환영합니다!\n",
      "파이썬 주식회사의 방문을 환영합니다!\n",
      "파이썬 주식회사의 방문을 환영합니다!\n",
      "파이썬 주식회사의 방문을 환영합니다!\n",
      "파이썬 주식회사의 방문을 환영합니다!\n",
      "파이썬 주식회사의 방문을 환영합니다!\n",
      "파이썬 주식회사의 방문을 환영합니다!\n",
      "파이썬 주식회사의 방문을 환영합니다!\n",
      "파이썬 주식회사의 방문을 환영합니다!\n",
      "파이썬 주식회사의 방문을 환영합니다!\n",
      "파이썬 주식회사의 방문을 환영합니다!\n",
      "파이썬 주식회사의 방문을 환영합니다!\n",
      "파이썬 주식회사의 방문을 환영합니다!\n",
      "파이썬 주식회사의 방문을 환영합니다!\n",
      "파이썬 주식회사의 방문을 환영합니다!\n",
      "파이썬 주식회사의 방문을 환영합니다!\n",
      "파이썬 주식회사의 방문을 환영합니다!\n",
      "파이썬 주식회사의 방문을 환영합니다!\n",
      "파이썬 주식회사의 방문을 환영합니다!\n",
      "파이썬 주식회사의 방문을 환영합니다!\n",
      "파이썬 주식회사의 방문을 환영합니다!\n",
      "파이썬 주식회사의 방문을 환영합니다!\n",
      "파이썬 주식회사의 방문을 환영합니다!\n"
     ]
    }
   ],
   "source": [
    "for i in range(100):\n",
    "    print(\"파이썬 주식회사의 방문을 환영합니다!\")"
   ]
  },
  {
   "cell_type": "markdown",
   "metadata": {},
   "source": [
    "반복문은 인간이 반복적으로 수행하는 번거로운 작업을 손쉽게 해결해 줄 수 있으므로 매우 중요한 제어문으로 널리 사용되고 있다."
   ]
  },
  {
   "cell_type": "markdown",
   "metadata": {},
   "source": [
    "### 도전문제 5.1"
   ]
  },
  {
   "cell_type": "code",
   "execution_count": 3,
   "metadata": {},
   "outputs": [
    {
     "name": "stdout",
     "output_type": "stream",
     "text": [
      "####################\n",
      "####################\n",
      "####################\n",
      "####################\n",
      "####################\n"
     ]
    }
   ],
   "source": [
    "for i in range(5):\n",
    "    print(\"####################\")"
   ]
  },
  {
   "cell_type": "markdown",
   "metadata": {},
   "source": [
    "## 5.2 반복의 종류"
   ]
  },
  {
   "cell_type": "markdown",
   "metadata": {},
   "source": [
    "파이썬에서는 2가지 종류의 반복이 있다.\n",
    "1. 횟수 제어 반복(for문) : 보통 횟수를 정해 놓고 반복한다\n",
    "2. 조건 제어 반복(while문) : 특정한 조건이 만족되면 계속 반복한다\n",
    "\n",
    "횟수 제어 반복은 반복을 시작하기 전에 반복의 횟수를 미리 아는 경우에 사용된다. 파이썬에서는 항목들을 모아 놓은 시퀀스라는 객체가 있고 여기에서 항목을 하나씩 가져와서 반복할때도 for문이 적합하다. 시퀀스에 항목이 더 이상 없으면 반복이 종료된다.\n",
    "\n",
    "파이썬의 조건 제어 반복은 특정한 조건이 만족되는 동안 계속 반복한다."
   ]
  },
  {
   "cell_type": "markdown",
   "metadata": {},
   "source": [
    "프로그래밍에서 반복은 흔히 올가미 같은 동그란 고리를 의미하는 루프라고 한다. 이 고리를 빠져나오지 않고 계속해서 반복하는 경우를 무한루프라고 한다."
   ]
  },
  {
   "cell_type": "markdown",
   "metadata": {},
   "source": [
    "### 도전문제 5.2"
   ]
  },
  {
   "cell_type": "code",
   "execution_count": 4,
   "metadata": {},
   "outputs": [
    {
     "name": "stdout",
     "output_type": "stream",
     "text": [
      "0\n",
      "1\n",
      "2\n",
      "3\n",
      "4\n",
      "5\n",
      "6\n",
      "7\n",
      "8\n",
      "9\n"
     ]
    }
   ],
   "source": [
    "for t in range(10):\n",
    "    print(t)"
   ]
  },
  {
   "cell_type": "markdown",
   "metadata": {},
   "source": [
    "## 5.3 횟수를 정해놓고 반복시키자"
   ]
  },
  {
   "cell_type": "markdown",
   "metadata": {},
   "source": [
    "파이썬에서 횟수 제어 반복은 for 루프를 이용하는 것이 가장 간편하다. for 루프는 반복할 횟수를 정해 주고, 이 횟수가 만족될 때까지 같은 동작을 반복하도록 하는 일을 쉽게 표현할 수 있다."
   ]
  },
  {
   "cell_type": "code",
   "execution_count": 5,
   "metadata": {},
   "outputs": [
    {
     "name": "stdout",
     "output_type": "stream",
     "text": [
      "방문을 환영합니다!\n",
      "방문을 환영합니다!\n",
      "방문을 환영합니다!\n",
      "방문을 환영합니다!\n",
      "방문을 환영합니다!\n"
     ]
    }
   ],
   "source": [
    "for i in [1,2,3,4,5]: # 반복문의 끝에 :이 있어야 함\n",
    "    print(\"방문을 환영합니다!\") # if 문과 마찬가지로 들여쓰기를 하여야 함"
   ]
  },
  {
   "cell_type": "markdown",
   "metadata": {},
   "source": [
    "반복해서 실행될 문장들은 반드시 들여쓰기를 하여야 한다. for 문에 담긴 블록이라 생각하면 된다."
   ]
  },
  {
   "cell_type": "markdown",
   "metadata": {},
   "source": [
    "## 5.4 for-in 다음에는 리스트나 문자열도 올 수 있다"
   ]
  },
  {
   "cell_type": "markdown",
   "metadata": {},
   "source": [
    "반복하면서 print() 함수를 이용해서 변수 i의 값을 출력해보자"
   ]
  },
  {
   "cell_type": "code",
   "execution_count": 6,
   "metadata": {},
   "outputs": [
    {
     "name": "stdout",
     "output_type": "stream",
     "text": [
      "i = 1\n",
      "i = 2\n",
      "i = 3\n",
      "i = 4\n",
      "i = 5\n"
     ]
    }
   ],
   "source": [
    "for i in [1, 2, 3, 4, 5]: # in 뒤에 리스트를 넣어 끝에 :을 넣자\n",
    "    print(\"i =\", i) # i 값을 출력"
   ]
  },
  {
   "cell_type": "markdown",
   "metadata": {},
   "source": [
    "문자열에서도 적용할 수 있다."
   ]
  },
  {
   "cell_type": "code",
   "execution_count": 7,
   "metadata": {},
   "outputs": [
    {
     "name": "stdout",
     "output_type": "stream",
     "text": [
      "i = H\n",
      "i = e\n",
      "i = l\n",
      "i = l\n",
      "i = o\n"
     ]
    }
   ],
   "source": [
    "for i in \"Hello\": # 끝에 :이 있어야 함\n",
    "    print(\"i =\", i) # i 값을 출력"
   ]
  },
  {
   "cell_type": "markdown",
   "metadata": {},
   "source": [
    "출력 방식을 조금더 개선해서 for 루프를 이용하여 출력할 수 있다."
   ]
  },
  {
   "cell_type": "code",
   "execution_count": 8,
   "metadata": {},
   "outputs": [
    {
     "name": "stdout",
     "output_type": "stream",
     "text": [
      "9 * 1 = 9\n",
      "9 * 2 = 18\n",
      "9 * 3 = 27\n",
      "9 * 4 = 36\n",
      "9 * 5 = 45\n"
     ]
    }
   ],
   "source": [
    "for i in [1, 2, 3, 4, 5]: # 1에서 5까지의 리스트\n",
    "    print(\"9 *\", i, \"=\", 9 * i) # 9*i 값을 출력"
   ]
  },
  {
   "cell_type": "markdown",
   "metadata": {},
   "source": [
    "### 도전문제 5.3"
   ]
  },
  {
   "cell_type": "code",
   "execution_count": 9,
   "metadata": {},
   "outputs": [
    {
     "name": "stdout",
     "output_type": "stream",
     "text": [
      "V\n",
      "J-Hope\n",
      "RM\n",
      "Jungkook\n",
      "Jin\n",
      "Jimin\n",
      "Suga\n"
     ]
    }
   ],
   "source": [
    "bts = [\"V\", \"J-Hope\", \"RM\", \"Jungkook\", \"Jin\", \"Jimin\", \"Suga\"]\n",
    "for i in bts:\n",
    "    print(i)"
   ]
  },
  {
   "cell_type": "markdown",
   "metadata": {},
   "source": [
    "## 5.5 for문과 찰떡 궁합인 range() 함수"
   ]
  },
  {
   "cell_type": "markdown",
   "metadata": {},
   "source": [
    "앞에서는 리스트에 정수들을 저장해두고 하나씩 꺼내서 반복하였다. 반복해야하는 횟수가 큰 경우를 대비하여 range() 함수를 사용하는 방법이 준비되어 있다. range() 함수로 반복 횟수를 전달하면 range() 함수가 자동으로 정수들을 생성해준다."
   ]
  },
  {
   "cell_type": "code",
   "execution_count": 10,
   "metadata": {},
   "outputs": [
    {
     "name": "stdout",
     "output_type": "stream",
     "text": [
      "파이썬 주식회사의\n",
      "방문을 환영합니다!\n",
      "파이썬 주식회사의\n",
      "방문을 환영합니다!\n",
      "파이썬 주식회사의\n",
      "방문을 환영합니다!\n"
     ]
    }
   ],
   "source": [
    "for i in range(3):\n",
    "    print(\"파이썬 주식회사의\")\n",
    "    print(\"방문을 환영합니다!\")"
   ]
  },
  {
   "cell_type": "markdown",
   "metadata": {},
   "source": [
    "1. range() 함수는 숫자열을 반환한다. 반복할 떄마다 변수 i에 이 값들을 대입하면서 문장을 반복한다.\n",
    "2. 하나 이상의 반복되는 문장이 올 수 있는데, 반복되는 문장은 if문과 같이 반드시 동일한 간격의 들여쓰기를 해야 한다.\n",
    "\n",
    "파이썬 쉘에서 range() 함수에 list() 함수를 적용시키면 range() 함수가 생성하는 정수들을 볼 수 있다. 이와 같이 range() 함수는 연속적인 값들을 생성하는 일을 한다."
   ]
  },
  {
   "cell_type": "code",
   "execution_count": 11,
   "metadata": {},
   "outputs": [
    {
     "data": {
      "text/plain": [
       "[0, 1, 2, 3, 4, 5, 6, 7, 8, 9]"
      ]
     },
     "execution_count": 11,
     "metadata": {},
     "output_type": "execute_result"
    }
   ],
   "source": [
    "list(range(10))"
   ]
  },
  {
   "cell_type": "markdown",
   "metadata": {},
   "source": [
    "range() 함수가 반환하는 값은 range 형이다\n",
    "\n",
    "파이썬의 range() 함수는 range 형의 자료를 반환한다. range 형의 자료형은 호출이 발생할 때마다 매번 연속된 값을 생성하여 반환하는 특별한 일을 한다. 따라서 주로 for 문과 함께 사용된다."
   ]
  },
  {
   "cell_type": "markdown",
   "metadata": {},
   "source": [
    "## 5.6 range() 함수는 숫자를 생산하는 공장이다"
   ]
  },
  {
   "cell_type": "markdown",
   "metadata": {},
   "source": [
    "range() 함수는 숫자들을 생산하는 공장으로 생각하면 된다. 그리고 for 루프는 이 시퀀스의 개수만큼 반복수행한다.\n",
    "\n",
    "range() 함수는 여러 개의 인자를 이용하여 좀 더 다양한 정수 시퀀스를 생성할 수 있다. range(start, stop, step)이라고 호출하면 start에서 시작하여 (stop-1)까지 step간격으로 정수들이 생성된다. start와 step은 생략 가능하지만 stop 값은 반드시 지정해야만 루프가 수행된다."
   ]
  },
  {
   "cell_type": "code",
   "execution_count": 12,
   "metadata": {},
   "outputs": [
    {
     "name": "stdout",
     "output_type": "stream",
     "text": [
      "1 2 3 4 5 "
     ]
    }
   ],
   "source": [
    "for i in range(1, 6, 1):\n",
    "    print(i, end=\" \") # end=\" \"로 지정하면 줄바꿈을 하지 않고 공백으로 나열한다"
   ]
  },
  {
   "cell_type": "code",
   "execution_count": 13,
   "metadata": {},
   "outputs": [
    {
     "name": "stdout",
     "output_type": "stream",
     "text": [
      "10 9 8 7 6 5 4 3 2 1 "
     ]
    }
   ],
   "source": [
    "for i in range(10, 0, -1):\n",
    "    print(i, end=\" \")"
   ]
  },
  {
   "cell_type": "markdown",
   "metadata": {},
   "source": [
    "## LAB 5-5 반복을 이용하여 팩토리얼을 계산하기"
   ]
  },
  {
   "cell_type": "code",
   "execution_count": 14,
   "metadata": {},
   "outputs": [
    {
     "name": "stdout",
     "output_type": "stream",
     "text": [
      "정수를 입력하시오: 5\n",
      "5 !은 120 이다.\n"
     ]
    }
   ],
   "source": [
    "n = int(input(\"정수를 입력하시오: \"))\n",
    "fact = 1\n",
    "for i in range(1, n+1):\n",
    "    fact = fact * i\n",
    "    \n",
    "print(n, \"!은\", fact, \"이다.\")"
   ]
  },
  {
   "cell_type": "markdown",
   "metadata": {},
   "source": [
    "## 5.7 조건에 따라 반복해서 실행하는 while문"
   ]
  },
  {
   "cell_type": "markdown",
   "metadata": {},
   "source": [
    "조건 제어 반복은 어떤 조건이 만족되는 동안 반복하기 때문에 붙어진 이름이다. 조건 제어 반복은 while 반복문을 사용하는 것이 편리하다."
   ]
  },
  {
   "cell_type": "code",
   "execution_count": 17,
   "metadata": {},
   "outputs": [
    {
     "name": "stdout",
     "output_type": "stream",
     "text": [
      "공사가 완료 되었습니까?아니요\n",
      "공사가 완료 되었습니까?아니\n",
      "공사가 완료 되었습니까?네\n",
      "공사가 완료 되었습니까?예\n",
      "루프를 탈출했습니다.\n"
     ]
    }
   ],
   "source": [
    "under_construction = True\n",
    "while under_construction:\n",
    "    response = input(\"공사가 완료 되었습니까?\")\n",
    "    if response == \"예\":\n",
    "        under_construction = False\n",
    "\n",
    "print(\"루프를 탈출했습니다.\")"
   ]
  },
  {
   "cell_type": "markdown",
   "metadata": {},
   "source": [
    "## LAB 5-6 사용자로부터 암호를 받아 로그인하기"
   ]
  },
  {
   "cell_type": "code",
   "execution_count": 18,
   "metadata": {},
   "outputs": [
    {
     "name": "stdout",
     "output_type": "stream",
     "text": [
      "암호를 입력하시오: idontknow\n",
      "암호를 입력하시오: 12345678\n",
      "암호를 입력하시오: pythonifun\n",
      "암호를 입력하시오: pythonisfun\n",
      "** 로그인 성공 **\n"
     ]
    }
   ],
   "source": [
    "password = \"\"\n",
    "while password != \"pythonisfun\":\n",
    "    password = input(\"암호를 입력하시오: \")\n",
    "print(\"** 로그인 성공 **\")"
   ]
  },
  {
   "cell_type": "markdown",
   "metadata": {},
   "source": [
    "## 5.8 일정한 횟수 반복에 while 사용하기"
   ]
  },
  {
   "cell_type": "markdown",
   "metadata": {},
   "source": [
    "횟수를 알 수 없는 경우에만 while 루프를 사용할 수 있는 것은 아니다. 횟수를 알고 있는 경우에도 while 루프를 사용할 수 있다."
   ]
  },
  {
   "cell_type": "code",
   "execution_count": 1,
   "metadata": {},
   "outputs": [
    {
     "name": "stdout",
     "output_type": "stream",
     "text": [
      "합계는 55\n"
     ]
    }
   ],
   "source": [
    "count = 1\n",
    "s = 0 # s는 누적하여 더한 값을 담을 변수로 0으로 초기화 함\n",
    "while count <= 10:\n",
    "    s = s + count # 매번 count 값을 s에 더함\n",
    "    count = count + 1 # 매번 count 값을 1씩 증가시킴\n",
    "print(\"합계는\", s)"
   ]
  },
  {
   "cell_type": "markdown",
   "metadata": {},
   "source": [
    "## LAB 5-7 입력받은 수를 사용하는 구구단 출력"
   ]
  },
  {
   "cell_type": "code",
   "execution_count": 26,
   "metadata": {},
   "outputs": [
    {
     "name": "stdout",
     "output_type": "stream",
     "text": [
      "원하는 단은: 6\n",
      "6 * 1 = 6\n",
      "6 * 2 = 12\n",
      "6 * 3 = 18\n",
      "6 * 4 = 24\n",
      "6 * 5 = 30\n",
      "6 * 6 = 36\n",
      "6 * 7 = 42\n",
      "6 * 8 = 48\n",
      "6 * 9 = 54\n"
     ]
    }
   ],
   "source": [
    "a = int(input(\"원하는 단은: \"))\n",
    "count = 1\n",
    "while count <= 9:\n",
    "    b = a * count\n",
    "    print(a, \"*\", count, \"=\", b)\n",
    "    count = count + 1"
   ]
  },
  {
   "cell_type": "code",
   "execution_count": 32,
   "metadata": {},
   "outputs": [
    {
     "name": "stdout",
     "output_type": "stream",
     "text": [
      "원하는 단은: 5\n",
      "5 * 1 = 5\n",
      "5 * 2 = 10\n",
      "5 * 3 = 15\n",
      "5 * 4 = 20\n",
      "5 * 5 = 25\n",
      "5 * 6 = 30\n",
      "5 * 7 = 35\n",
      "5 * 8 = 40\n",
      "5 * 9 = 45\n"
     ]
    }
   ],
   "source": [
    "a = int(input(\"원하는 단은: \"))\n",
    "\n",
    "for i in range(1, 10):\n",
    "    print(a, \"*\", i, \"=\", a*i)"
   ]
  },
  {
   "cell_type": "code",
   "execution_count": 28,
   "metadata": {},
   "outputs": [
    {
     "name": "stdout",
     "output_type": "stream",
     "text": [
      "원하는 단은: 8\n",
      "8 * 1 = 8\n",
      "8 * 2 = 16\n",
      "8 * 3 = 24\n",
      "8 * 4 = 32\n",
      "8 * 5 = 40\n",
      "8 * 6 = 48\n",
      "8 * 7 = 56\n",
      "8 * 8 = 64\n",
      "8 * 9 = 72\n"
     ]
    }
   ],
   "source": [
    "dan = int(input(\"원하는 단은: \"))\n",
    "i = 1\n",
    "\n",
    "while i <= 9:\n",
    "    print(\"%s * %s = %s\" % (dan, i, dan*i))\n",
    "    i = i + 1"
   ]
  },
  {
   "cell_type": "markdown",
   "metadata": {},
   "source": [
    "### 도전문제 5.7"
   ]
  },
  {
   "cell_type": "code",
   "execution_count": 30,
   "metadata": {
    "scrolled": true
   },
   "outputs": [
    {
     "name": "stdout",
     "output_type": "stream",
     "text": [
      "1 * 1 = 1\n",
      "1 * 2 = 2\n",
      "1 * 3 = 3\n",
      "1 * 4 = 4\n",
      "1 * 5 = 5\n",
      "1 * 6 = 6\n",
      "1 * 7 = 7\n",
      "1 * 8 = 8\n",
      "1 * 9 = 9\n",
      "2 * 1 = 2\n",
      "2 * 2 = 4\n",
      "2 * 3 = 6\n",
      "2 * 4 = 8\n",
      "2 * 5 = 10\n",
      "2 * 6 = 12\n",
      "2 * 7 = 14\n",
      "2 * 8 = 16\n",
      "2 * 9 = 18\n",
      "3 * 1 = 3\n",
      "3 * 2 = 6\n",
      "3 * 3 = 9\n",
      "3 * 4 = 12\n",
      "3 * 5 = 15\n",
      "3 * 6 = 18\n",
      "3 * 7 = 21\n",
      "3 * 8 = 24\n",
      "3 * 9 = 27\n",
      "4 * 1 = 4\n",
      "4 * 2 = 8\n",
      "4 * 3 = 12\n",
      "4 * 4 = 16\n",
      "4 * 5 = 20\n",
      "4 * 6 = 24\n",
      "4 * 7 = 28\n",
      "4 * 8 = 32\n",
      "4 * 9 = 36\n",
      "5 * 1 = 5\n",
      "5 * 2 = 10\n",
      "5 * 3 = 15\n",
      "5 * 4 = 20\n",
      "5 * 5 = 25\n",
      "5 * 6 = 30\n",
      "5 * 7 = 35\n",
      "5 * 8 = 40\n",
      "5 * 9 = 45\n",
      "6 * 1 = 6\n",
      "6 * 2 = 12\n",
      "6 * 3 = 18\n",
      "6 * 4 = 24\n",
      "6 * 5 = 30\n",
      "6 * 6 = 36\n",
      "6 * 7 = 42\n",
      "6 * 8 = 48\n",
      "6 * 9 = 54\n",
      "7 * 1 = 7\n",
      "7 * 2 = 14\n",
      "7 * 3 = 21\n",
      "7 * 4 = 28\n",
      "7 * 5 = 35\n",
      "7 * 6 = 42\n",
      "7 * 7 = 49\n",
      "7 * 8 = 56\n",
      "7 * 9 = 63\n",
      "8 * 1 = 8\n",
      "8 * 2 = 16\n",
      "8 * 3 = 24\n",
      "8 * 4 = 32\n",
      "8 * 5 = 40\n",
      "8 * 6 = 48\n",
      "8 * 7 = 56\n",
      "8 * 8 = 64\n",
      "8 * 9 = 72\n",
      "9 * 1 = 9\n",
      "9 * 2 = 18\n",
      "9 * 3 = 27\n",
      "9 * 4 = 36\n",
      "9 * 5 = 45\n",
      "9 * 6 = 54\n",
      "9 * 7 = 63\n",
      "9 * 8 = 72\n",
      "9 * 9 = 81\n"
     ]
    }
   ],
   "source": [
    "for i in range(1, 10):\n",
    "    for j in range(1, 10):\n",
    "        print(i, \"*\", j, \"=\", i*j)"
   ]
  },
  {
   "cell_type": "markdown",
   "metadata": {},
   "source": [
    "## LAB 5-10 사용자가 입력하는 숫자의 합을 계산하자"
   ]
  },
  {
   "cell_type": "code",
   "execution_count": 33,
   "metadata": {},
   "outputs": [
    {
     "name": "stdout",
     "output_type": "stream",
     "text": [
      "숫자를 입력하시오: 10\n",
      "계속?(yes/no): yes\n",
      "숫자를 입력하시오: 20\n",
      "계속?(yes/no): no\n",
      "합계는 : 30\n"
     ]
    }
   ],
   "source": [
    "total = 0\n",
    "answer = \"yes\"\n",
    "while answer == \"yes\":\n",
    "    number = int(input(\"숫자를 입력하시오: \"))\n",
    "    total = total + number\n",
    "    answer = input(\"계속?(yes/no): \")\n",
    "\n",
    "print(\"합계는 :\", total)"
   ]
  },
  {
   "cell_type": "markdown",
   "metadata": {},
   "source": [
    "## LAB 5-11 무한 반복문으로 숫자 맞추기 게임을 만들자"
   ]
  },
  {
   "cell_type": "code",
   "execution_count": 1,
   "metadata": {},
   "outputs": [
    {
     "name": "stdout",
     "output_type": "stream",
     "text": [
      "1부터 100사이의 숫자를 맞추시오\n",
      "숫자를 입력하시오: 50\n",
      "낮음!\n",
      "숫자를 입력하시오: 30\n",
      "낮음!\n",
      "숫자를 입력하시오: 10\n",
      "낮음!\n",
      "숫자를 입력하시오: 2\n",
      "낮음!\n",
      "숫자를 입력하시오: 80\n",
      "높음!\n",
      "숫자를 입력하시오: 60\n",
      "낮음!\n",
      "숫자를 입력하시오: 70\n",
      "낮음!\n",
      "숫자를 입력하시오: 75\n",
      "높음!\n",
      "숫자를 입력하시오: 74\n",
      "높음!\n",
      "숫자를 입력하시오: 73\n",
      "높음!\n",
      "숫자를 입력하시오: 72\n",
      "축하합니다. 총 시도횟수= 11\n"
     ]
    }
   ],
   "source": [
    "import random\n",
    "\n",
    "tries = 0\n",
    "guess = 0\n",
    "answer = random.randint(1, 100)\n",
    "print(\"1부터 100사이의 숫자를 맞추시오\")\n",
    "#print(answer)\n",
    "\n",
    "while guess != answer:\n",
    "    guess = int(input(\"숫자를 입력하시오: \"))\n",
    "    tries = tries + 1\n",
    "    if guess < answer:\n",
    "        print(\"낮음!\")\n",
    "    elif guess > answer:\n",
    "        print(\"높음!\")\n",
    "\n",
    "print(\"축하합니다. 총 시도횟수=\", tries)"
   ]
  },
  {
   "cell_type": "markdown",
   "metadata": {},
   "source": [
    "### 도전문제 5.10"
   ]
  },
  {
   "cell_type": "code",
   "execution_count": 11,
   "metadata": {
    "scrolled": false
   },
   "outputs": [
    {
     "name": "stdout",
     "output_type": "stream",
     "text": [
      "1부터 100사이의 숫자를 맞추시오\n",
      "숫자를 입력하시오: 1\n",
      "낮음!\n",
      "숫자를 입력하시오: 2\n",
      "낮음!\n",
      "숫자를 입력하시오: 3\n",
      "낮음!\n",
      "숫자를 입력하시오: 4\n",
      "낮음!\n",
      "숫자를 입력하시오: 5\n",
      "낮음!\n",
      "숫자를 입력하시오: 6\n",
      "낮음!\n",
      "숫자를 입력하시오: 7\n",
      "낮음!\n",
      "숫자를 입력하시오: 8\n",
      "낮음!\n",
      "숫자를 입력하시오: 9\n",
      "낮음!\n",
      "숫자를 입력하시오: 10\n",
      "시도 횟수를 초과하였습니다.\n",
      "총 시도횟수= 10\n"
     ]
    }
   ],
   "source": [
    "import random\n",
    "\n",
    "tries = 0\n",
    "guess = 0\n",
    "answer = random.randint(1, 100)\n",
    "print(\"1부터 100사이의 숫자를 맞추시오\")\n",
    "\n",
    "while guess != answer:\n",
    "    guess = int(input(\"숫자를 입력하시오: \"))\n",
    "    tries = tries + 1\n",
    "    if tries < 10:\n",
    "        if guess < answer:\n",
    "            print(\"낮음!\")\n",
    "        elif guess > answer:\n",
    "            print(\"높음!\")    \n",
    "    else:\n",
    "        print(\"시도 횟수를 초과하였습니다.\")\n",
    "        break\n",
    "\n",
    "print(\"총 시도횟수=\", tries)"
   ]
  },
  {
   "cell_type": "markdown",
   "metadata": {},
   "source": [
    "## LAB 5-12 암산 문제를 만들어보자"
   ]
  },
  {
   "cell_type": "code",
   "execution_count": 5,
   "metadata": {},
   "outputs": [
    {
     "name": "stdout",
     "output_type": "stream",
     "text": [
      "34 + 35 = 69\n",
      "잘했어요!!\n",
      "22 + 29 = 51\n",
      "잘했어요!!\n",
      "89 + 41 = 1\n",
      "정답은 130 입니다. 다음 번에는 잘할 수 있죠?\n",
      "54 + 86 = 99999\n"
     ]
    }
   ],
   "source": [
    "import random\n",
    "\n",
    "while True:\n",
    "    x = random.randint(1, 100)\n",
    "    y = random.randint(1, 100)\n",
    "    print(x, \"+\", y, \"=\", end = \" \")\n",
    "    answer = int(input())\n",
    "    if answer == x + y:\n",
    "        print(\"잘했어요!!\")\n",
    "    elif answer == 99999: # 무한루프를 탈출하기 위해 추가함\n",
    "        break\n",
    "    else:\n",
    "        print(\"정답은\", x+y, \"입니다. 다음 번에는 잘할 수 있죠?\")"
   ]
  },
  {
   "cell_type": "markdown",
   "metadata": {},
   "source": [
    "### 도전문제 5.11"
   ]
  },
  {
   "cell_type": "code",
   "execution_count": 6,
   "metadata": {},
   "outputs": [
    {
     "name": "stdout",
     "output_type": "stream",
     "text": [
      "44 - 40 = 4\n",
      "잘했어요!!\n",
      "24 - 44 = -20\n",
      "잘했어요!!\n",
      "94 - 19 = 1\n",
      "정답은 75 입니다. 다음 번에는 잘할 수 있죠?\n",
      "88 - 92 = 99999\n"
     ]
    }
   ],
   "source": [
    "import random\n",
    "\n",
    "while True:\n",
    "    x = random.randint(1, 100)\n",
    "    y = random.randint(1, 100)\n",
    "    print(x, \"-\", y, \"=\", end = \" \")\n",
    "    answer = int(input())\n",
    "    if answer == x - y:\n",
    "        print(\"잘했어요!!\")\n",
    "    elif answer == 99999: # 무한루프를 탈출하기 위해 추가함\n",
    "        break\n",
    "    else:\n",
    "        print(\"정답은\", x-y, \"입니다. 다음 번에는 잘할 수 있죠?\")"
   ]
  },
  {
   "cell_type": "markdown",
   "metadata": {},
   "source": [
    "## LAB 5-13 창업자를 위한 기능 : 모든 샌드위치 종류 출력하기"
   ]
  },
  {
   "cell_type": "code",
   "execution_count": 11,
   "metadata": {
    "scrolled": true
   },
   "outputs": [
    {
     "name": "stdout",
     "output_type": "stream",
     "text": [
      "달수네 샌드위치 가게의 가능한 조합\n",
      "호밀빵 + 미트볼 + 양상추 + 마요네즈\n",
      "호밀빵 + 미트볼 + 양상추 + 허니 머스타드\n",
      "호밀빵 + 미트볼 + 양상추 + 칠리\n",
      "호밀빵 + 미트볼 + 토마토 + 마요네즈\n",
      "호밀빵 + 미트볼 + 토마토 + 허니 머스타드\n",
      "호밀빵 + 미트볼 + 토마토 + 칠리\n",
      "호밀빵 + 미트볼 + 오이 + 마요네즈\n",
      "호밀빵 + 미트볼 + 오이 + 허니 머스타드\n",
      "호밀빵 + 미트볼 + 오이 + 칠리\n",
      "호밀빵 + 소시지 + 양상추 + 마요네즈\n",
      "호밀빵 + 소시지 + 양상추 + 허니 머스타드\n",
      "호밀빵 + 소시지 + 양상추 + 칠리\n",
      "호밀빵 + 소시지 + 토마토 + 마요네즈\n",
      "호밀빵 + 소시지 + 토마토 + 허니 머스타드\n",
      "호밀빵 + 소시지 + 토마토 + 칠리\n",
      "호밀빵 + 소시지 + 오이 + 마요네즈\n",
      "호밀빵 + 소시지 + 오이 + 허니 머스타드\n",
      "호밀빵 + 소시지 + 오이 + 칠리\n",
      "호밀빵 + 닭가슴살 + 양상추 + 마요네즈\n",
      "호밀빵 + 닭가슴살 + 양상추 + 허니 머스타드\n",
      "호밀빵 + 닭가슴살 + 양상추 + 칠리\n",
      "호밀빵 + 닭가슴살 + 토마토 + 마요네즈\n",
      "호밀빵 + 닭가슴살 + 토마토 + 허니 머스타드\n",
      "호밀빵 + 닭가슴살 + 토마토 + 칠리\n",
      "호밀빵 + 닭가슴살 + 오이 + 마요네즈\n",
      "호밀빵 + 닭가슴살 + 오이 + 허니 머스타드\n",
      "호밀빵 + 닭가슴살 + 오이 + 칠리\n",
      "위트 + 미트볼 + 양상추 + 마요네즈\n",
      "위트 + 미트볼 + 양상추 + 허니 머스타드\n",
      "위트 + 미트볼 + 양상추 + 칠리\n",
      "위트 + 미트볼 + 토마토 + 마요네즈\n",
      "위트 + 미트볼 + 토마토 + 허니 머스타드\n",
      "위트 + 미트볼 + 토마토 + 칠리\n",
      "위트 + 미트볼 + 오이 + 마요네즈\n",
      "위트 + 미트볼 + 오이 + 허니 머스타드\n",
      "위트 + 미트볼 + 오이 + 칠리\n",
      "위트 + 소시지 + 양상추 + 마요네즈\n",
      "위트 + 소시지 + 양상추 + 허니 머스타드\n",
      "위트 + 소시지 + 양상추 + 칠리\n",
      "위트 + 소시지 + 토마토 + 마요네즈\n",
      "위트 + 소시지 + 토마토 + 허니 머스타드\n",
      "위트 + 소시지 + 토마토 + 칠리\n",
      "위트 + 소시지 + 오이 + 마요네즈\n",
      "위트 + 소시지 + 오이 + 허니 머스타드\n",
      "위트 + 소시지 + 오이 + 칠리\n",
      "위트 + 닭가슴살 + 양상추 + 마요네즈\n",
      "위트 + 닭가슴살 + 양상추 + 허니 머스타드\n",
      "위트 + 닭가슴살 + 양상추 + 칠리\n",
      "위트 + 닭가슴살 + 토마토 + 마요네즈\n",
      "위트 + 닭가슴살 + 토마토 + 허니 머스타드\n",
      "위트 + 닭가슴살 + 토마토 + 칠리\n",
      "위트 + 닭가슴살 + 오이 + 마요네즈\n",
      "위트 + 닭가슴살 + 오이 + 허니 머스타드\n",
      "위트 + 닭가슴살 + 오이 + 칠리\n",
      "화이트 + 미트볼 + 양상추 + 마요네즈\n",
      "화이트 + 미트볼 + 양상추 + 허니 머스타드\n",
      "화이트 + 미트볼 + 양상추 + 칠리\n",
      "화이트 + 미트볼 + 토마토 + 마요네즈\n",
      "화이트 + 미트볼 + 토마토 + 허니 머스타드\n",
      "화이트 + 미트볼 + 토마토 + 칠리\n",
      "화이트 + 미트볼 + 오이 + 마요네즈\n",
      "화이트 + 미트볼 + 오이 + 허니 머스타드\n",
      "화이트 + 미트볼 + 오이 + 칠리\n",
      "화이트 + 소시지 + 양상추 + 마요네즈\n",
      "화이트 + 소시지 + 양상추 + 허니 머스타드\n",
      "화이트 + 소시지 + 양상추 + 칠리\n",
      "화이트 + 소시지 + 토마토 + 마요네즈\n",
      "화이트 + 소시지 + 토마토 + 허니 머스타드\n",
      "화이트 + 소시지 + 토마토 + 칠리\n",
      "화이트 + 소시지 + 오이 + 마요네즈\n",
      "화이트 + 소시지 + 오이 + 허니 머스타드\n",
      "화이트 + 소시지 + 오이 + 칠리\n",
      "화이트 + 닭가슴살 + 양상추 + 마요네즈\n",
      "화이트 + 닭가슴살 + 양상추 + 허니 머스타드\n",
      "화이트 + 닭가슴살 + 양상추 + 칠리\n",
      "화이트 + 닭가슴살 + 토마토 + 마요네즈\n",
      "화이트 + 닭가슴살 + 토마토 + 허니 머스타드\n",
      "화이트 + 닭가슴살 + 토마토 + 칠리\n",
      "화이트 + 닭가슴살 + 오이 + 마요네즈\n",
      "화이트 + 닭가슴살 + 오이 + 허니 머스타드\n",
      "화이트 + 닭가슴살 + 오이 + 칠리\n"
     ]
    }
   ],
   "source": [
    "breads = [\"호밀빵\", \"위트\", \"화이트\"]\n",
    "meats = [\"미트볼\", \"소시지\", \"닭가슴살\"]\n",
    "vegis = [\"양상추\", \"토마토\", \"오이\"]\n",
    "sauces = [\"마요네즈\", \"허니 머스타드\", \"칠리\"]\n",
    "\n",
    "print(\"달수네 샌드위치 가게의 가능한 조합\")\n",
    "for b in breads:\n",
    "    for m in meats:\n",
    "        for v in vegis:\n",
    "            for s in sauces:\n",
    "                print(b, \"+\", m, \"+\", v, \"+\", s)"
   ]
  },
  {
   "cell_type": "markdown",
   "metadata": {},
   "source": [
    "## 5.9 무한 루프와 break로 빠져나가기"
   ]
  },
  {
   "cell_type": "markdown",
   "metadata": {},
   "source": [
    "조건 제어 루프에서 프로그램이 무한히 반복하는 일이 발생하는데 이것을 무한루프라고 한다. 무한 반복이 발생하면 프로그램은 빠져 나올 수 없기 때문에 문제가 된다.\n",
    "\n",
    "while 루프의 조건에 True가 있다. 따라서 조건이 참이므로 무한히 반복된다. 하지만 무한 루프라고 하더라도 어떤 조건이 성립하면 무한 루프를 빠져나와야 하는 경우도 많다. 이런 경우는 if 문장을 사용하여서 루프를 빠져나오게 된다."
   ]
  },
  {
   "cell_type": "code",
   "execution_count": 13,
   "metadata": {},
   "outputs": [
    {
     "name": "stdout",
     "output_type": "stream",
     "text": [
      "신호등 색상을 입력하시오: red\n",
      "신호등 색상을 입력하시오: yellow\n",
      "신호등 색상을 입력하시오: green\n",
      "전진!!\n"
     ]
    }
   ],
   "source": [
    "while True:\n",
    "    light = input(\"신호등 색상을 입력하시오: \")\n",
    "    if light == \"green\":\n",
    "        break\n",
    "print(\"전진!!\")"
   ]
  },
  {
   "cell_type": "markdown",
   "metadata": {},
   "source": [
    "### 도전문제 5.12"
   ]
  },
  {
   "cell_type": "code",
   "execution_count": 25,
   "metadata": {},
   "outputs": [
    {
     "name": "stdout",
     "output_type": "stream",
     "text": [
      "단어를 입력하세요 : programing\n",
      "pr\n"
     ]
    }
   ],
   "source": [
    "a = input(\"단어를 입력하세요 : \")\n",
    "b = list(a)\n",
    "\n",
    "for i in range(len(b)):\n",
    "    if b[i] == 'a' or b[i] == 'e' or b[i] == 'i' or b[i] == 'o' or b[i] == 'u':\n",
    "        print(''.join(b[:i]))\n",
    "        break"
   ]
  },
  {
   "cell_type": "markdown",
   "metadata": {},
   "source": [
    "## 5.10 루프를 제어하는 고급 기법 : continue와 break"
   ]
  },
  {
   "cell_type": "markdown",
   "metadata": {},
   "source": [
    "루프를 제어하는 첫 번째 방법은 break 문으로, 이 문장을 만나면 즉시 빠져나오게 된다.\n",
    "\n",
    "continue를 사용하면 루프를 빠져나오지 않고 아래의 문장만을 건너뛰는 역할을 한다."
   ]
  },
  {
   "cell_type": "code",
   "execution_count": 14,
   "metadata": {},
   "outputs": [
    {
     "name": "stdout",
     "output_type": "stream",
     "text": [
      " lv Pythn Prgrmng"
     ]
    }
   ],
   "source": [
    "st = 'I love Python Programing'\n",
    "for ch in st:\n",
    "    if ch in ['a','e','i','o','u', 'A','E','I','O','U']:\n",
    "        continue\n",
    "    print(ch, end='')"
   ]
  },
  {
   "cell_type": "markdown",
   "metadata": {},
   "source": [
    "break와 continue는 프로그램의 제어를 효율적으로 하는데 편리하게 사용할 수 있다. 하지만 break와 continue 문이 너무 많이 사용되는 경우 제어의 흐름에 일관성이 없어 프로그램을 이해하는 것이 어려워진다. 따라서 필요한 경우에만 제한적으로 사용하는 것이 좋다."
   ]
  },
  {
   "cell_type": "markdown",
   "metadata": {},
   "source": [
    "## 5.11 출력을 예쁘게 만드는 포매팅"
   ]
  },
  {
   "cell_type": "markdown",
   "metadata": {},
   "source": [
    "지금까지 print()를 이용하여 다양한 출력을 해 보았다. 그런데 출력을 다듬는 일을 하지 않아 출력 메시지의 간격이 일정하지 않다.\n",
    "\n",
    "문자열을 출력할 때 유용한 메소드가 바로 format()메소드인데 원하는 문자나 숫자를 적절한 포맷으로 출력할 수 있다."
   ]
  },
  {
   "cell_type": "code",
   "execution_count": 15,
   "metadata": {},
   "outputs": [
    {
     "data": {
      "text/plain": [
       "'Hello Python!'"
      ]
     },
     "execution_count": 15,
     "metadata": {},
     "output_type": "execute_result"
    }
   ],
   "source": [
    "'{} Python!'.format('Hello')"
   ]
  },
  {
   "cell_type": "code",
   "execution_count": 16,
   "metadata": {
    "scrolled": true
   },
   "outputs": [
    {
     "data": {
      "text/plain": [
       "'I like Python and Java'"
      ]
     },
     "execution_count": 16,
     "metadata": {},
     "output_type": "execute_result"
    }
   ],
   "source": [
    "'I like {} and {}'.format('Python', 'Java')"
   ]
  },
  {
   "cell_type": "markdown",
   "metadata": {},
   "source": [
    "format() 메소드의 인자에 대해 인덱스를 이용하여 인자값을 지정할 수 있다."
   ]
  },
  {
   "cell_type": "code",
   "execution_count": 17,
   "metadata": {},
   "outputs": [
    {
     "data": {
      "text/plain": [
       "'I like Python and Java'"
      ]
     },
     "execution_count": 17,
     "metadata": {},
     "output_type": "execute_result"
    }
   ],
   "source": [
    "'I like {0} and {1}'.format('Python', 'Java')"
   ]
  },
  {
   "cell_type": "code",
   "execution_count": 18,
   "metadata": {},
   "outputs": [
    {
     "data": {
      "text/plain": [
       "'I like Java and Python'"
      ]
     },
     "execution_count": 18,
     "metadata": {},
     "output_type": "execute_result"
    }
   ],
   "source": [
    "'I like {1} and {0}'.format('Python', 'Java')"
   ]
  },
  {
   "cell_type": "code",
   "execution_count": 19,
   "metadata": {},
   "outputs": [
    {
     "data": {
      "text/plain": [
       "'I like Python, Python, Python'"
      ]
     },
     "execution_count": 19,
     "metadata": {},
     "output_type": "execute_result"
    }
   ],
   "source": [
    "'I like {0}, {0}, {0}'.format('Python', 'Java')"
   ]
  },
  {
   "cell_type": "markdown",
   "metadata": {},
   "source": [
    "{0:,2f}와 같이 소수점 아래 둘째자리 숫자를 출력할 수 있다. 여기서 f는 부동소수점을 의미한다."
   ]
  },
  {
   "cell_type": "code",
   "execution_count": 20,
   "metadata": {},
   "outputs": [
    {
     "data": {
      "text/plain": [
       "'소수점 아래 두자리 정밀도 : 0.33, 세자리 정밀도 0.333'"
      ]
     },
     "execution_count": 20,
     "metadata": {},
     "output_type": "execute_result"
    }
   ],
   "source": [
    "'소수점 아래 두자리 정밀도 : {0:.2f}, 세자리 정밀도 {0:.3f}'.format(1/3)"
   ]
  },
  {
   "cell_type": "code",
   "execution_count": 21,
   "metadata": {},
   "outputs": [
    {
     "data": {
      "text/plain": [
       "'전체 10칸을 차지하는 실수 :      3.142,     3.1416'"
      ]
     },
     "execution_count": 21,
     "metadata": {},
     "output_type": "execute_result"
    }
   ],
   "source": [
    "'전체 10칸을 차지하는 실수 : {0:10.3f}, {0:10.4f}'.format(3.1415926)"
   ]
  },
  {
   "cell_type": "markdown",
   "metadata": {},
   "source": [
    "정수출력을 위해서는 {1:3d}, {1:4d}, {1:5d}와 같이 출력시에 차지할 칸의 수를 지정할 수 있다."
   ]
  },
  {
   "cell_type": "code",
   "execution_count": 22,
   "metadata": {
    "scrolled": true
   },
   "outputs": [
    {
     "name": "stdout",
     "output_type": "stream",
     "text": [
      "  2    4     8\n",
      "  4   16    64\n",
      "  6   36   216\n",
      "  8   64   512\n",
      " 10  100  1000\n"
     ]
    }
   ],
   "source": [
    "for i in range(2, 11, 2):\n",
    "    print('{0:3d} {1:4d} {2:5d}'.format(i, i*i, i*i*i))"
   ]
  },
  {
   "cell_type": "markdown",
   "metadata": {},
   "source": [
    "### 핵심정리"
   ]
  },
  {
   "cell_type": "markdown",
   "metadata": {},
   "source": [
    "- 문장들을 반복 실행하려면 for나 while을 사용한다\n",
    "- 반복 실행되는 문장들을 들여쓰기 하여야 한다\n",
    "- for 문은 반복 횟수가 정해져 있을 때 적합하다\n",
    "- while 문은 반복 조건이 정해져 있을 때 유용하다\n",
    "- while 반복문은 문장의 초입에서 조건식이 검사된다\n",
    "- continue와 break는 루프제어를 위한 고급기능을 제공한다"
   ]
  }
 ],
 "metadata": {
  "kernelspec": {
   "display_name": "Python 3",
   "language": "python",
   "name": "python3"
  },
  "language_info": {
   "codemirror_mode": {
    "name": "ipython",
    "version": 3
   },
   "file_extension": ".py",
   "mimetype": "text/x-python",
   "name": "python",
   "nbconvert_exporter": "python",
   "pygments_lexer": "ipython3",
   "version": "3.8.8"
  }
 },
 "nbformat": 4,
 "nbformat_minor": 2
}
