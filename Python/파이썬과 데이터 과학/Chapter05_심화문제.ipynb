{
 "cells": [
  {
   "cell_type": "markdown",
   "metadata": {},
   "source": [
    "# Chapter05_심화문제"
   ]
  },
  {
   "cell_type": "markdown",
   "metadata": {},
   "source": [
    "## 5.1"
   ]
  },
  {
   "cell_type": "markdown",
   "metadata": {},
   "source": [
    "(1)"
   ]
  },
  {
   "cell_type": "code",
   "execution_count": 1,
   "metadata": {},
   "outputs": [
    {
     "name": "stdout",
     "output_type": "stream",
     "text": [
      "1에서 100까지의 수 중에서 홀수는 :\n",
      "1 3 5 7 9 11 13 15 17 19 21 23 25 27 29 31 33 35 37 39 41 43 45 47 49 51 53 55 57 59 61 63 65 67 69 71 73 75 77 79 81 83 85 87 89 91 93 95 97 99 "
     ]
    }
   ],
   "source": [
    "print(\"1에서 100까지의 수 중에서 홀수는 :\")\n",
    "for i in range(1, 101, 2):\n",
    "    print(i, end=' ')"
   ]
  },
  {
   "cell_type": "markdown",
   "metadata": {},
   "source": [
    "(2)"
   ]
  },
  {
   "cell_type": "code",
   "execution_count": 2,
   "metadata": {},
   "outputs": [
    {
     "name": "stdout",
     "output_type": "stream",
     "text": [
      "1에서 100까지의 수 중에서 홀수는 :\n",
      "1 3 5 7 9 11 13 15 17 19 21 23 25 27 29 31 33 35 37 39 41 43 45 47 49 51 53 55 57 59 61 63 65 67 69 71 73 75 77 79 81 83 85 87 89 91 93 95 97 99 "
     ]
    }
   ],
   "source": [
    "print(\"1에서 100까지의 수 중에서 홀수는 :\")\n",
    "num = 0\n",
    "while num < 100:\n",
    "    num = num + 1\n",
    "    if num % 2 == 1:\n",
    "        print(num, end=' ')"
   ]
  },
  {
   "cell_type": "markdown",
   "metadata": {},
   "source": [
    "(3) - 1"
   ]
  },
  {
   "cell_type": "code",
   "execution_count": 3,
   "metadata": {},
   "outputs": [
    {
     "name": "stdout",
     "output_type": "stream",
     "text": [
      "1에서 100까지의 수 중에서 짝수는 :\n",
      "2 4 6 8 10 12 14 16 18 20 22 24 26 28 30 32 34 36 38 40 42 44 46 48 50 52 54 56 58 60 62 64 66 68 70 72 74 76 78 80 82 84 86 88 90 92 94 96 98 100 "
     ]
    }
   ],
   "source": [
    "print(\"1에서 100까지의 수 중에서 짝수는 :\")\n",
    "for i in range(2, 101, 2):\n",
    "    print(i, end=' ')"
   ]
  },
  {
   "cell_type": "markdown",
   "metadata": {},
   "source": [
    "(3) - 2"
   ]
  },
  {
   "cell_type": "code",
   "execution_count": 4,
   "metadata": {},
   "outputs": [
    {
     "name": "stdout",
     "output_type": "stream",
     "text": [
      "1에서 100까지의 수 중에서 홀수는 :\n",
      "2 4 6 8 10 12 14 16 18 20 22 24 26 28 30 32 34 36 38 40 42 44 46 48 50 52 54 56 58 60 62 64 66 68 70 72 74 76 78 80 82 84 86 88 90 92 94 96 98 100 "
     ]
    }
   ],
   "source": [
    "print(\"1에서 100까지의 수 중에서 홀수는 :\")\n",
    "num = 0\n",
    "while num < 100:\n",
    "    num = num + 1\n",
    "    if num % 2 == 0:\n",
    "        print(num, end=' ')"
   ]
  },
  {
   "cell_type": "markdown",
   "metadata": {},
   "source": [
    "## 5.2"
   ]
  },
  {
   "cell_type": "markdown",
   "metadata": {},
   "source": [
    "(1) - 1"
   ]
  },
  {
   "cell_type": "code",
   "execution_count": 5,
   "metadata": {},
   "outputs": [
    {
     "name": "stdout",
     "output_type": "stream",
     "text": [
      "1에서 100까지의 수 중에서 홀수의 합 : 2500\n"
     ]
    }
   ],
   "source": [
    "sum = 0\n",
    "for i in range(1, 101, 2):\n",
    "    sum = sum + i\n",
    "print(\"1에서 100까지의 수 중에서 홀수의 합 :\", sum)"
   ]
  },
  {
   "cell_type": "markdown",
   "metadata": {},
   "source": [
    "(1) - 2"
   ]
  },
  {
   "cell_type": "code",
   "execution_count": 7,
   "metadata": {},
   "outputs": [
    {
     "name": "stdout",
     "output_type": "stream",
     "text": [
      "1에서 100까지의 수 중에서 홀수의 합 : 2500\n"
     ]
    }
   ],
   "source": [
    "num = 0\n",
    "sum = 0\n",
    "while num < 100:\n",
    "    num = num + 1\n",
    "    if num % 2 == 1:\n",
    "        sum = sum + num\n",
    "print(\"1에서 100까지의 수 중에서 홀수의 합 :\", sum)"
   ]
  },
  {
   "cell_type": "markdown",
   "metadata": {},
   "source": [
    "(2) - 1"
   ]
  },
  {
   "cell_type": "code",
   "execution_count": 8,
   "metadata": {},
   "outputs": [
    {
     "name": "stdout",
     "output_type": "stream",
     "text": [
      "1에서 100까지의 수 중에서 짝수의 합 : 2550\n"
     ]
    }
   ],
   "source": [
    "sum = 0\n",
    "for i in range(0, 101, 2):\n",
    "    sum = sum + i\n",
    "print(\"1에서 100까지의 수 중에서 짝수의 합 :\", sum)"
   ]
  },
  {
   "cell_type": "markdown",
   "metadata": {},
   "source": [
    "(2) - 2"
   ]
  },
  {
   "cell_type": "code",
   "execution_count": 9,
   "metadata": {},
   "outputs": [
    {
     "name": "stdout",
     "output_type": "stream",
     "text": [
      "1에서 100까지의 수 중에서 홀수의 합 : 2550\n"
     ]
    }
   ],
   "source": [
    "num = 0\n",
    "sum = 0\n",
    "while num < 100:\n",
    "    num = num + 1\n",
    "    if num % 2 == 0:\n",
    "        sum = sum + num\n",
    "print(\"1에서 100까지의 수 중에서 홀수의 합 :\", sum)"
   ]
  },
  {
   "cell_type": "code",
   "execution_count": 10,
   "metadata": {},
   "outputs": [
    {
     "name": "stdout",
     "output_type": "stream",
     "text": [
      "1에서 100까지의 수 중에서 홀수의 합 : 2500\n"
     ]
    }
   ],
   "source": [
    "i = 1\n",
    "sum = 0\n",
    "while i < 100:\n",
    "    sum = sum + i\n",
    "    i = i + 2\n",
    "print(\"1에서 100까지의 수 중에서 홀수의 합 :\", sum)"
   ]
  },
  {
   "cell_type": "markdown",
   "metadata": {},
   "source": [
    "(3)"
   ]
  },
  {
   "cell_type": "code",
   "execution_count": 11,
   "metadata": {},
   "outputs": [
    {
     "name": "stdout",
     "output_type": "stream",
     "text": [
      "시작 정수를 입력하세요 :2\n",
      "끝 정수를 입력하세요 :6\n",
      "2 에서 6 까지 정수의 합 : 20\n"
     ]
    }
   ],
   "source": [
    "a = int(input(\"시작 정수를 입력하세요 :\"))\n",
    "b = int(input(\"끝 정수를 입력하세요 :\"))\n",
    "sum = 0\n",
    "for i in range(a, b+1):\n",
    "    sum = sum + i\n",
    "print(a, \"에서\", b, \"까지 정수의 합 :\", sum)"
   ]
  },
  {
   "cell_type": "markdown",
   "metadata": {},
   "source": [
    "## 5.3"
   ]
  },
  {
   "cell_type": "code",
   "execution_count": 16,
   "metadata": {},
   "outputs": [
    {
     "name": "stdout",
     "output_type": "stream",
     "text": [
      "맛나 식당에 오신 것을 환영합니다. 메뉴는 다음과 같습니다.\n",
      "1) 햄버거\n",
      "2) 치킨\n",
      "3) 피자\n",
      "1에서 3까지의 메뉴를 선택하세요 : 5\n",
      "메뉴를 다시 입력하세요 : 6\n",
      "메뉴를 다시 입력하세요 : 0\n",
      "메뉴를 다시 입력하세요 : 2\n",
      "치킨을 선택하였습니다.\n"
     ]
    }
   ],
   "source": [
    "print(\"맛나 식당에 오신 것을 환영합니다. 메뉴는 다음과 같습니다.\\n1) 햄버거\\n2) 치킨\\n3) 피자\")\n",
    "a = int(input(\"1에서 3까지의 메뉴를 선택하세요 : \"))\n",
    "\n",
    "while True:\n",
    "    if a == 1:\n",
    "        print(\"햄버거를 선택하였습니다.\")\n",
    "        break\n",
    "    elif a == 2:\n",
    "        print(\"치킨을 선택하였습니다.\")\n",
    "        break\n",
    "    elif a == 3:\n",
    "        print(\"피자를 선택하였습니다.\")\n",
    "        break\n",
    "    elif a == 5 or a == 6 or a == 0:\n",
    "        a = int(input(\"메뉴를 다시 입력하세요 : \"))"
   ]
  },
  {
   "cell_type": "code",
   "execution_count": 17,
   "metadata": {},
   "outputs": [
    {
     "name": "stdout",
     "output_type": "stream",
     "text": [
      "맛나 식당에 오신 것을 환영합니다. 메뉴는 다음과 같습니다.\n",
      "1) 햄버거\n",
      "2) 치킨\n",
      "3) 피자\n",
      "1에서 3까지의 메뉴를 선택하세요 : 5\n",
      "메뉴를 다시 입력하세요 : 6\n",
      "메뉴를 다시 입력하세요 : 0\n",
      "메뉴를 다시 입력하세요 : 2\n",
      "치킨을 선택하였습니다.\n"
     ]
    }
   ],
   "source": [
    "print(\"맛나 식당에 오신 것을 환영합니다. 메뉴는 다음과 같습니다.\\n1) 햄버거\\n2) 치킨\\n3) 피자\")\n",
    "a = int(input(\"1에서 3까지의 메뉴를 선택하세요 : \"))\n",
    "\n",
    "while True:\n",
    "    if a == 1:\n",
    "        print(\"햄버거를 선택하였습니다.\")\n",
    "        break\n",
    "    elif a == 2:\n",
    "        print(\"치킨을 선택하였습니다.\")\n",
    "        break\n",
    "    elif a == 3:\n",
    "        print(\"피자를 선택하였습니다.\")\n",
    "        break\n",
    "    else:\n",
    "        a = int(input(\"메뉴를 다시 입력하세요 : \"))"
   ]
  },
  {
   "cell_type": "markdown",
   "metadata": {},
   "source": [
    "## 5.4"
   ]
  },
  {
   "cell_type": "code",
   "execution_count": 18,
   "metadata": {},
   "outputs": [
    {
     "name": "stdout",
     "output_type": "stream",
     "text": [
      "숫자를 입력하세요 : 5\n",
      "    *\n",
      "   **\n",
      "  ***\n",
      " ****\n",
      "*****\n"
     ]
    }
   ],
   "source": [
    "a = int(input(\"숫자를 입력하세요 : \"))\n",
    "for i in range(1,a+1):\n",
    "    print(' '* (a-i) + '*'*i)"
   ]
  },
  {
   "cell_type": "markdown",
   "metadata": {},
   "source": [
    "# 5.5"
   ]
  },
  {
   "cell_type": "code",
   "execution_count": 19,
   "metadata": {},
   "outputs": [
    {
     "name": "stdout",
     "output_type": "stream",
     "text": [
      "day :  1 달팽이의 위치 :  7 미터\n",
      "day :  2 달팽이의 위치 :  9 미터\n",
      "day :  3 달팽이의 위치 : 11 미터\n",
      "day :  4 달팽이의 위치 : 13 미터\n",
      "day :  5 달팽이의 위치 : 15 미터\n",
      "day :  6 달팽이의 위치 : 17 미터\n",
      "day :  7 달팽이의 위치 : 19 미터\n",
      "day :  8 달팽이의 위치 : 21 미터\n",
      "day :  9 달팽이의 위치 : 23 미터\n",
      "day : 10 달팽이의 위치 : 25 미터\n",
      "day : 11 달팽이의 위치 : 27 미터\n",
      "day : 12 달팽이의 위치 : 29 미터\n",
      "day : 13 달팽이의 위치 : 31 미터\n",
      "축하합니다. 우물을 탈출하였습니다.\n",
      "우물을 탈출하는 데 걸린 날은 13 일 입니다.\n"
     ]
    }
   ],
   "source": [
    "h = 5\n",
    "d = 0\n",
    "for i in range(15):\n",
    "    if h < 30:\n",
    "        d = d + 1\n",
    "        h = h + 2\n",
    "        print('day : {0:2d}'.format(d), '달팽이의 위치 : {0:2d} 미터'.format(h))\n",
    "print(\"축하합니다. 우물을 탈출하였습니다.\")\n",
    "print(\"우물을 탈출하는 데 걸린 날은\", d, \"일 입니다.\")"
   ]
  },
  {
   "cell_type": "code",
   "execution_count": 20,
   "metadata": {},
   "outputs": [
    {
     "name": "stdout",
     "output_type": "stream",
     "text": [
      "day :  1 달팽이의 위치 :  7 미터\n",
      "day :  2 달팽이의 위치 :  9 미터\n",
      "day :  3 달팽이의 위치 : 11 미터\n",
      "day :  4 달팽이의 위치 : 13 미터\n",
      "day :  5 달팽이의 위치 : 15 미터\n",
      "day :  6 달팽이의 위치 : 17 미터\n",
      "day :  7 달팽이의 위치 : 19 미터\n",
      "day :  8 달팽이의 위치 : 21 미터\n",
      "day :  9 달팽이의 위치 : 23 미터\n",
      "day : 10 달팽이의 위치 : 25 미터\n",
      "day : 11 달팽이의 위치 : 27 미터\n",
      "day : 12 달팽이의 위치 : 29 미터\n",
      "day : 13 달팽이의 위치 : 31 미터\n",
      "축하합니다. 우물을 탈출하였습니다.\n",
      "우물을 탈출하는 데 걸린 날은 13 일 입니다.\n"
     ]
    }
   ],
   "source": [
    "h = 5\n",
    "d = 0\n",
    "while True:\n",
    "    if h < 30:\n",
    "        d = d + 1\n",
    "        h = h + 2\n",
    "        print('day : {0:2d} 달팽이의 위치 : {1:2d} 미터'.format(d, h))\n",
    "    else:\n",
    "        break\n",
    "print(\"축하합니다. 우물을 탈출하였습니다.\")\n",
    "print(\"우물을 탈출하는 데 걸린 날은\", d, \"일 입니다.\")"
   ]
  },
  {
   "cell_type": "code",
   "execution_count": 21,
   "metadata": {},
   "outputs": [
    {
     "name": "stdout",
     "output_type": "stream",
     "text": [
      "day : 1 달팽이의 위치 : 7 미터\n",
      "day : 2 달팽이의 위치 : 9 미터\n",
      "day : 3 달팽이의 위치 : 11 미터\n",
      "day : 4 달팽이의 위치 : 13 미터\n",
      "day : 5 달팽이의 위치 : 15 미터\n",
      "day : 6 달팽이의 위치 : 17 미터\n",
      "day : 7 달팽이의 위치 : 19 미터\n",
      "day : 8 달팽이의 위치 : 21 미터\n",
      "day : 9 달팽이의 위치 : 23 미터\n",
      "day : 10 달팽이의 위치 : 25 미터\n",
      "day : 11 달팽이의 위치 : 27 미터\n",
      "day : 12 달팽이의 위치 : 29 미터\n",
      "day : 13 달팽이의 위치 : 31 미터\n",
      "축하합니다. 우물을 탈출하였습니다.\n",
      "우물을 탈출하는 데 걸린 날은 13 입니다.\n"
     ]
    }
   ],
   "source": [
    "height = 5\n",
    "day = 0\n",
    "\n",
    "while height < 30:\n",
    "    height = height +2\n",
    "    day = day + 1\n",
    "    print(\"day :\", day, \"달팽이의 위치 :\", height,\"미터\")\n",
    "\n",
    "print(\"축하합니다. 우물을 탈출하였습니다.\\n우물을 탈출하는 데 걸린 날은\",day,\"입니다.\")"
   ]
  },
  {
   "cell_type": "markdown",
   "metadata": {},
   "source": [
    "## 5.6"
   ]
  },
  {
   "cell_type": "code",
   "execution_count": 22,
   "metadata": {},
   "outputs": [
    {
     "name": "stdout",
     "output_type": "stream",
     "text": [
      "충전 또는 사용한 연료를 +/- 기호와 함께 입력하시오: +60\n",
      "현재 탱크양은 560 입니다.\n",
      "충전 또는 사용한 연료를 +/- 기호와 함께 입력하시오: -300\n",
      "현재 탱크양은 260 입니다.\n",
      "충전 또는 사용한 연료를 +/- 기호와 함께 입력하시오: -220\n",
      "현재 탱크양은 40 입니다.\n",
      "경고 : 연료가 10% 미만이니 충전하세요!\n"
     ]
    }
   ],
   "source": [
    "s = 500\n",
    "while s > 50:\n",
    "    a = input(\"충전 또는 사용한 연료를 +/- 기호와 함께 입력하시오: \")\n",
    "    if a[0] == '+':\n",
    "        s = s + int(a[1:])\n",
    "        print(\"현재 탱크양은\", s, \"입니다.\")\n",
    "    elif a[0] == '-':\n",
    "        s = s - int(a[1:])\n",
    "        print(\"현재 탱크양은\", s, \"입니다.\")\n",
    "    else:\n",
    "        break\n",
    "print(\"경고 : 연료가 10% 미만이니 충전하세요!\")"
   ]
  },
  {
   "cell_type": "code",
   "execution_count": 23,
   "metadata": {},
   "outputs": [
    {
     "name": "stdout",
     "output_type": "stream",
     "text": [
      "충전 또는 사용한 연료를 +/- 기호와 함께 입력하시오 :+60\n",
      "현재 탱크양은 560 입니다.\n",
      "충전 또는 사용한 연료를 +/- 기호와 함께 입력하시오 :-300\n",
      "현재 탱크양은 260 입니다.\n",
      "충전 또는 사용한 연료를 +/- 기호와 함께 입력하시오 :-220\n",
      "현재 탱크양은 40 입니다.\n",
      "경고 : 연료가 10% 미만이니 충전하세요!\n"
     ]
    }
   ],
   "source": [
    "a = 500\n",
    "\n",
    "while a > 50:\n",
    "    b = int(input(\"충전 또는 사용한 연료를 +/- 기호와 함께 입력하시오 :\"))\n",
    "    a = a + b\n",
    "    print(\"현재 탱크양은\", a, \"입니다.\")\n",
    "    \n",
    "print(\"경고 : 연료가 10% 미만이니 충전하세요!\")"
   ]
  },
  {
   "cell_type": "code",
   "execution_count": 24,
   "metadata": {},
   "outputs": [
    {
     "name": "stdout",
     "output_type": "stream",
     "text": [
      "충전 또는 사용한 연료를 +/- 기호와 함께 입력하시오 :+60\n",
      "경고 : 이미 연료통이 꽉 차있습니다.\n",
      "충전 또는 사용한 연료를 +/- 기호와 함께 입력하시오 :-300\n",
      "현재 탱크양은 200 입니다.\n",
      "충전 또는 사용한 연료를 +/- 기호와 함께 입력하시오 :-220\n",
      "경고 : 연료가 10% 미만이니 충전하세요!\n"
     ]
    }
   ],
   "source": [
    "def oil():\n",
    "    global initial\n",
    "    bank = input(\"충전 또는 사용한 연료를 +/- 기호와 함께 입력하시오 :\")\n",
    "    bankn = int(bank[1:])\n",
    "    if bank[0] == '-':\n",
    "        initial = initial - bankn\n",
    "        if initial < 50:\n",
    "            print(\"경고 : 연료가 10% 미만이니 충전하세요!\")\n",
    "        else:\n",
    "            print(\"현재 탱크양은 %d 입니다.\" %initial)\n",
    "            oil()\n",
    "    if bank[0] == '+':\n",
    "        initial = initial + bankn\n",
    "        if initial > 500:\n",
    "            print(\"경고 : 이미 연료통이 꽉 차있습니다.\")\n",
    "            initial = 500\n",
    "            oil()\n",
    "            \n",
    "initial = 500\n",
    "oil()"
   ]
  },
  {
   "cell_type": "code",
   "execution_count": 25,
   "metadata": {},
   "outputs": [
    {
     "name": "stdout",
     "output_type": "stream",
     "text": [
      "충전 또는 사용한 연료를 +/- 기호화 함꼐 입력하시오 : +60\n",
      "경고 : 이미 연료통이 꽉 차있습니다.\n",
      "충전 또는 사용한 연료를 +/- 기호화 함께 입력하시오 : -300\n",
      "현재 탱크양은 200 입니다.\n",
      "충전 또는 사용한 연료를 +/- 기호와 함께 입력하시오 : -220\n",
      "경고 : 연료가 10% 미만이니 충전하세요!\n"
     ]
    }
   ],
   "source": [
    "def oil(bank):\n",
    "    global initial\n",
    "    initial += bank\n",
    "    if initial < 50:\n",
    "        print(\"경고 : 연료가 10% 미만이니 충전하세요!\")\n",
    "    elif initial > 500:\n",
    "        print(\"경고 : 이미 연료통이 꽉 차있습니다.\")\n",
    "        initial = 500\n",
    "        oil(int(input(\"충전 또는 사용한 연료를 +/- 기호화 함께 입력하시오 : \")))\n",
    "    else:\n",
    "        print(\"현재 탱크양은 %d 입니다.\" %initial)\n",
    "        oil(int(input(\"충전 또는 사용한 연료를 +/- 기호와 함께 입력하시오 : \")))\n",
    "\n",
    "initial = 500\n",
    "oil(int(input(\"충전 또는 사용한 연료를 +/- 기호화 함꼐 입력하시오 : \")))"
   ]
  },
  {
   "cell_type": "markdown",
   "metadata": {},
   "source": [
    "## 5.7"
   ]
  },
  {
   "cell_type": "code",
   "execution_count": 26,
   "metadata": {},
   "outputs": [
    {
     "name": "stdout",
     "output_type": "stream",
     "text": [
      "세 자리의 암스트롱 수 : 153 370 371 407 "
     ]
    }
   ],
   "source": [
    "print(\"세 자리의 암스트롱 수 : \", end='')\n",
    "for i in range(100, 1000):\n",
    "    i = str(i)\n",
    "    if (int(i[0])*100 + int(i[1])*10 + int(i[2])) == (int(i[0])**3 + int(i[1])**3 + int(i[2])**3):\n",
    "        print(i[0]+i[1]+i[2], end=\" \")"
   ]
  },
  {
   "cell_type": "code",
   "execution_count": 27,
   "metadata": {},
   "outputs": [
    {
     "name": "stdout",
     "output_type": "stream",
     "text": [
      "세 자리의 암스트롱 수 : 153 370 371 407\n"
     ]
    }
   ],
   "source": [
    "ans = []\n",
    "for i in range(100,1000,1):\n",
    "    x = i//100\n",
    "    y = (i%100)//10\n",
    "    z = ((i%100)%10)\n",
    "\n",
    "    result = (x**3) +(y**3) + (z**3)\n",
    "    \n",
    "    if (i == result):\n",
    "        ans.append('%d'%i)\n",
    "        \n",
    "print(\"세 자리의 암스트롱 수 : %s\" % \" \".join(ans))        "
   ]
  },
  {
   "cell_type": "code",
   "execution_count": 28,
   "metadata": {},
   "outputs": [
    {
     "name": "stdout",
     "output_type": "stream",
     "text": [
      "세 자리의 암스트롱 수 : 153 370 371 407\n"
     ]
    }
   ],
   "source": [
    "ans = []\n",
    "for x in range(0, 10):\n",
    "    for y in range(0, 10):\n",
    "        for z in range(0, 10):\n",
    "            a = (x*100) + (y*10) + (z*1)\n",
    "            b = (x**3) + (y**3) + (z**3)\n",
    "            if a == b and x == x and y == y and z==z and x!=0:\n",
    "                answer = '%d%d%d'%(x, y, z)\n",
    "                ans.append(answer)\n",
    "print(\"세 자리의 암스트롱 수 : %s\" %\" \".join(ans))"
   ]
  },
  {
   "cell_type": "code",
   "execution_count": 29,
   "metadata": {},
   "outputs": [
    {
     "name": "stdout",
     "output_type": "stream",
     "text": [
      "세 자리의 암스트롱 수 : 153 370 371 407 "
     ]
    }
   ],
   "source": [
    "print(\"세 자리의 암스트롱 수 : \", end='')\n",
    "for i in range(100,1000,1):\n",
    "    a1 = int(str(i)[0])\n",
    "    a2 = int(str(i)[1])\n",
    "    a3 = int(str(i)[2])\n",
    " \n",
    "    if i == (a1**3 + a2**3 + a3**3 ):\n",
    "        print(i, end=\" \")"
   ]
  },
  {
   "cell_type": "markdown",
   "metadata": {},
   "source": [
    "## 5.8"
   ]
  },
  {
   "cell_type": "code",
   "execution_count": 30,
   "metadata": {},
   "outputs": [
    {
     "name": "stdout",
     "output_type": "stream",
     "text": [
      "정수를 입력하시오 : 3443\n",
      "3443 은(는) 거꾸로 정수입니다.\n",
      "정수를 입력하시오 : 324\n",
      "324 은(는) 거꾸로 정수가 아닙니다.\n",
      "정수를 입력하시오 : 99\n",
      "99 은(는) 거꾸로 정수입니다.\n",
      "정수를 입력하시오 : -99\n",
      "프로그램을 종료합니다.\n"
     ]
    }
   ],
   "source": [
    "while True:\n",
    "    a = input(\"정수를 입력하시오 : \")\n",
    "    if str(a) == str(-99):\n",
    "        print(\"프로그램을 종료합니다.\")\n",
    "        break\n",
    "    elif int(a) == int(str(a)[::-1]):\n",
    "        print(a, \"은(는) 거꾸로 정수입니다.\")\n",
    "    elif int(a) != int(str(a)[::-1]):\n",
    "        print(a, \"은(는) 거꾸로 정수가 아닙니다.\")"
   ]
  },
  {
   "cell_type": "code",
   "execution_count": 31,
   "metadata": {},
   "outputs": [
    {
     "name": "stdout",
     "output_type": "stream",
     "text": [
      "정수를 입력하시오 : 3443\n",
      "3443은(는) 거꾸로 정수입니다.\n",
      "정수를 입력하시오 : 324\n",
      "324은(는) 거꾸로 정수가 아닙니다.\n",
      "정수를 입력하시오 : 99\n",
      "99은(는) 거꾸로 정수입니다.\n",
      "정수를 입력하시오 : -99\n",
      "프로그램을 종료합니다.\n"
     ]
    }
   ],
   "source": [
    "while True:\n",
    "    a = input(\"정수를 입력하시오 : \")\n",
    "    if a == '-99':\n",
    "        break\n",
    "    b = list(a)\n",
    "    b.reverse()\n",
    "    b = \"\".join(b)\n",
    "    if a == b:\n",
    "        print(\"%s은(는) 거꾸로 정수입니다.\"%a)\n",
    "    else:\n",
    "        print(\"%s은(는) 거꾸로 정수가 아닙니다.\"%a)\n",
    "print(\"프로그램을 종료합니다.\")"
   ]
  },
  {
   "cell_type": "markdown",
   "metadata": {},
   "source": [
    "## 5.9"
   ]
  },
  {
   "cell_type": "code",
   "execution_count": 35,
   "metadata": {},
   "outputs": [
    {
     "name": "stdout",
     "output_type": "stream",
     "text": [
      "정수를 입력하시오 : 34\n",
      "정수를 입력하시오 : 920\n",
      "정수를 입력하시오 : 320\n",
      "정수를 입력하시오 : 30\n",
      "정수를 입력하시오 : -99\n",
      "4 개의 유효한 정수중 가장 큰 정수는 920 이고, 가장 작은 정수는 30 입니다.\n"
     ]
    }
   ],
   "source": [
    "num = []\n",
    "a_max = 0\n",
    "a_min = 99999\n",
    "for i in range(5):\n",
    "    a = int(input(\"정수를 입력하시오 : \"))\n",
    "    num.append(a)\n",
    "    if str(a) == str(-99):\n",
    "        print(len(num)-1, \"개의 유효한 정수중 가장 큰 정수는\", a_max, \"이고, 가장 작은 정수는\", a_min, \"입니다.\")\n",
    "        break\n",
    "    elif a > a_max:\n",
    "        a_max = a\n",
    "    elif a < a_min:\n",
    "        a_min = a"
   ]
  }
 ],
 "metadata": {
  "kernelspec": {
   "display_name": "Python 3",
   "language": "python",
   "name": "python3"
  },
  "language_info": {
   "codemirror_mode": {
    "name": "ipython",
    "version": 3
   },
   "file_extension": ".py",
   "mimetype": "text/x-python",
   "name": "python",
   "nbconvert_exporter": "python",
   "pygments_lexer": "ipython3",
   "version": "3.7.3"
  }
 },
 "nbformat": 4,
 "nbformat_minor": 2
}
