{
 "cells": [
  {
   "cell_type": "markdown",
   "metadata": {},
   "source": [
    "# Chapter03 연산자로 계산을 해보자"
   ]
  },
  {
   "cell_type": "markdown",
   "metadata": {},
   "source": [
    "## 3.1 수식은 어디에나 있다"
   ]
  },
  {
   "cell_type": "markdown",
   "metadata": {},
   "source": [
    "우리가 즐겨보는 영화의 컴퓨터 그래픽 장면들은 컴퓨터의 계산 기능을 통하여 이루어진다."
   ]
  },
  {
   "cell_type": "markdown",
   "metadata": {},
   "source": [
    "올바르게 수식을 이해하고 잘 작성하여 계산의 효율도 높이고 코드도 간략하게 만들 수 있다. 이런 일을 위해 연산자가 적용되는 순서도 알아야 하며, 사칙 연산과 달리 평소 잘 사용하지 않던 연산자도 익히게 될 것이다."
   ]
  },
  {
   "cell_type": "markdown",
   "metadata": {},
   "source": [
    "## 3.2 할당 연산자를 통해 변수에 값을 넣자"
   ]
  },
  {
   "cell_type": "markdown",
   "metadata": {},
   "source": [
    "할당연산자는 대입 연산자라고 부르기도 한다. = 연산자의 왼쪽은 반드시 값을 저장할 수 있는 변수이여야 하고, 오르쪽은 값을 표현하는 숫자나 변수, 혹은 수식이 와야 한다."
   ]
  },
  {
   "cell_type": "code",
   "execution_count": 1,
   "metadata": {},
   "outputs": [
    {
     "data": {
      "text/plain": [
       "300"
      ]
     },
     "execution_count": 1,
     "metadata": {},
     "output_type": "execute_result"
    }
   ],
   "source": [
    "x = 100 + 200 # x에 100+200의 결과를 할당\n",
    "x"
   ]
  },
  {
   "cell_type": "markdown",
   "metadata": {},
   "source": [
    "등호의 왼쪽이 변수가 아니면 문제가 발생한다."
   ]
  },
  {
   "cell_type": "code",
   "execution_count": 1,
   "metadata": {
    "scrolled": true
   },
   "outputs": [
    {
     "ename": "SyntaxError",
     "evalue": "cannot assign to literal (<ipython-input-1-1c12a8725d51>, line 3)",
     "output_type": "error",
     "traceback": [
      "\u001b[1;36m  File \u001b[1;32m\"<ipython-input-1-1c12a8725d51>\"\u001b[1;36m, line \u001b[1;32m3\u001b[0m\n\u001b[1;33m    100 = x + y # 등호의 왼쪽에는 반드시 변수이름이 와야한다\u001b[0m\n\u001b[1;37m    ^\u001b[0m\n\u001b[1;31mSyntaxError\u001b[0m\u001b[1;31m:\u001b[0m cannot assign to literal\n"
     ]
    }
   ],
   "source": [
    "x = 20\n",
    "y = 10\n",
    "100 = x + y # 등호의 왼쪽에는 반드시 변수이름이 와야한다"
   ]
  },
  {
   "cell_type": "markdown",
   "metadata": {},
   "source": [
    "여러 개의 변수에 동일한 값을 저장하는 것도 가능하다. 이를 다중 할당문이라 한다.\n",
    "\n",
    "여러 변수에 한꺼번에 여러 값을 할당할 수도 있는데 이를 동시할당문이라고 한다."
   ]
  },
  {
   "cell_type": "code",
   "execution_count": 3,
   "metadata": {},
   "outputs": [
    {
     "data": {
      "text/plain": [
       "(100, 100)"
      ]
     },
     "execution_count": 3,
     "metadata": {},
     "output_type": "execute_result"
    }
   ],
   "source": [
    "x = y = 100 # 여러 변수에 동일한 값을 할당하는 다중 할당문\n",
    "x, y"
   ]
  },
  {
   "cell_type": "code",
   "execution_count": 4,
   "metadata": {},
   "outputs": [
    {
     "data": {
      "text/plain": [
       "(100, 200)"
      ]
     },
     "execution_count": 4,
     "metadata": {},
     "output_type": "execute_result"
    }
   ],
   "source": [
    "n1, n2 = 100, 200 # 여러 변수에 한꺼번에 여러 값을 할당하는 동시 할당문\n",
    "n1, n2"
   ]
  },
  {
   "cell_type": "markdown",
   "metadata": {},
   "source": [
    "## 3.3 수식과 연산자는 어떻게 쓰는 걸까"
   ]
  },
  {
   "cell_type": "markdown",
   "metadata": {},
   "source": [
    "수식이란 피연산자들과 연산자의 조합이라고 할 수 있다. 연산자는 어떤 연산을 나타내는 기호를 의미하며, 피연산자는 연산의 대상이 되는 숫자나 변수를 의미한다. 이때 연산자와 피연산자 사이에 공백을 삽입하는 것이 파이썬의 코딩 관습에 더 적합한 박식이다."
   ]
  },
  {
   "cell_type": "markdown",
   "metadata": {},
   "source": [
    "산술 연산자는 덧셈, 뺄셈, 곱셈, 나눗셈과 나머지 연산을 실행하는 연러가지 연산자이다.\n",
    "- 덧셈 : +\n",
    "- 뺄셈 : -\n",
    "- 곱셈 : *\n",
    "- 지수 : **\n",
    "- 나눗셈(정수 나눗셈의 몫) : //\n",
    "- 나눗셈(실수 나눗셈) : /\n",
    "- 나머지 : %"
   ]
  },
  {
   "cell_type": "markdown",
   "metadata": {},
   "source": [
    "파이썬에서 나눗셈 연산 /은 항상 실수로 계산된다."
   ]
  },
  {
   "cell_type": "code",
   "execution_count": 5,
   "metadata": {},
   "outputs": [
    {
     "data": {
      "text/plain": [
       "1.75"
      ]
     },
     "execution_count": 5,
     "metadata": {},
     "output_type": "execute_result"
    }
   ],
   "source": [
    "7 / 4 # 나눗셈은 항상 실수로 계산된다"
   ]
  },
  {
   "cell_type": "code",
   "execution_count": 6,
   "metadata": {},
   "outputs": [
    {
     "data": {
      "text/plain": [
       "2.0"
      ]
     },
     "execution_count": 6,
     "metadata": {},
     "output_type": "execute_result"
    }
   ],
   "source": [
    "8 / 4 # 나눗셈이기 때문에 정수 2가 아닌 실수 2.0이 출력"
   ]
  },
  {
   "cell_type": "markdown",
   "metadata": {},
   "source": [
    "//을 사용하여 나눗셈을 하면 소수점 이하는 없어지고 정수 부분만 남는다."
   ]
  },
  {
   "cell_type": "code",
   "execution_count": 7,
   "metadata": {},
   "outputs": [
    {
     "data": {
      "text/plain": [
       "1"
      ]
     },
     "execution_count": 7,
     "metadata": {},
     "output_type": "execute_result"
    }
   ],
   "source": [
    "7 // 4 # //을 사용해서 나누면 정수 몫만 나온다"
   ]
  },
  {
   "cell_type": "code",
   "execution_count": 8,
   "metadata": {},
   "outputs": [
    {
     "data": {
      "text/plain": [
       "2"
      ]
     },
     "execution_count": 8,
     "metadata": {},
     "output_type": "execute_result"
    }
   ],
   "source": [
    "8 // 4 # //을 사용해서 나누면 정수 몫만 나온다"
   ]
  },
  {
   "cell_type": "code",
   "execution_count": 9,
   "metadata": {},
   "outputs": [
    {
     "data": {
      "text/plain": [
       "2"
      ]
     },
     "execution_count": 9,
     "metadata": {},
     "output_type": "execute_result"
    }
   ],
   "source": [
    "9 // 4 # //을 사용해서 나누면 정수 몫만 나온다"
   ]
  },
  {
   "cell_type": "markdown",
   "metadata": {},
   "source": [
    "## 3.4 컴퓨터 과학에서 아주 중요한 나머지 연산자 : %"
   ]
  },
  {
   "cell_type": "markdown",
   "metadata": {},
   "source": [
    "프로그래밍에서 나머지 연산자(%)를 많이 사용한다. x % y는 x를 y로 나누어서 남은 나머지를 반환한다.\n",
    "\n",
    "몫은 // 연산자가 계산할 수 있고 나머지는 % 연산자로 계산할 수 있다."
   ]
  },
  {
   "cell_type": "code",
   "execution_count": 12,
   "metadata": {},
   "outputs": [
    {
     "name": "stdout",
     "output_type": "stream",
     "text": [
      "문자를 입력하시오: 7\n",
      "분모를 입력하시오: 4\n",
      "나눗셈의 몫 = 1\n",
      "나눗셈의 나머지 = 3\n"
     ]
    }
   ],
   "source": [
    "p = int(input(\"문자를 입력하시오: \")) # int() 대신 float()도 가능\n",
    "q = int(input(\"분모를 입력하시오: \")) # int() 대신 float()도 가능\n",
    "print(\"나눗셈의 몫 =\", p//q)\n",
    "print(\"나눗셈의 나머지 =\", p%q)"
   ]
  },
  {
   "cell_type": "markdown",
   "metadata": {},
   "source": [
    "나머지 연산자를 이용하면 짝수와 홀수를 쉽게 구분할 수 있다."
   ]
  },
  {
   "cell_type": "code",
   "execution_count": 13,
   "metadata": {},
   "outputs": [
    {
     "name": "stdout",
     "output_type": "stream",
     "text": [
      "정수를 입력하시오: 28\n",
      "0\n"
     ]
    }
   ],
   "source": [
    "number = int(input(\"정수를 입력하시오: \"))\n",
    "print(number % 2)"
   ]
  },
  {
   "cell_type": "markdown",
   "metadata": {},
   "source": [
    "### 도전문제 3.1"
   ]
  },
  {
   "cell_type": "code",
   "execution_count": 19,
   "metadata": {},
   "outputs": [
    {
     "name": "stdout",
     "output_type": "stream",
     "text": [
      "초를 입력하세요: 2323423\n",
      "입력한 시간은 645 시간 23 분 43 초입니다.\n"
     ]
    }
   ],
   "source": [
    "a = int(input(\"초를 입력하세요: \"))\n",
    "h = a//60//60\n",
    "m = a//60%60\n",
    "s = a%60\n",
    "print(\"입력한 시간은\", h, \"시간\", m, \"분\", s, \"초입니다.\")"
   ]
  },
  {
   "cell_type": "markdown",
   "metadata": {},
   "source": [
    "## 3.5 거듭제곱 연산자 : **"
   ]
  },
  {
   "cell_type": "markdown",
   "metadata": {},
   "source": [
    "거듭제곱을 계산하려면 ** 연산자를 사용한다."
   ]
  },
  {
   "cell_type": "code",
   "execution_count": 20,
   "metadata": {},
   "outputs": [
    {
     "data": {
      "text/plain": [
       "128"
      ]
     },
     "execution_count": 20,
     "metadata": {},
     "output_type": "execute_result"
    }
   ],
   "source": [
    "2 ** 7 # 2의 7제곱이 계산되며 2*2*2*2*2*2*2와 동일함"
   ]
  },
  {
   "cell_type": "markdown",
   "metadata": {},
   "source": [
    "거듭제곱 연산자는 다른 연산자들보다 높은 우선순위를 가진다."
   ]
  },
  {
   "cell_type": "code",
   "execution_count": 21,
   "metadata": {},
   "outputs": [
    {
     "name": "stdout",
     "output_type": "stream",
     "text": [
      "1628.894626777442\n"
     ]
    }
   ],
   "source": [
    "a = 1000 # 원금\n",
    "r = 0.05 # 이자율\n",
    "n = 10 # 기간\n",
    "print(a * (1 + r) ** n)"
   ]
  },
  {
   "cell_type": "markdown",
   "metadata": {},
   "source": [
    "지수 연산자를 이용하면 제곱근이나 세제곱근도 쉽게 계산할 수 있다."
   ]
  },
  {
   "cell_type": "code",
   "execution_count": 22,
   "metadata": {},
   "outputs": [
    {
     "name": "stdout",
     "output_type": "stream",
     "text": [
      "직각삼각형의 밑변의 길이를 입력하시오: 3\n",
      "직각삼각형의 높이를 입력하시오: 4\n",
      "빗변은 5.0 입니다.\n"
     ]
    }
   ],
   "source": [
    "bottom = float(input(\"직각삼각형의 밑변의 길이를 입력하시오: \"))\n",
    "height = float(input(\"직각삼각형의 높이를 입력하시오: \"))\n",
    "hypotenuse = (bottom ** 2 + height ** 2) ** 0.5\n",
    "print(\"빗변은\", hypotenuse, \"입니다.\")"
   ]
  },
  {
   "cell_type": "markdown",
   "metadata": {},
   "source": [
    "### LAB 3-1 거북이 그래픽으로 숫자를 입력받아 다각형을 그리자"
   ]
  },
  {
   "cell_type": "code",
   "execution_count": 23,
   "metadata": {},
   "outputs": [
    {
     "name": "stdout",
     "output_type": "stream",
     "text": [
      "몇 각형을 그리시겠어요?(3-6): 6\n"
     ]
    }
   ],
   "source": [
    "import turtle\n",
    "t = turtle.Turtle()\n",
    "t.shape('turtle')\n",
    "\n",
    "a = int(input(\"몇 각형을 그리시겠어요?(3-6): \"))\n",
    "for i in range(a):\n",
    "    t.forward(100)\n",
    "    t.left(360//a)\n",
    "\n",
    "turtle.done()"
   ]
  },
  {
   "cell_type": "markdown",
   "metadata": {},
   "source": [
    "### LAB 3-2 화씨온도를 섭씨온도로 변환하기"
   ]
  },
  {
   "cell_type": "code",
   "execution_count": 25,
   "metadata": {},
   "outputs": [
    {
     "name": "stdout",
     "output_type": "stream",
     "text": [
      "화씨온도: 100\n",
      "섭씨온도: 37.77777777777778\n"
     ]
    }
   ],
   "source": [
    "fahrenheit = int(input(\"화씨온도: \"))\n",
    "celsius = (fahrenheit - 32) * 5 / 9\n",
    "print(\"섭씨온도:\", celsius)"
   ]
  },
  {
   "cell_type": "markdown",
   "metadata": {},
   "source": [
    "### LAB 3-3 몸무게와 키를 입력받아 BMI 계산하기"
   ]
  },
  {
   "cell_type": "code",
   "execution_count": 26,
   "metadata": {},
   "outputs": [
    {
     "name": "stdout",
     "output_type": "stream",
     "text": [
      "몸무게를 kg 단위로 입력하시오: 95\n",
      "키를 미터 단위로 입력하시오: 1.82\n",
      "당신의 BMI= 28.680111097693512\n"
     ]
    }
   ],
   "source": [
    "weight = float(input(\"몸무게를 kg 단위로 입력하시오: \"))\n",
    "height = float(input(\"키를 미터 단위로 입력하시오: \"))\n",
    "bmi = (weight / (height ** 2))\n",
    "print(\"당신의 BMI=\", bmi)"
   ]
  },
  {
   "cell_type": "markdown",
   "metadata": {},
   "source": [
    "### 도전문제 3.2"
   ]
  },
  {
   "cell_type": "code",
   "execution_count": 29,
   "metadata": {},
   "outputs": [
    {
     "name": "stdout",
     "output_type": "stream",
     "text": [
      "여성이면 1, 남성이면 0을 입력하세요: 0\n",
      "당신의 키는 얼마입니까? 181\n",
      "당신의 허리 둘레는 얼마입니까? 94\n",
      "당신의 RFM은 25.48936170212766\n"
     ]
    }
   ],
   "source": [
    "a = input(\"여성이면 1, 남성이면 0을 입력하세요: \")\n",
    "height = int(input(\"당신의 키는 얼마입니까? \"))\n",
    "width = int(input(\"당신의 허리 둘레는 얼마입니까? \"))\n",
    "\n",
    "w_rfm = 76 - (20 * (height/width))\n",
    "m_rfm = 64 - (20 * (height/width))\n",
    "\n",
    "if a == 1:\n",
    "    print(\"당신의 RFM은\", w_rfm)\n",
    "else:\n",
    "    print(\"당신의 RFM은\", m_rfm)"
   ]
  },
  {
   "cell_type": "markdown",
   "metadata": {},
   "source": [
    "### LAB 3-4 자동 판매기 프로그램을 만들어 보자"
   ]
  },
  {
   "cell_type": "code",
   "execution_count": 30,
   "metadata": {},
   "outputs": [
    {
     "name": "stdout",
     "output_type": "stream",
     "text": [
      "투입한 돈: 5000\n",
      "물건값: 2600\n",
      "거스름돈:  2400\n",
      "500원 동전의 개수: 4\n",
      "100원 동전의 개수: 4\n"
     ]
    }
   ],
   "source": [
    "money = int(input(\"투입한 돈: \"))\n",
    "price = int(input(\"물건값: \"))\n",
    "\n",
    "change = money - price\n",
    "print(\"거스름돈: \", change)\n",
    "coin500s = change // 500\n",
    "change = change % 500\n",
    "coin100s = change //100\n",
    "\n",
    "print(\"500원 동전의 개수:\", coin500s)\n",
    "print(\"100원 동전의 개수:\", coin100s)"
   ]
  },
  {
   "cell_type": "markdown",
   "metadata": {},
   "source": [
    "## 3.6 복합 할당 연산자라는 편리한 연산자"
   ]
  },
  {
   "cell_type": "markdown",
   "metadata": {},
   "source": [
    "산술 연산자와 할당 연산자를 결합하여 조금 간략하게 표현하는 방법이 있다."
   ]
  },
  {
   "cell_type": "markdown",
   "metadata": {},
   "source": [
    "- += : i = i + 10\n",
    "- -= : i = i - 10\n",
    "- *= : i = i * 10\n",
    "- /= : i = i / 10\n",
    "- //= : i = i // 10\n",
    "- %= : i = i % 10\n",
    "- **= : i = i ** 10"
   ]
  },
  {
   "cell_type": "code",
   "execution_count": 31,
   "metadata": {},
   "outputs": [
    {
     "data": {
      "text/plain": [
       "300"
      ]
     },
     "execution_count": 31,
     "metadata": {},
     "output_type": "execute_result"
    }
   ],
   "source": [
    "num = 200\n",
    "num += 100 # 200+100 연산을 수행하여 그 결과를 num에 할당\n",
    "num"
   ]
  },
  {
   "cell_type": "code",
   "execution_count": 32,
   "metadata": {},
   "outputs": [
    {
     "data": {
      "text/plain": [
       "200"
      ]
     },
     "execution_count": 32,
     "metadata": {},
     "output_type": "execute_result"
    }
   ],
   "source": [
    "num -= 100 # 300-100 연산을 수행하여 그 결과를 num에 할당\n",
    "num"
   ]
  },
  {
   "cell_type": "code",
   "execution_count": 33,
   "metadata": {},
   "outputs": [
    {
     "data": {
      "text/plain": [
       "4000"
      ]
     },
     "execution_count": 33,
     "metadata": {},
     "output_type": "execute_result"
    }
   ],
   "source": [
    "num *= 20 # 200*20 연산을 수행하여 그 결과를 num에 할당\n",
    "num"
   ]
  },
  {
   "cell_type": "code",
   "execution_count": 34,
   "metadata": {},
   "outputs": [
    {
     "data": {
      "text/plain": [
       "2000.0"
      ]
     },
     "execution_count": 34,
     "metadata": {},
     "output_type": "execute_result"
    }
   ],
   "source": [
    "num /= 2 # 4000/2 연산을 수행하여 그 결과를 num에 할당\n",
    "num"
   ]
  },
  {
   "cell_type": "markdown",
   "metadata": {},
   "source": [
    "## 3.7 두 값의 크기를 바교하는 비교 연산자"
   ]
  },
  {
   "cell_type": "markdown",
   "metadata": {},
   "source": [
    "비교 연산자는 수치 데이터를 담고 있는 두 개의 피연산자를 대상으로 크기 관계를 살펴본다. 그리고 True 혹은 False를 반환한다. 이렇게 True나 False의 값을 갖는 자료형을 부울형이라고 한다."
   ]
  },
  {
   "cell_type": "markdown",
   "metadata": {},
   "source": [
    "- == : 두 피연산자의 값이 같으면 True를 반환\n",
    "- != : 두 피연산자의 값이 다르면 True를 반환\n",
    "- '> : 왼쪽 피연산자가 오른쪽 피연산자보다 클 때 True를 반환\n",
    "- < : 왼쪽 피연산자가 오른쪽 피연산자보다 작을 때 True를반환\n",
    "- '>= : 왼쪽 피연산자가 오른쪽 피연산자보다 크거나 같을 때 True 반환\n",
    "- <= : 왼쪽 피연산자가 오른쪽 피연산자보다 작거나 같을 때 True 반환"
   ]
  },
  {
   "cell_type": "code",
   "execution_count": 35,
   "metadata": {},
   "outputs": [
    {
     "data": {
      "text/plain": [
       "False"
      ]
     },
     "execution_count": 35,
     "metadata": {},
     "output_type": "execute_result"
    }
   ],
   "source": [
    "a, b = 100, 200 # a에는 100, b에는 200을 할당하는 동시할당문\n",
    "a == b"
   ]
  },
  {
   "cell_type": "code",
   "execution_count": 36,
   "metadata": {},
   "outputs": [
    {
     "data": {
      "text/plain": [
       "True"
      ]
     },
     "execution_count": 36,
     "metadata": {},
     "output_type": "execute_result"
    }
   ],
   "source": [
    "a != b"
   ]
  },
  {
   "cell_type": "code",
   "execution_count": 37,
   "metadata": {},
   "outputs": [
    {
     "data": {
      "text/plain": [
       "False"
      ]
     },
     "execution_count": 37,
     "metadata": {},
     "output_type": "execute_result"
    }
   ],
   "source": [
    "a > b"
   ]
  },
  {
   "cell_type": "code",
   "execution_count": 38,
   "metadata": {},
   "outputs": [
    {
     "data": {
      "text/plain": [
       "True"
      ]
     },
     "execution_count": 38,
     "metadata": {},
     "output_type": "execute_result"
    }
   ],
   "source": [
    "a < b"
   ]
  },
  {
   "cell_type": "code",
   "execution_count": 39,
   "metadata": {},
   "outputs": [
    {
     "data": {
      "text/plain": [
       "False"
      ]
     },
     "execution_count": 39,
     "metadata": {},
     "output_type": "execute_result"
    }
   ],
   "source": [
    "a >= b"
   ]
  },
  {
   "cell_type": "code",
   "execution_count": 40,
   "metadata": {},
   "outputs": [
    {
     "ename": "SyntaxError",
     "evalue": "invalid syntax (<ipython-input-40-81fa1d79b65f>, line 1)",
     "output_type": "error",
     "traceback": [
      "\u001b[1;36m  File \u001b[1;32m\"<ipython-input-40-81fa1d79b65f>\"\u001b[1;36m, line \u001b[1;32m1\u001b[0m\n\u001b[1;33m    a > = b\u001b[0m\n\u001b[1;37m        ^\u001b[0m\n\u001b[1;31mSyntaxError\u001b[0m\u001b[1;31m:\u001b[0m invalid syntax\n"
     ]
    }
   ],
   "source": [
    "a > = b # 두 개의 기호로 표현된 비교 연산자는 띄어쓰면 안 된다 : ERROR"
   ]
  },
  {
   "cell_type": "code",
   "execution_count": 41,
   "metadata": {},
   "outputs": [
    {
     "ename": "SyntaxError",
     "evalue": "invalid syntax (<ipython-input-41-8bde89c41c7b>, line 1)",
     "output_type": "error",
     "traceback": [
      "\u001b[1;36m  File \u001b[1;32m\"<ipython-input-41-8bde89c41c7b>\"\u001b[1;36m, line \u001b[1;32m1\u001b[0m\n\u001b[1;33m    a => b\u001b[0m\n\u001b[1;37m       ^\u001b[0m\n\u001b[1;31mSyntaxError\u001b[0m\u001b[1;31m:\u001b[0m invalid syntax\n"
     ]
    }
   ],
   "source": [
    "a => b # 두 개 기호로 표현된 비교 연산자의 순서를 뒤집어도 안 된다 : ERROR"
   ]
  },
  {
   "cell_type": "markdown",
   "metadata": {},
   "source": [
    "## 3.8 AND, OR, NOT도 연산자로 사용가능하다 : 논리연산자"
   ]
  },
  {
   "cell_type": "markdown",
   "metadata": {},
   "source": [
    "파이썬은 and, or, not 연산자를 지원하는데 이러한 연산자를 논리 연산자라고 한다. 이 연산은 논리 연산을 통해 True 나 False 중 하나의 값을 가지는 부울값을 반환한다.\n",
    "\n",
    "원래 부울 값이 아닌 자료형의 데이터도 부울형으로 변환될 수 있다.\n",
    "- 숫자 0 : False / 0을 제외한 모든 수 : True\n",
    "- 빈문자열 : False / 빈문자열을 제외한 모든 문자열 : True"
   ]
  },
  {
   "cell_type": "code",
   "execution_count": 42,
   "metadata": {},
   "outputs": [
    {
     "data": {
      "text/plain": [
       "False"
      ]
     },
     "execution_count": 42,
     "metadata": {},
     "output_type": "execute_result"
    }
   ],
   "source": [
    "10 > 20 # 10은 20보다 작으므로 10 > 20은 False가 됨"
   ]
  },
  {
   "cell_type": "code",
   "execution_count": 43,
   "metadata": {},
   "outputs": [
    {
     "data": {
      "text/plain": [
       "True"
      ]
     },
     "execution_count": 43,
     "metadata": {},
     "output_type": "execute_result"
    }
   ],
   "source": [
    "10 < 20 # 10은 20보다 작으므로 10 < 20은 True가 됨"
   ]
  },
  {
   "cell_type": "code",
   "execution_count": 44,
   "metadata": {},
   "outputs": [
    {
     "data": {
      "text/plain": [
       "True"
      ]
     },
     "execution_count": 44,
     "metadata": {},
     "output_type": "execute_result"
    }
   ],
   "source": [
    "bool(9) # 9는 0이 아니므로 True가 됨"
   ]
  },
  {
   "cell_type": "code",
   "execution_count": 45,
   "metadata": {},
   "outputs": [
    {
     "data": {
      "text/plain": [
       "True"
      ]
     },
     "execution_count": 45,
     "metadata": {},
     "output_type": "execute_result"
    }
   ],
   "source": [
    "bool(-1) # -1 역시 0이 아니므로 True가 됨"
   ]
  },
  {
   "cell_type": "code",
   "execution_count": 46,
   "metadata": {},
   "outputs": [
    {
     "data": {
      "text/plain": [
       "False"
      ]
     },
     "execution_count": 46,
     "metadata": {},
     "output_type": "execute_result"
    }
   ],
   "source": [
    "bool(0) # 숫자 값중에서는 유일하게 0의 값만 False가 됨"
   ]
  },
  {
   "cell_type": "code",
   "execution_count": 47,
   "metadata": {},
   "outputs": [
    {
     "data": {
      "text/plain": [
       "False"
      ]
     },
     "execution_count": 47,
     "metadata": {},
     "output_type": "execute_result"
    }
   ],
   "source": [
    "bool(None) # None은 값이 없음을 표현함, 따라서 False가 됨"
   ]
  },
  {
   "cell_type": "code",
   "execution_count": 48,
   "metadata": {},
   "outputs": [
    {
     "data": {
      "text/plain": [
       "False"
      ]
     },
     "execution_count": 48,
     "metadata": {},
     "output_type": "execute_result"
    }
   ],
   "source": [
    "bool('') # 빈 문자열이므로 False가 됨"
   ]
  },
  {
   "cell_type": "code",
   "execution_count": 49,
   "metadata": {},
   "outputs": [
    {
     "data": {
      "text/plain": [
       "True"
      ]
     },
     "execution_count": 49,
     "metadata": {},
     "output_type": "execute_result"
    }
   ],
   "source": [
    "bool('hello') # 문자열 값이 있으므로 True가 됨"
   ]
  },
  {
   "cell_type": "markdown",
   "metadata": {},
   "source": [
    "None이나 공백 또한 False로 간주된다. None이란 값이 없는 것을 표현하는 파이썬의 키워드이다. 0이나 비어있는 것은 False, 0이 아닌 값이나 무엇인가 들어있는 것은 True로 간주된다.\n",
    "\n",
    "논리 연산은 부울형 자료의 값을 조합하여 새로운 부울값을 만들어 낼 수 있다.\n",
    "- x and y : x와 y중 거짓이 하나라도 있으면 거짓이 되며 모두 참인 경우에만 참이다\n",
    "- x or y : x나 y중에서 하나라도 참이면 참이 되며, 모두 거짓일 때만 거짓이 된다\n",
    "- not x : x가 참이면 거짓, x가 거짓이면 참이 된다"
   ]
  },
  {
   "cell_type": "markdown",
   "metadata": {},
   "source": [
    "## 3.9 이진수를 잘 다루는 컴퓨터에 최적화된 연산자 : 비트 연산자"
   ]
  },
  {
   "cell_type": "markdown",
   "metadata": {},
   "source": [
    "저장된 정보의 각 비트 단위로 처리가 이루어지는 연산도 있다. 컴퓨터는 정보를 0과 1로 구성된 2진수를 사용하며, 한 자리의 이진수를 비트라고 한다. 정수 데이터형에 대하여 비트 단위의조작이 가능한데 이 조작을 위한 연산자가 비트 연산자이다. 비트 연산자는 다른 말로 비트 단위 연산자라고도 한다.\n",
    "- & : 비트 단위 AND\n",
    "- | : 비트 단위 OR\n",
    "- ^ : 비트 단위 XOR\n",
    "- ~ : 비트 단위 NOT\n",
    "- << : 비트 단위 왼쪽으로 이동\n",
    "- '>> : 비트 단위 오른쪽으로 이동"
   ]
  },
  {
   "cell_type": "code",
   "execution_count": 50,
   "metadata": {},
   "outputs": [
    {
     "data": {
      "text/plain": [
       "'0b1001'"
      ]
     },
     "execution_count": 50,
     "metadata": {},
     "output_type": "execute_result"
    }
   ],
   "source": [
    "bin(9) # 2진수 형식 출력"
   ]
  },
  {
   "cell_type": "code",
   "execution_count": 51,
   "metadata": {},
   "outputs": [
    {
     "data": {
      "text/plain": [
       "'0b1010'"
      ]
     },
     "execution_count": 51,
     "metadata": {},
     "output_type": "execute_result"
    }
   ],
   "source": [
    "bin(10) # 2진수 형식 출력"
   ]
  },
  {
   "cell_type": "code",
   "execution_count": 52,
   "metadata": {},
   "outputs": [
    {
     "data": {
      "text/plain": [
       "'0b1000'"
      ]
     },
     "execution_count": 52,
     "metadata": {},
     "output_type": "execute_result"
    }
   ],
   "source": [
    "bin(9&10) # 모두 1인 위치만 1로 표시 나머지는 0"
   ]
  },
  {
   "cell_type": "code",
   "execution_count": 53,
   "metadata": {},
   "outputs": [
    {
     "data": {
      "text/plain": [
       "'0b1011'"
      ]
     },
     "execution_count": 53,
     "metadata": {},
     "output_type": "execute_result"
    }
   ],
   "source": [
    "bin(9|10) # 하나라도 1이 나타나는 자리를 1로 표시"
   ]
  },
  {
   "cell_type": "code",
   "execution_count": 54,
   "metadata": {},
   "outputs": [
    {
     "data": {
      "text/plain": [
       "'-0b1001'"
      ]
     },
     "execution_count": 54,
     "metadata": {},
     "output_type": "execute_result"
    }
   ],
   "source": [
    "bin(-9) # 9의 모든 비트를 바꾸면 음수 10이 된다"
   ]
  },
  {
   "cell_type": "markdown",
   "metadata": {},
   "source": [
    "^ 연산자는 해당 비트의 값이 같으면 0, 아니면 1을 반환하는 XOR 연산을 비트 단위로 수행한다."
   ]
  },
  {
   "cell_type": "code",
   "execution_count": 55,
   "metadata": {},
   "outputs": [
    {
     "data": {
      "text/plain": [
       "3"
      ]
     },
     "execution_count": 55,
     "metadata": {},
     "output_type": "execute_result"
    }
   ],
   "source": [
    "9^10 # 결과는 00000011 = 십진수 3"
   ]
  },
  {
   "cell_type": "code",
   "execution_count": 56,
   "metadata": {},
   "outputs": [
    {
     "data": {
      "text/plain": [
       "'0b11'"
      ]
     },
     "execution_count": 56,
     "metadata": {},
     "output_type": "execute_result"
    }
   ],
   "source": [
    "bin(9^10) # 앞 부분의 0은 모두 사라지도 1이 나타나는 곳부터 출력"
   ]
  },
  {
   "cell_type": "markdown",
   "metadata": {},
   "source": [
    "<< 연산자는 지정된 수만큼 모든 비트를 왼쪽으로 이동시키는 연산자이고, >> 연산자는 반대로 지정된 수만큼 모든 비트를 오른쪽으로 이동시키는 연산자이다."
   ]
  },
  {
   "cell_type": "code",
   "execution_count": 57,
   "metadata": {},
   "outputs": [
    {
     "data": {
      "text/plain": [
       "8"
      ]
     },
     "execution_count": 57,
     "metadata": {},
     "output_type": "execute_result"
    }
   ],
   "source": [
    "4 << 1 # 00100을 01000으로"
   ]
  },
  {
   "cell_type": "code",
   "execution_count": 58,
   "metadata": {},
   "outputs": [
    {
     "data": {
      "text/plain": [
       "16"
      ]
     },
     "execution_count": 58,
     "metadata": {},
     "output_type": "execute_result"
    }
   ],
   "source": [
    "4 << 2 # 00100을 10000으로"
   ]
  },
  {
   "cell_type": "markdown",
   "metadata": {},
   "source": [
    "복합 할당 연산자는 비트 단위 연산자에도 적용할 수 있다.\n",
    "- &= : i = i & 10\n",
    "- |= : i = i | 10\n",
    "- ^= : i = i ^ 10\n",
    "- <<= : i = i << 10\n",
    "- '>>= : i = i >> 10"
   ]
  },
  {
   "cell_type": "code",
   "execution_count": 2,
   "metadata": {},
   "outputs": [
    {
     "data": {
      "text/plain": [
       "2"
      ]
     },
     "execution_count": 2,
     "metadata": {},
     "output_type": "execute_result"
    }
   ],
   "source": [
    "num = 2 # 정수 2는 이진수 10(2)으로 표현됨\n",
    "num"
   ]
  },
  {
   "cell_type": "code",
   "execution_count": 3,
   "metadata": {},
   "outputs": [
    {
     "data": {
      "text/plain": [
       "4"
      ]
     },
     "execution_count": 3,
     "metadata": {},
     "output_type": "execute_result"
    }
   ],
   "source": [
    "num <<= 1 # 정수 2를 1비트 왼쪽 이동시키면 100(4)가 됨\n",
    "num"
   ]
  },
  {
   "cell_type": "code",
   "execution_count": 4,
   "metadata": {},
   "outputs": [
    {
     "data": {
      "text/plain": [
       "8"
      ]
     },
     "execution_count": 4,
     "metadata": {},
     "output_type": "execute_result"
    }
   ],
   "source": [
    "num <<= 1 # 정수 4를 1비트 더 왼쪽 이동시키면 1000(8)이 됨\n",
    "num"
   ]
  },
  {
   "cell_type": "code",
   "execution_count": 5,
   "metadata": {},
   "outputs": [
    {
     "data": {
      "text/plain": [
       "4"
      ]
     },
     "execution_count": 5,
     "metadata": {},
     "output_type": "execute_result"
    }
   ],
   "source": [
    "num >>= 1 # 정수 8를 1비트 오른쪽 이동시키면 100(4)가 됨\n",
    "num"
   ]
  },
  {
   "cell_type": "markdown",
   "metadata": {},
   "source": [
    "## 3.10 연산자 사이에도 먼저 처리하는 것이 있다"
   ]
  },
  {
   "cell_type": "markdown",
   "metadata": {},
   "source": [
    "수식이 2개 이상의 연산자를 가지고 있는 경우 어떤 연산자를 먼저 수행할지 결정하는 것이 우선순위이다. 각 연산자들은 서열이 매겨져 있다. 우선순위대로 연산을 하지 않고 다른 순서로 하고 싶은 경우에는 괄호를 사용하면 된다."
   ]
  },
  {
   "cell_type": "markdown",
   "metadata": {},
   "source": [
    "< 연산자 우선순위 >\n",
    "- 지수연산자 : **\n",
    "- 단항연산자 : ~, +, -\n",
    "- 곱셈, 나눗셈, 나머지 연산자 : *, /, %, //\n",
    "- 덧셈, 뺄셈 : +, -\n",
    "- 비트 이동 연산자 : >>, <<\n",
    "- 비트 AND 연산자 : &\n",
    "- 비트 XOR 연산자, 비트 OR 연산자 : ^, |\n",
    "- 비교 연산자 : <=, <, >, >=\n",
    "- 동등 연산자 : ==, !=\n",
    "- 할당 연산자, 복합 할당 연산자 : =, %=, /=, //=, -=, +=, *=, **=\n",
    "- 아이덴티티 연산자 : is, is not\n",
    "- 소속 연산자 : in, not in\n",
    "- 논리 연산자 : not, or, and"
   ]
  },
  {
   "cell_type": "markdown",
   "metadata": {},
   "source": [
    "우선순위를 기억할 수 없으면 먼저 계산되어야 되는 부분을 괄호로 감싸는 것도 좋은 방법이다.\n",
    "\n",
    "( (a + b) * (c - d) ) / (e + f)"
   ]
  },
  {
   "cell_type": "markdown",
   "metadata": {},
   "source": [
    "### LAB 3-5 평균 구하기 - 연산자 우선순위"
   ]
  },
  {
   "cell_type": "code",
   "execution_count": 60,
   "metadata": {},
   "outputs": [
    {
     "name": "stdout",
     "output_type": "stream",
     "text": [
      "첫 번째 수를 입력하시오: 10\n",
      "두 번째 수를 입력하시오: 20\n",
      "세 번째 수를 입력하시오: 30\n",
      "평균 = 20.0\n"
     ]
    }
   ],
   "source": [
    "x = int(input(\"첫 번째 수를 입력하시오: \"))\n",
    "y = int(input(\"두 번째 수를 입력하시오: \"))\n",
    "z = int(input(\"세 번째 수를 입력하시오: \"))\n",
    "\n",
    "avg = (x + y + z) / 3\n",
    "print(\"평균 =\", avg)"
   ]
  },
  {
   "cell_type": "markdown",
   "metadata": {},
   "source": [
    "## 3.11 랜덤 모듈과 math 모듈로 다양한 기능을 사용해보자/"
   ]
  },
  {
   "cell_type": "markdown",
   "metadata": {},
   "source": [
    "파이썬은 다양한 내장함수를 제공한다. 표준 라이브러리라는 이름으로 터틀그래픽, 난수 생성기와 다양한 수학 함수 등의 기능을 제공하고 있다.\n",
    "\n",
    "random 모듈은 임의의 수를 생성하거나, 리스트나 튜플내의 요소를 무작위로 섞거나, 선택하는 함수를 포함하고 있다."
   ]
  },
  {
   "cell_type": "code",
   "execution_count": 6,
   "metadata": {},
   "outputs": [
    {
     "data": {
      "text/plain": [
       "0.8020913339669513"
      ]
     },
     "execution_count": 6,
     "metadata": {},
     "output_type": "execute_result"
    }
   ],
   "source": [
    "import random\n",
    "random.random() # 0이상 1미만의 임의의 실수를 반환"
   ]
  },
  {
   "cell_type": "code",
   "execution_count": 7,
   "metadata": {},
   "outputs": [
    {
     "data": {
      "text/plain": [
       "0.6915597786714499"
      ]
     },
     "execution_count": 7,
     "metadata": {},
     "output_type": "execute_result"
    }
   ],
   "source": [
    "random.random() # 이 함수는 매번 다른 실수를 반환"
   ]
  },
  {
   "cell_type": "code",
   "execution_count": 62,
   "metadata": {},
   "outputs": [
    {
     "data": {
      "text/plain": [
       "4"
      ]
     },
     "execution_count": 62,
     "metadata": {},
     "output_type": "execute_result"
    }
   ],
   "source": [
    "random.randint(1, 7) # 1이상 7이하의 임의의 정수를 반환"
   ]
  },
  {
   "cell_type": "code",
   "execution_count": 63,
   "metadata": {},
   "outputs": [
    {
     "data": {
      "text/plain": [
       "3"
      ]
     },
     "execution_count": 63,
     "metadata": {},
     "output_type": "execute_result"
    }
   ],
   "source": [
    "random.randrange(7) # 0이상 7미만의 임의의 정수를 반환"
   ]
  },
  {
   "cell_type": "code",
   "execution_count": 64,
   "metadata": {},
   "outputs": [
    {
     "data": {
      "text/plain": [
       "5"
      ]
     },
     "execution_count": 64,
     "metadata": {},
     "output_type": "execute_result"
    }
   ],
   "source": [
    "random.randrange(1, 7) # 1이상 7미만의 임의의 정수를 반환"
   ]
  },
  {
   "cell_type": "code",
   "execution_count": 65,
   "metadata": {},
   "outputs": [
    {
     "data": {
      "text/plain": [
       "2"
      ]
     },
     "execution_count": 65,
     "metadata": {},
     "output_type": "execute_result"
    }
   ],
   "source": [
    "random.randrange(0, 10, 2) # 0,2,4,6,8중 하나를 반환"
   ]
  },
  {
   "cell_type": "code",
   "execution_count": 67,
   "metadata": {},
   "outputs": [
    {
     "data": {
      "text/plain": [
       "[30, 50, 10, 40, 20]"
      ]
     },
     "execution_count": 67,
     "metadata": {},
     "output_type": "execute_result"
    }
   ],
   "source": [
    "lst = [10, 20, 30, 40, 50]\n",
    "random.shuffle(lst) # lst 리스트의 순서를 무작위로 섞음\n",
    "lst"
   ]
  },
  {
   "cell_type": "code",
   "execution_count": 71,
   "metadata": {},
   "outputs": [
    {
     "data": {
      "text/plain": [
       "10"
      ]
     },
     "execution_count": 71,
     "metadata": {},
     "output_type": "execute_result"
    }
   ],
   "source": [
    "random.choice(lst) # lst 리스트의 원소 중 무작위로 하나를 고름"
   ]
  },
  {
   "cell_type": "markdown",
   "metadata": {},
   "source": [
    "math 모듈은 원주율 파이, 자연상수 e등의 상수 값과 실수의 절대값 등의 다양한 수학 함수를 포함하고 있다."
   ]
  },
  {
   "cell_type": "code",
   "execution_count": 72,
   "metadata": {},
   "outputs": [
    {
     "data": {
      "text/plain": [
       "27.0"
      ]
     },
     "execution_count": 72,
     "metadata": {},
     "output_type": "execute_result"
    }
   ],
   "source": [
    "import math\n",
    "math.pow(3, 3) # 3의 3제곱"
   ]
  },
  {
   "cell_type": "code",
   "execution_count": 73,
   "metadata": {},
   "outputs": [
    {
     "data": {
      "text/plain": [
       "99.0"
      ]
     },
     "execution_count": 73,
     "metadata": {},
     "output_type": "execute_result"
    }
   ],
   "source": [
    "math.fabs(-99) # -99의 실수 절대값"
   ]
  },
  {
   "cell_type": "code",
   "execution_count": 74,
   "metadata": {},
   "outputs": [
    {
     "data": {
      "text/plain": [
       "0.999999327347282"
      ]
     },
     "execution_count": 74,
     "metadata": {},
     "output_type": "execute_result"
    }
   ],
   "source": [
    "math.log(2.71828)"
   ]
  },
  {
   "cell_type": "code",
   "execution_count": 75,
   "metadata": {},
   "outputs": [
    {
     "data": {
      "text/plain": [
       "2.0"
      ]
     },
     "execution_count": 75,
     "metadata": {},
     "output_type": "execute_result"
    }
   ],
   "source": [
    "math.log(100, 10) # 로그 10을 밑으로 하는 100값"
   ]
  },
  {
   "cell_type": "code",
   "execution_count": 76,
   "metadata": {},
   "outputs": [
    {
     "data": {
      "text/plain": [
       "3.141592653589793"
      ]
     },
     "execution_count": 76,
     "metadata": {},
     "output_type": "execute_result"
    }
   ],
   "source": [
    "math.pi # 원주율"
   ]
  },
  {
   "cell_type": "code",
   "execution_count": 77,
   "metadata": {},
   "outputs": [
    {
     "data": {
      "text/plain": [
       "1.0"
      ]
     },
     "execution_count": 77,
     "metadata": {},
     "output_type": "execute_result"
    }
   ],
   "source": [
    "math.sin(math.pi / 2.0)"
   ]
  },
  {
   "cell_type": "markdown",
   "metadata": {},
   "source": [
    "### 핵심정리"
   ]
  },
  {
   "cell_type": "markdown",
   "metadata": {},
   "source": [
    "- 수식은 피연산자와 연산자로 이루어진다\n",
    "- 덧셈, 뺄셈, 곱셈, 나눗셈을 위하여 +, -, *, / 기호를 사용한다\n",
    "- 지수 연산자는 ** 이다\n",
    "- 나눗셈에서 몫을 계산하려면 // 연산자를 사용한다\n",
    "- 나눗셈에서 나머지를 계산하려면 % 연산자를 사용한다\n",
    "- 복합 연산자는 할당 연산자와 각종 산술 연산자를 합쳐놓은 것이다\n",
    "- 우선순위가 높은 연산자가 먼저 계산되며, 연산자의 우선 순서를 변경하려면 괄호를 사용한다\n",
    "- 비트단위의 값을 조작하는 비트연산자를 제공한다\n",
    "- 단항 연산자들을 이항 연산자보다 우선순위보다 높다\n",
    "- 파이썬은 random, math 모듈과 같은 모듈을 import 하여 다양한 함수를 이용할 수 있다"
   ]
  }
 ],
 "metadata": {
  "kernelspec": {
   "display_name": "Python 3",
   "language": "python",
   "name": "python3"
  },
  "language_info": {
   "codemirror_mode": {
    "name": "ipython",
    "version": 3
   },
   "file_extension": ".py",
   "mimetype": "text/x-python",
   "name": "python",
   "nbconvert_exporter": "python",
   "pygments_lexer": "ipython3",
   "version": "3.8.8"
  }
 },
 "nbformat": 4,
 "nbformat_minor": 2
}
